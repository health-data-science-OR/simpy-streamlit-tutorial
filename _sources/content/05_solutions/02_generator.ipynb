{
 "cells": [
  {
   "cell_type": "markdown",
   "id": "f2147e34-ce39-4d8c-a7db-e8acec2b63e0",
   "metadata": {},
   "source": [
    "# Generator exercise\n"
   ]
  },
  {
   "cell_type": "markdown",
   "id": "c034caf3-6766-4c69-af8f-949f45283b37",
   "metadata": {},
   "source": [
    "## Imports"
   ]
  },
  {
   "cell_type": "code",
   "execution_count": 3,
   "id": "85fd4a85-bb77-498c-96ee-c14de89994a2",
   "metadata": {},
   "outputs": [],
   "source": [
    "import simpy\n",
    "import numpy as np"
   ]
  },
  {
   "cell_type": "markdown",
   "id": "bfab7f97-9cad-419a-8d75-a2ba190edee8",
   "metadata": {},
   "source": [
    "## Example code\n",
    "\n",
    "The code below is taken from the simple pharmacy example.  In this code arrivals occur with an IAT of exactly 5 minutes."
   ]
  },
  {
   "cell_type": "code",
   "execution_count": 4,
   "id": "ee2439f2-0d35-41fd-a5e2-4b95954dd5c5",
   "metadata": {},
   "outputs": [],
   "source": [
    "def prescription_arrival_generator(env):\n",
    "    '''\n",
    "    Prescriptions arrive with a fixed duration of\n",
    "    5 minutes.\n",
    "\n",
    "    Parameters:\n",
    "    ------\n",
    "    env: simpy.Environment\n",
    "    '''\n",
    "    \n",
    "    # don't worry about the infinite while loop, simpy will\n",
    "    # exit at the correct time.\n",
    "    while True:\n",
    "        \n",
    "        # sample an inter-arrival time.\n",
    "        inter_arrival_time = 5.0\n",
    "        \n",
    "        # we use the yield keyword instead of return\n",
    "        yield env.timeout(inter_arrival_time)\n",
    "        \n",
    "        # print out the time of the arrival\n",
    "        print(f'Prescription arrives at: {env.now}')"
   ]
  },
  {
   "cell_type": "code",
   "execution_count": 5,
   "id": "40c495d5-6f55-4c93-99e3-5bfa6cdff36d",
   "metadata": {},
   "outputs": [
    {
     "name": "stdout",
     "output_type": "stream",
     "text": [
      "Prescription arrives at: 5.0\n",
      "Prescription arrives at: 10.0\n",
      "Prescription arrives at: 15.0\n",
      "Prescription arrives at: 20.0\n",
      "end of run. simulation clock time = 25\n"
     ]
    }
   ],
   "source": [
    "# model parameters\n",
    "RUN_LENGTH = 25\n",
    "\n",
    "# create the simpy environment object\n",
    "env = simpy.Environment()\n",
    "\n",
    "# tell simpy that the `prescription_arrival_generator` is a process\n",
    "env.process(prescription_arrival_generator(env))\n",
    "\n",
    "# run the simulation model\n",
    "env.run(until=RUN_LENGTH)\n",
    "print(f'end of run. simulation clock time = {env.now}')"
   ]
  },
  {
   "cell_type": "markdown",
   "id": "6b1bd501-1614-4891-a876-d07bd40c0496",
   "metadata": {},
   "source": [
    "### Exercise: modelling a poisson arrival process for prescriptions\n",
    "\n",
    "**Task:**\n",
    "\n",
    "* Update `prescription_arrival_generator()` so that inter-arrival times follow an exponential distribution with a mean of 5.0 minutes between arrivals.\n",
    "* Use a run length of 25 minutes.\n",
    "\n",
    "> **Bonus**: try this initially **without** setting a random seed.  Then update the method choosing an approach to control random sampling."
   ]
  },
  {
   "cell_type": "markdown",
   "id": "73cc4a74-9220-437b-a4ff-0c578ad6b701",
   "metadata": {},
   "source": [
    "#### Example answer 1"
   ]
  },
  {
   "cell_type": "code",
   "execution_count": 6,
   "id": "14236ac8-d81c-410e-a3b8-ac166118653b",
   "metadata": {},
   "outputs": [],
   "source": [
    "# example answer\n",
    "def prescription_arrival_generator(env, random_seed=None):\n",
    "    '''\n",
    "    Prescriptions arrive with a fixed duration of\n",
    "    5 minutes.\n",
    "    \n",
    "    Parameters:\n",
    "    ------\n",
    "    env: simpy.Environment\n",
    "    \n",
    "    random_state: int, optional (default=None)\n",
    "        if set then used as random seed to control sampling.\n",
    "    '''\n",
    "    rs_arrivals = np.random.default_rng(random_seed)\n",
    "    \n",
    "    while True:\n",
    "        inter_arrival_time = rs_arrivals.exponential(5.0)\n",
    "        yield env.timeout(inter_arrival_time)\n",
    "        print(f'Prescription arrives at: {env.now}')"
   ]
  },
  {
   "cell_type": "code",
   "execution_count": 9,
   "id": "1dde3eaf-f020-4850-9207-7b6bb8479098",
   "metadata": {},
   "outputs": [
    {
     "name": "stdout",
     "output_type": "stream",
     "text": [
      "Prescription arrives at: 1.575826409078844\n",
      "Prescription arrives at: 8.65667629076034\n",
      "Prescription arrives at: 21.974518435253312\n",
      "end of run. simulation clock time = 25\n"
     ]
    }
   ],
   "source": [
    "# model parameters\n",
    "RUN_LENGTH = 25\n",
    "\n",
    "# create the simpy environment object\n",
    "env = simpy.Environment()\n",
    "\n",
    "# tell simpy that the `prescription_arrival_generator` is a process\n",
    "env.process(prescription_arrival_generator(env))\n",
    "\n",
    "# run the simulation model\n",
    "env.run(until=RUN_LENGTH)\n",
    "print(f'end of run. simulation clock time = {env.now}')"
   ]
  },
  {
   "cell_type": "markdown",
   "id": "f52643e4-a098-453e-956b-a8a9178494f7",
   "metadata": {},
   "source": [
    "#### Example answer 2\n",
    "\n",
    "In this solution we first define a class called `Exponential` and pass that as an argument to the generator."
   ]
  },
  {
   "cell_type": "code",
   "execution_count": 13,
   "id": "d9535b30-45da-419a-9034-8da7920766a3",
   "metadata": {},
   "outputs": [],
   "source": [
    "class Exponential:\n",
    "    '''\n",
    "    Convenience class for the exponential distribution.\n",
    "    packages up distribution parameters, seed and random generator.\n",
    "    '''\n",
    "    def __init__(self, mean, random_seed=None):\n",
    "        '''\n",
    "        Constructor\n",
    "\n",
    "        Params:\n",
    "        ------\n",
    "        mean: float\n",
    "            The mean of the exponential distribution\n",
    "\n",
    "        random_seed: int, optional (default=None)\n",
    "            A random seed to reproduce samples.  If set to none then a unique\n",
    "            sample is created.\n",
    "        '''\n",
    "        self.rand = np.random.default_rng(seed=random_seed)\n",
    "        self.mean = mean\n",
    "\n",
    "    def sample(self, size=None):\n",
    "        '''\n",
    "        Generate a sample from the exponential distribution\n",
    "\n",
    "        Params:\n",
    "        -------\n",
    "        size: int, optional (default=None)\n",
    "            the number of samples to return.  If size=None then a single\n",
    "            sample is returned.\n",
    "        '''\n",
    "        return self.rand.exponential(self.mean, size=size)"
   ]
  },
  {
   "cell_type": "code",
   "execution_count": 14,
   "id": "b983b6d8-d7c8-4507-9996-5bcbc35bc54b",
   "metadata": {},
   "outputs": [],
   "source": [
    "# example answer\n",
    "def prescription_arrival_generator(env, iat_dist):\n",
    "    '''\n",
    "    Prescriptions arrive with a fixed duration of\n",
    "    5 minutes.\n",
    "    \n",
    "    Parameters:\n",
    "    ------\n",
    "    env: simpy.Environment\n",
    "    \n",
    "    iat_dist: object\n",
    "        A python class that implements a .sample() method\n",
    "        and generates the IATs\n",
    "    \n",
    "    random_state: int, optional (default=None)\n",
    "        if set then used as random seed to control sampling.\n",
    "    '''\n",
    "        \n",
    "    while True:\n",
    "        inter_arrival_time = iat_dist.sample()\n",
    "        yield env.timeout(inter_arrival_time)\n",
    "        print(f'Prescription arrives at: {env.now}')"
   ]
  },
  {
   "cell_type": "code",
   "execution_count": 21,
   "id": "755cb0b6-c2ba-4166-8ea4-a3c9b2f7b43f",
   "metadata": {},
   "outputs": [
    {
     "name": "stdout",
     "output_type": "stream",
     "text": [
      "Prescription arrives at: 12.021043019829973\n",
      "Prescription arrives at: 23.70199129895224\n",
      "end of run. simulation clock time = 25\n"
     ]
    }
   ],
   "source": [
    "# model parameters\n",
    "RUN_LENGTH = 25\n",
    "\n",
    "# create the simpy environment object\n",
    "env = simpy.Environment()\n",
    "\n",
    "iat = Exponential(mean=5.0, random_seed=42)\n",
    "\n",
    "# tell simpy that the `prescription_arrival_generator` is a process\n",
    "env.process(prescription_arrival_generator(env, iat))\n",
    "\n",
    "# run the simulation model\n",
    "env.run(until=RUN_LENGTH)\n",
    "print(f'end of run. simulation clock time = {env.now}')"
   ]
  },
  {
   "cell_type": "markdown",
   "id": "4a605ad5-c95d-48e8-aacc-a7b33ab9b010",
   "metadata": {},
   "source": [
    "### Why would we use solution 2?"
   ]
  },
  {
   "cell_type": "markdown",
   "id": "1e7ae3d1-742b-424c-9c3e-1a697fbe52a0",
   "metadata": {},
   "source": [
    "Solution 2 is a useful approach as it is now easy to define new experiments.  For example, we could experiment with the mean of the exponential or use an entirely different distribution (as long as it implements `.sample()`) without changing our generator function.  For example. "
   ]
  },
  {
   "cell_type": "code",
   "execution_count": 22,
   "id": "cacab88e-0f8c-461c-9ff0-3074c20dd1c8",
   "metadata": {},
   "outputs": [
    {
     "name": "stdout",
     "output_type": "stream",
     "text": [
      "Prescription arrives at: 6.0105215099149865\n",
      "Prescription arrives at: 11.85099564947612\n",
      "Prescription arrives at: 17.812898149161757\n",
      "Prescription arrives at: 18.512383873790714\n",
      "Prescription arrives at: 18.728477373036657\n",
      "Prescription arrives at: 22.360128662302035\n",
      "end of run. simulation clock time = 25\n"
     ]
    }
   ],
   "source": [
    "# model parameters\n",
    "RUN_LENGTH = 25\n",
    "\n",
    "# create the simpy environment object\n",
    "env = simpy.Environment()\n",
    "\n",
    "# *** MODIFICATION: reduce IAT.\n",
    "iat = Exponential(mean=2.5, random_seed=42)\n",
    "\n",
    "# tell simpy that the `prescription_arrival_generator` is a process\n",
    "env.process(prescription_arrival_generator(env, iat))\n",
    "\n",
    "# run the simulation model\n",
    "env.run(until=RUN_LENGTH)\n",
    "print(f'end of run. simulation clock time = {env.now}')"
   ]
  }
 ],
 "metadata": {
  "kernelspec": {
   "display_name": "Python 3 (ipykernel)",
   "language": "python",
   "name": "python3"
  },
  "language_info": {
   "codemirror_mode": {
    "name": "ipython",
    "version": 3
   },
   "file_extension": ".py",
   "mimetype": "text/x-python",
   "name": "python",
   "nbconvert_exporter": "python",
   "pygments_lexer": "ipython3",
   "version": "3.9.16"
  }
 },
 "nbformat": 4,
 "nbformat_minor": 5
}

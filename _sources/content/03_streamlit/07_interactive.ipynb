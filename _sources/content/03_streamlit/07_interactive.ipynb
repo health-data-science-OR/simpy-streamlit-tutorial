{
 "cells": [
  {
   "cell_type": "markdown",
   "id": "fe538c35-d9f0-41bf-ac98-806b714137e0",
   "metadata": {
    "tags": []
   },
   "source": [
    "# An interactive app\n",
    "\n",
    "We will now modify our app so that it is interactive.  We will do this using `streamlit.slider` widgets"
   ]
  },
  {
   "cell_type": "markdown",
   "id": "f73bc1cc-f954-4784-903c-e9bcfa058b7b",
   "metadata": {},
   "source": [
    "## 1. Adding a first slider\n",
    "\n",
    "A slider provides a simple way to vary an input. We specify a minimum and maximum value inputs can accept, the default value, and a step.\n",
    "\n",
    "```python\n",
    "slider_name = st.slider(slider_name, min_value, max_value, default_value, step)\n",
    "```\n",
    "\n",
    "Create a new file called `interactive_app.py` and copy paste in the code from `basic_app.py`\n",
    "\n",
    "To create one to represent the number of operators we can include the following code:\n",
    "\n",
    "```python\n",
    "n_operators = st.slider('Call operators', 1, 20, 13, step=1)\n",
    "```\n",
    "This displays a slider on the page with a label \"Call operators\".  Its minimum value is 1.0, its maximum value is 20.0. its default value is 13.0 and it increments (slides) by 1.  The variable `n_operators` is an int.  \n",
    "\n",
    "## 2. How `streamlit` works\n",
    "\n",
    "Each time a user updates the value of a slider or clicks the run button `streamlit` executes the full `interactive_app.py` script i.e. from top to bottom. This means that the int value of `n_operators` changes each time the slider is moved. This also explains how the `st.button` function works. When clicked it is assigned the value `True`.  Streamlit then executes the full script and will also execute the conditional logic contained under the if statement.  When a slider is change the button has a value of `False` so the model will not run unnecessarily.\n",
    "\n",
    "## 3. Add remaining sliders\n",
    "\n",
    "We can do the same for nurses, chance of callback and number of replications\n",
    "\n",
    "```python\n",
    "n_operators = st.slider('Call operators', 1, 20, 13, step=1)\n",
    "\n",
    "n_nurses = st.slider('Nurses', 1, 15, 9, step=1)\n",
    "\n",
    "chance_callback = st.slider('Chance of nurse callback', 0.1, 1.0, 0.4,\n",
    "                            step=0.05, help='Set the chance of a call back')\n",
    "\n",
    "n_reps = st.slider(\"No. of replications\", 5, 100, step=1)\n",
    "```\n",
    "\n",
    "\n",
    "## 4. Run the app\n",
    "\n",
    "As before run the app using the following command:\n",
    "\n",
    "```\n",
    "streamlit run interactive_app.py\n",
    "```\n",
    "\n",
    "The full code listing and a screen shot of the app is below."
   ]
  },
  {
   "cell_type": "markdown",
   "id": "a0163051-425b-45f6-88f1-b291dea6ac30",
   "metadata": {},
   "source": [
    "## Full listing"
   ]
  },
  {
   "cell_type": "code",
   "execution_count": null,
   "id": "0e1af3de-e5b8-4dc1-a393-3d0c8a94dd6f",
   "metadata": {},
   "outputs": [],
   "source": [
    "'''\n",
    "The code in this streamlit script modifies the basic script \n",
    "we had for running a scenario\n",
    "'''\n",
    "import streamlit as st\n",
    "from model import Experiment, multiple_replications\n",
    "\n",
    "# We add in a title for our web app's page\n",
    "st.title(\"Urgent care call centre\")\n",
    "\n",
    "# ##############################################################################\n",
    "# MODIFICATION: set the variables for the run\n",
    "# these are just a subset of the total available for this example...\n",
    "# in streamlit we are going to set these using sliders.\n",
    "\n",
    "# set number of resources\n",
    "n_operators = st.slider('Call operators', 1, 20, 13, step=1)\n",
    "n_nurses = st.slider('Nurses', 1, 15, 9, step=1)\n",
    "\n",
    "# set chance of nurse\n",
    "chance_callback = st.slider('Chance of nurse callback', 0.1, 1.0, 0.4,\n",
    "                            step=0.05, help='Set the chance of a call back')\n",
    "\n",
    "# set number of replications\n",
    "n_reps = st.slider(\"No. of replications\", 5, 100, step=1)\n",
    "\n",
    "################################################################################\n",
    "\n",
    "# create experiment\n",
    "exp = Experiment(n_operators=n_operators, n_nurses=n_nurses,\n",
    "                 chance_callback=chance_callback)\n",
    "\n",
    "# A user must press a streamlit button to run the model\n",
    "if st.button(\"Run simulation\"):\n",
    "\n",
    "    # run multiple replications of experment\n",
    "    results = multiple_replications(exp, n_reps=n_reps)\n",
    "\n",
    "    # show results\n",
    "    st.dataframe(results.describe())"
   ]
  },
  {
   "cell_type": "markdown",
   "id": "9be2ce5d-9dfe-478a-a5a1-ceb56ed3182b",
   "metadata": {},
   "source": [
    "![image](../../imgs/interactive_app.png)"
   ]
  }
 ],
 "metadata": {
  "kernelspec": {
   "display_name": "Python 3 (ipykernel)",
   "language": "python",
   "name": "python3"
  },
  "language_info": {
   "codemirror_mode": {
    "name": "ipython",
    "version": 3
   },
   "file_extension": ".py",
   "mimetype": "text/x-python",
   "name": "python",
   "nbconvert_exporter": "python",
   "pygments_lexer": "ipython3",
   "version": "3.9.16"
  }
 },
 "nbformat": 4,
 "nbformat_minor": 5
}

{
 "cells": [
  {
   "cell_type": "markdown",
   "id": "f12ee3fc-2740-4707-ad8e-ce2c676f7cd8",
   "metadata": {},
   "source": [
    "# Filtering results\n",
    "\n",
    "A simulation model might output a large number of performance measures.  If you wish to have a graphical view of all measures you may find it infeasible to include individual plots. In these circumstances you may want a user to be able to select which measure is displayed on a single plot included in the app.\n",
    "\n",
    "There are multiple ways to achieve this aim.  Here we demonstrate using `plotly` itself rather than relying on creating your own logic within the `streamlit` script.  "
   ]
  },
  {
   "cell_type": "markdown",
   "id": "c3f079eb-517c-4f16-9430-8927fbb44e9e",
   "metadata": {},
   "source": [
    "## 1. Imports"
   ]
  },
  {
   "cell_type": "code",
   "execution_count": 2,
   "id": "e7750ddd-0061-4052-926f-fed8fb929b8d",
   "metadata": {},
   "outputs": [],
   "source": [
    "import plotly.graph_objects as go\n",
    "\n",
    "from model import Experiment, multiple_replications"
   ]
  },
  {
   "cell_type": "markdown",
   "id": "5fd038c8-3805-48c5-b502-b82c1517c87d",
   "metadata": {},
   "source": [
    "## 2. `plotly` code\n",
    "\n",
    "To achieve our aims we must use `plotly.graph_objects`.  A modified results histogram is implemented below in the function `create_user_filtered_hist()`. \n",
    "\n",
    "> Note that the listing is specific for a histogram.  If a different type of plot was needed then the code would need to be modified. "
   ]
  },
  {
   "cell_type": "code",
   "execution_count": 98,
   "id": "4830a925-1438-420c-9131-8fa6eccc0a0f",
   "metadata": {},
   "outputs": [],
   "source": [
    "def create_user_filtered_hist(results):\n",
    "    '''\n",
    "    Create a plotly histogram that includes a drop down list that allows a user\n",
    "    to select which KPI is displayed as a histogram\n",
    "    \n",
    "    Params:\n",
    "    -------\n",
    "    results: pd.Dataframe\n",
    "        rows = replications, cols = KPIs\n",
    "        \n",
    "    Returns:\n",
    "    -------\n",
    "    plotly.figure\n",
    "    \n",
    "    Sources:\n",
    "    ------\n",
    "    The code in this function was parly adapted from two sources:\n",
    "    1. https://stackoverflow.com/questions/59406167/plotly-how-to-filter-a-pandas-dataframe-using-a-dropdown-menu\n",
    "    \n",
    "    Thanks and credit to `vestland` the author of the reponse.\n",
    "    \n",
    "    2. https://plotly.com/python/dropdowns/\n",
    "    '''\n",
    "    # create a figure\n",
    "    fig = go.Figure()\n",
    "\n",
    "    # set up a trace\n",
    "    fig.add_trace(go.Histogram(x=results[results.columns[0]]))\n",
    "\n",
    "    buttons = []\n",
    "\n",
    "    # create list of drop down items - KPIs\n",
    "    # the params in the code would need to vary depending on the type of chart.\n",
    "    # The histogram will show the first KPI by default\n",
    "    for col in results.columns:\n",
    "        buttons.append(dict(method='restyle',\n",
    "                            label=col,\n",
    "                            visible=True,\n",
    "                            args=[{'x':[results[col]],\n",
    "                                   'type':'histogram'}, [0]],\n",
    "                            )\n",
    "                      )\n",
    "\n",
    "    # create update menu and parameters\n",
    "    updatemenu = []\n",
    "    your_menu = dict()\n",
    "    updatemenu.append(your_menu)\n",
    "\n",
    "    updatemenu[0]['buttons'] = buttons\n",
    "    updatemenu[0]['direction'] = 'down'\n",
    "    updatemenu[0]['showactive'] = True\n",
    "    updatemenu[0]['x'] = 0.25\n",
    "    updatemenu[0]['y'] = 1.1\n",
    "    updatemenu[0]['xanchor'] = 'right'\n",
    "    updatemenu[0]['yanchor'] = 'bottom'\n",
    "    #updatemenu[0]['pad'] = {\"r\": 10, \"t\": 10}\n",
    "    \n",
    "    \n",
    "    \n",
    "    # add dropdown menus to the figure\n",
    "    fig.update_layout(showlegend=False, \n",
    "                      updatemenus=updatemenu)\n",
    "    \n",
    "    \n",
    "    # add label for selecting performance measure\n",
    "    fig.update_layout(\n",
    "    annotations=[\n",
    "        dict(text=\"Performance measure\", x=0, xref=\"paper\", y=1.25, \n",
    "             yref=\"paper\", align=\"left\", showarrow=False)\n",
    "    ])\n",
    "    return fig"
   ]
  },
  {
   "cell_type": "code",
   "execution_count": 99,
   "id": "11e863f9-33a6-4051-aadc-9a87e7d60cb3",
   "metadata": {},
   "outputs": [],
   "source": [
    "# code to create the histogram\n",
    "\n",
    "default_exp = Experiment()\n",
    "results = multiple_replications(default_exp, n_reps=100)"
   ]
  },
  {
   "cell_type": "code",
   "execution_count": 100,
   "id": "4036cedb-037a-4567-8fdf-833c440d9e9d",
   "metadata": {},
   "outputs": [
    {
     "data": {
      "application/vnd.plotly.v1+json": {
       "config": {
        "plotlyServerURL": "https://plot.ly"
       },
       "data": [
        {
         "type": "histogram",
         "x": [
          2.4832709788545784,
          4.536053274093411,
          3.5392653918984363,
          3.426923683235496,
          2.5080532077360354,
          2.10417335865572,
          2.551337107475308,
          3.9716805702865217,
          3.292378853319482,
          3.8236467617290075,
          4.256331434392698,
          3.584613674383365,
          2.425970567496463,
          3.0757376800843517,
          3.440752411995234,
          0.8827672893956997,
          1.719891782737461,
          1.5053706291556566,
          2.133437373329999,
          2.6056215749909506,
          4.282762216840896,
          3.2857684506771605,
          1.5862265787319505,
          2.0103404645339578,
          4.459616279454125,
          1.964022589207752,
          1.6506159691073166,
          5.461685359939681,
          2.1738188821886,
          2.083579858397011,
          2.5263431123658466,
          2.172792418247538,
          2.537699128620502,
          3.3252375509469503,
          2.7982866536236766,
          2.6878824871819758,
          1.8146140247777676,
          2.5461865085320428,
          3.938678602559979,
          2.7841237236707483,
          2.76890772418681,
          2.5841215816922207,
          3.7176332396251217,
          5.016255015898751,
          6.13907340669984,
          2.630438464937043,
          7.932832145240513,
          2.892205915239865,
          2.5938402064281467,
          6.353497107648616,
          1.290227107551998,
          2.3592610833400003,
          2.1399258726668204,
          1.6349949939033999,
          2.605430646008865,
          4.3018801566141915,
          4.723022399258554,
          2.8524817274819334,
          3.0011982950327285,
          2.232930016172859,
          1.5891208814421802,
          5.157769365032124,
          9.784918717224668,
          2.949042841024184,
          1.6928710263772067,
          2.306440833938915,
          9.969161321354594,
          3.837600220527457,
          5.623155242201337,
          1.7571080372481218,
          5.170425382566813,
          4.791907206600918,
          3.468039636586372,
          5.118170142164505,
          7.550206059427465,
          3.0619694450028194,
          3.8077465425985086,
          5.335397265658835,
          1.7512743002284223,
          2.83666654992906,
          2.5809449366560124,
          5.914183305017641,
          2.1422546136662164,
          4.610180924722461,
          3.7825765605469512,
          1.8490443259859497,
          3.602953453425871,
          4.229642408526249,
          3.9174979740358036,
          3.2164674664196213,
          3.259900297499363,
          1.6156099845714953,
          2.8036834914232163,
          1.6225255952638267,
          2.9745921744296657,
          1.33462359851299,
          5.355562234427973,
          2.128140130133606,
          1.4483193292059608,
          1.7756456644978271
         ]
        }
       ],
       "layout": {
        "annotations": [
         {
          "align": "left",
          "showarrow": false,
          "text": "Performance measure",
          "x": 0,
          "xref": "paper",
          "y": 1.25,
          "yref": "paper"
         }
        ],
        "autosize": true,
        "showlegend": false,
        "template": {
         "data": {
          "bar": [
           {
            "error_x": {
             "color": "#2a3f5f"
            },
            "error_y": {
             "color": "#2a3f5f"
            },
            "marker": {
             "line": {
              "color": "#E5ECF6",
              "width": 0.5
             },
             "pattern": {
              "fillmode": "overlay",
              "size": 10,
              "solidity": 0.2
             }
            },
            "type": "bar"
           }
          ],
          "barpolar": [
           {
            "marker": {
             "line": {
              "color": "#E5ECF6",
              "width": 0.5
             },
             "pattern": {
              "fillmode": "overlay",
              "size": 10,
              "solidity": 0.2
             }
            },
            "type": "barpolar"
           }
          ],
          "carpet": [
           {
            "aaxis": {
             "endlinecolor": "#2a3f5f",
             "gridcolor": "white",
             "linecolor": "white",
             "minorgridcolor": "white",
             "startlinecolor": "#2a3f5f"
            },
            "baxis": {
             "endlinecolor": "#2a3f5f",
             "gridcolor": "white",
             "linecolor": "white",
             "minorgridcolor": "white",
             "startlinecolor": "#2a3f5f"
            },
            "type": "carpet"
           }
          ],
          "choropleth": [
           {
            "colorbar": {
             "outlinewidth": 0,
             "ticks": ""
            },
            "type": "choropleth"
           }
          ],
          "contour": [
           {
            "colorbar": {
             "outlinewidth": 0,
             "ticks": ""
            },
            "colorscale": [
             [
              0,
              "#0d0887"
             ],
             [
              0.1111111111111111,
              "#46039f"
             ],
             [
              0.2222222222222222,
              "#7201a8"
             ],
             [
              0.3333333333333333,
              "#9c179e"
             ],
             [
              0.4444444444444444,
              "#bd3786"
             ],
             [
              0.5555555555555556,
              "#d8576b"
             ],
             [
              0.6666666666666666,
              "#ed7953"
             ],
             [
              0.7777777777777778,
              "#fb9f3a"
             ],
             [
              0.8888888888888888,
              "#fdca26"
             ],
             [
              1,
              "#f0f921"
             ]
            ],
            "type": "contour"
           }
          ],
          "contourcarpet": [
           {
            "colorbar": {
             "outlinewidth": 0,
             "ticks": ""
            },
            "type": "contourcarpet"
           }
          ],
          "heatmap": [
           {
            "colorbar": {
             "outlinewidth": 0,
             "ticks": ""
            },
            "colorscale": [
             [
              0,
              "#0d0887"
             ],
             [
              0.1111111111111111,
              "#46039f"
             ],
             [
              0.2222222222222222,
              "#7201a8"
             ],
             [
              0.3333333333333333,
              "#9c179e"
             ],
             [
              0.4444444444444444,
              "#bd3786"
             ],
             [
              0.5555555555555556,
              "#d8576b"
             ],
             [
              0.6666666666666666,
              "#ed7953"
             ],
             [
              0.7777777777777778,
              "#fb9f3a"
             ],
             [
              0.8888888888888888,
              "#fdca26"
             ],
             [
              1,
              "#f0f921"
             ]
            ],
            "type": "heatmap"
           }
          ],
          "heatmapgl": [
           {
            "colorbar": {
             "outlinewidth": 0,
             "ticks": ""
            },
            "colorscale": [
             [
              0,
              "#0d0887"
             ],
             [
              0.1111111111111111,
              "#46039f"
             ],
             [
              0.2222222222222222,
              "#7201a8"
             ],
             [
              0.3333333333333333,
              "#9c179e"
             ],
             [
              0.4444444444444444,
              "#bd3786"
             ],
             [
              0.5555555555555556,
              "#d8576b"
             ],
             [
              0.6666666666666666,
              "#ed7953"
             ],
             [
              0.7777777777777778,
              "#fb9f3a"
             ],
             [
              0.8888888888888888,
              "#fdca26"
             ],
             [
              1,
              "#f0f921"
             ]
            ],
            "type": "heatmapgl"
           }
          ],
          "histogram": [
           {
            "marker": {
             "pattern": {
              "fillmode": "overlay",
              "size": 10,
              "solidity": 0.2
             }
            },
            "type": "histogram"
           }
          ],
          "histogram2d": [
           {
            "colorbar": {
             "outlinewidth": 0,
             "ticks": ""
            },
            "colorscale": [
             [
              0,
              "#0d0887"
             ],
             [
              0.1111111111111111,
              "#46039f"
             ],
             [
              0.2222222222222222,
              "#7201a8"
             ],
             [
              0.3333333333333333,
              "#9c179e"
             ],
             [
              0.4444444444444444,
              "#bd3786"
             ],
             [
              0.5555555555555556,
              "#d8576b"
             ],
             [
              0.6666666666666666,
              "#ed7953"
             ],
             [
              0.7777777777777778,
              "#fb9f3a"
             ],
             [
              0.8888888888888888,
              "#fdca26"
             ],
             [
              1,
              "#f0f921"
             ]
            ],
            "type": "histogram2d"
           }
          ],
          "histogram2dcontour": [
           {
            "colorbar": {
             "outlinewidth": 0,
             "ticks": ""
            },
            "colorscale": [
             [
              0,
              "#0d0887"
             ],
             [
              0.1111111111111111,
              "#46039f"
             ],
             [
              0.2222222222222222,
              "#7201a8"
             ],
             [
              0.3333333333333333,
              "#9c179e"
             ],
             [
              0.4444444444444444,
              "#bd3786"
             ],
             [
              0.5555555555555556,
              "#d8576b"
             ],
             [
              0.6666666666666666,
              "#ed7953"
             ],
             [
              0.7777777777777778,
              "#fb9f3a"
             ],
             [
              0.8888888888888888,
              "#fdca26"
             ],
             [
              1,
              "#f0f921"
             ]
            ],
            "type": "histogram2dcontour"
           }
          ],
          "mesh3d": [
           {
            "colorbar": {
             "outlinewidth": 0,
             "ticks": ""
            },
            "type": "mesh3d"
           }
          ],
          "parcoords": [
           {
            "line": {
             "colorbar": {
              "outlinewidth": 0,
              "ticks": ""
             }
            },
            "type": "parcoords"
           }
          ],
          "pie": [
           {
            "automargin": true,
            "type": "pie"
           }
          ],
          "scatter": [
           {
            "fillpattern": {
             "fillmode": "overlay",
             "size": 10,
             "solidity": 0.2
            },
            "type": "scatter"
           }
          ],
          "scatter3d": [
           {
            "line": {
             "colorbar": {
              "outlinewidth": 0,
              "ticks": ""
             }
            },
            "marker": {
             "colorbar": {
              "outlinewidth": 0,
              "ticks": ""
             }
            },
            "type": "scatter3d"
           }
          ],
          "scattercarpet": [
           {
            "marker": {
             "colorbar": {
              "outlinewidth": 0,
              "ticks": ""
             }
            },
            "type": "scattercarpet"
           }
          ],
          "scattergeo": [
           {
            "marker": {
             "colorbar": {
              "outlinewidth": 0,
              "ticks": ""
             }
            },
            "type": "scattergeo"
           }
          ],
          "scattergl": [
           {
            "marker": {
             "colorbar": {
              "outlinewidth": 0,
              "ticks": ""
             }
            },
            "type": "scattergl"
           }
          ],
          "scattermapbox": [
           {
            "marker": {
             "colorbar": {
              "outlinewidth": 0,
              "ticks": ""
             }
            },
            "type": "scattermapbox"
           }
          ],
          "scatterpolar": [
           {
            "marker": {
             "colorbar": {
              "outlinewidth": 0,
              "ticks": ""
             }
            },
            "type": "scatterpolar"
           }
          ],
          "scatterpolargl": [
           {
            "marker": {
             "colorbar": {
              "outlinewidth": 0,
              "ticks": ""
             }
            },
            "type": "scatterpolargl"
           }
          ],
          "scatterternary": [
           {
            "marker": {
             "colorbar": {
              "outlinewidth": 0,
              "ticks": ""
             }
            },
            "type": "scatterternary"
           }
          ],
          "surface": [
           {
            "colorbar": {
             "outlinewidth": 0,
             "ticks": ""
            },
            "colorscale": [
             [
              0,
              "#0d0887"
             ],
             [
              0.1111111111111111,
              "#46039f"
             ],
             [
              0.2222222222222222,
              "#7201a8"
             ],
             [
              0.3333333333333333,
              "#9c179e"
             ],
             [
              0.4444444444444444,
              "#bd3786"
             ],
             [
              0.5555555555555556,
              "#d8576b"
             ],
             [
              0.6666666666666666,
              "#ed7953"
             ],
             [
              0.7777777777777778,
              "#fb9f3a"
             ],
             [
              0.8888888888888888,
              "#fdca26"
             ],
             [
              1,
              "#f0f921"
             ]
            ],
            "type": "surface"
           }
          ],
          "table": [
           {
            "cells": {
             "fill": {
              "color": "#EBF0F8"
             },
             "line": {
              "color": "white"
             }
            },
            "header": {
             "fill": {
              "color": "#C8D4E3"
             },
             "line": {
              "color": "white"
             }
            },
            "type": "table"
           }
          ]
         },
         "layout": {
          "annotationdefaults": {
           "arrowcolor": "#2a3f5f",
           "arrowhead": 0,
           "arrowwidth": 1
          },
          "autotypenumbers": "strict",
          "coloraxis": {
           "colorbar": {
            "outlinewidth": 0,
            "ticks": ""
           }
          },
          "colorscale": {
           "diverging": [
            [
             0,
             "#8e0152"
            ],
            [
             0.1,
             "#c51b7d"
            ],
            [
             0.2,
             "#de77ae"
            ],
            [
             0.3,
             "#f1b6da"
            ],
            [
             0.4,
             "#fde0ef"
            ],
            [
             0.5,
             "#f7f7f7"
            ],
            [
             0.6,
             "#e6f5d0"
            ],
            [
             0.7,
             "#b8e186"
            ],
            [
             0.8,
             "#7fbc41"
            ],
            [
             0.9,
             "#4d9221"
            ],
            [
             1,
             "#276419"
            ]
           ],
           "sequential": [
            [
             0,
             "#0d0887"
            ],
            [
             0.1111111111111111,
             "#46039f"
            ],
            [
             0.2222222222222222,
             "#7201a8"
            ],
            [
             0.3333333333333333,
             "#9c179e"
            ],
            [
             0.4444444444444444,
             "#bd3786"
            ],
            [
             0.5555555555555556,
             "#d8576b"
            ],
            [
             0.6666666666666666,
             "#ed7953"
            ],
            [
             0.7777777777777778,
             "#fb9f3a"
            ],
            [
             0.8888888888888888,
             "#fdca26"
            ],
            [
             1,
             "#f0f921"
            ]
           ],
           "sequentialminus": [
            [
             0,
             "#0d0887"
            ],
            [
             0.1111111111111111,
             "#46039f"
            ],
            [
             0.2222222222222222,
             "#7201a8"
            ],
            [
             0.3333333333333333,
             "#9c179e"
            ],
            [
             0.4444444444444444,
             "#bd3786"
            ],
            [
             0.5555555555555556,
             "#d8576b"
            ],
            [
             0.6666666666666666,
             "#ed7953"
            ],
            [
             0.7777777777777778,
             "#fb9f3a"
            ],
            [
             0.8888888888888888,
             "#fdca26"
            ],
            [
             1,
             "#f0f921"
            ]
           ]
          },
          "colorway": [
           "#636efa",
           "#EF553B",
           "#00cc96",
           "#ab63fa",
           "#FFA15A",
           "#19d3f3",
           "#FF6692",
           "#B6E880",
           "#FF97FF",
           "#FECB52"
          ],
          "font": {
           "color": "#2a3f5f"
          },
          "geo": {
           "bgcolor": "white",
           "lakecolor": "white",
           "landcolor": "#E5ECF6",
           "showlakes": true,
           "showland": true,
           "subunitcolor": "white"
          },
          "hoverlabel": {
           "align": "left"
          },
          "hovermode": "closest",
          "mapbox": {
           "style": "light"
          },
          "paper_bgcolor": "white",
          "plot_bgcolor": "#E5ECF6",
          "polar": {
           "angularaxis": {
            "gridcolor": "white",
            "linecolor": "white",
            "ticks": ""
           },
           "bgcolor": "#E5ECF6",
           "radialaxis": {
            "gridcolor": "white",
            "linecolor": "white",
            "ticks": ""
           }
          },
          "scene": {
           "xaxis": {
            "backgroundcolor": "#E5ECF6",
            "gridcolor": "white",
            "gridwidth": 2,
            "linecolor": "white",
            "showbackground": true,
            "ticks": "",
            "zerolinecolor": "white"
           },
           "yaxis": {
            "backgroundcolor": "#E5ECF6",
            "gridcolor": "white",
            "gridwidth": 2,
            "linecolor": "white",
            "showbackground": true,
            "ticks": "",
            "zerolinecolor": "white"
           },
           "zaxis": {
            "backgroundcolor": "#E5ECF6",
            "gridcolor": "white",
            "gridwidth": 2,
            "linecolor": "white",
            "showbackground": true,
            "ticks": "",
            "zerolinecolor": "white"
           }
          },
          "shapedefaults": {
           "line": {
            "color": "#2a3f5f"
           }
          },
          "ternary": {
           "aaxis": {
            "gridcolor": "white",
            "linecolor": "white",
            "ticks": ""
           },
           "baxis": {
            "gridcolor": "white",
            "linecolor": "white",
            "ticks": ""
           },
           "bgcolor": "#E5ECF6",
           "caxis": {
            "gridcolor": "white",
            "linecolor": "white",
            "ticks": ""
           }
          },
          "title": {
           "x": 0.05
          },
          "xaxis": {
           "automargin": true,
           "gridcolor": "white",
           "linecolor": "white",
           "ticks": "",
           "title": {
            "standoff": 15
           },
           "zerolinecolor": "white",
           "zerolinewidth": 2
          },
          "yaxis": {
           "automargin": true,
           "gridcolor": "white",
           "linecolor": "white",
           "ticks": "",
           "title": {
            "standoff": 15
           },
           "zerolinecolor": "white",
           "zerolinewidth": 2
          }
         }
        },
        "updatemenus": [
         {
          "active": 0,
          "buttons": [
           {
            "args": [
             {
              "type": "histogram",
              "x": [
               [
                2.4832709788545784,
                4.536053274093411,
                3.5392653918984363,
                3.426923683235496,
                2.5080532077360354,
                2.10417335865572,
                2.551337107475308,
                3.9716805702865217,
                3.292378853319482,
                3.8236467617290075,
                4.256331434392698,
                3.584613674383365,
                2.425970567496463,
                3.0757376800843517,
                3.440752411995234,
                0.8827672893956997,
                1.719891782737461,
                1.5053706291556566,
                2.133437373329999,
                2.6056215749909506,
                4.282762216840896,
                3.2857684506771605,
                1.5862265787319505,
                2.0103404645339578,
                4.459616279454125,
                1.964022589207752,
                1.6506159691073166,
                5.461685359939681,
                2.1738188821886,
                2.083579858397011,
                2.5263431123658466,
                2.172792418247538,
                2.537699128620502,
                3.3252375509469503,
                2.7982866536236766,
                2.6878824871819758,
                1.8146140247777676,
                2.5461865085320428,
                3.938678602559979,
                2.7841237236707483,
                2.76890772418681,
                2.5841215816922207,
                3.7176332396251217,
                5.016255015898751,
                6.13907340669984,
                2.630438464937043,
                7.932832145240513,
                2.892205915239865,
                2.5938402064281467,
                6.353497107648616,
                1.290227107551998,
                2.3592610833400003,
                2.1399258726668204,
                1.6349949939033999,
                2.605430646008865,
                4.3018801566141915,
                4.723022399258554,
                2.8524817274819334,
                3.0011982950327285,
                2.232930016172859,
                1.5891208814421802,
                5.157769365032124,
                9.784918717224668,
                2.949042841024184,
                1.6928710263772067,
                2.306440833938915,
                9.969161321354594,
                3.837600220527457,
                5.623155242201337,
                1.7571080372481218,
                5.170425382566813,
                4.791907206600918,
                3.468039636586372,
                5.118170142164505,
                7.550206059427465,
                3.0619694450028194,
                3.8077465425985086,
                5.335397265658835,
                1.7512743002284223,
                2.83666654992906,
                2.5809449366560124,
                5.914183305017641,
                2.1422546136662164,
                4.610180924722461,
                3.7825765605469512,
                1.8490443259859497,
                3.602953453425871,
                4.229642408526249,
                3.9174979740358036,
                3.2164674664196213,
                3.259900297499363,
                1.6156099845714953,
                2.8036834914232163,
                1.6225255952638267,
                2.9745921744296657,
                1.33462359851299,
                5.355562234427973,
                2.128140130133606,
                1.4483193292059608,
                1.7756456644978271
               ]
              ]
             },
             [
              0
             ]
            ],
            "label": "01_mean_waiting_time",
            "method": "restyle",
            "visible": true
           },
           {
            "args": [
             {
              "type": "histogram",
              "x": [
               [
                90.40678012663142,
                95.82260818833679,
                94.60817672536777,
                93.32999774815892,
                91.41969209997765,
                91.35969934972614,
                91.21523992785109,
                91.7437593995902,
                93.04958516317939,
                95.21577035894772,
                93.71958798652275,
                92.32383081734903,
                93.15276171639711,
                93.38690935752983,
                91.07515848945218,
                90.32719428744772,
                91.95204173773088,
                88.44347473808051,
                92.37355556571582,
                91.75793622883994,
                96.10720791584167,
                95.46963242991544,
                88.43205200459491,
                93.40348715710086,
                94.24541841130063,
                90.85076532205787,
                91.56844559044714,
                93.19741313443869,
                89.48500574511948,
                92.04041370572027,
                89.41269520255804,
                93.59022103914194,
                93.24718581038672,
                95.04941780452667,
                93.95709368118207,
                94.92808430836148,
                91.59936892158194,
                93.08210188453158,
                94.62830286698954,
                93.52531880157969,
                93.01820800308265,
                91.94223340587995,
                93.31947615682333,
                95.96029708475352,
                95.78944906334901,
                92.26271622007316,
                96.60899574299859,
                92.80994252001568,
                92.01629171947813,
                95.3839245379223,
                92.09466967167307,
                91.97956113116749,
                93.86685578497689,
                89.53952871398701,
                94.168306800713,
                94.81712240098845,
                96.38398177782476,
                91.91157067167592,
                91.12197801696206,
                92.2330222484935,
                94.41059222317645,
                95.82382264227826,
                97.99391231709694,
                93.29993251985486,
                89.03272601246398,
                93.39552053384112,
                97.69440540630197,
                92.8289942684024,
                94.6479833135426,
                91.3705517984219,
                96.43818825208176,
                94.64741519190926,
                92.75234099280088,
                97.00993196166017,
                97.16532744743517,
                90.99280693454548,
                96.27987507297145,
                96.85644702031169,
                91.67467311170289,
                92.18679383623576,
                93.05978287971296,
                97.90750674509083,
                93.06223748474245,
                94.42582567431738,
                92.96142214062839,
                91.44737018690495,
                91.37109621455967,
                93.80608657699091,
                93.38311781311978,
                94.45487785052143,
                94.28904943693388,
                90.31234280632367,
                91.60721249716127,
                88.72850563676829,
                92.09397133587119,
                89.15165072439282,
                97.68691403091316,
                92.89324742793322,
                92.18796831451051,
                89.94525373715932
               ]
              ]
             },
             [
              0
             ]
            ],
            "label": "02_operator_util",
            "method": "restyle",
            "visible": true
           },
           {
            "args": [
             {
              "type": "histogram",
              "x": [
               [
                48.05886905713281,
                67.0344790731804,
                47.87605433780843,
                45.46445600156908,
                61.03477599893226,
                27.365541062848077,
                38.90720093081043,
                28.378594204660576,
                47.62271206779177,
                48.65002389060903,
                35.865937775145916,
                51.74130037515847,
                93.41594751631541,
                59.034332511314126,
                38.86617390133053,
                17.775728753570952,
                35.74630288715518,
                20.914179915923413,
                63.13661271217918,
                43.54379662924324,
                78.0008009996174,
                44.48269840405883,
                30.258458489535336,
                57.24207407765631,
                67.50864247902331,
                50.21273288126606,
                58.854679068307796,
                67.3520429126094,
                12.871116760994287,
                45.8033063321579,
                20.68342941463525,
                47.37618859651913,
                60.83334943786073,
                65.43115068143476,
                30.95755836339536,
                57.58822597652768,
                21.06506583105085,
                45.8982085773388,
                30.14268043168348,
                78.86579021344386,
                48.25160055271726,
                52.002768206842035,
                63.35748202151689,
                70.31444691744164,
                48.9117231789301,
                25.62447521191712,
                67.00338575309945,
                38.267638325797975,
                42.07278796582088,
                46.69744678282621,
                45.574872853861244,
                38.69643880270576,
                46.31753341569593,
                58.45428897351184,
                65.09107066198871,
                84.04095455822498,
                56.722410625131715,
                59.19788158967735,
                29.41533785414826,
                18.238858251805386,
                69.3846594242284,
                31.841416559181507,
                56.64830423303021,
                88.37882948471962,
                53.36850983291111,
                59.90862746201652,
                46.86314955843156,
                37.18927543665516,
                45.23099492344204,
                30.2150493910159,
                50.4715856354735,
                37.08575834367138,
                59.994914307389266,
                46.75406384538062,
                70.53043733761977,
                53.351464779270295,
                38.03335485320633,
                85.00385333845338,
                44.03459182142214,
                52.04360715990806,
                55.14239340338385,
                73.66106647413024,
                26.358529882107092,
                47.76816742383162,
                61.31178747516462,
                38.82216152075354,
                40.76301705139015,
                55.79312739701951,
                40.23969250397955,
                37.568541170341035,
                59.745506845999884,
                70.44335814376171,
                60.697004080356116,
                33.480565652627874,
                37.9105984639901,
                25.72758811924044,
                60.8147061039235,
                43.59601362552297,
                28.6562445353299,
                45.73852073516163
               ]
              ]
             },
             [
              0
             ]
            ],
            "label": "03_mean_nurse_waiting_time",
            "method": "restyle",
            "visible": true
           },
           {
            "args": [
             {
              "type": "histogram",
              "x": [
               [
                97.27126194099131,
                96.95755423038189,
                97.35594694424867,
                97.58275589048452,
                96.38319379803863,
                95.97623649322185,
                97.22041083444526,
                96.17832153354841,
                96.5149286366414,
                97.55564329045554,
                96.64341007509644,
                97.27055954062243,
                97.59953884137131,
                98.14464047641852,
                96.02472198098567,
                96.24457128095236,
                97.79821408502117,
                97.05801644784054,
                97.13908302629352,
                95.66782242294471,
                97.50958667182516,
                97.17546134256287,
                97.21790356126144,
                98.16148016838568,
                97.52948740048602,
                97.5710763204437,
                97.82853989849393,
                97.12848908310805,
                94.52656640783991,
                97.32408285188832,
                95.6339841433762,
                98.01605129242026,
                97.7814434924691,
                97.86816771708784,
                97.67985090699945,
                97.67957383196358,
                97.30604731349631,
                97.15121418179959,
                97.58402963680754,
                97.63694126325413,
                97.26161714787409,
                98.19454642240267,
                97.3050002105874,
                97.66590384916053,
                96.98843426869564,
                96.32740670541034,
                96.8280750599256,
                98.23279965975144,
                98.13354133597625,
                97.45237783647543,
                98.4413462760192,
                96.96425215678256,
                97.83366067333387,
                97.81220091338861,
                98.02059580560264,
                97.52457445301037,
                96.0899762798773,
                97.76891043638123,
                95.14297899297507,
                96.46722198997502,
                98.2558898043782,
                97.8319162159422,
                97.63139110409027,
                97.58206737071843,
                96.81589329439092,
                97.29760392950058,
                97.5979659568043,
                95.81035292133598,
                98.28655931085969,
                96.70477861986872,
                98.13919685763818,
                97.38031570922837,
                97.51928846377733,
                97.22506802917762,
                97.71784405010911,
                97.75243870166142,
                98.04944749645091,
                98.00908892201473,
                96.61976041731579,
                96.60280727922738,
                98.0380864194245,
                97.10233916561808,
                95.64183304009993,
                95.84695431119367,
                96.4729770871862,
                97.20302698487342,
                96.46619876378556,
                97.41182819445318,
                97.1555510424398,
                97.10015095088282,
                97.70010769119271,
                97.04201803756321,
                97.48204874980858,
                97.03900568031642,
                98.11383857265268,
                94.92464932671982,
                97.51995172597742,
                97.7985739951764,
                97.17498996233428,
                96.6705851535251
               ]
              ]
             },
             [
              0
             ]
            ],
            "label": "04_nurse_util",
            "method": "restyle",
            "visible": true
           }
          ],
          "direction": "down",
          "showactive": true,
          "x": 0.25,
          "xanchor": "right",
          "y": 1.1,
          "yanchor": "bottom"
         }
        ],
        "xaxis": {
         "autorange": true,
         "range": [
          0,
          10
         ],
         "type": "linear"
        },
        "yaxis": {
         "autorange": true,
         "range": [
          0,
          36.8421052631579
         ]
        }
       }
      },
      "image/png": "[encoded data removed]",
      "text/html": [
       "<div>                            <div id=\"4e4e9169-41c5-48f0-81ee-5eb40b6b9394\" class=\"plotly-graph-div\" style=\"height:525px; width:100%;\"></div>            <script type=\"text/javascript\">                require([\"plotly\"], function(Plotly) {                    window.PLOTLYENV=window.PLOTLYENV || {};                                    if (document.getElementById(\"4e4e9169-41c5-48f0-81ee-5eb40b6b9394\")) {                    Plotly.newPlot(                        \"4e4e9169-41c5-48f0-81ee-5eb40b6b9394\",                        [{\"x\":[2.4832709788545784,4.536053274093411,3.5392653918984363,3.426923683235496,2.5080532077360354,2.10417335865572,2.551337107475308,3.9716805702865217,3.292378853319482,3.8236467617290075,4.256331434392698,3.584613674383365,2.425970567496463,3.0757376800843517,3.440752411995234,0.8827672893956997,1.719891782737461,1.5053706291556566,2.133437373329999,2.6056215749909506,4.282762216840896,3.2857684506771605,1.5862265787319505,2.0103404645339578,4.459616279454125,1.964022589207752,1.6506159691073166,5.461685359939681,2.1738188821886,2.083579858397011,2.5263431123658466,2.172792418247538,2.537699128620502,3.3252375509469503,2.7982866536236766,2.6878824871819758,1.8146140247777676,2.5461865085320428,3.938678602559979,2.7841237236707483,2.76890772418681,2.5841215816922207,3.7176332396251217,5.016255015898751,6.13907340669984,2.630438464937043,7.932832145240513,2.892205915239865,2.5938402064281467,6.353497107648616,1.290227107551998,2.3592610833400003,2.1399258726668204,1.6349949939033999,2.605430646008865,4.3018801566141915,4.723022399258554,2.8524817274819334,3.0011982950327285,2.232930016172859,1.5891208814421802,5.157769365032124,9.784918717224668,2.949042841024184,1.6928710263772067,2.306440833938915,9.969161321354594,3.837600220527457,5.623155242201337,1.7571080372481218,5.170425382566813,4.791907206600918,3.468039636586372,5.118170142164505,7.550206059427465,3.0619694450028194,3.8077465425985086,5.335397265658835,1.7512743002284223,2.83666654992906,2.5809449366560124,5.914183305017641,2.1422546136662164,4.610180924722461,3.7825765605469512,1.8490443259859497,3.602953453425871,4.229642408526249,3.9174979740358036,3.2164674664196213,3.259900297499363,1.6156099845714953,2.8036834914232163,1.6225255952638267,2.9745921744296657,1.33462359851299,5.355562234427973,2.128140130133606,1.4483193292059608,1.7756456644978271],\"type\":\"histogram\"}],                        {\"template\":{\"data\":{\"histogram2dcontour\":[{\"type\":\"histogram2dcontour\",\"colorbar\":{\"outlinewidth\":0,\"ticks\":\"\"},\"colorscale\":[[0.0,\"#0d0887\"],[0.1111111111111111,\"#46039f\"],[0.2222222222222222,\"#7201a8\"],[0.3333333333333333,\"#9c179e\"],[0.4444444444444444,\"#bd3786\"],[0.5555555555555556,\"#d8576b\"],[0.6666666666666666,\"#ed7953\"],[0.7777777777777778,\"#fb9f3a\"],[0.8888888888888888,\"#fdca26\"],[1.0,\"#f0f921\"]]}],\"choropleth\":[{\"type\":\"choropleth\",\"colorbar\":{\"outlinewidth\":0,\"ticks\":\"\"}}],\"histogram2d\":[{\"type\":\"histogram2d\",\"colorbar\":{\"outlinewidth\":0,\"ticks\":\"\"},\"colorscale\":[[0.0,\"#0d0887\"],[0.1111111111111111,\"#46039f\"],[0.2222222222222222,\"#7201a8\"],[0.3333333333333333,\"#9c179e\"],[0.4444444444444444,\"#bd3786\"],[0.5555555555555556,\"#d8576b\"],[0.6666666666666666,\"#ed7953\"],[0.7777777777777778,\"#fb9f3a\"],[0.8888888888888888,\"#fdca26\"],[1.0,\"#f0f921\"]]}],\"heatmap\":[{\"type\":\"heatmap\",\"colorbar\":{\"outlinewidth\":0,\"ticks\":\"\"},\"colorscale\":[[0.0,\"#0d0887\"],[0.1111111111111111,\"#46039f\"],[0.2222222222222222,\"#7201a8\"],[0.3333333333333333,\"#9c179e\"],[0.4444444444444444,\"#bd3786\"],[0.5555555555555556,\"#d8576b\"],[0.6666666666666666,\"#ed7953\"],[0.7777777777777778,\"#fb9f3a\"],[0.8888888888888888,\"#fdca26\"],[1.0,\"#f0f921\"]]}],\"heatmapgl\":[{\"type\":\"heatmapgl\",\"colorbar\":{\"outlinewidth\":0,\"ticks\":\"\"},\"colorscale\":[[0.0,\"#0d0887\"],[0.1111111111111111,\"#46039f\"],[0.2222222222222222,\"#7201a8\"],[0.3333333333333333,\"#9c179e\"],[0.4444444444444444,\"#bd3786\"],[0.5555555555555556,\"#d8576b\"],[0.6666666666666666,\"#ed7953\"],[0.7777777777777778,\"#fb9f3a\"],[0.8888888888888888,\"#fdca26\"],[1.0,\"#f0f921\"]]}],\"contourcarpet\":[{\"type\":\"contourcarpet\",\"colorbar\":{\"outlinewidth\":0,\"ticks\":\"\"}}],\"contour\":[{\"type\":\"contour\",\"colorbar\":{\"outlinewidth\":0,\"ticks\":\"\"},\"colorscale\":[[0.0,\"#0d0887\"],[0.1111111111111111,\"#46039f\"],[0.2222222222222222,\"#7201a8\"],[0.3333333333333333,\"#9c179e\"],[0.4444444444444444,\"#bd3786\"],[0.5555555555555556,\"#d8576b\"],[0.6666666666666666,\"#ed7953\"],[0.7777777777777778,\"#fb9f3a\"],[0.8888888888888888,\"#fdca26\"],[1.0,\"#f0f921\"]]}],\"surface\":[{\"type\":\"surface\",\"colorbar\":{\"outlinewidth\":0,\"ticks\":\"\"},\"colorscale\":[[0.0,\"#0d0887\"],[0.1111111111111111,\"#46039f\"],[0.2222222222222222,\"#7201a8\"],[0.3333333333333333,\"#9c179e\"],[0.4444444444444444,\"#bd3786\"],[0.5555555555555556,\"#d8576b\"],[0.6666666666666666,\"#ed7953\"],[0.7777777777777778,\"#fb9f3a\"],[0.8888888888888888,\"#fdca26\"],[1.0,\"#f0f921\"]]}],\"mesh3d\":[{\"type\":\"mesh3d\",\"colorbar\":{\"outlinewidth\":0,\"ticks\":\"\"}}],\"scatter\":[{\"fillpattern\":{\"fillmode\":\"overlay\",\"size\":10,\"solidity\":0.2},\"type\":\"scatter\"}],\"parcoords\":[{\"type\":\"parcoords\",\"line\":{\"colorbar\":{\"outlinewidth\":0,\"ticks\":\"\"}}}],\"scatterpolargl\":[{\"type\":\"scatterpolargl\",\"marker\":{\"colorbar\":{\"outlinewidth\":0,\"ticks\":\"\"}}}],\"bar\":[{\"error_x\":{\"color\":\"#2a3f5f\"},\"error_y\":{\"color\":\"#2a3f5f\"},\"marker\":{\"line\":{\"color\":\"#E5ECF6\",\"width\":0.5},\"pattern\":{\"fillmode\":\"overlay\",\"size\":10,\"solidity\":0.2}},\"type\":\"bar\"}],\"scattergeo\":[{\"type\":\"scattergeo\",\"marker\":{\"colorbar\":{\"outlinewidth\":0,\"ticks\":\"\"}}}],\"scatterpolar\":[{\"type\":\"scatterpolar\",\"marker\":{\"colorbar\":{\"outlinewidth\":0,\"ticks\":\"\"}}}],\"histogram\":[{\"marker\":{\"pattern\":{\"fillmode\":\"overlay\",\"size\":10,\"solidity\":0.2}},\"type\":\"histogram\"}],\"scattergl\":[{\"type\":\"scattergl\",\"marker\":{\"colorbar\":{\"outlinewidth\":0,\"ticks\":\"\"}}}],\"scatter3d\":[{\"type\":\"scatter3d\",\"line\":{\"colorbar\":{\"outlinewidth\":0,\"ticks\":\"\"}},\"marker\":{\"colorbar\":{\"outlinewidth\":0,\"ticks\":\"\"}}}],\"scattermapbox\":[{\"type\":\"scattermapbox\",\"marker\":{\"colorbar\":{\"outlinewidth\":0,\"ticks\":\"\"}}}],\"scatterternary\":[{\"type\":\"scatterternary\",\"marker\":{\"colorbar\":{\"outlinewidth\":0,\"ticks\":\"\"}}}],\"scattercarpet\":[{\"type\":\"scattercarpet\",\"marker\":{\"colorbar\":{\"outlinewidth\":0,\"ticks\":\"\"}}}],\"carpet\":[{\"aaxis\":{\"endlinecolor\":\"#2a3f5f\",\"gridcolor\":\"white\",\"linecolor\":\"white\",\"minorgridcolor\":\"white\",\"startlinecolor\":\"#2a3f5f\"},\"baxis\":{\"endlinecolor\":\"#2a3f5f\",\"gridcolor\":\"white\",\"linecolor\":\"white\",\"minorgridcolor\":\"white\",\"startlinecolor\":\"#2a3f5f\"},\"type\":\"carpet\"}],\"table\":[{\"cells\":{\"fill\":{\"color\":\"#EBF0F8\"},\"line\":{\"color\":\"white\"}},\"header\":{\"fill\":{\"color\":\"#C8D4E3\"},\"line\":{\"color\":\"white\"}},\"type\":\"table\"}],\"barpolar\":[{\"marker\":{\"line\":{\"color\":\"#E5ECF6\",\"width\":0.5},\"pattern\":{\"fillmode\":\"overlay\",\"size\":10,\"solidity\":0.2}},\"type\":\"barpolar\"}],\"pie\":[{\"automargin\":true,\"type\":\"pie\"}]},\"layout\":{\"autotypenumbers\":\"strict\",\"colorway\":[\"#636efa\",\"#EF553B\",\"#00cc96\",\"#ab63fa\",\"#FFA15A\",\"#19d3f3\",\"#FF6692\",\"#B6E880\",\"#FF97FF\",\"#FECB52\"],\"font\":{\"color\":\"#2a3f5f\"},\"hovermode\":\"closest\",\"hoverlabel\":{\"align\":\"left\"},\"paper_bgcolor\":\"white\",\"plot_bgcolor\":\"#E5ECF6\",\"polar\":{\"bgcolor\":\"#E5ECF6\",\"angularaxis\":{\"gridcolor\":\"white\",\"linecolor\":\"white\",\"ticks\":\"\"},\"radialaxis\":{\"gridcolor\":\"white\",\"linecolor\":\"white\",\"ticks\":\"\"}},\"ternary\":{\"bgcolor\":\"#E5ECF6\",\"aaxis\":{\"gridcolor\":\"white\",\"linecolor\":\"white\",\"ticks\":\"\"},\"baxis\":{\"gridcolor\":\"white\",\"linecolor\":\"white\",\"ticks\":\"\"},\"caxis\":{\"gridcolor\":\"white\",\"linecolor\":\"white\",\"ticks\":\"\"}},\"coloraxis\":{\"colorbar\":{\"outlinewidth\":0,\"ticks\":\"\"}},\"colorscale\":{\"sequential\":[[0.0,\"#0d0887\"],[0.1111111111111111,\"#46039f\"],[0.2222222222222222,\"#7201a8\"],[0.3333333333333333,\"#9c179e\"],[0.4444444444444444,\"#bd3786\"],[0.5555555555555556,\"#d8576b\"],[0.6666666666666666,\"#ed7953\"],[0.7777777777777778,\"#fb9f3a\"],[0.8888888888888888,\"#fdca26\"],[1.0,\"#f0f921\"]],\"sequentialminus\":[[0.0,\"#0d0887\"],[0.1111111111111111,\"#46039f\"],[0.2222222222222222,\"#7201a8\"],[0.3333333333333333,\"#9c179e\"],[0.4444444444444444,\"#bd3786\"],[0.5555555555555556,\"#d8576b\"],[0.6666666666666666,\"#ed7953\"],[0.7777777777777778,\"#fb9f3a\"],[0.8888888888888888,\"#fdca26\"],[1.0,\"#f0f921\"]],\"diverging\":[[0,\"#8e0152\"],[0.1,\"#c51b7d\"],[0.2,\"#de77ae\"],[0.3,\"#f1b6da\"],[0.4,\"#fde0ef\"],[0.5,\"#f7f7f7\"],[0.6,\"#e6f5d0\"],[0.7,\"#b8e186\"],[0.8,\"#7fbc41\"],[0.9,\"#4d9221\"],[1,\"#276419\"]]},\"xaxis\":{\"gridcolor\":\"white\",\"linecolor\":\"white\",\"ticks\":\"\",\"title\":{\"standoff\":15},\"zerolinecolor\":\"white\",\"automargin\":true,\"zerolinewidth\":2},\"yaxis\":{\"gridcolor\":\"white\",\"linecolor\":\"white\",\"ticks\":\"\",\"title\":{\"standoff\":15},\"zerolinecolor\":\"white\",\"automargin\":true,\"zerolinewidth\":2},\"scene\":{\"xaxis\":{\"backgroundcolor\":\"#E5ECF6\",\"gridcolor\":\"white\",\"linecolor\":\"white\",\"showbackground\":true,\"ticks\":\"\",\"zerolinecolor\":\"white\",\"gridwidth\":2},\"yaxis\":{\"backgroundcolor\":\"#E5ECF6\",\"gridcolor\":\"white\",\"linecolor\":\"white\",\"showbackground\":true,\"ticks\":\"\",\"zerolinecolor\":\"white\",\"gridwidth\":2},\"zaxis\":{\"backgroundcolor\":\"#E5ECF6\",\"gridcolor\":\"white\",\"linecolor\":\"white\",\"showbackground\":true,\"ticks\":\"\",\"zerolinecolor\":\"white\",\"gridwidth\":2}},\"shapedefaults\":{\"line\":{\"color\":\"#2a3f5f\"}},\"annotationdefaults\":{\"arrowcolor\":\"#2a3f5f\",\"arrowhead\":0,\"arrowwidth\":1},\"geo\":{\"bgcolor\":\"white\",\"landcolor\":\"#E5ECF6\",\"subunitcolor\":\"white\",\"showland\":true,\"showlakes\":true,\"lakecolor\":\"white\"},\"title\":{\"x\":0.05},\"mapbox\":{\"style\":\"light\"}}},\"showlegend\":false,\"updatemenus\":[{\"buttons\":[{\"args\":[{\"x\":[[2.4832709788545784,4.536053274093411,3.5392653918984363,3.426923683235496,2.5080532077360354,2.10417335865572,2.551337107475308,3.9716805702865217,3.292378853319482,3.8236467617290075,4.256331434392698,3.584613674383365,2.425970567496463,3.0757376800843517,3.440752411995234,0.8827672893956997,1.719891782737461,1.5053706291556566,2.133437373329999,2.6056215749909506,4.282762216840896,3.2857684506771605,1.5862265787319505,2.0103404645339578,4.459616279454125,1.964022589207752,1.6506159691073166,5.461685359939681,2.1738188821886,2.083579858397011,2.5263431123658466,2.172792418247538,2.537699128620502,3.3252375509469503,2.7982866536236766,2.6878824871819758,1.8146140247777676,2.5461865085320428,3.938678602559979,2.7841237236707483,2.76890772418681,2.5841215816922207,3.7176332396251217,5.016255015898751,6.13907340669984,2.630438464937043,7.932832145240513,2.892205915239865,2.5938402064281467,6.353497107648616,1.290227107551998,2.3592610833400003,2.1399258726668204,1.6349949939033999,2.605430646008865,4.3018801566141915,4.723022399258554,2.8524817274819334,3.0011982950327285,2.232930016172859,1.5891208814421802,5.157769365032124,9.784918717224668,2.949042841024184,1.6928710263772067,2.306440833938915,9.969161321354594,3.837600220527457,5.623155242201337,1.7571080372481218,5.170425382566813,4.791907206600918,3.468039636586372,5.118170142164505,7.550206059427465,3.0619694450028194,3.8077465425985086,5.335397265658835,1.7512743002284223,2.83666654992906,2.5809449366560124,5.914183305017641,2.1422546136662164,4.610180924722461,3.7825765605469512,1.8490443259859497,3.602953453425871,4.229642408526249,3.9174979740358036,3.2164674664196213,3.259900297499363,1.6156099845714953,2.8036834914232163,1.6225255952638267,2.9745921744296657,1.33462359851299,5.355562234427973,2.128140130133606,1.4483193292059608,1.7756456644978271]],\"type\":\"histogram\"},[0]],\"label\":\"01_mean_waiting_time\",\"method\":\"restyle\",\"visible\":true},{\"args\":[{\"x\":[[90.40678012663142,95.82260818833679,94.60817672536777,93.32999774815892,91.41969209997765,91.35969934972614,91.21523992785109,91.7437593995902,93.04958516317939,95.21577035894772,93.71958798652275,92.32383081734903,93.15276171639711,93.38690935752983,91.07515848945218,90.32719428744772,91.95204173773088,88.44347473808051,92.37355556571582,91.75793622883994,96.10720791584167,95.46963242991544,88.43205200459491,93.40348715710086,94.24541841130063,90.85076532205787,91.56844559044714,93.19741313443869,89.48500574511948,92.04041370572027,89.41269520255804,93.59022103914194,93.24718581038672,95.04941780452667,93.95709368118207,94.92808430836148,91.59936892158194,93.08210188453158,94.62830286698954,93.52531880157969,93.01820800308265,91.94223340587995,93.31947615682333,95.96029708475352,95.78944906334901,92.26271622007316,96.60899574299859,92.80994252001568,92.01629171947813,95.3839245379223,92.09466967167307,91.97956113116749,93.86685578497689,89.53952871398701,94.168306800713,94.81712240098845,96.38398177782476,91.91157067167592,91.12197801696206,92.2330222484935,94.41059222317645,95.82382264227826,97.99391231709694,93.29993251985486,89.03272601246398,93.39552053384112,97.69440540630197,92.8289942684024,94.6479833135426,91.3705517984219,96.43818825208176,94.64741519190926,92.75234099280088,97.00993196166017,97.16532744743517,90.99280693454548,96.27987507297145,96.85644702031169,91.67467311170289,92.18679383623576,93.05978287971296,97.90750674509083,93.06223748474245,94.42582567431738,92.96142214062839,91.44737018690495,91.37109621455967,93.80608657699091,93.38311781311978,94.45487785052143,94.28904943693388,90.31234280632367,91.60721249716127,88.72850563676829,92.09397133587119,89.15165072439282,97.68691403091316,92.89324742793322,92.18796831451051,89.94525373715932]],\"type\":\"histogram\"},[0]],\"label\":\"02_operator_util\",\"method\":\"restyle\",\"visible\":true},{\"args\":[{\"x\":[[48.05886905713281,67.0344790731804,47.87605433780843,45.46445600156908,61.03477599893226,27.365541062848077,38.90720093081043,28.378594204660576,47.62271206779177,48.65002389060903,35.865937775145916,51.74130037515847,93.41594751631541,59.034332511314126,38.86617390133053,17.775728753570952,35.74630288715518,20.914179915923413,63.13661271217918,43.54379662924324,78.0008009996174,44.48269840405883,30.258458489535336,57.24207407765631,67.50864247902331,50.21273288126606,58.854679068307796,67.3520429126094,12.871116760994287,45.8033063321579,20.68342941463525,47.37618859651913,60.83334943786073,65.43115068143476,30.95755836339536,57.58822597652768,21.06506583105085,45.8982085773388,30.14268043168348,78.86579021344386,48.25160055271726,52.002768206842035,63.35748202151689,70.31444691744164,48.9117231789301,25.62447521191712,67.00338575309945,38.267638325797975,42.07278796582088,46.69744678282621,45.574872853861244,38.69643880270576,46.31753341569593,58.45428897351184,65.09107066198871,84.04095455822498,56.722410625131715,59.19788158967735,29.41533785414826,18.238858251805386,69.3846594242284,31.841416559181507,56.64830423303021,88.37882948471962,53.36850983291111,59.90862746201652,46.86314955843156,37.18927543665516,45.23099492344204,30.2150493910159,50.4715856354735,37.08575834367138,59.994914307389266,46.75406384538062,70.53043733761977,53.351464779270295,38.03335485320633,85.00385333845338,44.03459182142214,52.04360715990806,55.14239340338385,73.66106647413024,26.358529882107092,47.76816742383162,61.31178747516462,38.82216152075354,40.76301705139015,55.79312739701951,40.23969250397955,37.568541170341035,59.745506845999884,70.44335814376171,60.697004080356116,33.480565652627874,37.9105984639901,25.72758811924044,60.8147061039235,43.59601362552297,28.6562445353299,45.73852073516163]],\"type\":\"histogram\"},[0]],\"label\":\"03_mean_nurse_waiting_time\",\"method\":\"restyle\",\"visible\":true},{\"args\":[{\"x\":[[97.27126194099131,96.95755423038189,97.35594694424867,97.58275589048452,96.38319379803863,95.97623649322185,97.22041083444526,96.17832153354841,96.5149286366414,97.55564329045554,96.64341007509644,97.27055954062243,97.59953884137131,98.14464047641852,96.02472198098567,96.24457128095236,97.79821408502117,97.05801644784054,97.13908302629352,95.66782242294471,97.50958667182516,97.17546134256287,97.21790356126144,98.16148016838568,97.52948740048602,97.5710763204437,97.82853989849393,97.12848908310805,94.52656640783991,97.32408285188832,95.6339841433762,98.01605129242026,97.7814434924691,97.86816771708784,97.67985090699945,97.67957383196358,97.30604731349631,97.15121418179959,97.58402963680754,97.63694126325413,97.26161714787409,98.19454642240267,97.3050002105874,97.66590384916053,96.98843426869564,96.32740670541034,96.8280750599256,98.23279965975144,98.13354133597625,97.45237783647543,98.4413462760192,96.96425215678256,97.83366067333387,97.81220091338861,98.02059580560264,97.52457445301037,96.0899762798773,97.76891043638123,95.14297899297507,96.46722198997502,98.2558898043782,97.8319162159422,97.63139110409027,97.58206737071843,96.81589329439092,97.29760392950058,97.5979659568043,95.81035292133598,98.28655931085969,96.70477861986872,98.13919685763818,97.38031570922837,97.51928846377733,97.22506802917762,97.71784405010911,97.75243870166142,98.04944749645091,98.00908892201473,96.61976041731579,96.60280727922738,98.0380864194245,97.10233916561808,95.64183304009993,95.84695431119367,96.4729770871862,97.20302698487342,96.46619876378556,97.41182819445318,97.1555510424398,97.10015095088282,97.70010769119271,97.04201803756321,97.48204874980858,97.03900568031642,98.11383857265268,94.92464932671982,97.51995172597742,97.7985739951764,97.17498996233428,96.6705851535251]],\"type\":\"histogram\"},[0]],\"label\":\"04_nurse_util\",\"method\":\"restyle\",\"visible\":true}],\"direction\":\"down\",\"showactive\":true,\"x\":0.25,\"xanchor\":\"right\",\"y\":1.1,\"yanchor\":\"bottom\"}],\"annotations\":[{\"align\":\"left\",\"showarrow\":false,\"text\":\"Performance measure\",\"x\":0,\"xref\":\"paper\",\"y\":1.25,\"yref\":\"paper\"}]},                        {\"responsive\": true}                    ).then(function(){\n",
       "                            \n",
       "var gd = document.getElementById('4e4e9169-41c5-48f0-81ee-5eb40b6b9394');\n",
       "var x = new MutationObserver(function (mutations, observer) {{\n",
       "        var display = window.getComputedStyle(gd).display;\n",
       "        if (!display || display === 'none') {{\n",
       "            console.log([gd, 'removed!']);\n",
       "            Plotly.purge(gd);\n",
       "            observer.disconnect();\n",
       "        }}\n",
       "}});\n",
       "\n",
       "// Listen for the removal of the full notebook cells\n",
       "var notebookContainer = gd.closest('#notebook-container');\n",
       "if (notebookContainer) {{\n",
       "    x.observe(notebookContainer, {childList: true});\n",
       "}}\n",
       "\n",
       "// Listen for the clearing of the current output cell\n",
       "var outputEl = gd.closest('.output');\n",
       "if (outputEl) {{\n",
       "    x.observe(outputEl, {childList: true});\n",
       "}}\n",
       "\n",
       "                        })                };                });            </script>        </div>"
      ]
     },
     "metadata": {},
     "output_type": "display_data"
    }
   ],
   "source": [
    "create_user_filtered_hist(results)"
   ]
  },
  {
   "cell_type": "markdown",
   "id": "f5703ddc-9294-46d8-b62b-1a1e8a2a921c",
   "metadata": {},
   "source": [
    "The listing below is a new module called `app_with_filter.py`. It updates our histogram code to allowing filtering of results.  Underneath is a screenshot of the new web app.\n",
    "\n",
    "```python\n",
    "\"\"\"\n",
    "The code in this streamlit script adds in a plotly \n",
    "chart to display a histogram of replications. The results shown in the \n",
    "histogram can be selected by the user.\n",
    "\"\"\"\n",
    "import streamlit as st\n",
    "\n",
    "#################################################################################\n",
    "# MODIFICATION: import graph_objects instead of plotly.express\n",
    "import plotly.graph_objects as go\n",
    "#################################################################################\n",
    "from model import Experiment, multiple_replications\n",
    "\n",
    "INTRO_FILE = './resources/model_info.md'\n",
    "\n",
    "def read_file_contents(file_name):\n",
    "    ''''\n",
    "    Read the contents of a file.\n",
    "\n",
    "    Params:\n",
    "    ------\n",
    "    file_name: str\n",
    "        Path to file.\n",
    "\n",
    "    Returns:\n",
    "    -------\n",
    "    str\n",
    "    '''\n",
    "    with open(file_name) as f:\n",
    "        return f.read()\n",
    "    \n",
    "\n",
    "###################################################################################\n",
    "# MODIFICATION: user filtered chart\n",
    "def create_user_filtered_hist(results):\n",
    "    '''\n",
    "    Create a plotly histogram that includes a drop down list that allows a user\n",
    "    to select which KPI is displayed as a histogram\n",
    "    \n",
    "    Params:\n",
    "    -------\n",
    "    results: pd.Dataframe\n",
    "        rows = replications, cols = KPIs\n",
    "        \n",
    "    Returns:\n",
    "    -------\n",
    "    plotly.figure\n",
    "    \n",
    "    Sources:\n",
    "    ------\n",
    "    The code in this function was parly adapted from two sources:\n",
    "    1. https://stackoverflow.com/questions/59406167/plotly-how-to-filter-a-pandas-dataframe-using-a-dropdown-menu\n",
    "    \n",
    "    Thanks and credit to `vestland` the author of the reponse.\n",
    "    \n",
    "    2. https://plotly.com/python/dropdowns/\n",
    "    '''\n",
    "    # create a figure\n",
    "    fig = go.Figure()\n",
    "\n",
    "    # set up a trace\n",
    "    fig.add_trace(go.Histogram(x=results[results.columns[0]]))\n",
    "\n",
    "    buttons = []\n",
    "\n",
    "    # create list of drop down items - KPIs\n",
    "    # the params in the code would need to vary depending on the type of chart.\n",
    "    # The histogram will show the first KPI by default\n",
    "    for col in results.columns:\n",
    "        buttons.append(dict(method='restyle',\n",
    "                            label=col,\n",
    "                            visible=True,\n",
    "                            args=[{'x':[results[col]],\n",
    "                                   'type':'histogram'}, [0]],\n",
    "                            )\n",
    "                      )\n",
    "\n",
    "    # create update menu and parameters\n",
    "    updatemenu = []\n",
    "    your_menu = dict()\n",
    "    updatemenu.append(your_menu)\n",
    "\n",
    "    updatemenu[0]['buttons'] = buttons\n",
    "    updatemenu[0]['direction'] = 'down'\n",
    "    updatemenu[0]['showactive'] = True\n",
    "    updatemenu[0]['x'] = 0.25\n",
    "    updatemenu[0]['y'] = 1.1\n",
    "    updatemenu[0]['xanchor'] = 'right'\n",
    "    updatemenu[0]['yanchor'] = 'bottom'\n",
    "    #updatemenu[0]['pad'] = {\"r\": 10, \"t\": 10}\n",
    "    \n",
    "    \n",
    "    \n",
    "    # add dropdown menus to the figure\n",
    "    fig.update_layout(showlegend=False, \n",
    "                      updatemenus=updatemenu)\n",
    "    \n",
    "    \n",
    "    # add label for selecting performance measure\n",
    "    fig.update_layout(\n",
    "    annotations=[\n",
    "        dict(text=\"Performance measure\", x=0, xref=\"paper\", y=1.25, \n",
    "             yref=\"paper\", align=\"left\", showarrow=False)\n",
    "    ])\n",
    "    return fig\n",
    "##################################################################################\n",
    "\n",
    "\n",
    "#  update to wide page settings to help display results side by side\n",
    "st.set_page_config(\n",
    "     page_title=\"Urgent Care Sim App\",\n",
    "     layout=\"wide\",\n",
    "     initial_sidebar_state=\"expanded\",\n",
    " )\n",
    "\n",
    "# We add in a title for our web app's page\n",
    "st.title(\"Urgent care call centre\")\n",
    "\n",
    "# show the introductory markdown\n",
    "st.markdown(read_file_contents(INTRO_FILE))\n",
    "\n",
    "# side bar\n",
    "with st.sidebar:\n",
    "\n",
    "    # set number of resources\n",
    "    n_operators = st.slider('Call operators', 1, 20, 13, step=1)\n",
    "    n_nurses = st.slider('Nurses', 1, 15, 9, step=1)\n",
    "\n",
    "    # set chance of nurse\n",
    "    chance_callback = st.slider('Chance of nurse callback', 0.1, 1.0, 0.4,\n",
    "                                step=0.05, help='Set the chance of a call back')\n",
    "\n",
    "    # set number of replications\n",
    "    n_reps = st.number_input(\"No. of replications\", 100, 1_000, step=1)\n",
    "\n",
    "# create experiment\n",
    "exp = Experiment(n_operators=n_operators, n_nurses=n_nurses,\n",
    "                 chance_callback=chance_callback)\n",
    "\n",
    "# A user must press a streamlit button to run the model\n",
    "if st.button(\"Run simulation\"):\n",
    "\n",
    "    #  add a spinner and then display success box\n",
    "    with st.spinner('Simulating the urgent care system...'):\n",
    "        # run multiple replications of experment\n",
    "        results = multiple_replications(exp, n_reps=n_reps)\n",
    "    \n",
    "    st.success('Done!')\n",
    "\n",
    "    col1, col2 = st.columns(2)\n",
    "    with col1.expander('Tabular results', expanded=True):\n",
    "        # show tabular results\n",
    "        st.dataframe(results.describe())\n",
    "\n",
    "    with col2.expander('Histogram', expanded=True):\n",
    "    \n",
    "        # #########################################################################\n",
    "        # MODIFICATION: call updated plotly function\n",
    "        fig = create_user_filtered_hist(results)\n",
    "        ###########################################################################\n",
    "     \n",
    "        st.plotly_chart(fig, use_container_width=True)\n",
    "\n",
    "```"
   ]
  },
  {
   "cell_type": "markdown",
   "id": "7b4c69c4-1550-4ae6-a242-0b8c649b4526",
   "metadata": {},
   "source": [
    "![image](../../imgs/app_with_filter.png)"
   ]
  }
 ],
 "metadata": {
  "kernelspec": {
   "display_name": "Python 3 (ipykernel)",
   "language": "python",
   "name": "python3"
  },
  "language_info": {
   "codemirror_mode": {
    "name": "ipython",
    "version": 3
   },
   "file_extension": ".py",
   "mimetype": "text/x-python",
   "name": "python",
   "nbconvert_exporter": "python",
   "pygments_lexer": "ipython3",
   "version": "3.9.16"
  }
 },
 "nbformat": 4,
 "nbformat_minor": 5
}

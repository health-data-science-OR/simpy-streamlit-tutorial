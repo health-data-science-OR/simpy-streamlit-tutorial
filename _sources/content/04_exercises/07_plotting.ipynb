{
 "cells": [
  {
   "cell_type": "markdown",
   "id": "db0ad407-1b93-49ea-bab3-712079c6bd4e",
   "metadata": {},
   "source": [
    "# Adding a plot\n",
    "\n",
    "In this exercise we will again return to the treatment centre model.  We will enhance the app by adding in a simple plot."
   ]
  },
  {
   "cell_type": "markdown",
   "id": "0f8432dc-2624-4c55-b578-4d9fd74e28be",
   "metadata": {},
   "source": [
    "# Imports"
   ]
  },
  {
   "cell_type": "code",
   "execution_count": 8,
   "id": "cf14bc33-1a45-43bc-9188-b7dc20916a4a",
   "metadata": {},
   "outputs": [],
   "source": [
    "import plotly.express as px\n",
    "\n",
    "from treat_sim.model import Scenario, multiple_replications"
   ]
  },
  {
   "cell_type": "markdown",
   "id": "c6b58460-829b-4802-9979-1284fa7a6a37",
   "metadata": {},
   "source": [
    "## Exercise 1\n",
    "\n",
    "Create a new python file called `app_with_plot.py` and copy as paste in the code from `app_with_sidebar.py` shown below\n",
    "\n",
    "```python\n",
    "'''\n",
    "Script to complete a basic run of the model and display a table of\n",
    "results in a streamlit app.\n",
    "\n",
    "The model is imported from a pypi package 'treat_sim'\n",
    "\n",
    "Full documentation and source code for `treat_sim` is available as \n",
    "* Jupyter Book: https://tommonks.github.io/treatment-centre-sim/\n",
    "* github: https://github.com/TomMonks/treatment-centre-sim\n",
    "\n",
    "A conda environment has been provided locally,but the model can be pip installed\n",
    "`pip install treat_sim==1.0.0`\n",
    "'''\n",
    "from treat_sim.model import Scenario, multiple_replications\n",
    "import streamlit as st\n",
    "\n",
    "INTRO_FILE = 'resources/overview.md'\n",
    "\n",
    "def read_file_contents(file_name):\n",
    "    ''''\n",
    "    Read the contents of a file.\n",
    "\n",
    "    Params:\n",
    "    ------\n",
    "    file_name: str\n",
    "        Path to file.\n",
    "\n",
    "    Returns:\n",
    "    -------\n",
    "    str\n",
    "    '''\n",
    "    with open(file_name) as f:\n",
    "        return f.read()\n",
    "\n",
    "# give the page a title\n",
    "st.title('Treatment Centre Simulation Model')\n",
    "\n",
    "# show the introductory markdown\n",
    "st.markdown(read_file_contents(INTRO_FILE))\n",
    "\n",
    "################################################################################\n",
    "# MODIFICATION: create a sidebar for sliders\n",
    "with st.sidebar:\n",
    "    n_triage = st.slider('Triage bays', 1, 5, 1)\n",
    "    n_exam = st.slider('Exam rooms', 1, 5, 3)\n",
    "    n_cubicles_1 = st.slider('Non-Trauma Treatment cubicles', 1, 5, 1, \n",
    "                             help='Set the number of non trauma pathway '\n",
    "                             + 'treatment cubicles')\n",
    "\n",
    "    # examination mean\n",
    "    exam_mean = st.slider('Mean examination time', 10.0, 45.0, \n",
    "                           16.0, 1.0)\n",
    "\n",
    "    # runs\n",
    "    replications = st.slider('No. replications', 1, 50, 10)\n",
    "################################################################################\n",
    "\n",
    "# Setup scenario using supplied variables\n",
    "args = Scenario(n_triage=n_triage, n_exam=n_exam, n_cubicles_1=n_cubicles_1,\n",
    "                exam_mean=exam_mean)\n",
    "\n",
    "# Only execute model if a streamlit button is pressed.\n",
    "if st.button('Simulate treatment centre'):\n",
    "\n",
    "    # in this example run a single replication of the model.\n",
    "    with st.spinner('Simulating the treatment centre...'):\n",
    "        results = multiple_replications(args, n_reps=replications)\n",
    "\n",
    "    st.success('Done!')\n",
    "\n",
    "    # display results using st.table (or st.dataframe)\n",
    "    st.table(results.mean().round(1))\n",
    "\n",
    "```"
   ]
  },
  {
   "cell_type": "markdown",
   "id": "535f0d9c-84dc-4587-96eb-f7c5fadb215f",
   "metadata": {},
   "source": [
    "## Exercise 2\n",
    "\n",
    "The code below creates a`pandas.DataFrame` called `results` in the same format as code in the `app_with_plot.py`.\n",
    "\n",
    "Each row in the `DataFrame` is a replication and each column is a performance measure.  You can quickly run the code and view the format.\n",
    "\n",
    "**Task:**\n",
    "\n",
    "* Create a function called `create_hist()`. The function should accept `results` and create a histogram of the results of a performance measure of your choice.  For example, `03a_examination_wait`. \n",
    "* The function should return a `plotly` figure object to the calling code. It is recommended you use the `fig` naming convention.\n",
    "* Include a violin plot above the histogram using plotly express.\n",
    "\n",
    "**Hints**:\n",
    "* It is recommended that you complete this exercise in the Jupyter notebook before modifying `app_with_plot.py`\n",
    "* At the top of this notebook we have imported `plotly.express`\n",
    "* To have a useful histogram you may want to run more than 10 replications. e.g. 50 to 100.\n",
    "* Jupyter notebooks will render the histogram with calling `fig.show()`, just leave the last line of code in a cell as `fig`.  In a python module you will need to call `fig.show()`"
   ]
  },
  {
   "cell_type": "code",
   "execution_count": 12,
   "id": "2de7b589-6773-47c3-90d5-782d159d4589",
   "metadata": {},
   "outputs": [
    {
     "name": "stdout",
     "output_type": "stream",
     "text": [
      "<class 'pandas.core.frame.DataFrame'>\n",
      "Int64Index: 50 entries, 1 to 50\n",
      "Data columns (total 16 columns):\n",
      " #   Column                          Non-Null Count  Dtype  \n",
      "---  ------                          --------------  -----  \n",
      " 0   00_arrivals                     50 non-null     float64\n",
      " 1   01a_triage_wait                 50 non-null     float64\n",
      " 2   01b_triage_util                 50 non-null     float64\n",
      " 3   02a_registration_wait           50 non-null     float64\n",
      " 4   02b_registration_util           50 non-null     float64\n",
      " 5   03a_examination_wait            50 non-null     float64\n",
      " 6   03b_examination_util            50 non-null     float64\n",
      " 7   04a_treatment_wait(non_trauma)  50 non-null     float64\n",
      " 8   04b_treatment_util(non_trauma)  50 non-null     float64\n",
      " 9   05_total_time(non-trauma)       50 non-null     float64\n",
      " 10  06a_trauma_wait                 50 non-null     float64\n",
      " 11  06b_trauma_util                 50 non-null     float64\n",
      " 12  07a_treatment_wait(trauma)      50 non-null     float64\n",
      " 13  07b_treatment_util(trauma)      50 non-null     float64\n",
      " 14  08_total_time(trauma)           50 non-null     float64\n",
      " 15  09_throughput                   50 non-null     float64\n",
      "dtypes: float64(16)\n",
      "memory usage: 6.6 KB\n"
     ]
    }
   ],
   "source": [
    "default_scenario = Scenario()\n",
    "results = multiple_replications(default_scenario, n_reps=50)\n",
    "results.info()"
   ]
  },
  {
   "cell_type": "code",
   "execution_count": null,
   "id": "7e65e7e1-7fa2-4b2d-9789-8c101546caea",
   "metadata": {},
   "outputs": [],
   "source": [
    "# your code here ..."
   ]
  },
  {
   "cell_type": "markdown",
   "id": "d895dafe-578a-4706-9d76-1e211d378e64",
   "metadata": {},
   "source": [
    "## Exercise 3:\n",
    "\n",
    "Modify `app_with_plot.py` to use `create_hist()` and display histogram of your chosen KPI to a user.\n",
    "\n",
    "**Hints:**\n",
    "\n",
    "* Don't forget to import `plotly.express`\n"
   ]
  },
  {
   "cell_type": "code",
   "execution_count": null,
   "id": "96138f06-eaa8-402b-b2a5-5de0c1c3ca97",
   "metadata": {},
   "outputs": [],
   "source": [
    "# your code here ..."
   ]
  }
 ],
 "metadata": {
  "kernelspec": {
   "display_name": "Python 3 (ipykernel)",
   "language": "python",
   "name": "python3"
  },
  "language_info": {
   "codemirror_mode": {
    "name": "ipython",
    "version": 3
   },
   "file_extension": ".py",
   "mimetype": "text/x-python",
   "name": "python",
   "nbconvert_exporter": "python",
   "pygments_lexer": "ipython3",
   "version": "3.9.16"
  }
 },
 "nbformat": 4,
 "nbformat_minor": 5
}

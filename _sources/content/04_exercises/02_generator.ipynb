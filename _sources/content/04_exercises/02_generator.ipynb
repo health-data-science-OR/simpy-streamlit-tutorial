{
 "cells": [
  {
   "cell_type": "markdown",
   "id": "f2147e34-ce39-4d8c-a7db-e8acec2b63e0",
   "metadata": {},
   "source": [
    "# Generator exercise\n",
    "\n",
    "To see the solutions please see the [generator exercise solutions notebook](../05_solutions/02_generator.ipynb)\n"
   ]
  },
  {
   "cell_type": "markdown",
   "id": "c034caf3-6766-4c69-af8f-949f45283b37",
   "metadata": {},
   "source": [
    "## Imports"
   ]
  },
  {
   "cell_type": "code",
   "execution_count": null,
   "id": "85fd4a85-bb77-498c-96ee-c14de89994a2",
   "metadata": {},
   "outputs": [],
   "source": [
    "import simpy\n",
    "import numpy as np"
   ]
  },
  {
   "cell_type": "markdown",
   "id": "bfab7f97-9cad-419a-8d75-a2ba190edee8",
   "metadata": {},
   "source": [
    "## Example code\n",
    "\n",
    "The code below is taken from the simple pharmacy example.  In this code arrivals occur with an IAT of exactly 5 minutes."
   ]
  },
  {
   "cell_type": "code",
   "execution_count": null,
   "id": "ee2439f2-0d35-41fd-a5e2-4b95954dd5c5",
   "metadata": {},
   "outputs": [],
   "source": [
    "def prescription_arrival_generator(env):\n",
    "    '''\n",
    "    Prescriptions arrive with a fixed duration of\n",
    "    5 minutes.\n",
    "\n",
    "    Parameters:\n",
    "    ------\n",
    "    env: simpy.Environment\n",
    "    '''\n",
    "    \n",
    "    # don't worry about the infinite while loop, simpy will\n",
    "    # exit at the correct time.\n",
    "    while True:\n",
    "        \n",
    "        # sample an inter-arrival time.\n",
    "        inter_arrival_time = 5.0\n",
    "        \n",
    "        # we use the yield keyword instead of return\n",
    "        yield env.timeout(inter_arrival_time)\n",
    "        \n",
    "        # print out the time of the arrival\n",
    "        print(f'Prescription arrives at: {env.now}')"
   ]
  },
  {
   "cell_type": "code",
   "execution_count": null,
   "id": "40c495d5-6f55-4c93-99e3-5bfa6cdff36d",
   "metadata": {},
   "outputs": [],
   "source": [
    "# model parameters\n",
    "RUN_LENGTH = 25\n",
    "\n",
    "# create the simpy environment object\n",
    "env = simpy.Environment()\n",
    "\n",
    "# tell simpy that the `prescription_arrival_generator` is a process\n",
    "env.process(prescription_arrival_generator(env))\n",
    "\n",
    "# run the simulation model\n",
    "env.run(until=RUN_LENGTH)\n",
    "print(f'end of run. simulation clock time = {env.now}')"
   ]
  },
  {
   "cell_type": "markdown",
   "id": "6b1bd501-1614-4891-a876-d07bd40c0496",
   "metadata": {},
   "source": [
    "### Exercise: modelling a poisson arrival process for prescriptions\n",
    "\n",
    "**Task:**\n",
    "\n",
    "* Update `prescription_arrival_generator()` so that inter-arrival times follow an exponential distribution with a mean of 5.0 minutes between arrivals.\n",
    "* Use a run length of 25 minutes.\n",
    "\n",
    "> **Bonus**: try this initially **without** setting a random seed.  Then update the method choosing an approach to control random sampling."
   ]
  },
  {
   "cell_type": "code",
   "execution_count": null,
   "id": "65823eff-8d0f-4eaf-a531-173c8ab6290c",
   "metadata": {},
   "outputs": [],
   "source": [
    "# your code here."
   ]
  }
 ],
 "metadata": {
  "kernelspec": {
   "display_name": "Python 3 (ipykernel)",
   "language": "python",
   "name": "python3"
  },
  "language_info": {
   "codemirror_mode": {
    "name": "ipython",
    "version": 3
   },
   "file_extension": ".py",
   "mimetype": "text/x-python",
   "name": "python",
   "nbconvert_exporter": "python",
   "pygments_lexer": "ipython3",
   "version": "3.9.16"
  }
 },
 "nbformat": 4,
 "nbformat_minor": 5
}

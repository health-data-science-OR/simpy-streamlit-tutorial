{
 "cells": [
  {
   "cell_type": "markdown",
   "id": "415a5a10-1110-4ee5-aa48-b01680a423b9",
   "metadata": {},
   "source": [
    "# A full model\n",
    "\n",
    "We will now build a full `simpy` process model.  In this example we will build a 111 call centre queuing model.  We will include random arrivals and resources.  We will keep this simple, and gradually add in detail and flexibility to our design."
   ]
  },
  {
   "cell_type": "markdown",
   "id": "21b7aade-0ead-4203-adc9-8f22b90f4b93",
   "metadata": {},
   "source": [
    "## 1. Imports"
   ]
  },
  {
   "cell_type": "code",
   "execution_count": 1,
   "id": "56227fa4-b69e-4760-bb5b-2982a804bca6",
   "metadata": {},
   "outputs": [],
   "source": [
    "import simpy\n",
    "import numpy as np\n",
    "import pandas as pd\n",
    "import matplotlib.pyplot as plt\n",
    "import itertools\n",
    "import math"
   ]
  },
  {
   "cell_type": "markdown",
   "id": "52ca88d4-14e2-4650-b7ac-20b81e1e7f40",
   "metadata": {},
   "source": [
    "## 2. Problem background\n",
    "\n",
    "Call operators in an 111 (urgent care) service receive calls at a rate of 100 per hour. Call length can be represented by a triangular distribution.  Calls last between 5 minutes and 15 minutes. Most calls last 7 minutes. There are 13 call operators.  \n",
    "\n",
    "> We will build a `simpy` model of the process."
   ]
  },
  {
   "cell_type": "markdown",
   "id": "78d33d8d-1640-493d-b959-36c1f2af0ca9",
   "metadata": {},
   "source": [
    "## 3. `simpy` resources\n",
    "\n",
    "To model the call centre we need to introduce a **resource**.  If a resource is not available then a process will pause.  We create a resource as follows:\n",
    "\n",
    "```python\n",
    "operators = simpy.Resource(env, capacity=20)\n",
    "```\n",
    "\n",
    "When we want to request a resource in our process we create a with block as follows:\n",
    "\n",
    "```python\n",
    "with operators.request() as req:\n",
    "    yield req\n",
    "```\n",
    "\n",
    "This tells simpy that your process needs an operator resource to progress.  The code will pause until a resource is yielded. This gives us our queuing effect.  If a resource is not available immediately then the process will wait until one becomes available.  We will practice this a lot in the course so do not worry if this does not make sense immediately."
   ]
  },
  {
   "cell_type": "markdown",
   "id": "43c7fc53-7a02-44b7-9a41-0e454bcdc328",
   "metadata": {},
   "source": [
    "## 4. The service function.\n",
    "\n",
    "We will first build the service function. We need to do this because our arrival/generator function will be required to call it.\n",
    "\n",
    "We need to include the following logic:\n",
    "\n",
    "1. Request and if necessary wait for a call operator\n",
    "2. Undergo phone triage (a delay). This is a sample from the Triangular distribution.\n",
    "3. Exit the system.\n",
    "\n",
    "We will build this as a simple python function that we will call `service`.  Each patient caller that arrives to the simulation will execute service as a `simpy` process.  We will pass a unique patient identifier, a pool of operator resources and the environment to the function."
   ]
  },
  {
   "cell_type": "code",
   "execution_count": 2,
   "id": "25279edf-dc3b-4f72-95af-e9ea7cedac57",
   "metadata": {},
   "outputs": [],
   "source": [
    "def service(identifier, operators, env):\n",
    "    '''\n",
    "    simulates the service process for a call operator\n",
    "\n",
    "    1. request and wait for a call operator\n",
    "    2. phone triage (triangular)\n",
    "    3. exit system\n",
    "    \n",
    "    Params:\n",
    "    ------\n",
    "    \n",
    "    identifier: int \n",
    "        A unique identifer for this caller\n",
    "        \n",
    "    operators: simpy.Resource\n",
    "        The pool of call operators that answer calls\n",
    "        These are shared across resources.\n",
    "        \n",
    "    env: simpy.Environment\n",
    "        The current environent the simulation is running in\n",
    "        We use this to pause and restart the process after a delay.\n",
    "    \n",
    "    '''\n",
    "    # record the time that call entered the queue\n",
    "    start_wait = env.now\n",
    "\n",
    "    # request an operator\n",
    "    with operators.request() as req:\n",
    "        yield req\n",
    "\n",
    "        # record the waiting time for call to be answered\n",
    "        waiting_time = env.now - start_wait\n",
    "        print(f'operator answered call {identifier} at ' \\\n",
    "              + f'{env.now:.3f}')\n",
    "\n",
    "        # sample call duration.\n",
    "        call_duration = np.random.triangular(left=0.01, mode=0.12,\n",
    "                                             right=0.16)\n",
    "        \n",
    "        # schedule process to begin again after call_duration\n",
    "        yield env.timeout(call_duration)\n",
    "\n",
    "        # print out information for patient.\n",
    "        print(f'call {identifier} ended {env.now:.3f}; ' \\\n",
    "              + f'waiting time was {waiting_time:.3f}')"
   ]
  },
  {
   "cell_type": "markdown",
   "id": "ca62c3c9-de40-40ca-8971-3b5846e4d57c",
   "metadata": {},
   "source": [
    "## 5. The generator function.\n",
    "\n",
    "The generator function is very similar to the pharamacy example.  In fact you can just cut, paste and modify."
   ]
  },
  {
   "cell_type": "code",
   "execution_count": 3,
   "id": "1e28c3bc-4d8f-48a4-ad71-db303e29ea73",
   "metadata": {},
   "outputs": [],
   "source": [
    "def arrivals_generator(env, operators):\n",
    "    '''\n",
    "    IAT is exponentially distributed\n",
    "\n",
    "    Parameters:\n",
    "    ------\n",
    "    env: simpy.Environment\n",
    "        The simpy environment for the simulation\n",
    "\n",
    "    operators: simpy.Resource\n",
    "        the pool of call operators.\n",
    "    '''\n",
    "\n",
    "    # use itertools as it provides an infinite loop \n",
    "    # with a counter variable that we can use for unique Ids\n",
    "    for caller_count in itertools.count(start=1):\n",
    "\n",
    "        # 100 calls per hour (units = hours). \n",
    "        # Time between calls is 1/100\n",
    "        inter_arrival_time = np.random.exponential(1/100)\n",
    "        yield env.timeout(inter_arrival_time)\n",
    "\n",
    "        print(f'call arrives at: {env.now:.3f}')\n",
    "\n",
    "        # create a new simpy process for this caller.\n",
    "        # we pass in the caller id, the operator reosources, and env.\n",
    "        env.process(service(caller_count, operators, env))"
   ]
  },
  {
   "cell_type": "markdown",
   "id": "12fe16cb-23f3-4223-99af-5c31b546c7af",
   "metadata": {},
   "source": [
    "## 6. Run the model"
   ]
  },
  {
   "cell_type": "code",
   "execution_count": 4,
   "id": "7f7ca57f-c672-46ca-9b77-85b0b08b04e7",
   "metadata": {},
   "outputs": [
    {
     "name": "stdout",
     "output_type": "stream",
     "text": [
      "call arrives at: 0.010\n",
      "operator answered call 1 at 0.010\n",
      "call arrives at: 0.020\n",
      "operator answered call 2 at 0.020\n",
      "call arrives at: 0.038\n",
      "operator answered call 3 at 0.038\n",
      "call arrives at: 0.045\n",
      "operator answered call 4 at 0.045\n",
      "call arrives at: 0.048\n",
      "operator answered call 5 at 0.048\n",
      "call arrives at: 0.063\n",
      "operator answered call 6 at 0.063\n",
      "call arrives at: 0.091\n",
      "operator answered call 7 at 0.091\n",
      "call arrives at: 0.105\n",
      "operator answered call 8 at 0.105\n",
      "call 5 ended 0.112; waiting time was 0.000\n",
      "call arrives at: 0.117\n",
      "operator answered call 9 at 0.117\n",
      "call 2 ended 0.120; waiting time was 0.000\n",
      "call arrives at: 0.131\n",
      "operator answered call 10 at 0.131\n",
      "call 4 ended 0.139; waiting time was 0.000\n",
      "call arrives at: 0.149\n",
      "operator answered call 11 at 0.149\n",
      "call 1 ended 0.156; waiting time was 0.000\n",
      "call arrives at: 0.160\n",
      "operator answered call 12 at 0.160\n",
      "call 6 ended 0.162; waiting time was 0.000\n",
      "call 3 ended 0.167; waiting time was 0.000\n",
      "call arrives at: 0.180\n",
      "operator answered call 13 at 0.180\n",
      "call arrives at: 0.187\n",
      "operator answered call 14 at 0.187\n",
      "call arrives at: 0.190\n",
      "operator answered call 15 at 0.190\n",
      "call 9 ended 0.205; waiting time was 0.000\n",
      "call 15 ended 0.205; waiting time was 0.000\n",
      "call 7 ended 0.217; waiting time was 0.000\n",
      "call 8 ended 0.221; waiting time was 0.000\n",
      "call arrives at: 0.246\n",
      "operator answered call 16 at 0.246\n",
      "call arrives at: 0.249\n",
      "operator answered call 17 at 0.249\n",
      "call arrives at: 0.250\n",
      "operator answered call 18 at 0.250\n",
      "end of run. simulation clock time = 0.25\n"
     ]
    }
   ],
   "source": [
    "# model parameters\n",
    "RUN_LENGTH = 0.25\n",
    "N_OPERATORS = 13\n",
    "\n",
    "# create simpy environment and operator resources\n",
    "env = simpy.Environment()\n",
    "operators = simpy.Resource(env, capacity=N_OPERATORS)\n",
    "\n",
    "env.process(arrivals_generator(env, operators))\n",
    "env.run(until=RUN_LENGTH)\n",
    "print(f'end of run. simulation clock time = {env.now}')"
   ]
  }
 ],
 "metadata": {
  "kernelspec": {
   "display_name": "Python 3 (ipykernel)",
   "language": "python",
   "name": "python3"
  },
  "language_info": {
   "codemirror_mode": {
    "name": "ipython",
    "version": 3
   },
   "file_extension": ".py",
   "mimetype": "text/x-python",
   "name": "python",
   "nbconvert_exporter": "python",
   "pygments_lexer": "ipython3",
   "version": "3.9.16"
  }
 },
 "nbformat": 4,
 "nbformat_minor": 5
}

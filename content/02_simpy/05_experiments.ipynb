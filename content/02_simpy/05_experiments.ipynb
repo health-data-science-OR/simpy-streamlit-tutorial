{
 "cells": [
  {
   "cell_type": "markdown",
   "id": "de4dd3cf-09d1-45b9-b8fc-784edf3b0819",
   "metadata": {},
   "source": [
    "# Experiments\n",
    "\n",
    "A key part of any computer simulation study is experimentation.  Here are set of experiments will be conducted in an attempt to understand and find improvements to the system under study.  Experiments essentially vary inputs and process logic.\n",
    "\n",
    "We can do this manually, but as we develop a model the number of input parameters will increase. \n",
    "\n",
    "There are several ways you might handle lots of parameters.\n",
    "\n",
    "* a python dictionary\n",
    "* a custom parameter class\n",
    "* a dataclass\n",
    "\n",
    "All of these approaches work well and it really is a matter of judgement on what you prefer. One downside of a python `dict` and a custom class is that they are both mutable (although a class can have custom properties where users can only 'viewable' attributes).  A dataclass can easily be made immutable and requires less code than a custom class, but has the downside that its syntax is a little less pythonic. Here we will build a parameter class called `Experiment`.  "
   ]
  },
  {
   "cell_type": "markdown",
   "id": "57369b8c-451d-4d27-8ee0-c98d44d4e4e2",
   "metadata": {},
   "source": [
    "## 1. Imports"
   ]
  },
  {
   "cell_type": "code",
   "execution_count": 1,
   "id": "09f761a3-c100-4dc8-a3c9-30a5cd101c0d",
   "metadata": {},
   "outputs": [],
   "source": [
    "import numpy as np\n",
    "import pandas as pd\n",
    "import simpy\n",
    "import itertools"
   ]
  },
  {
   "cell_type": "markdown",
   "id": "ef6d82e4-bbce-491f-a390-4e8ddc3b37c8",
   "metadata": {},
   "source": [
    "## 2. Notebook level variables, constants, and default values\n",
    "\n",
    "A useful first step when setting up a simulation model is to define the base case or as-is parameters.  Here we will create a set of constant/default values for our `Experiment` class, but you could also consider reading these in from a file."
   ]
  },
  {
   "cell_type": "code",
   "execution_count": 2,
   "id": "a3e7b498-8019-4d38-9192-c3d483361885",
   "metadata": {},
   "outputs": [],
   "source": [
    "# default resources\n",
    "N_OPERATORS = 13\n",
    "\n",
    "# default mean inter-arrival time (exp)\n",
    "MEAN_IAT = 60 / 100\n",
    "\n",
    "## default service time parameters (triangular)\n",
    "CALL_LOW = 5.0\n",
    "CALL_MODE = 7.0\n",
    "CALL_HIGH = 10.0\n",
    "\n",
    "# Seeds for arrival and service time distributions (for repeatable single run)\n",
    "ARRIVAL_SEED = 42\n",
    "CALL_SEED = 101\n",
    "\n",
    "# Boolean switch to simulation results as the model runs\n",
    "TRACE = False\n",
    "\n",
    "# run variables\n",
    "RESULTS_COLLECTION_PERIOD = 1000"
   ]
  },
  {
   "cell_type": "markdown",
   "id": "295089d7-b50a-4b57-bec6-66449ed42bf1",
   "metadata": {},
   "source": [
    "## 3. Distribution classes\n",
    "\n",
    "We will also define two distribution classes (`Triangular` and `Expeonential`) to encapsulate the random number generation, parameters and random seeds used in the sampling.  This simplifies what we will need to include in the `Experiment` class and as we will see later makes it easier to vary distributions as well as parameters."
   ]
  },
  {
   "cell_type": "code",
   "execution_count": 3,
   "id": "14e8f47f-e90d-40cd-b5fd-63e8975eba83",
   "metadata": {},
   "outputs": [],
   "source": [
    "class Triangular():\n",
    "    '''\n",
    "    Convenience class for the triangular distribution.\n",
    "    packages up distribution parameters, seed and random generator.\n",
    "    '''\n",
    "    def __init__(self, low, mode, high, random_seed=None):\n",
    "        '''\n",
    "        Constructor. Accepts and stores parameters of the triangular dist\n",
    "        and a random seed.\n",
    "        \n",
    "        Params:\n",
    "        ------\n",
    "        low: float\n",
    "            The smallest values that can be sampled\n",
    "            \n",
    "        mode: float\n",
    "            The most frequently sample value\n",
    "            \n",
    "        high: float\n",
    "            The highest value that can be sampled\n",
    "        \n",
    "        random_seed: int, optional (default=None)\n",
    "            Used with params to create a series of repeatable samples.\n",
    "        '''\n",
    "        self.rand = np.random.default_rng(seed=random_seed)\n",
    "        self.low = low\n",
    "        self.high = high\n",
    "        self.mode = mode\n",
    "        \n",
    "    def sample(self, size=None):\n",
    "        '''\n",
    "        Generate one or more samples from the triangular distribution\n",
    "        \n",
    "        Params:\n",
    "        --------\n",
    "        size: int\n",
    "            the number of samples to return.  If size=None then a single\n",
    "            sample is returned.\n",
    "            \n",
    "        Returns:\n",
    "        -------\n",
    "        float or np.ndarray (if size >=1)\n",
    "        '''\n",
    "        return self.rand.triangular(self.low, self.mode, self.high, size=size)"
   ]
  },
  {
   "cell_type": "code",
   "execution_count": 4,
   "id": "56dd64c1-adfa-417b-ad23-43a07672c7cd",
   "metadata": {},
   "outputs": [],
   "source": [
    "class Exponential():\n",
    "    '''\n",
    "    Convenience class for the exponential distribution.\n",
    "    packages up distribution parameters, seed and random generator.\n",
    "    '''\n",
    "    def __init__(self, mean, random_seed=None):\n",
    "        '''\n",
    "        Constructor\n",
    "        \n",
    "        Params:\n",
    "        ------\n",
    "        mean: float\n",
    "            The mean of the exponential distribution\n",
    "        \n",
    "        random_seed: int, optional (default=None)\n",
    "            A random seed to reproduce samples.  If set to none then a unique\n",
    "            sample is created.\n",
    "        '''\n",
    "        self.rand = np.random.default_rng(seed=random_seed)\n",
    "        self.mean = mean\n",
    "        \n",
    "    def sample(self, size=None):\n",
    "        '''\n",
    "        Generate a sample from the exponential distribution\n",
    "        \n",
    "        Params:\n",
    "        -------\n",
    "        size: int, optional (default=None)\n",
    "            the number of samples to return.  If size=None then a single\n",
    "            sample is returned.\n",
    "            \n",
    "        Returns:\n",
    "        -------\n",
    "        float or np.ndarray (if size >=1)\n",
    "        '''\n",
    "        return self.rand.exponential(self.mean, size=size)"
   ]
  },
  {
   "cell_type": "markdown",
   "id": "06006e22-28c3-4ae9-8a26-25fe4222e615",
   "metadata": {},
   "source": [
    "## 3. Experiment class\n",
    "\n",
    "An experiment class is useful because it allows use to easily configure and schedule a large number of experiments to occur in a loop.  We set the class up so that it uses the default variables we defined above i.e. as default the model reflects the as-is process.  To run a new experiment we simply override the default values.\n",
    "\n",
    "> One caveat that I recommend is to set any seeds you use to `None`.  This means that by default the experiment will produce different results each time."
   ]
  },
  {
   "cell_type": "code",
   "execution_count": 5,
   "id": "b5110385-e293-47c8-8038-e0ddfa3d6b10",
   "metadata": {},
   "outputs": [],
   "source": [
    "class Experiment:\n",
    "    '''\n",
    "    Parameter class for 111 simulation model\n",
    "    '''\n",
    "    def __init__(self, n_operators=N_OPERATORS, mean_iat=MEAN_IAT, \n",
    "                 call_low=CALL_LOW, call_mode=CALL_MODE, call_high=CALL_HIGH,\n",
    "                 arrival_seed=None, call_seed=None):\n",
    "        '''\n",
    "        The init method sets up our defaults. \n",
    "        '''\n",
    "        self.n_operators = n_operators\n",
    "        self.arrival_dist = Exponential(mean_iat, random_seed=arrival_seed)\n",
    "        self.call_dist = Triangular(call_low, call_mode, call_high, \n",
    "                                    random_seed=call_seed)\n",
    "        \n",
    "        # variables used to store results of experiment\n",
    "        # waiting times\n",
    "        self.waiting_times = []\n",
    "        \n",
    "        # total operator usage time for utilisation calculation.\n",
    "        self.total_call_duration = 0.0\n",
    "        \n",
    "        # resources: we must init resources inside of the arrivals process.  \n",
    "        # but we will store a placeholder for them for transparency\n",
    "        self.operators = None"
   ]
  },
  {
   "cell_type": "markdown",
   "id": "7e6174e5-2c13-4dac-9dfc-ac4be9c0ef31",
   "metadata": {},
   "source": [
    "### 3.1. Creating a default experiment"
   ]
  },
  {
   "cell_type": "markdown",
   "id": "c1871bb8-d1a2-4214-8042-ca3d48ebcbe2",
   "metadata": {},
   "source": [
    "To use `Experiment` is very simple.  For example to create a default scenario we would use the following code"
   ]
  },
  {
   "cell_type": "code",
   "execution_count": 6,
   "id": "cda27204-a567-4a83-9d21-aa63646c3a08",
   "metadata": {},
   "outputs": [],
   "source": [
    "env = simpy.Environment()\n",
    "default_scenario = Experiment()"
   ]
  },
  {
   "cell_type": "markdown",
   "id": "6b55903f-33d4-418f-8b5f-dca93fecbda1",
   "metadata": {},
   "source": [
    "Due to the way python works we can access all of the experiment variables from the `default_scenario` object. For example the following code will generate an inter-arrival time:"
   ]
  },
  {
   "cell_type": "code",
   "execution_count": 7,
   "id": "a5a90a1f-b6e2-42c2-8799-d56c37c5569d",
   "metadata": {},
   "outputs": [
    {
     "data": {
      "text/plain": [
       "0.8834930491675231"
      ]
     },
     "execution_count": 7,
     "metadata": {},
     "output_type": "execute_result"
    }
   ],
   "source": [
    "default_scenario.arrival_dist.sample()"
   ]
  },
  {
   "cell_type": "code",
   "execution_count": 8,
   "id": "0b88a91c-b502-41bb-a0f6-608db60afea6",
   "metadata": {},
   "outputs": [
    {
     "data": {
      "text/plain": [
       "13"
      ]
     },
     "execution_count": 8,
     "metadata": {},
     "output_type": "execute_result"
    }
   ],
   "source": [
    "default_scenario.n_operators"
   ]
  },
  {
   "cell_type": "markdown",
   "id": "50a6880b-4a78-470e-8edb-ff428d0df413",
   "metadata": {},
   "source": [
    "### 3.2 Creating an experiment with more call operators\n",
    "\n",
    "To change parameters in an experiment we just need to include a new value when we create the `Experiment`.  For example if we wanted to increase the number of servers to 14. We use the following code: "
   ]
  },
  {
   "cell_type": "code",
   "execution_count": 9,
   "id": "ba139ce8-1d5b-437e-a606-d40e9db88d7d",
   "metadata": {},
   "outputs": [],
   "source": [
    "env = simpy.Environment()\n",
    "extra_server = Experiment(n_operators=14)"
   ]
  },
  {
   "cell_type": "code",
   "execution_count": 10,
   "id": "b74b4b3d-32e5-4176-8549-6b0215aace9e",
   "metadata": {},
   "outputs": [
    {
     "data": {
      "text/plain": [
       "14"
      ]
     },
     "execution_count": 10,
     "metadata": {},
     "output_type": "execute_result"
    }
   ],
   "source": [
    "extra_server.n_operators"
   ]
  },
  {
   "cell_type": "markdown",
   "id": "33f7e4b8-46d1-4566-8307-2ad945455225",
   "metadata": {},
   "source": [
    "## 4. Modified model code\n",
    "\n",
    "We will modify the model code and logic that we have already developed.  The functions for service and arrivals will now accept an `Experiment` argument.\n",
    "\n",
    "> Note that at this point you could put all of the code into a python module and import the functions and classes you need into an experiment workbook."
   ]
  },
  {
   "cell_type": "code",
   "execution_count": 11,
   "id": "96c43528-2390-4006-aa31-ec5aa7d19ba9",
   "metadata": {},
   "outputs": [],
   "source": [
    "def trace(msg):\n",
    "    '''\n",
    "    Turing printing of events on and off.\n",
    "    \n",
    "    Params:\n",
    "    -------\n",
    "    msg: str\n",
    "        string to print to screen.\n",
    "    '''\n",
    "    if TRACE:\n",
    "        print(msg)"
   ]
  },
  {
   "cell_type": "code",
   "execution_count": 12,
   "id": "564db16d-b2b1-4e2f-b1f3-6ef4b42a59f7",
   "metadata": {},
   "outputs": [],
   "source": [
    "def service(identifier, args, env):\n",
    "    '''\n",
    "    simulates the service process for a call operator\n",
    "\n",
    "    1. request and wait for a call operator\n",
    "    2. phone triage (triangular)\n",
    "    3. exit system\n",
    "    \n",
    "    Params:\n",
    "    ------\n",
    "    \n",
    "    identifier: int \n",
    "        A unique identifer for this caller\n",
    "        \n",
    "    experiment: Experiment\n",
    "        The settings and input parameters for the current experiment\n",
    "        \n",
    "    env: simpy.Environment\n",
    "        The current environent the simulation is running in\n",
    "        We use this to pause and restart the process after a delay.\n",
    "    \n",
    "    '''\n",
    "    \n",
    "    # record the time that call entered the queue\n",
    "    start_wait = env.now\n",
    "    \n",
    "    # request an operator\n",
    "    with args.operators.request() as req:\n",
    "        yield req\n",
    "        \n",
    "        # record the waiting time for call to be answered\n",
    "        waiting_time = env.now - start_wait\n",
    "        \n",
    "        # MODIFICATION: store the results for an experiment \n",
    "        args.waiting_times.append(waiting_time)\n",
    "\n",
    "        trace(f'operator answered call {identifier} at ' \\\n",
    "              + f'{env.now:.3f}')\n",
    "\n",
    "        # MODIFICATION: the sample distribution is defined by the experiment.\n",
    "        call_duration = args.call_dist.sample()       \n",
    "        \n",
    "        # schedule process to begin again after call_duration\n",
    "        yield env.timeout(call_duration)\n",
    "        \n",
    "        # update the total call_duration \n",
    "        args.total_call_duration += call_duration\n",
    "\n",
    "        # print out information for patient.\n",
    "        trace(f'call {identifier} ended {env.now:.3f}; ' \\\n",
    "              + f'waiting time was {waiting_time:.3f}')"
   ]
  },
  {
   "cell_type": "code",
   "execution_count": 13,
   "id": "838b63ac-8add-442a-b25b-ed9c7e5fdfd9",
   "metadata": {},
   "outputs": [],
   "source": [
    "def arrivals_generator(env, args):\n",
    "    '''\n",
    "    IAT is exponentially distributed\n",
    "\n",
    "    Parameters:\n",
    "    ------\n",
    "    env: simpy.Environment\n",
    "        The simpy environment for the simulation\n",
    "\n",
    "    experiment: Experiment\n",
    "        The settings and input parameters for the simulation.\n",
    "    '''\n",
    "\n",
    "\n",
    "    \n",
    "    # use itertools as it provides an infinite loop \n",
    "    # with a counter variable that we can use for unique Ids\n",
    "    for caller_count in itertools.count(start=1):\n",
    "\n",
    "        # MODIFICATION:the sample distribution is defined by the experiment.\n",
    "        inter_arrival_time = args.arrival_dist.sample()\n",
    "        yield env.timeout(inter_arrival_time)\n",
    "\n",
    "        trace(f'call arrives at: {env.now:.3f}')\n",
    "\n",
    "        # MODIFICATION: we pass the experiment to the service function\n",
    "        env.process(service(caller_count, args, env))"
   ]
  },
  {
   "cell_type": "markdown",
   "id": "161ce6c8-b50b-457c-8f9e-4837edb07933",
   "metadata": {},
   "source": [
    "## 5. A single run wrapper function\n",
    "\n"
   ]
  },
  {
   "cell_type": "code",
   "execution_count": 14,
   "id": "1bde92ab-c010-4fa9-90cf-ebb715537ae9",
   "metadata": {},
   "outputs": [],
   "source": [
    "def single_run(experiment, rc_period=RESULTS_COLLECTION_PERIOD):\n",
    "    '''\n",
    "    Perform a single run of the model and return the results\n",
    "    \n",
    "    Parameters:\n",
    "    -----------\n",
    "    \n",
    "    experiment: Experiment\n",
    "        The experiment/paramaters to use with model\n",
    "    '''\n",
    "\n",
    "    # results dictionary.  Each KPI is a new entry.\n",
    "    results = {}\n",
    "    \n",
    "    # environment is (re)created inside single run\n",
    "    env = simpy.Environment()\n",
    "\n",
    "    # we create simpy resource here - this has to be after we\n",
    "    # create the environment object.\n",
    "    experiment.operators = simpy.Resource(env, capacity=experiment.n_operators)\n",
    "    \n",
    "    # we pass the experiment to the arrivals generator\n",
    "    env.process(arrivals_generator(env, experiment))\n",
    "    env.run(until=rc_period)\n",
    "\n",
    "    # end of run results: calculate mean waiting time\n",
    "    results['01_mean_waiting_time'] = np.mean(experiment.waiting_times)\n",
    "    \n",
    "    # end of run results: calculate mean operator utilisation\n",
    "    results['02_operator_util'] = (experiment.total_call_duration \\\n",
    "        / (rc_period * experiment.n_operators)) * 100.0\n",
    "    \n",
    "    print(f'Experiment complete')\n",
    "\n",
    "    # return the results from the run of the model\n",
    "    return results"
   ]
  },
  {
   "cell_type": "code",
   "execution_count": 15,
   "id": "50fcc6ef-9e7d-4caf-8f62-fbe4e4e1d061",
   "metadata": {},
   "outputs": [
    {
     "name": "stdout",
     "output_type": "stream",
     "text": [
      "Experiment complete\n",
      "Mean waiting time: 4.12 hrs \n",
      "Operator Utilisation 91.51%\n"
     ]
    }
   ],
   "source": [
    "TRACE = False\n",
    "default_scenario = Experiment()\n",
    "results = single_run(default_scenario)\n",
    "print(f\"Mean waiting time: {results['01_mean_waiting_time']:.2f} hrs \\n\"\n",
    "      + f\"Operator Utilisation {results['02_operator_util']:.2f}%\")"
   ]
  },
  {
   "cell_type": "markdown",
   "id": "a17e72e5-8a45-4a8a-bd9b-6373df56f3ce",
   "metadata": {},
   "source": [
    "## 6. Multiple experiments\n",
    "\n",
    "The `single_run` wrapper function for the model and the `Experiment` class mean that is very simple to run multiple experiments.  We will define two new functions for running multiple experiments:\n",
    "\n",
    "* `get_experiments()` - this will return a python dictionary containing a unique name for an experiment paired with an `Experiment` object\n",
    "* `run_all_experiments()` - this will loop through the dictionary, run all experiments and return combined results."
   ]
  },
  {
   "cell_type": "code",
   "execution_count": 16,
   "id": "a06787e1-d024-40c9-9f38-7e4f01a51166",
   "metadata": {},
   "outputs": [],
   "source": [
    "def get_experiments():\n",
    "    '''\n",
    "    Creates a dictionary object containing\n",
    "    objects of type `Experiment` to run.\n",
    "    \n",
    "    Returns:\n",
    "    --------\n",
    "    dict\n",
    "        Contains the experiments for the model\n",
    "    '''\n",
    "    experiments = {}\n",
    "    \n",
    "    # base case\n",
    "    # we will sync scenarios by using seeds\n",
    "    experiments['base'] = Experiment(arrival_seed=ARRIVAL_SEED, \n",
    "                                     call_seed=CALL_SEED)\n",
    "    \n",
    "    # +1 extra capacity\n",
    "    experiments['operators+1'] = Experiment(arrival_seed=ARRIVAL_SEED, \n",
    "                                            call_seed=CALL_SEED,\n",
    "                                            n_operators=N_OPERATORS+1)\n",
    "    \n",
    "    return experiments"
   ]
  },
  {
   "cell_type": "code",
   "execution_count": 17,
   "id": "2957de2b-c0cf-4eab-a639-0058c8c56326",
   "metadata": {},
   "outputs": [],
   "source": [
    "def run_all_experiments(experiments, rc_period=RESULTS_COLLECTION_PERIOD):\n",
    "    '''\n",
    "    Run each of the scenarios for a specified results\n",
    "    collection period and replications.\n",
    "    \n",
    "    Params:\n",
    "    ------\n",
    "    experiments: dict\n",
    "        dictionary of Experiment objects\n",
    "        \n",
    "    rc_period: float\n",
    "        model run length\n",
    "    \n",
    "    '''\n",
    "    print('Model experiments:')\n",
    "    print(f'No. experiments to execute = {len(experiments)}\\n')\n",
    "\n",
    "    experiment_results = {}\n",
    "    for exp_name, experiment in experiments.items():\n",
    "        \n",
    "        print(f'Running {exp_name}', end=' => ')\n",
    "        results = single_run(experiment, rc_period)\n",
    "        print('done.\\n')\n",
    "        \n",
    "        #save the results\n",
    "        experiment_results[exp_name] = results\n",
    "    \n",
    "    print('All experiments are complete.')\n",
    "    \n",
    "    # format the results\n",
    "    return pd.DataFrame(experiment_results)"
   ]
  },
  {
   "cell_type": "code",
   "execution_count": 18,
   "id": "1fa0335d-18c6-463b-92f9-f8f83ef535c3",
   "metadata": {},
   "outputs": [
    {
     "name": "stdout",
     "output_type": "stream",
     "text": [
      "Model experiments:\n",
      "No. experiments to execute = 2\n",
      "\n",
      "Running base => Experiment complete\n",
      "done.\n",
      "\n",
      "Running operators+1 => Experiment complete\n",
      "done.\n",
      "\n",
      "All experiments are complete.\n"
     ]
    }
   ],
   "source": [
    "# get the experiments\n",
    "experiments = get_experiments()\n",
    "\n",
    "#run the scenario analysis\n",
    "experiment_results = run_all_experiments(experiments)"
   ]
  },
  {
   "cell_type": "code",
   "execution_count": 19,
   "id": "63aad945-4817-459f-8d80-51adf8b0c18b",
   "metadata": {},
   "outputs": [
    {
     "data": {
      "text/html": [
       "<div>\n",
       "<style scoped>\n",
       "    .dataframe tbody tr th:only-of-type {\n",
       "        vertical-align: middle;\n",
       "    }\n",
       "\n",
       "    .dataframe tbody tr th {\n",
       "        vertical-align: top;\n",
       "    }\n",
       "\n",
       "    .dataframe thead th {\n",
       "        text-align: right;\n",
       "    }\n",
       "</style>\n",
       "<table border=\"1\" class=\"dataframe\">\n",
       "  <thead>\n",
       "    <tr style=\"text-align: right;\">\n",
       "      <th></th>\n",
       "      <th>base</th>\n",
       "      <th>operators+1</th>\n",
       "    </tr>\n",
       "  </thead>\n",
       "  <tbody>\n",
       "    <tr>\n",
       "      <th>01_mean_waiting_time</th>\n",
       "      <td>1.67</td>\n",
       "      <td>0.72</td>\n",
       "    </tr>\n",
       "    <tr>\n",
       "      <th>02_operator_util</th>\n",
       "      <td>91.99</td>\n",
       "      <td>85.52</td>\n",
       "    </tr>\n",
       "  </tbody>\n",
       "</table>\n",
       "</div>"
      ],
      "text/plain": [
       "                       base  operators+1\n",
       "01_mean_waiting_time   1.67         0.72\n",
       "02_operator_util      91.99        85.52"
      ]
     },
     "execution_count": 19,
     "metadata": {},
     "output_type": "execute_result"
    }
   ],
   "source": [
    "experiment_results.round(2)"
   ]
  }
 ],
 "metadata": {
  "kernelspec": {
   "display_name": "Python 3 (ipykernel)",
   "language": "python",
   "name": "python3"
  },
  "language_info": {
   "codemirror_mode": {
    "name": "ipython",
    "version": 3
   },
   "file_extension": ".py",
   "mimetype": "text/x-python",
   "name": "python",
   "nbconvert_exporter": "python",
   "pygments_lexer": "ipython3",
   "version": "3.9.16"
  }
 },
 "nbformat": 4,
 "nbformat_minor": 5
}

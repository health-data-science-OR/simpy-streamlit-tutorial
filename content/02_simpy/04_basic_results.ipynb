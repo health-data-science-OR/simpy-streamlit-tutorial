{
 "cells": [
  {
   "cell_type": "markdown",
   "id": "c3d8c177-68a5-4bda-9879-57fb9a12eefe",
   "metadata": {},
   "source": [
    "# Collecting results from a single run\n",
    "\n",
    "A tool like `simpy` allows you to collect your data flexibly using an approach that makes sense to you! Some options are:\n",
    "\n",
    "1. **Code an auditor / observer process**.  This process will periodically observe the state of the system. We can use this to collect information on **current state at time t**. For example, how many patients are queuing and how many have a call in progress between by time of day.  \n",
    "\n",
    "2. **Store process metrics during a run and perform calculations at the end of a run**. For example, if you want to calculate mean patient waiting time then store each patient waiting time in a list and calculate the mean at the end of the run.\n",
    "\n",
    "3. **Conduct and audit or calculate running statistics as the simulation executes an event**.  For example, as a patient completes a call we can calculate a running mean of waiting times and a running total of the operators are taking calls. The latter measure can then be used to calculate server utilisation. You could also use this approach to audit queue length where the queue length is recorded each time request for a resource is made (and/or when a resource is released).\n"
   ]
  },
  {
   "cell_type": "markdown",
   "id": "88f8f4d3-6929-4b12-869c-0c4518c8a4f5",
   "metadata": {},
   "source": [
    "## 1. Imports"
   ]
  },
  {
   "cell_type": "code",
   "execution_count": 1,
   "id": "98ae291f-9430-43ee-8214-68d2deaadc5e",
   "metadata": {},
   "outputs": [],
   "source": [
    "import simpy\n",
    "import numpy as np\n",
    "import itertools"
   ]
  },
  {
   "cell_type": "markdown",
   "id": "ef577b1b-fb31-4636-a314-505821e1a600",
   "metadata": {},
   "source": [
    "## 2. Calculating mean waiting time and utilisation\n",
    "\n",
    "The second strategy to results collection is to store either a reference to a quantitative value (e.g. waiting time) during the run.  Once the run is complete you will need to include a procedure for computing the metric of interest.  **An advantage** of this strategy is that it is very simple, captures all data, and has minimal computational overhead during a model run!  **A potential disadvantage** is that for complex simulation you may end up storing a large amount of data in memory. In these circumstances, it may be worth exploring event driven strategies to reduce memory requirements.\n",
    "\n",
    "In our example, we will store each patient's waiting time in a python list. At the end of the run we will loop through these references and calculate **mean waiting time** and **operator utilisation**. \n",
    "\n",
    "To do this I'm going to declare a list with notebook level scope.  The `service` function will then append a `waiting_time` for a caller to the list each time the caller enters service.  "
   ]
  },
  {
   "cell_type": "markdown",
   "id": "77a6624a-3349-4fb4-8e4d-b65fa8984337",
   "metadata": {},
   "source": [
    "### 2.1 Notebook level variables for results collection.\n",
    "\n",
    "The list has notebook level scope. This means that any functions or class in the notebook can access and/or append to the list."
   ]
  },
  {
   "cell_type": "code",
   "execution_count": 2,
   "id": "47b4dfd8-5860-4f79-8be5-dc39f387be3b",
   "metadata": {},
   "outputs": [],
   "source": [
    "waiting_times = []"
   ]
  },
  {
   "cell_type": "markdown",
   "id": "19b3400d-bf47-4998-a981-eab294e74bc0",
   "metadata": {},
   "source": [
    "### 2.2 A helper function\n",
    "\n",
    "We will create a helper function called trace that wraps `print`.  We can set a variable called `TRACE` that switches printing patient level results on and off."
   ]
  },
  {
   "cell_type": "code",
   "execution_count": 3,
   "id": "4eed6a29-63bb-4e1f-a0c5-ae3733498255",
   "metadata": {},
   "outputs": [],
   "source": [
    "def trace(msg):\n",
    "    '''\n",
    "    Turing printing of events on and off.\n",
    "    \n",
    "    Params:\n",
    "    -------\n",
    "    msg: str\n",
    "        string to print to screen.\n",
    "    '''\n",
    "    if TRACE:\n",
    "        print(msg)"
   ]
  },
  {
   "cell_type": "markdown",
   "id": "ebeb9512-f28f-41bb-a8d2-50164bfc31f7",
   "metadata": {},
   "source": [
    "## 2.3 Service and arrival functions\n",
    "\n",
    "The only modification we need to make is to the `service` function.  We will add in a line of code to record the `waiting_time` of the caller as they enter service."
   ]
  },
  {
   "cell_type": "code",
   "execution_count": 4,
   "id": "a6bd172d-a609-497e-9656-6533539a7490",
   "metadata": {},
   "outputs": [],
   "source": [
    "def service(identifier, operators, env):\n",
    "    '''\n",
    "    simulates the service process for a call operator\n",
    "\n",
    "    1. request and wait for a call operator\n",
    "    2. phone triage (triangular)\n",
    "    3. exit system\n",
    "    \n",
    "    Params:\n",
    "    ------\n",
    "    \n",
    "    identifier: int \n",
    "        A unique identifer for this caller\n",
    "        \n",
    "    operators: simpy.Resource\n",
    "        The pool of call operators that answer calls\n",
    "        These are shared across resources.\n",
    "        \n",
    "    env: simpy.Environment\n",
    "        The current environent the simulation is running in\n",
    "        We use this to pause and restart the process after a delay.\n",
    "    \n",
    "    '''\n",
    "    # record the time that call entered the queue\n",
    "    start_wait = env.now\n",
    "\n",
    "    # request an operator\n",
    "    with operators.request() as req:\n",
    "        yield req\n",
    "\n",
    "        # record the waiting time for call to be answered\n",
    "        waiting_time = env.now - start_wait\n",
    "        \n",
    "        # MODIFICATION - store the waiting time.\n",
    "        waiting_times.append(waiting_time)\n",
    "\n",
    "        trace(f'operator answered call {identifier} at ' \\\n",
    "              + f'{env.now:.3f}')\n",
    "\n",
    "        # sample call duration.\n",
    "        call_duration = np.random.triangular(left=5.0, mode=7.0,\n",
    "                                             right=10.0)\n",
    "        \n",
    "        # schedule process to begin again after call_duration\n",
    "        yield env.timeout(call_duration)\n",
    "\n",
    "        # print out information for patient.\n",
    "        trace(f'call {identifier} ended {env.now:.3f}; ' \\\n",
    "              + f'waiting time was {waiting_time:.3f}')"
   ]
  },
  {
   "cell_type": "code",
   "execution_count": 5,
   "id": "1b640813-7b18-4aa3-8cce-c5098f3a2349",
   "metadata": {},
   "outputs": [],
   "source": [
    "def arrivals_generator(env, operators):\n",
    "    '''\n",
    "    IAT is exponentially distributed\n",
    "\n",
    "    Parameters:\n",
    "    ------\n",
    "    env: simpy.Environment\n",
    "        The simpy environment for the simulation\n",
    "\n",
    "    operators: simpy.Resource\n",
    "        the pool of call operators.\n",
    "    '''\n",
    "\n",
    "    # use itertools as it provides an infinite loop \n",
    "    # with a counter variable that we can use for unique Ids\n",
    "    for caller_count in itertools.count(start=1):\n",
    "\n",
    "        # 100 calls per hour (units = hours). \n",
    "        # Time between calls is 1/100\n",
    "        inter_arrival_time = np.random.exponential(60/100)\n",
    "        yield env.timeout(inter_arrival_time)\n",
    "\n",
    "        trace(f'call arrives at: {env.now:.3f}')\n",
    "\n",
    "        # create a new simpy process for this caller.\n",
    "        # we pass in the caller id, the operator resources, and env.\n",
    "        env.process(service(caller_count, operators, env))"
   ]
  },
  {
   "cell_type": "code",
   "execution_count": 6,
   "id": "4c13d343-6359-4fd4-8b13-0689ec904d2f",
   "metadata": {},
   "outputs": [
    {
     "name": "stdout",
     "output_type": "stream",
     "text": [
      "end of run. simulation clock time = 1000\n",
      "Mean waiting time was 2.51\n"
     ]
    }
   ],
   "source": [
    "# model parameters\n",
    "RUN_LENGTH = 1000\n",
    "N_OPERATORS = 13\n",
    "\n",
    "# MODIFICATION - turn off caller level results.\n",
    "TRACE = False\n",
    "\n",
    "# create simpy environment and operator resources\n",
    "env = simpy.Environment()\n",
    "operators = simpy.Resource(env, capacity=N_OPERATORS)\n",
    "\n",
    "env.process(arrivals_generator(env, operators))\n",
    "env.run(until=RUN_LENGTH)\n",
    "print(f'end of run. simulation clock time = {env.now}')\n",
    "\n",
    "# MODIFICATION calculate results on notebook level variables.\n",
    "mean_wt = np.mean(waiting_times)\n",
    "print(f'Mean waiting time was {mean_wt:.2f}')"
   ]
  }
 ],
 "metadata": {
  "kernelspec": {
   "display_name": "Python 3 (ipykernel)",
   "language": "python",
   "name": "python3"
  },
  "language_info": {
   "codemirror_mode": {
    "name": "ipython",
    "version": 3
   },
   "file_extension": ".py",
   "mimetype": "text/x-python",
   "name": "python",
   "nbconvert_exporter": "python",
   "pygments_lexer": "ipython3",
   "version": "3.9.16"
  }
 },
 "nbformat": 4,
 "nbformat_minor": 5
}

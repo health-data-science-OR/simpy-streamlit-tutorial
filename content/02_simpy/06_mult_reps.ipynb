{
 "cells": [
  {
   "cell_type": "markdown",
   "id": "265c990b-ed92-4823-b55a-dd76212d6c50",
   "metadata": {},
   "source": [
    "# Multiple replications\n",
    "\n",
    "We will extend the [Experiments notebook](./05_experiments) by modifying our `single_run` model wrapper function so that it runs multiple independent replications.  \n",
    "\n",
    "> For this example, we will ignore common random number streams across scenarios."
   ]
  },
  {
   "cell_type": "markdown",
   "id": "6219d6a6-ccc9-42a0-b91a-a3499064f9ab",
   "metadata": {},
   "source": [
    "## 1. Imports"
   ]
  },
  {
   "cell_type": "code",
   "execution_count": 1,
   "id": "cdbf2aef-c42e-4f43-8c6c-f1e1e0b805ca",
   "metadata": {},
   "outputs": [],
   "source": [
    "import numpy as np\n",
    "import pandas as pd\n",
    "import simpy\n",
    "import itertools"
   ]
  },
  {
   "cell_type": "code",
   "execution_count": null,
   "id": "ba76c4d0-fe56-4841-b441-eb62b3e9c46d",
   "metadata": {},
   "outputs": [],
   "source": [
    "## 2."
   ]
  }
 ],
 "metadata": {
  "kernelspec": {
   "display_name": "Python 3 (ipykernel)",
   "language": "python",
   "name": "python3"
  },
  "language_info": {
   "codemirror_mode": {
    "name": "ipython",
    "version": 3
   },
   "file_extension": ".py",
   "mimetype": "text/x-python",
   "name": "python",
   "nbconvert_exporter": "python",
   "pygments_lexer": "ipython3",
   "version": "3.9.16"
  }
 },
 "nbformat": 4,
 "nbformat_minor": 5
}

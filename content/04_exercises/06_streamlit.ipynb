{
 "cells": [
  {
   "cell_type": "markdown",
   "id": "f34a312f-38ed-443d-a73f-754ea33105fb",
   "metadata": {},
   "source": [
    "# Treatment sim `streamlit` app\n",
    "\n",
    "In this exercise you will incrementally build up a simple `streamlit` app for the `treat_sim` package.  The app will allow a user to set input parameters using sliders, run the simulation model and view a results summary.\n",
    "\n",
    "It is recommended that you use basic `treat_sim` script that has already been provided."
   ]
  },
  {
   "cell_type": "markdown",
   "id": "30c4da3c-316a-413d-aca8-1d6d05ce49c2",
   "metadata": {},
   "source": [
    "## Exercise 1\n",
    "Create a a basic `streamlit` app with a title and information.\n",
    "\n",
    "* Create a new file called `my_streamlit_app.py`; copy and paste in the code from main.py\n",
    "* Begin to convert this into a streamlit app\n",
    "    * Import `streamlit`\n",
    "    * Add a streamlit title (e.g. \"Treatment Simulation model\") \n",
    "    * Read in and display the markdown text from `resources/overview.md`\n",
    "    * Run the app as follows `streamlit run my_streamlit_app.py`"
   ]
  },
  {
   "cell_type": "markdown",
   "id": "5a7cc0b3-0f5d-4d1a-a538-ef732773b94d",
   "metadata": {},
   "source": [
    "### Basic `treat_sim` script"
   ]
  },
  {
   "cell_type": "code",
   "execution_count": 2,
   "id": "c04f53c5-8c7d-400b-b57a-6ec92472b021",
   "metadata": {},
   "outputs": [
    {
     "name": "stdout",
     "output_type": "stream",
     "text": [
      "00_arrivals                       223.9\n",
      "01a_triage_wait                    35.3\n",
      "01b_triage_util                     0.6\n",
      "02a_registration_wait             107.0\n",
      "02b_registration_util               0.8\n",
      "03a_examination_wait               27.5\n",
      "03b_examination_util                0.8\n",
      "04a_treatment_wait(non_trauma)    141.6\n",
      "04b_treatment_util(non_trauma)      0.9\n",
      "05_total_time(non-trauma)         240.2\n",
      "06a_trauma_wait                   100.4\n",
      "06b_trauma_util                     0.8\n",
      "07a_treatment_wait(trauma)        199.9\n",
      "07b_treatment_util(trauma)          0.9\n",
      "08_total_time(trauma)             418.1\n",
      "09_throughput                     151.5\n",
      "dtype: float64\n"
     ]
    }
   ],
   "source": [
    "'''\n",
    "Script to complete a basic run of the model and display a table of\n",
    "results.\n",
    "\n",
    "The model is imported from a pypi package 'treat_sim'\n",
    "\n",
    "Full documentation and source code for `treat_sim` is available as \n",
    "* Jupyter Book: https://tommonks.github.io/treatment-centre-sim/\n",
    "* github: https://github.com/TomMonks/treatment-centre-sim\n",
    "\n",
    "A conda environment has been provided locally,but the model can be pip installed\n",
    "`pip install treat_sim==1.0.0`\n",
    "\n",
    "This will be adapted into a basic streamlit app\n",
    "'''\n",
    "from treat_sim.model import Scenario, multiple_replications\n",
    "\n",
    "# set the variables for the run.\n",
    "# these are just a subset of the total available for this example...\n",
    "n_triage = 1\n",
    "n_exam = 3\n",
    "n_cubicles_1 = 1\n",
    "\n",
    "# examination mean\n",
    "exam_mean = 16.0\n",
    "\n",
    "# runs\n",
    "replications = 10\n",
    "\n",
    "# Setup scenario using supplied variables\n",
    "args = Scenario(n_triage=n_triage, n_exam=n_exam, n_cubicles_1=n_cubicles_1,\n",
    "                exam_mean=exam_mean)\n",
    "\n",
    "# run multiple replications of the model.\n",
    "results = multiple_replications(args, n_reps=replications)\n",
    "\n",
    "# print mean results.\n",
    "print(results.mean().round(1))"
   ]
  },
  {
   "cell_type": "markdown",
   "id": "3de18c3d-0818-40b3-8237-389754dfe693",
   "metadata": {
    "tags": []
   },
   "source": [
    "## Exercise 2:\n",
    "\n",
    "Update parameters and run the simulation model via the app\n",
    "\n",
    "* Convert the hard coded parameter values into `streamlit` sliders.\n",
    "* Set the script up to that `streamlit` runs the simulation only when a `Run Simulation` button is clicked.\n",
    "* Using `st.table` or `st.dataframe` display the results of the simulation model to a user.\n",
    "\n",
    "## Exercise 3:\n",
    "\n",
    "Add in a side bar that display the sliders to a user\n",
    "\n",
    "* Create a side bar section in your app and add in the slider.\n",
    "* Run your model and check it still works.\n",
    "\n",
    "# Exercise 4:\n",
    "\n",
    "Research `streamlit` pages \n",
    "\n",
    "* Read the documentation on streamlit pages. \n",
    "* Add in an \"about page\".\n"
   ]
  }
 ],
 "metadata": {
  "kernelspec": {
   "display_name": "Python 3 (ipykernel)",
   "language": "python",
   "name": "python3"
  },
  "language_info": {
   "codemirror_mode": {
    "name": "ipython",
    "version": 3
   },
   "file_extension": ".py",
   "mimetype": "text/x-python",
   "name": "python",
   "nbconvert_exporter": "python",
   "pygments_lexer": "ipython3",
   "version": "3.9.16"
  }
 },
 "nbformat": 4,
 "nbformat_minor": 5
}

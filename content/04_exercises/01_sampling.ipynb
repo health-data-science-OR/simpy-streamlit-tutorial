{
 "cells": [
  {
   "cell_type": "markdown",
   "id": "4f32445c-8404-4ed5-916a-4ec0bca20859",
   "metadata": {},
   "source": [
    "# Random sampling\n",
    "\n",
    "These are basic exercises testing your understanding of generating random samples using `numpy`\n",
    "\n",
    "> Imports and a function to help with plotting samples are provided."
   ]
  },
  {
   "cell_type": "markdown",
   "id": "e7634134-b140-4cf7-8195-552a6d589ad2",
   "metadata": {},
   "source": [
    "## Imports"
   ]
  },
  {
   "cell_type": "code",
   "execution_count": null,
   "id": "e1d8057a-82d7-4158-9696-317956a32372",
   "metadata": {},
   "outputs": [],
   "source": [
    "import numpy as np\n",
    "import matplotlib.pyplot as plt"
   ]
  },
  {
   "cell_type": "markdown",
   "id": "246d6459-c6c2-4ed0-9983-be9514190f50",
   "metadata": {},
   "source": [
    "## Plotting function"
   ]
  },
  {
   "cell_type": "code",
   "execution_count": null,
   "id": "d374b862-09e8-4667-a1a5-38cbb1026f81",
   "metadata": {},
   "outputs": [],
   "source": [
    "def distribution_plot(samples, bins=100, figsize=(5,3)):\n",
    "    '''\n",
    "    helper function to visualise the distributions\n",
    "    \n",
    "    Params:\n",
    "    -----\n",
    "    samples: np.ndarray\n",
    "        A numpy array of quantitative data to plot as a histogram.\n",
    "        \n",
    "    bins: int, optional (default=100)\n",
    "        The number of bins to include in the histogram\n",
    "        \n",
    "    figsize: (int, int)\n",
    "        Size of the plot in pixels\n",
    "        \n",
    "    Returns:\n",
    "    -------\n",
    "        fig, ax: a tuple containing matplotlib figure and axis objects.\n",
    "    '''\n",
    "    hist = np.histogram(samples, bins=np.arange(bins), \n",
    "                        density=True)\n",
    "    \n",
    "    fig = plt.figure(figsize=figsize)\n",
    "    ax = fig.add_subplot()\n",
    "    _ = ax.plot(hist[0])\n",
    "    _ = ax.set_ylabel('p(x)')\n",
    "    _ = ax.set_xlabel('x')\n",
    "    \n",
    "    return fig, ax"
   ]
  },
  {
   "cell_type": "markdown",
   "id": "c4291051-66a4-41f2-8e73-97304384f88f",
   "metadata": {},
   "source": [
    "## Task 1\n",
    "\n",
    "* Create a `numpy` random number `Generator` object.\n",
    "* Draw 1,000,000 samples the Uniform distribution with parameters `low=20`, `high=80`\n",
    "* Use the provided `distribution_plot` function to check your sample.\n",
    "\n",
    "**Hints**\n",
    "* You can view the available distributions in the `numpy` documentation: https://numpy.org/doc/stable/reference/random/generator.html\n",
    "* `Generator` objects have a method called `uniform`"
   ]
  },
  {
   "cell_type": "code",
   "execution_count": null,
   "id": "5c3db7b4-974b-4018-9696-b7d88b167f9a",
   "metadata": {},
   "outputs": [],
   "source": [
    "# your code here..."
   ]
  },
  {
   "cell_type": "markdown",
   "id": "0898b16a-c783-403b-8ee4-e0dff459736f",
   "metadata": {},
   "source": [
    "## Task 2:\n",
    "\n",
    "* Repeat the example given above, but this time set a random seed\n",
    "* Try the random seed 42.  \n",
    "* Try a few different seeds to check your code."
   ]
  },
  {
   "cell_type": "code",
   "execution_count": null,
   "id": "a2c335ca-7241-47fb-bb44-7b9a1b9d721d",
   "metadata": {},
   "outputs": [],
   "source": [
    "# your code here ..."
   ]
  }
 ],
 "metadata": {
  "kernelspec": {
   "display_name": "Python 3 (ipykernel)",
   "language": "python",
   "name": "python3"
  },
  "language_info": {
   "codemirror_mode": {
    "name": "ipython",
    "version": 3
   },
   "file_extension": ".py",
   "mimetype": "text/x-python",
   "name": "python",
   "nbconvert_exporter": "python",
   "pygments_lexer": "ipython3",
   "version": "3.9.16"
  }
 },
 "nbformat": 4,
 "nbformat_minor": 5
}

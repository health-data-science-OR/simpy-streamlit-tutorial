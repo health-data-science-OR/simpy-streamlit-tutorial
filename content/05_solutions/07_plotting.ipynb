{
 "cells": [
  {
   "cell_type": "markdown",
   "id": "db0ad407-1b93-49ea-bab3-712079c6bd4e",
   "metadata": {},
   "source": [
    "# Adding a plot\n",
    "\n",
    "In this exercise we will again return to the treatment centre model.  We will enhance the app by adding in a simple plot."
   ]
  },
  {
   "cell_type": "markdown",
   "id": "0f8432dc-2624-4c55-b578-4d9fd74e28be",
   "metadata": {},
   "source": [
    "# Imports"
   ]
  },
  {
   "cell_type": "code",
   "execution_count": 8,
   "id": "cf14bc33-1a45-43bc-9188-b7dc20916a4a",
   "metadata": {},
   "outputs": [],
   "source": [
    "import plotly.express as px\n",
    "\n",
    "from treat_sim.model import Scenario, multiple_replications"
   ]
  },
  {
   "cell_type": "markdown",
   "id": "c6b58460-829b-4802-9979-1284fa7a6a37",
   "metadata": {},
   "source": [
    "## Exercise 1\n",
    "\n",
    "Create a new python file called `app_with_plot.py` and copy as paste in the code from `app_with_sidebar.py` shown below\n",
    "\n",
    "```python\n",
    "'''\n",
    "Script to complete a basic run of the model and display a table of\n",
    "results in a streamlit app.\n",
    "\n",
    "The model is imported from a pypi package 'treat_sim'\n",
    "\n",
    "Full documentation and source code for `treat_sim` is available as \n",
    "* Jupyter Book: https://tommonks.github.io/treatment-centre-sim/\n",
    "* github: https://github.com/TomMonks/treatment-centre-sim\n",
    "\n",
    "A conda environment has been provided locally,but the model can be pip installed\n",
    "`pip install treat_sim==1.0.0`\n",
    "'''\n",
    "from treat_sim.model import Scenario, multiple_replications\n",
    "import streamlit as st\n",
    "\n",
    "INTRO_FILE = 'resources/overview.md'\n",
    "\n",
    "def read_file_contents(file_name):\n",
    "    ''''\n",
    "    Read the contents of a file.\n",
    "\n",
    "    Params:\n",
    "    ------\n",
    "    file_name: str\n",
    "        Path to file.\n",
    "\n",
    "    Returns:\n",
    "    -------\n",
    "    str\n",
    "    '''\n",
    "    with open(file_name) as f:\n",
    "        return f.read()\n",
    "\n",
    "# give the page a title\n",
    "st.title('Treatment Centre Simulation Model')\n",
    "\n",
    "# show the introductory markdown\n",
    "st.markdown(read_file_contents(INTRO_FILE))\n",
    "\n",
    "################################################################################\n",
    "# MODIFICATION: create a sidebar for sliders\n",
    "with st.sidebar:\n",
    "    n_triage = st.slider('Triage bays', 1, 5, 1)\n",
    "    n_exam = st.slider('Exam rooms', 1, 5, 3)\n",
    "    n_cubicles_1 = st.slider('Non-Trauma Treatment cubicles', 1, 5, 1, \n",
    "                             help='Set the number of non trauma pathway '\n",
    "                             + 'treatment cubicles')\n",
    "\n",
    "    # examination mean\n",
    "    exam_mean = st.slider('Mean examination time', 10.0, 45.0, \n",
    "                           16.0, 1.0)\n",
    "\n",
    "    # runs\n",
    "    replications = st.slider('No. replications', 1, 50, 10)\n",
    "################################################################################\n",
    "\n",
    "# Setup scenario using supplied variables\n",
    "args = Scenario(n_triage=n_triage, n_exam=n_exam, n_cubicles_1=n_cubicles_1,\n",
    "                exam_mean=exam_mean)\n",
    "\n",
    "# Only execute model if a streamlit button is pressed.\n",
    "if st.button('Simulate treatment centre'):\n",
    "\n",
    "    # in this example run a single replication of the model.\n",
    "    with st.spinner('Simulating the treatment centre...'):\n",
    "        results = multiple_replications(args, n_reps=replications)\n",
    "\n",
    "    st.success('Done!')\n",
    "\n",
    "    # display results using st.table (or st.dataframe)\n",
    "    st.table(results.mean().round(1))\n",
    "\n",
    "```"
   ]
  },
  {
   "cell_type": "markdown",
   "id": "535f0d9c-84dc-4587-96eb-f7c5fadb215f",
   "metadata": {},
   "source": [
    "## Exercise 2\n",
    "\n",
    "The code below creates a`pandas.DataFrame` called `results` in the same format as code in the `app_with_plot.py`.\n",
    "\n",
    "Each row in the `DataFrame` is a replication and each column is a performance measure.  You can quickly run the code and view the format.\n",
    "\n",
    "**Task:**\n",
    "\n",
    "* Create a function called `create_hist()`. The function should accept `results` and create a histogram of the results of a performance measure of your choice.  For example, `03a_examination_wait`. \n",
    "* The function should return a `plotly` figure object to the calling code. It is recommended you use the `fig` naming convention.\n",
    "* Include a violin plot above the histogram using plotly express.\n",
    "\n",
    "**Hints**:\n",
    "* It is recommended that you complete this exercise in the Jupyter notebook before modifying `app_with_plot.py`\n",
    "* At the top of this notebook we have imported `plotly.express`\n",
    "* To have a useful histogram you may want to run more than 10 replications. e.g. 50 to 100.\n",
    "* Jupyter notebooks will render the histogram with calling `fig.show()`, just leave the last line of code in a cell as `fig`.  In a python module you will need to call `fig.show()`"
   ]
  },
  {
   "cell_type": "code",
   "execution_count": 12,
   "id": "2de7b589-6773-47c3-90d5-782d159d4589",
   "metadata": {},
   "outputs": [
    {
     "name": "stdout",
     "output_type": "stream",
     "text": [
      "<class 'pandas.core.frame.DataFrame'>\n",
      "Int64Index: 50 entries, 1 to 50\n",
      "Data columns (total 16 columns):\n",
      " #   Column                          Non-Null Count  Dtype  \n",
      "---  ------                          --------------  -----  \n",
      " 0   00_arrivals                     50 non-null     float64\n",
      " 1   01a_triage_wait                 50 non-null     float64\n",
      " 2   01b_triage_util                 50 non-null     float64\n",
      " 3   02a_registration_wait           50 non-null     float64\n",
      " 4   02b_registration_util           50 non-null     float64\n",
      " 5   03a_examination_wait            50 non-null     float64\n",
      " 6   03b_examination_util            50 non-null     float64\n",
      " 7   04a_treatment_wait(non_trauma)  50 non-null     float64\n",
      " 8   04b_treatment_util(non_trauma)  50 non-null     float64\n",
      " 9   05_total_time(non-trauma)       50 non-null     float64\n",
      " 10  06a_trauma_wait                 50 non-null     float64\n",
      " 11  06b_trauma_util                 50 non-null     float64\n",
      " 12  07a_treatment_wait(trauma)      50 non-null     float64\n",
      " 13  07b_treatment_util(trauma)      50 non-null     float64\n",
      " 14  08_total_time(trauma)           50 non-null     float64\n",
      " 15  09_throughput                   50 non-null     float64\n",
      "dtypes: float64(16)\n",
      "memory usage: 6.6 KB\n"
     ]
    }
   ],
   "source": [
    "default_scenario = Scenario()\n",
    "results = multiple_replications(default_scenario, n_reps=50)\n",
    "results.info()"
   ]
  },
  {
   "cell_type": "code",
   "execution_count": 13,
   "id": "1e03a3b8-4f27-406f-88d4-aca832bbf957",
   "metadata": {},
   "outputs": [],
   "source": [
    "def create_hist(results, column, value_label, marginal='box'):\n",
    "    '''\n",
    "    Create and return a plotly express histogram of\n",
    "    the results column\n",
    "    \n",
    "    Params:\n",
    "    -------\n",
    "    results: pd.DataFrame\n",
    "        Rows = replications, columns = KPIs\n",
    "        \n",
    "    column: str\n",
    "        Name of column in results to use\n",
    "        \n",
    "    value_label: str\n",
    "        X-axis label\n",
    "        \n",
    "    marginal: str, optional (default='box')\n",
    "        An additional plot to render above the histogram\n",
    "        options to try: box, violin, rug\n",
    "        \n",
    "    Returns:\n",
    "    ------\n",
    "    plotly.figure\n",
    "        \n",
    "    '''\n",
    "    fig = px.histogram(results[column], labels={'value':value_label},\n",
    "                       marginal=marginal)\n",
    "    # hide legend\n",
    "    fig.update(layout_showlegend=False)\n",
    "    \n",
    "    return fig"
   ]
  },
  {
   "cell_type": "code",
   "execution_count": 16,
   "id": "8f1488da-b536-4b6a-b988-6acab6903635",
   "metadata": {},
   "outputs": [
    {
     "data": {
      "application/vnd.plotly.v1+json": {
       "config": {
        "plotlyServerURL": "https://plot.ly"
       },
       "data": [
        {
         "alignmentgroup": "True",
         "bingroup": "x",
         "hovertemplate": "variable=03a_examination_wait<br>Mean examination waiting time=%{x}<br>count=%{y}<extra></extra>",
         "legendgroup": "03a_examination_wait",
         "marker": {
          "color": "#636efa",
          "pattern": {
           "shape": ""
          }
         },
         "name": "03a_examination_wait",
         "offsetgroup": "03a_examination_wait",
         "orientation": "v",
         "showlegend": true,
         "type": "histogram",
         "x": [
          28.478641578907936,
          16.32817873295442,
          18.4002798601575,
          35.42443957630112,
          36.254401156933156,
          24.14902522437214,
          30.028974329227594,
          31.18993493878721,
          29.642379438205783,
          25.3749350496724,
          24.239778912922088,
          18.428593671181368,
          10.840605252887434,
          23.389521903532646,
          28.614144501815414,
          14.039685806609363,
          36.356651545463194,
          15.988430673512921,
          26.0583737132257,
          19.534332408838537,
          22.740256965679833,
          10.60834882292233,
          41.696347226648555,
          29.159237140200922,
          20.46435727979445,
          18.119543366597576,
          33.3096451998393,
          25.877961014687568,
          26.63279241881874,
          8.183236285507599,
          32.80604915248188,
          42.58007952414658,
          13.4637023707959,
          35.72191233217777,
          22.96061614184804,
          17.523346347457895,
          33.23465076644108,
          21.97820281228799,
          16.824212653168594,
          34.96015080569626,
          28.637486658455785,
          24.202508114597652,
          27.73581114474837,
          23.943267943566504,
          22.314717591552256,
          23.692053561649228,
          24.496422557304143,
          23.658986318162416,
          30.642092597277475,
          8.370004739984696
         ],
         "xaxis": "x",
         "yaxis": "y"
        },
        {
         "alignmentgroup": "True",
         "hovertemplate": "variable=03a_examination_wait<br>Mean examination waiting time=%{x}<extra></extra>",
         "legendgroup": "03a_examination_wait",
         "marker": {
          "color": "#636efa"
         },
         "name": "03a_examination_wait",
         "offsetgroup": "03a_examination_wait",
         "scalegroup": "x",
         "showlegend": false,
         "type": "violin",
         "x": [
          28.478641578907936,
          16.32817873295442,
          18.4002798601575,
          35.42443957630112,
          36.254401156933156,
          24.14902522437214,
          30.028974329227594,
          31.18993493878721,
          29.642379438205783,
          25.3749350496724,
          24.239778912922088,
          18.428593671181368,
          10.840605252887434,
          23.389521903532646,
          28.614144501815414,
          14.039685806609363,
          36.356651545463194,
          15.988430673512921,
          26.0583737132257,
          19.534332408838537,
          22.740256965679833,
          10.60834882292233,
          41.696347226648555,
          29.159237140200922,
          20.46435727979445,
          18.119543366597576,
          33.3096451998393,
          25.877961014687568,
          26.63279241881874,
          8.183236285507599,
          32.80604915248188,
          42.58007952414658,
          13.4637023707959,
          35.72191233217777,
          22.96061614184804,
          17.523346347457895,
          33.23465076644108,
          21.97820281228799,
          16.824212653168594,
          34.96015080569626,
          28.637486658455785,
          24.202508114597652,
          27.73581114474837,
          23.943267943566504,
          22.314717591552256,
          23.692053561649228,
          24.496422557304143,
          23.658986318162416,
          30.642092597277475,
          8.370004739984696
         ],
         "xaxis": "x2",
         "yaxis": "y2"
        }
       ],
       "layout": {
        "autosize": true,
        "barmode": "relative",
        "legend": {
         "title": {
          "text": "variable"
         },
         "tracegroupgap": 0
        },
        "margin": {
         "t": 60
        },
        "showlegend": false,
        "template": {
         "data": {
          "bar": [
           {
            "error_x": {
             "color": "#2a3f5f"
            },
            "error_y": {
             "color": "#2a3f5f"
            },
            "marker": {
             "line": {
              "color": "#E5ECF6",
              "width": 0.5
             },
             "pattern": {
              "fillmode": "overlay",
              "size": 10,
              "solidity": 0.2
             }
            },
            "type": "bar"
           }
          ],
          "barpolar": [
           {
            "marker": {
             "line": {
              "color": "#E5ECF6",
              "width": 0.5
             },
             "pattern": {
              "fillmode": "overlay",
              "size": 10,
              "solidity": 0.2
             }
            },
            "type": "barpolar"
           }
          ],
          "carpet": [
           {
            "aaxis": {
             "endlinecolor": "#2a3f5f",
             "gridcolor": "white",
             "linecolor": "white",
             "minorgridcolor": "white",
             "startlinecolor": "#2a3f5f"
            },
            "baxis": {
             "endlinecolor": "#2a3f5f",
             "gridcolor": "white",
             "linecolor": "white",
             "minorgridcolor": "white",
             "startlinecolor": "#2a3f5f"
            },
            "type": "carpet"
           }
          ],
          "choropleth": [
           {
            "colorbar": {
             "outlinewidth": 0,
             "ticks": ""
            },
            "type": "choropleth"
           }
          ],
          "contour": [
           {
            "colorbar": {
             "outlinewidth": 0,
             "ticks": ""
            },
            "colorscale": [
             [
              0,
              "#0d0887"
             ],
             [
              0.1111111111111111,
              "#46039f"
             ],
             [
              0.2222222222222222,
              "#7201a8"
             ],
             [
              0.3333333333333333,
              "#9c179e"
             ],
             [
              0.4444444444444444,
              "#bd3786"
             ],
             [
              0.5555555555555556,
              "#d8576b"
             ],
             [
              0.6666666666666666,
              "#ed7953"
             ],
             [
              0.7777777777777778,
              "#fb9f3a"
             ],
             [
              0.8888888888888888,
              "#fdca26"
             ],
             [
              1,
              "#f0f921"
             ]
            ],
            "type": "contour"
           }
          ],
          "contourcarpet": [
           {
            "colorbar": {
             "outlinewidth": 0,
             "ticks": ""
            },
            "type": "contourcarpet"
           }
          ],
          "heatmap": [
           {
            "colorbar": {
             "outlinewidth": 0,
             "ticks": ""
            },
            "colorscale": [
             [
              0,
              "#0d0887"
             ],
             [
              0.1111111111111111,
              "#46039f"
             ],
             [
              0.2222222222222222,
              "#7201a8"
             ],
             [
              0.3333333333333333,
              "#9c179e"
             ],
             [
              0.4444444444444444,
              "#bd3786"
             ],
             [
              0.5555555555555556,
              "#d8576b"
             ],
             [
              0.6666666666666666,
              "#ed7953"
             ],
             [
              0.7777777777777778,
              "#fb9f3a"
             ],
             [
              0.8888888888888888,
              "#fdca26"
             ],
             [
              1,
              "#f0f921"
             ]
            ],
            "type": "heatmap"
           }
          ],
          "heatmapgl": [
           {
            "colorbar": {
             "outlinewidth": 0,
             "ticks": ""
            },
            "colorscale": [
             [
              0,
              "#0d0887"
             ],
             [
              0.1111111111111111,
              "#46039f"
             ],
             [
              0.2222222222222222,
              "#7201a8"
             ],
             [
              0.3333333333333333,
              "#9c179e"
             ],
             [
              0.4444444444444444,
              "#bd3786"
             ],
             [
              0.5555555555555556,
              "#d8576b"
             ],
             [
              0.6666666666666666,
              "#ed7953"
             ],
             [
              0.7777777777777778,
              "#fb9f3a"
             ],
             [
              0.8888888888888888,
              "#fdca26"
             ],
             [
              1,
              "#f0f921"
             ]
            ],
            "type": "heatmapgl"
           }
          ],
          "histogram": [
           {
            "marker": {
             "pattern": {
              "fillmode": "overlay",
              "size": 10,
              "solidity": 0.2
             }
            },
            "type": "histogram"
           }
          ],
          "histogram2d": [
           {
            "colorbar": {
             "outlinewidth": 0,
             "ticks": ""
            },
            "colorscale": [
             [
              0,
              "#0d0887"
             ],
             [
              0.1111111111111111,
              "#46039f"
             ],
             [
              0.2222222222222222,
              "#7201a8"
             ],
             [
              0.3333333333333333,
              "#9c179e"
             ],
             [
              0.4444444444444444,
              "#bd3786"
             ],
             [
              0.5555555555555556,
              "#d8576b"
             ],
             [
              0.6666666666666666,
              "#ed7953"
             ],
             [
              0.7777777777777778,
              "#fb9f3a"
             ],
             [
              0.8888888888888888,
              "#fdca26"
             ],
             [
              1,
              "#f0f921"
             ]
            ],
            "type": "histogram2d"
           }
          ],
          "histogram2dcontour": [
           {
            "colorbar": {
             "outlinewidth": 0,
             "ticks": ""
            },
            "colorscale": [
             [
              0,
              "#0d0887"
             ],
             [
              0.1111111111111111,
              "#46039f"
             ],
             [
              0.2222222222222222,
              "#7201a8"
             ],
             [
              0.3333333333333333,
              "#9c179e"
             ],
             [
              0.4444444444444444,
              "#bd3786"
             ],
             [
              0.5555555555555556,
              "#d8576b"
             ],
             [
              0.6666666666666666,
              "#ed7953"
             ],
             [
              0.7777777777777778,
              "#fb9f3a"
             ],
             [
              0.8888888888888888,
              "#fdca26"
             ],
             [
              1,
              "#f0f921"
             ]
            ],
            "type": "histogram2dcontour"
           }
          ],
          "mesh3d": [
           {
            "colorbar": {
             "outlinewidth": 0,
             "ticks": ""
            },
            "type": "mesh3d"
           }
          ],
          "parcoords": [
           {
            "line": {
             "colorbar": {
              "outlinewidth": 0,
              "ticks": ""
             }
            },
            "type": "parcoords"
           }
          ],
          "pie": [
           {
            "automargin": true,
            "type": "pie"
           }
          ],
          "scatter": [
           {
            "fillpattern": {
             "fillmode": "overlay",
             "size": 10,
             "solidity": 0.2
            },
            "type": "scatter"
           }
          ],
          "scatter3d": [
           {
            "line": {
             "colorbar": {
              "outlinewidth": 0,
              "ticks": ""
             }
            },
            "marker": {
             "colorbar": {
              "outlinewidth": 0,
              "ticks": ""
             }
            },
            "type": "scatter3d"
           }
          ],
          "scattercarpet": [
           {
            "marker": {
             "colorbar": {
              "outlinewidth": 0,
              "ticks": ""
             }
            },
            "type": "scattercarpet"
           }
          ],
          "scattergeo": [
           {
            "marker": {
             "colorbar": {
              "outlinewidth": 0,
              "ticks": ""
             }
            },
            "type": "scattergeo"
           }
          ],
          "scattergl": [
           {
            "marker": {
             "colorbar": {
              "outlinewidth": 0,
              "ticks": ""
             }
            },
            "type": "scattergl"
           }
          ],
          "scattermapbox": [
           {
            "marker": {
             "colorbar": {
              "outlinewidth": 0,
              "ticks": ""
             }
            },
            "type": "scattermapbox"
           }
          ],
          "scatterpolar": [
           {
            "marker": {
             "colorbar": {
              "outlinewidth": 0,
              "ticks": ""
             }
            },
            "type": "scatterpolar"
           }
          ],
          "scatterpolargl": [
           {
            "marker": {
             "colorbar": {
              "outlinewidth": 0,
              "ticks": ""
             }
            },
            "type": "scatterpolargl"
           }
          ],
          "scatterternary": [
           {
            "marker": {
             "colorbar": {
              "outlinewidth": 0,
              "ticks": ""
             }
            },
            "type": "scatterternary"
           }
          ],
          "surface": [
           {
            "colorbar": {
             "outlinewidth": 0,
             "ticks": ""
            },
            "colorscale": [
             [
              0,
              "#0d0887"
             ],
             [
              0.1111111111111111,
              "#46039f"
             ],
             [
              0.2222222222222222,
              "#7201a8"
             ],
             [
              0.3333333333333333,
              "#9c179e"
             ],
             [
              0.4444444444444444,
              "#bd3786"
             ],
             [
              0.5555555555555556,
              "#d8576b"
             ],
             [
              0.6666666666666666,
              "#ed7953"
             ],
             [
              0.7777777777777778,
              "#fb9f3a"
             ],
             [
              0.8888888888888888,
              "#fdca26"
             ],
             [
              1,
              "#f0f921"
             ]
            ],
            "type": "surface"
           }
          ],
          "table": [
           {
            "cells": {
             "fill": {
              "color": "#EBF0F8"
             },
             "line": {
              "color": "white"
             }
            },
            "header": {
             "fill": {
              "color": "#C8D4E3"
             },
             "line": {
              "color": "white"
             }
            },
            "type": "table"
           }
          ]
         },
         "layout": {
          "annotationdefaults": {
           "arrowcolor": "#2a3f5f",
           "arrowhead": 0,
           "arrowwidth": 1
          },
          "autotypenumbers": "strict",
          "coloraxis": {
           "colorbar": {
            "outlinewidth": 0,
            "ticks": ""
           }
          },
          "colorscale": {
           "diverging": [
            [
             0,
             "#8e0152"
            ],
            [
             0.1,
             "#c51b7d"
            ],
            [
             0.2,
             "#de77ae"
            ],
            [
             0.3,
             "#f1b6da"
            ],
            [
             0.4,
             "#fde0ef"
            ],
            [
             0.5,
             "#f7f7f7"
            ],
            [
             0.6,
             "#e6f5d0"
            ],
            [
             0.7,
             "#b8e186"
            ],
            [
             0.8,
             "#7fbc41"
            ],
            [
             0.9,
             "#4d9221"
            ],
            [
             1,
             "#276419"
            ]
           ],
           "sequential": [
            [
             0,
             "#0d0887"
            ],
            [
             0.1111111111111111,
             "#46039f"
            ],
            [
             0.2222222222222222,
             "#7201a8"
            ],
            [
             0.3333333333333333,
             "#9c179e"
            ],
            [
             0.4444444444444444,
             "#bd3786"
            ],
            [
             0.5555555555555556,
             "#d8576b"
            ],
            [
             0.6666666666666666,
             "#ed7953"
            ],
            [
             0.7777777777777778,
             "#fb9f3a"
            ],
            [
             0.8888888888888888,
             "#fdca26"
            ],
            [
             1,
             "#f0f921"
            ]
           ],
           "sequentialminus": [
            [
             0,
             "#0d0887"
            ],
            [
             0.1111111111111111,
             "#46039f"
            ],
            [
             0.2222222222222222,
             "#7201a8"
            ],
            [
             0.3333333333333333,
             "#9c179e"
            ],
            [
             0.4444444444444444,
             "#bd3786"
            ],
            [
             0.5555555555555556,
             "#d8576b"
            ],
            [
             0.6666666666666666,
             "#ed7953"
            ],
            [
             0.7777777777777778,
             "#fb9f3a"
            ],
            [
             0.8888888888888888,
             "#fdca26"
            ],
            [
             1,
             "#f0f921"
            ]
           ]
          },
          "colorway": [
           "#636efa",
           "#EF553B",
           "#00cc96",
           "#ab63fa",
           "#FFA15A",
           "#19d3f3",
           "#FF6692",
           "#B6E880",
           "#FF97FF",
           "#FECB52"
          ],
          "font": {
           "color": "#2a3f5f"
          },
          "geo": {
           "bgcolor": "white",
           "lakecolor": "white",
           "landcolor": "#E5ECF6",
           "showlakes": true,
           "showland": true,
           "subunitcolor": "white"
          },
          "hoverlabel": {
           "align": "left"
          },
          "hovermode": "closest",
          "mapbox": {
           "style": "light"
          },
          "paper_bgcolor": "white",
          "plot_bgcolor": "#E5ECF6",
          "polar": {
           "angularaxis": {
            "gridcolor": "white",
            "linecolor": "white",
            "ticks": ""
           },
           "bgcolor": "#E5ECF6",
           "radialaxis": {
            "gridcolor": "white",
            "linecolor": "white",
            "ticks": ""
           }
          },
          "scene": {
           "xaxis": {
            "backgroundcolor": "#E5ECF6",
            "gridcolor": "white",
            "gridwidth": 2,
            "linecolor": "white",
            "showbackground": true,
            "ticks": "",
            "zerolinecolor": "white"
           },
           "yaxis": {
            "backgroundcolor": "#E5ECF6",
            "gridcolor": "white",
            "gridwidth": 2,
            "linecolor": "white",
            "showbackground": true,
            "ticks": "",
            "zerolinecolor": "white"
           },
           "zaxis": {
            "backgroundcolor": "#E5ECF6",
            "gridcolor": "white",
            "gridwidth": 2,
            "linecolor": "white",
            "showbackground": true,
            "ticks": "",
            "zerolinecolor": "white"
           }
          },
          "shapedefaults": {
           "line": {
            "color": "#2a3f5f"
           }
          },
          "ternary": {
           "aaxis": {
            "gridcolor": "white",
            "linecolor": "white",
            "ticks": ""
           },
           "baxis": {
            "gridcolor": "white",
            "linecolor": "white",
            "ticks": ""
           },
           "bgcolor": "#E5ECF6",
           "caxis": {
            "gridcolor": "white",
            "linecolor": "white",
            "ticks": ""
           }
          },
          "title": {
           "x": 0.05
          },
          "xaxis": {
           "automargin": true,
           "gridcolor": "white",
           "linecolor": "white",
           "ticks": "",
           "title": {
            "standoff": 15
           },
           "zerolinecolor": "white",
           "zerolinewidth": 2
          },
          "yaxis": {
           "automargin": true,
           "gridcolor": "white",
           "linecolor": "white",
           "ticks": "",
           "title": {
            "standoff": 15
           },
           "zerolinecolor": "white",
           "zerolinewidth": 2
          }
         }
        },
        "xaxis": {
         "anchor": "y",
         "autorange": true,
         "domain": [
          0,
          1
         ],
         "range": [
          -2.5132566160401044,
          53.27657242569429
         ],
         "title": {
          "text": "Mean examination waiting time"
         },
         "type": "linear"
        },
        "xaxis2": {
         "anchor": "y2",
         "autorange": true,
         "domain": [
          0,
          1
         ],
         "matches": "x",
         "range": [
          -2.5132566160401044,
          53.27657242569429
         ],
         "showgrid": true,
         "showticklabels": false,
         "type": "linear"
        },
        "yaxis": {
         "anchor": "x",
         "autorange": true,
         "domain": [
          0,
          0.7326
         ],
         "range": [
          0,
          13.68421052631579
         ],
         "title": {
          "text": "count"
         }
        },
        "yaxis2": {
         "anchor": "x2",
         "autorange": true,
         "domain": [
          0.7426,
          1
         ],
         "matches": "y2",
         "range": [
          -0.5,
          0.5
         ],
         "showgrid": false,
         "showline": false,
         "showticklabels": false,
         "ticks": "",
         "type": "category"
        }
       }
      },
      "image/png": "[encoded data removed]",
      "text/html": [
       "<div>                            <div id=\"a7c02744-415e-4398-91fb-8c1281aaf433\" class=\"plotly-graph-div\" style=\"height:525px; width:100%;\"></div>            <script type=\"text/javascript\">                require([\"plotly\"], function(Plotly) {                    window.PLOTLYENV=window.PLOTLYENV || {};                                    if (document.getElementById(\"a7c02744-415e-4398-91fb-8c1281aaf433\")) {                    Plotly.newPlot(                        \"a7c02744-415e-4398-91fb-8c1281aaf433\",                        [{\"alignmentgroup\":\"True\",\"bingroup\":\"x\",\"hovertemplate\":\"variable=03a_examination_wait\\u003cbr\\u003eMean examination waiting time=%{x}\\u003cbr\\u003ecount=%{y}\\u003cextra\\u003e\\u003c\\u002fextra\\u003e\",\"legendgroup\":\"03a_examination_wait\",\"marker\":{\"color\":\"#636efa\",\"pattern\":{\"shape\":\"\"}},\"name\":\"03a_examination_wait\",\"offsetgroup\":\"03a_examination_wait\",\"orientation\":\"v\",\"showlegend\":true,\"x\":[28.478641578907936,16.32817873295442,18.4002798601575,35.42443957630112,36.254401156933156,24.14902522437214,30.028974329227594,31.18993493878721,29.642379438205783,25.3749350496724,24.239778912922088,18.428593671181368,10.840605252887434,23.389521903532646,28.614144501815414,14.039685806609363,36.356651545463194,15.988430673512921,26.0583737132257,19.534332408838537,22.740256965679833,10.60834882292233,41.696347226648555,29.159237140200922,20.46435727979445,18.119543366597576,33.3096451998393,25.877961014687568,26.63279241881874,8.183236285507599,32.80604915248188,42.58007952414658,13.4637023707959,35.72191233217777,22.96061614184804,17.523346347457895,33.23465076644108,21.97820281228799,16.824212653168594,34.96015080569626,28.637486658455785,24.202508114597652,27.73581114474837,23.943267943566504,22.314717591552256,23.692053561649228,24.496422557304143,23.658986318162416,30.642092597277475,8.370004739984696],\"xaxis\":\"x\",\"yaxis\":\"y\",\"type\":\"histogram\"},{\"alignmentgroup\":\"True\",\"hovertemplate\":\"variable=03a_examination_wait\\u003cbr\\u003eMean examination waiting time=%{x}\\u003cextra\\u003e\\u003c\\u002fextra\\u003e\",\"legendgroup\":\"03a_examination_wait\",\"marker\":{\"color\":\"#636efa\"},\"name\":\"03a_examination_wait\",\"offsetgroup\":\"03a_examination_wait\",\"scalegroup\":\"x\",\"showlegend\":false,\"x\":[28.478641578907936,16.32817873295442,18.4002798601575,35.42443957630112,36.254401156933156,24.14902522437214,30.028974329227594,31.18993493878721,29.642379438205783,25.3749350496724,24.239778912922088,18.428593671181368,10.840605252887434,23.389521903532646,28.614144501815414,14.039685806609363,36.356651545463194,15.988430673512921,26.0583737132257,19.534332408838537,22.740256965679833,10.60834882292233,41.696347226648555,29.159237140200922,20.46435727979445,18.119543366597576,33.3096451998393,25.877961014687568,26.63279241881874,8.183236285507599,32.80604915248188,42.58007952414658,13.4637023707959,35.72191233217777,22.96061614184804,17.523346347457895,33.23465076644108,21.97820281228799,16.824212653168594,34.96015080569626,28.637486658455785,24.202508114597652,27.73581114474837,23.943267943566504,22.314717591552256,23.692053561649228,24.496422557304143,23.658986318162416,30.642092597277475,8.370004739984696],\"xaxis\":\"x2\",\"yaxis\":\"y2\",\"type\":\"violin\"}],                        {\"template\":{\"data\":{\"histogram2dcontour\":[{\"type\":\"histogram2dcontour\",\"colorbar\":{\"outlinewidth\":0,\"ticks\":\"\"},\"colorscale\":[[0.0,\"#0d0887\"],[0.1111111111111111,\"#46039f\"],[0.2222222222222222,\"#7201a8\"],[0.3333333333333333,\"#9c179e\"],[0.4444444444444444,\"#bd3786\"],[0.5555555555555556,\"#d8576b\"],[0.6666666666666666,\"#ed7953\"],[0.7777777777777778,\"#fb9f3a\"],[0.8888888888888888,\"#fdca26\"],[1.0,\"#f0f921\"]]}],\"choropleth\":[{\"type\":\"choropleth\",\"colorbar\":{\"outlinewidth\":0,\"ticks\":\"\"}}],\"histogram2d\":[{\"type\":\"histogram2d\",\"colorbar\":{\"outlinewidth\":0,\"ticks\":\"\"},\"colorscale\":[[0.0,\"#0d0887\"],[0.1111111111111111,\"#46039f\"],[0.2222222222222222,\"#7201a8\"],[0.3333333333333333,\"#9c179e\"],[0.4444444444444444,\"#bd3786\"],[0.5555555555555556,\"#d8576b\"],[0.6666666666666666,\"#ed7953\"],[0.7777777777777778,\"#fb9f3a\"],[0.8888888888888888,\"#fdca26\"],[1.0,\"#f0f921\"]]}],\"heatmap\":[{\"type\":\"heatmap\",\"colorbar\":{\"outlinewidth\":0,\"ticks\":\"\"},\"colorscale\":[[0.0,\"#0d0887\"],[0.1111111111111111,\"#46039f\"],[0.2222222222222222,\"#7201a8\"],[0.3333333333333333,\"#9c179e\"],[0.4444444444444444,\"#bd3786\"],[0.5555555555555556,\"#d8576b\"],[0.6666666666666666,\"#ed7953\"],[0.7777777777777778,\"#fb9f3a\"],[0.8888888888888888,\"#fdca26\"],[1.0,\"#f0f921\"]]}],\"heatmapgl\":[{\"type\":\"heatmapgl\",\"colorbar\":{\"outlinewidth\":0,\"ticks\":\"\"},\"colorscale\":[[0.0,\"#0d0887\"],[0.1111111111111111,\"#46039f\"],[0.2222222222222222,\"#7201a8\"],[0.3333333333333333,\"#9c179e\"],[0.4444444444444444,\"#bd3786\"],[0.5555555555555556,\"#d8576b\"],[0.6666666666666666,\"#ed7953\"],[0.7777777777777778,\"#fb9f3a\"],[0.8888888888888888,\"#fdca26\"],[1.0,\"#f0f921\"]]}],\"contourcarpet\":[{\"type\":\"contourcarpet\",\"colorbar\":{\"outlinewidth\":0,\"ticks\":\"\"}}],\"contour\":[{\"type\":\"contour\",\"colorbar\":{\"outlinewidth\":0,\"ticks\":\"\"},\"colorscale\":[[0.0,\"#0d0887\"],[0.1111111111111111,\"#46039f\"],[0.2222222222222222,\"#7201a8\"],[0.3333333333333333,\"#9c179e\"],[0.4444444444444444,\"#bd3786\"],[0.5555555555555556,\"#d8576b\"],[0.6666666666666666,\"#ed7953\"],[0.7777777777777778,\"#fb9f3a\"],[0.8888888888888888,\"#fdca26\"],[1.0,\"#f0f921\"]]}],\"surface\":[{\"type\":\"surface\",\"colorbar\":{\"outlinewidth\":0,\"ticks\":\"\"},\"colorscale\":[[0.0,\"#0d0887\"],[0.1111111111111111,\"#46039f\"],[0.2222222222222222,\"#7201a8\"],[0.3333333333333333,\"#9c179e\"],[0.4444444444444444,\"#bd3786\"],[0.5555555555555556,\"#d8576b\"],[0.6666666666666666,\"#ed7953\"],[0.7777777777777778,\"#fb9f3a\"],[0.8888888888888888,\"#fdca26\"],[1.0,\"#f0f921\"]]}],\"mesh3d\":[{\"type\":\"mesh3d\",\"colorbar\":{\"outlinewidth\":0,\"ticks\":\"\"}}],\"scatter\":[{\"fillpattern\":{\"fillmode\":\"overlay\",\"size\":10,\"solidity\":0.2},\"type\":\"scatter\"}],\"parcoords\":[{\"type\":\"parcoords\",\"line\":{\"colorbar\":{\"outlinewidth\":0,\"ticks\":\"\"}}}],\"scatterpolargl\":[{\"type\":\"scatterpolargl\",\"marker\":{\"colorbar\":{\"outlinewidth\":0,\"ticks\":\"\"}}}],\"bar\":[{\"error_x\":{\"color\":\"#2a3f5f\"},\"error_y\":{\"color\":\"#2a3f5f\"},\"marker\":{\"line\":{\"color\":\"#E5ECF6\",\"width\":0.5},\"pattern\":{\"fillmode\":\"overlay\",\"size\":10,\"solidity\":0.2}},\"type\":\"bar\"}],\"scattergeo\":[{\"type\":\"scattergeo\",\"marker\":{\"colorbar\":{\"outlinewidth\":0,\"ticks\":\"\"}}}],\"scatterpolar\":[{\"type\":\"scatterpolar\",\"marker\":{\"colorbar\":{\"outlinewidth\":0,\"ticks\":\"\"}}}],\"histogram\":[{\"marker\":{\"pattern\":{\"fillmode\":\"overlay\",\"size\":10,\"solidity\":0.2}},\"type\":\"histogram\"}],\"scattergl\":[{\"type\":\"scattergl\",\"marker\":{\"colorbar\":{\"outlinewidth\":0,\"ticks\":\"\"}}}],\"scatter3d\":[{\"type\":\"scatter3d\",\"line\":{\"colorbar\":{\"outlinewidth\":0,\"ticks\":\"\"}},\"marker\":{\"colorbar\":{\"outlinewidth\":0,\"ticks\":\"\"}}}],\"scattermapbox\":[{\"type\":\"scattermapbox\",\"marker\":{\"colorbar\":{\"outlinewidth\":0,\"ticks\":\"\"}}}],\"scatterternary\":[{\"type\":\"scatterternary\",\"marker\":{\"colorbar\":{\"outlinewidth\":0,\"ticks\":\"\"}}}],\"scattercarpet\":[{\"type\":\"scattercarpet\",\"marker\":{\"colorbar\":{\"outlinewidth\":0,\"ticks\":\"\"}}}],\"carpet\":[{\"aaxis\":{\"endlinecolor\":\"#2a3f5f\",\"gridcolor\":\"white\",\"linecolor\":\"white\",\"minorgridcolor\":\"white\",\"startlinecolor\":\"#2a3f5f\"},\"baxis\":{\"endlinecolor\":\"#2a3f5f\",\"gridcolor\":\"white\",\"linecolor\":\"white\",\"minorgridcolor\":\"white\",\"startlinecolor\":\"#2a3f5f\"},\"type\":\"carpet\"}],\"table\":[{\"cells\":{\"fill\":{\"color\":\"#EBF0F8\"},\"line\":{\"color\":\"white\"}},\"header\":{\"fill\":{\"color\":\"#C8D4E3\"},\"line\":{\"color\":\"white\"}},\"type\":\"table\"}],\"barpolar\":[{\"marker\":{\"line\":{\"color\":\"#E5ECF6\",\"width\":0.5},\"pattern\":{\"fillmode\":\"overlay\",\"size\":10,\"solidity\":0.2}},\"type\":\"barpolar\"}],\"pie\":[{\"automargin\":true,\"type\":\"pie\"}]},\"layout\":{\"autotypenumbers\":\"strict\",\"colorway\":[\"#636efa\",\"#EF553B\",\"#00cc96\",\"#ab63fa\",\"#FFA15A\",\"#19d3f3\",\"#FF6692\",\"#B6E880\",\"#FF97FF\",\"#FECB52\"],\"font\":{\"color\":\"#2a3f5f\"},\"hovermode\":\"closest\",\"hoverlabel\":{\"align\":\"left\"},\"paper_bgcolor\":\"white\",\"plot_bgcolor\":\"#E5ECF6\",\"polar\":{\"bgcolor\":\"#E5ECF6\",\"angularaxis\":{\"gridcolor\":\"white\",\"linecolor\":\"white\",\"ticks\":\"\"},\"radialaxis\":{\"gridcolor\":\"white\",\"linecolor\":\"white\",\"ticks\":\"\"}},\"ternary\":{\"bgcolor\":\"#E5ECF6\",\"aaxis\":{\"gridcolor\":\"white\",\"linecolor\":\"white\",\"ticks\":\"\"},\"baxis\":{\"gridcolor\":\"white\",\"linecolor\":\"white\",\"ticks\":\"\"},\"caxis\":{\"gridcolor\":\"white\",\"linecolor\":\"white\",\"ticks\":\"\"}},\"coloraxis\":{\"colorbar\":{\"outlinewidth\":0,\"ticks\":\"\"}},\"colorscale\":{\"sequential\":[[0.0,\"#0d0887\"],[0.1111111111111111,\"#46039f\"],[0.2222222222222222,\"#7201a8\"],[0.3333333333333333,\"#9c179e\"],[0.4444444444444444,\"#bd3786\"],[0.5555555555555556,\"#d8576b\"],[0.6666666666666666,\"#ed7953\"],[0.7777777777777778,\"#fb9f3a\"],[0.8888888888888888,\"#fdca26\"],[1.0,\"#f0f921\"]],\"sequentialminus\":[[0.0,\"#0d0887\"],[0.1111111111111111,\"#46039f\"],[0.2222222222222222,\"#7201a8\"],[0.3333333333333333,\"#9c179e\"],[0.4444444444444444,\"#bd3786\"],[0.5555555555555556,\"#d8576b\"],[0.6666666666666666,\"#ed7953\"],[0.7777777777777778,\"#fb9f3a\"],[0.8888888888888888,\"#fdca26\"],[1.0,\"#f0f921\"]],\"diverging\":[[0,\"#8e0152\"],[0.1,\"#c51b7d\"],[0.2,\"#de77ae\"],[0.3,\"#f1b6da\"],[0.4,\"#fde0ef\"],[0.5,\"#f7f7f7\"],[0.6,\"#e6f5d0\"],[0.7,\"#b8e186\"],[0.8,\"#7fbc41\"],[0.9,\"#4d9221\"],[1,\"#276419\"]]},\"xaxis\":{\"gridcolor\":\"white\",\"linecolor\":\"white\",\"ticks\":\"\",\"title\":{\"standoff\":15},\"zerolinecolor\":\"white\",\"automargin\":true,\"zerolinewidth\":2},\"yaxis\":{\"gridcolor\":\"white\",\"linecolor\":\"white\",\"ticks\":\"\",\"title\":{\"standoff\":15},\"zerolinecolor\":\"white\",\"automargin\":true,\"zerolinewidth\":2},\"scene\":{\"xaxis\":{\"backgroundcolor\":\"#E5ECF6\",\"gridcolor\":\"white\",\"linecolor\":\"white\",\"showbackground\":true,\"ticks\":\"\",\"zerolinecolor\":\"white\",\"gridwidth\":2},\"yaxis\":{\"backgroundcolor\":\"#E5ECF6\",\"gridcolor\":\"white\",\"linecolor\":\"white\",\"showbackground\":true,\"ticks\":\"\",\"zerolinecolor\":\"white\",\"gridwidth\":2},\"zaxis\":{\"backgroundcolor\":\"#E5ECF6\",\"gridcolor\":\"white\",\"linecolor\":\"white\",\"showbackground\":true,\"ticks\":\"\",\"zerolinecolor\":\"white\",\"gridwidth\":2}},\"shapedefaults\":{\"line\":{\"color\":\"#2a3f5f\"}},\"annotationdefaults\":{\"arrowcolor\":\"#2a3f5f\",\"arrowhead\":0,\"arrowwidth\":1},\"geo\":{\"bgcolor\":\"white\",\"landcolor\":\"#E5ECF6\",\"subunitcolor\":\"white\",\"showland\":true,\"showlakes\":true,\"lakecolor\":\"white\"},\"title\":{\"x\":0.05},\"mapbox\":{\"style\":\"light\"}}},\"xaxis\":{\"anchor\":\"y\",\"domain\":[0.0,1.0],\"title\":{\"text\":\"Mean examination waiting time\"}},\"yaxis\":{\"anchor\":\"x\",\"domain\":[0.0,0.7326],\"title\":{\"text\":\"count\"}},\"xaxis2\":{\"anchor\":\"y2\",\"domain\":[0.0,1.0],\"matches\":\"x\",\"showticklabels\":false,\"showgrid\":true},\"yaxis2\":{\"anchor\":\"x2\",\"domain\":[0.7426,1.0],\"matches\":\"y2\",\"showticklabels\":false,\"showline\":false,\"ticks\":\"\",\"showgrid\":false},\"legend\":{\"title\":{\"text\":\"variable\"},\"tracegroupgap\":0},\"margin\":{\"t\":60},\"barmode\":\"relative\",\"showlegend\":false},                        {\"responsive\": true}                    ).then(function(){\n",
       "                            \n",
       "var gd = document.getElementById('a7c02744-415e-4398-91fb-8c1281aaf433');\n",
       "var x = new MutationObserver(function (mutations, observer) {{\n",
       "        var display = window.getComputedStyle(gd).display;\n",
       "        if (!display || display === 'none') {{\n",
       "            console.log([gd, 'removed!']);\n",
       "            Plotly.purge(gd);\n",
       "            observer.disconnect();\n",
       "        }}\n",
       "}});\n",
       "\n",
       "// Listen for the removal of the full notebook cells\n",
       "var notebookContainer = gd.closest('#notebook-container');\n",
       "if (notebookContainer) {{\n",
       "    x.observe(notebookContainer, {childList: true});\n",
       "}}\n",
       "\n",
       "// Listen for the clearing of the current output cell\n",
       "var outputEl = gd.closest('.output');\n",
       "if (outputEl) {{\n",
       "    x.observe(outputEl, {childList: true});\n",
       "}}\n",
       "\n",
       "                        })                };                });            </script>        </div>"
      ]
     },
     "metadata": {},
     "output_type": "display_data"
    }
   ],
   "source": [
    "fig = create_hist(results, column='03a_examination_wait', \n",
    "                  value_label='Mean examination waiting time',\n",
    "                  marginal='violin')\n",
    "\n",
    "fig"
   ]
  },
  {
   "cell_type": "markdown",
   "id": "d895dafe-578a-4706-9d76-1e211d378e64",
   "metadata": {},
   "source": [
    "## Exercise 3:\n",
    "\n",
    "Modify `app_with_plot.py` to use `create_hist()` and display histogram of your chosen KPI to a user.\n",
    "\n",
    "**Hints:**\n",
    "\n",
    "* Don't forget to import `plotly.express`\n"
   ]
  },
  {
   "cell_type": "markdown",
   "id": "4f115fef-cdc6-4292-a144-3c3625458d59",
   "metadata": {},
   "source": [
    "An example solution:\n",
    "\n",
    "```python\n",
    "\"\"\"\n",
    "Script to complete a basic run of the model and display a table of\n",
    "results and a plotly histogram in a streamlit app.\n",
    "\n",
    "The model is imported from a pypi package 'treat_sim'\n",
    "\n",
    "Full documentation and source code for `treat_sim` is available as \n",
    "* Jupyter Book: https://tommonks.github.io/treatment-centre-sim/\n",
    "* github: https://github.com/TomMonks/treatment-centre-sim\n",
    "\n",
    "A conda environment has been provided locally,but the model can be pip installed\n",
    "`pip install treat_sim==1.0.0`\n",
    "\"\"\"\n",
    "from treat_sim.model import Scenario, multiple_replications\n",
    "import streamlit as st\n",
    "import plotly.express as px\n",
    "\n",
    "INTRO_FILE = 'resources/overview.md'\n",
    "\n",
    "def read_file_contents(file_name):\n",
    "    ''''\n",
    "    Read the contents of a file.\n",
    "\n",
    "    Params:\n",
    "    ------\n",
    "    file_name: str\n",
    "        Path to file.\n",
    "\n",
    "    Returns:\n",
    "    -------\n",
    "    str\n",
    "    '''\n",
    "    with open(file_name) as f:\n",
    "        return f.read()\n",
    "\n",
    "##################################################################\n",
    "# MODIFICATION: Function to create plotly histogram\n",
    "def create_hist(results, column, value_label, marginal='box'):\n",
    "    '''\n",
    "    Create and return a plotly express histogram of\n",
    "    the results column\n",
    "    \n",
    "    Params:\n",
    "    -------\n",
    "    results: pd.DataFrame\n",
    "        Rows = replications, columns = KPIs\n",
    "        \n",
    "    column: str\n",
    "        Name of column in results to use\n",
    "        \n",
    "    value_label: str\n",
    "        X-axis label\n",
    "        \n",
    "    marginal: str, optional (default='box')\n",
    "        An additional plot to render above the histogram\n",
    "        options to try: box, violin, rug\n",
    "        \n",
    "    Returns:\n",
    "    ------\n",
    "    plotly.figure\n",
    "        \n",
    "    '''\n",
    "    fig = px.histogram(results[column], labels={'value':value_label},\n",
    "                       marginal=marginal)\n",
    "    # hide legend\n",
    "    fig.update(layout_showlegend=False)\n",
    "    \n",
    "    return fig\n",
    "#####################################################################\n",
    "\n",
    "# give the page a title\n",
    "st.title('Treatment Centre Simulation Model')\n",
    "\n",
    "# show the introductory markdown\n",
    "st.markdown(read_file_contents(INTRO_FILE))\n",
    "\n",
    "# create a sidebar for sliders\n",
    "with st.sidebar:\n",
    "    n_triage = st.slider('Triage bays', 1, 5, 1)\n",
    "    n_exam = st.slider('Exam rooms', 1, 5, 3)\n",
    "    n_cubicles_1 = st.slider('Non-Trauma Treatment cubicles', 1, 5, 1, \n",
    "                             help='Set the number of non trauma pathway '\n",
    "                             + 'treatment cubicles')\n",
    "\n",
    "    # examination mean\n",
    "    exam_mean = st.slider('Mean examination time', 10.0, 45.0, \n",
    "                           16.0, 1.0)\n",
    "\n",
    "    # runs\n",
    "    replications = st.slider('No. replications', 1, 50, 10)\n",
    "\n",
    "# Setup scenario using supplied variables\n",
    "args = Scenario(n_triage=n_triage, n_exam=n_exam, n_cubicles_1=n_cubicles_1,\n",
    "                exam_mean=exam_mean)\n",
    "\n",
    "# Only execute model if a streamlit button is pressed.\n",
    "if st.button('Simulate treatment centre'):\n",
    "\n",
    "    # in this example run a single replication of the model.\n",
    "    with st.spinner('Simulating the treatment centre...'):\n",
    "        results = multiple_replications(args, n_reps=replications)\n",
    "\n",
    "    st.success('Done!')\n",
    "\n",
    "    # display results using st.table (or st.dataframe)\n",
    "    st.table(results.mean().round(1))\n",
    "\n",
    "    # ######################################################################\n",
    "    # MODIFICATION: Show results of a KPI as histogram\n",
    "    fig = create_hist(results, column='03a_examination_wait', \n",
    "                  value_label='Mean examination waiting time',\n",
    "                  marginal='violin')\n",
    "\n",
    "    st.plotly_chart(fig, use_container_width=True)\n",
    "    ########################################################################\n",
    "```"
   ]
  },
  {
   "cell_type": "code",
   "execution_count": null,
   "id": "96138f06-eaa8-402b-b2a5-5de0c1c3ca97",
   "metadata": {},
   "outputs": [],
   "source": []
  }
 ],
 "metadata": {
  "kernelspec": {
   "display_name": "Python 3 (ipykernel)",
   "language": "python",
   "name": "python3"
  },
  "language_info": {
   "codemirror_mode": {
    "name": "ipython",
    "version": 3
   },
   "file_extension": ".py",
   "mimetype": "text/x-python",
   "name": "python",
   "nbconvert_exporter": "python",
   "pygments_lexer": "ipython3",
   "version": "3.9.16"
  }
 },
 "nbformat": 4,
 "nbformat_minor": 5
}

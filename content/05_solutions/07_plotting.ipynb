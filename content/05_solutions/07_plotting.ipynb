{
 "cells": [
  {
   "cell_type": "markdown",
   "id": "db0ad407-1b93-49ea-bab3-712079c6bd4e",
   "metadata": {},
   "source": [
    "# Adding a plot\n",
    "\n",
    "In this exercise we will again return to the treatment centre model.  We will enhance the app by adding in a simple plot."
   ]
  },
  {
   "cell_type": "markdown",
   "id": "0f8432dc-2624-4c55-b578-4d9fd74e28be",
   "metadata": {},
   "source": [
    "# Imports"
   ]
  },
  {
   "cell_type": "code",
   "execution_count": 8,
   "id": "cf14bc33-1a45-43bc-9188-b7dc20916a4a",
   "metadata": {},
   "outputs": [],
   "source": [
    "import plotly.express as px\n",
    "\n",
    "from treat_sim.model import Scenario, multiple_replications"
   ]
  },
  {
   "cell_type": "markdown",
   "id": "c6b58460-829b-4802-9979-1284fa7a6a37",
   "metadata": {},
   "source": [
    "## Exercise 1\n",
    "\n",
    "Create a new python file called `app_with_plot.py` and copy as paste in the code from `app_with_sidebar.py` shown below\n",
    "\n",
    "```python\n",
    "'''\n",
    "Script to complete a basic run of the model and display a table of\n",
    "results in a streamlit app.\n",
    "\n",
    "The model is imported from a pypi package 'treat_sim'\n",
    "\n",
    "Full documentation and source code for `treat_sim` is available as \n",
    "* Jupyter Book: https://tommonks.github.io/treatment-centre-sim/\n",
    "* github: https://github.com/TomMonks/treatment-centre-sim\n",
    "\n",
    "A conda environment has been provided locally,but the model can be pip installed\n",
    "`pip install treat_sim==1.0.0`\n",
    "'''\n",
    "from treat_sim.model import Scenario, multiple_replications\n",
    "import streamlit as st\n",
    "\n",
    "INTRO_FILE = 'resources/overview.md'\n",
    "\n",
    "def read_file_contents(file_name):\n",
    "    ''''\n",
    "    Read the contents of a file.\n",
    "\n",
    "    Params:\n",
    "    ------\n",
    "    file_name: str\n",
    "        Path to file.\n",
    "\n",
    "    Returns:\n",
    "    -------\n",
    "    str\n",
    "    '''\n",
    "    with open(file_name) as f:\n",
    "        return f.read()\n",
    "\n",
    "# give the page a title\n",
    "st.title('Treatment Centre Simulation Model')\n",
    "\n",
    "# show the introductory markdown\n",
    "st.markdown(read_file_contents(INTRO_FILE))\n",
    "\n",
    "################################################################################\n",
    "# MODIFICATION: create a sidebar for sliders\n",
    "with st.sidebar:\n",
    "    n_triage = st.slider('Triage bays', 1, 5, 1)\n",
    "    n_exam = st.slider('Exam rooms', 1, 5, 3)\n",
    "    n_cubicles_1 = st.slider('Non-Trauma Treatment cubicles', 1, 5, 1, \n",
    "                             help='Set the number of non trauma pathway '\n",
    "                             + 'treatment cubicles')\n",
    "\n",
    "    # examination mean\n",
    "    exam_mean = st.slider('Mean examination time', 10.0, 45.0, \n",
    "                           16.0, 1.0)\n",
    "\n",
    "    # runs\n",
    "    replications = st.slider('No. replications', 1, 50, 10)\n",
    "################################################################################\n",
    "\n",
    "# Setup scenario using supplied variables\n",
    "args = Scenario(n_triage=n_triage, n_exam=n_exam, n_cubicles_1=n_cubicles_1,\n",
    "                exam_mean=exam_mean)\n",
    "\n",
    "# Only execute model if a streamlit button is pressed.\n",
    "if st.button('Simulate treatment centre'):\n",
    "\n",
    "    # in this example run a single replication of the model.\n",
    "    with st.spinner('Simulating the treatment centre...'):\n",
    "        results = multiple_replications(args, n_reps=replications)\n",
    "\n",
    "    st.success('Done!')\n",
    "\n",
    "    # display results using st.table (or st.dataframe)\n",
    "    st.table(results.mean().round(1))\n",
    "\n",
    "```"
   ]
  },
  {
   "cell_type": "markdown",
   "id": "535f0d9c-84dc-4587-96eb-f7c5fadb215f",
   "metadata": {},
   "source": [
    "## Exercise 2\n",
    "\n",
    "The code below creates a`pandas.DataFrame` called `results` in the same format as code in the `app_with_plot.py`.\n",
    "\n",
    "Each row in the `DataFrame` is a replication and each column is a performance measure.  You can quickly run the code and view the format.\n",
    "\n",
    "**Task:**\n",
    "\n",
    "* Create a function called `create_hist()`. The function should accept `results` and create a histogram of the results of a performance measure of your choice.  For example, `03a_examination_wait`. \n",
    "* The function should return a `plotly` figure object to the calling code. It is recommended you use the `fig` naming convention.\n",
    "* Include a violin plot above the histogram using plotly express.\n",
    "\n",
    "**Hints**:\n",
    "* It is recommended that you complete this exercise in the Jupyter notebook before modifying `app_with_plot.py`\n",
    "* At the top of this notebook we have imported `plotly.express`\n",
    "* To have a useful histogram you may want to run more than 10 replications. e.g. 50 to 100.\n",
    "* Jupyter notebooks will render the histogram with calling `fig.show()`, just leave the last line of code in a cell as `fig`.  In a python module you will need to call `fig.show()`"
   ]
  },
  {
   "cell_type": "code",
   "execution_count": 12,
   "id": "2de7b589-6773-47c3-90d5-782d159d4589",
   "metadata": {},
   "outputs": [
    {
     "name": "stdout",
     "output_type": "stream",
     "text": [
      "<class 'pandas.core.frame.DataFrame'>\n",
      "Int64Index: 50 entries, 1 to 50\n",
      "Data columns (total 16 columns):\n",
      " #   Column                          Non-Null Count  Dtype  \n",
      "---  ------                          --------------  -----  \n",
      " 0   00_arrivals                     50 non-null     float64\n",
      " 1   01a_triage_wait                 50 non-null     float64\n",
      " 2   01b_triage_util                 50 non-null     float64\n",
      " 3   02a_registration_wait           50 non-null     float64\n",
      " 4   02b_registration_util           50 non-null     float64\n",
      " 5   03a_examination_wait            50 non-null     float64\n",
      " 6   03b_examination_util            50 non-null     float64\n",
      " 7   04a_treatment_wait(non_trauma)  50 non-null     float64\n",
      " 8   04b_treatment_util(non_trauma)  50 non-null     float64\n",
      " 9   05_total_time(non-trauma)       50 non-null     float64\n",
      " 10  06a_trauma_wait                 50 non-null     float64\n",
      " 11  06b_trauma_util                 50 non-null     float64\n",
      " 12  07a_treatment_wait(trauma)      50 non-null     float64\n",
      " 13  07b_treatment_util(trauma)      50 non-null     float64\n",
      " 14  08_total_time(trauma)           50 non-null     float64\n",
      " 15  09_throughput                   50 non-null     float64\n",
      "dtypes: float64(16)\n",
      "memory usage: 6.6 KB\n"
     ]
    }
   ],
   "source": [
    "default_scenario = Scenario()\n",
    "results = multiple_replications(default_scenario, n_reps=50)\n",
    "results.info()"
   ]
  },
  {
   "cell_type": "code",
   "execution_count": 13,
   "id": "1e03a3b8-4f27-406f-88d4-aca832bbf957",
   "metadata": {},
   "outputs": [],
   "source": [
    "def create_hist(results, column, value_label, marginal='box'):\n",
    "    '''\n",
    "    Create and return a plotly express histogram of\n",
    "    the results column\n",
    "    \n",
    "    Params:\n",
    "    -------\n",
    "    results: pd.DataFrame\n",
    "        Rows = replications, columns = KPIs\n",
    "        \n",
    "    column: str\n",
    "        Name of column in results to use\n",
    "        \n",
    "    value_label: str\n",
    "        X-axis label\n",
    "        \n",
    "    marginal: str, optional (default='box')\n",
    "        An additional plot to render above the histogram\n",
    "        options to try: box, violin, rug\n",
    "        \n",
    "    Returns:\n",
    "    ------\n",
    "    plotly.figure\n",
    "        \n",
    "    '''\n",
    "    fig = px.histogram(results[column], labels={'value':value_label},\n",
    "                       marginal=marginal)\n",
    "    # hide legend\n",
    "    fig.update(layout_showlegend=False)\n",
    "    \n",
    "    return fig"
   ]
  },
  {
   "cell_type": "code",
   "execution_count": 16,
   "id": "8f1488da-b536-4b6a-b988-6acab6903635",
   "metadata": {},
   "outputs": [
    {
     "data": {
      "application/vnd.plotly.v1+json": {
       "config": {
        "plotlyServerURL": "https://plot.ly"
       },
       "data": [
        {
         "alignmentgroup": "True",
         "bingroup": "x",
         "hovertemplate": "variable=03a_examination_wait<br>Mean examination waiting time=%{x}<br>count=%{y}<extra></extra>",
         "legendgroup": "03a_examination_wait",
         "marker": {
          "color": "#636efa",
          "pattern": {
           "shape": ""
          }
         },
         "name": "03a_examination_wait",
         "offsetgroup": "03a_examination_wait",
         "orientation": "v",
         "showlegend": true,
         "type": "histogram",
         "x": [
          28.478641578907936,
          16.32817873295442,
          18.4002798601575,
          35.42443957630112,
          36.254401156933156,
          24.14902522437214,
          30.028974329227594,
          31.18993493878721,
          29.642379438205783,
          25.3749350496724,
          24.239778912922088,
          18.428593671181368,
          10.840605252887434,
          23.389521903532646,
          28.614144501815414,
          14.039685806609363,
          36.356651545463194,
          15.988430673512921,
          26.0583737132257,
          19.534332408838537,
          22.740256965679833,
          10.60834882292233,
          41.696347226648555,
          29.159237140200922,
          20.46435727979445,
          18.119543366597576,
          33.3096451998393,
          25.877961014687568,
          26.63279241881874,
          8.183236285507599,
          32.80604915248188,
          42.58007952414658,
          13.4637023707959,
          35.72191233217777,
          22.96061614184804,
          17.523346347457895,
          33.23465076644108,
          21.97820281228799,
          16.824212653168594,
          34.96015080569626,
          28.637486658455785,
          24.202508114597652,
          27.73581114474837,
          23.943267943566504,
          22.314717591552256,
          23.692053561649228,
          24.496422557304143,
          23.658986318162416,
          30.642092597277475,
          8.370004739984696
         ],
         "xaxis": "x",
         "yaxis": "y"
        },
        {
         "alignmentgroup": "True",
         "hovertemplate": "variable=03a_examination_wait<br>Mean examination waiting time=%{x}<extra></extra>",
         "legendgroup": "03a_examination_wait",
         "marker": {
          "color": "#636efa"
         },
         "name": "03a_examination_wait",
         "offsetgroup": "03a_examination_wait",
         "scalegroup": "x",
         "showlegend": false,
         "type": "violin",
         "x": [
          28.478641578907936,
          16.32817873295442,
          18.4002798601575,
          35.42443957630112,
          36.254401156933156,
          24.14902522437214,
          30.028974329227594,
          31.18993493878721,
          29.642379438205783,
          25.3749350496724,
          24.239778912922088,
          18.428593671181368,
          10.840605252887434,
          23.389521903532646,
          28.614144501815414,
          14.039685806609363,
          36.356651545463194,
          15.988430673512921,
          26.0583737132257,
          19.534332408838537,
          22.740256965679833,
          10.60834882292233,
          41.696347226648555,
          29.159237140200922,
          20.46435727979445,
          18.119543366597576,
          33.3096451998393,
          25.877961014687568,
          26.63279241881874,
          8.183236285507599,
          32.80604915248188,
          42.58007952414658,
          13.4637023707959,
          35.72191233217777,
          22.96061614184804,
          17.523346347457895,
          33.23465076644108,
          21.97820281228799,
          16.824212653168594,
          34.96015080569626,
          28.637486658455785,
          24.202508114597652,
          27.73581114474837,
          23.943267943566504,
          22.314717591552256,
          23.692053561649228,
          24.496422557304143,
          23.658986318162416,
          30.642092597277475,
          8.370004739984696
         ],
         "xaxis": "x2",
         "yaxis": "y2"
        }
       ],
       "layout": {
        "autosize": true,
        "barmode": "relative",
        "legend": {
         "title": {
          "text": "variable"
         },
         "tracegroupgap": 0
        },
        "margin": {
         "t": 60
        },
        "showlegend": false,
        "template": {
         "data": {
          "bar": [
           {
            "error_x": {
             "color": "#2a3f5f"
            },
            "error_y": {
             "color": "#2a3f5f"
            },
            "marker": {
             "line": {
              "color": "#E5ECF6",
              "width": 0.5
             },
             "pattern": {
              "fillmode": "overlay",
              "size": 10,
              "solidity": 0.2
             }
            },
            "type": "bar"
           }
          ],
          "barpolar": [
           {
            "marker": {
             "line": {
              "color": "#E5ECF6",
              "width": 0.5
             },
             "pattern": {
              "fillmode": "overlay",
              "size": 10,
              "solidity": 0.2
             }
            },
            "type": "barpolar"
           }
          ],
          "carpet": [
           {
            "aaxis": {
             "endlinecolor": "#2a3f5f",
             "gridcolor": "white",
             "linecolor": "white",
             "minorgridcolor": "white",
             "startlinecolor": "#2a3f5f"
            },
            "baxis": {
             "endlinecolor": "#2a3f5f",
             "gridcolor": "white",
             "linecolor": "white",
             "minorgridcolor": "white",
             "startlinecolor": "#2a3f5f"
            },
            "type": "carpet"
           }
          ],
          "choropleth": [
           {
            "colorbar": {
             "outlinewidth": 0,
             "ticks": ""
            },
            "type": "choropleth"
           }
          ],
          "contour": [
           {
            "colorbar": {
             "outlinewidth": 0,
             "ticks": ""
            },
            "colorscale": [
             [
              0,
              "#0d0887"
             ],
             [
              0.1111111111111111,
              "#46039f"
             ],
             [
              0.2222222222222222,
              "#7201a8"
             ],
             [
              0.3333333333333333,
              "#9c179e"
             ],
             [
              0.4444444444444444,
              "#bd3786"
             ],
             [
              0.5555555555555556,
              "#d8576b"
             ],
             [
              0.6666666666666666,
              "#ed7953"
             ],
             [
              0.7777777777777778,
              "#fb9f3a"
             ],
             [
              0.8888888888888888,
              "#fdca26"
             ],
             [
              1,
              "#f0f921"
             ]
            ],
            "type": "contour"
           }
          ],
          "contourcarpet": [
           {
            "colorbar": {
             "outlinewidth": 0,
             "ticks": ""
            },
            "type": "contourcarpet"
           }
          ],
          "heatmap": [
           {
            "colorbar": {
             "outlinewidth": 0,
             "ticks": ""
            },
            "colorscale": [
             [
              0,
              "#0d0887"
             ],
             [
              0.1111111111111111,
              "#46039f"
             ],
             [
              0.2222222222222222,
              "#7201a8"
             ],
             [
              0.3333333333333333,
              "#9c179e"
             ],
             [
              0.4444444444444444,
              "#bd3786"
             ],
             [
              0.5555555555555556,
              "#d8576b"
             ],
             [
              0.6666666666666666,
              "#ed7953"
             ],
             [
              0.7777777777777778,
              "#fb9f3a"
             ],
             [
              0.8888888888888888,
              "#fdca26"
             ],
             [
              1,
              "#f0f921"
             ]
            ],
            "type": "heatmap"
           }
          ],
          "heatmapgl": [
           {
            "colorbar": {
             "outlinewidth": 0,
             "ticks": ""
            },
            "colorscale": [
             [
              0,
              "#0d0887"
             ],
             [
              0.1111111111111111,
              "#46039f"
             ],
             [
              0.2222222222222222,
              "#7201a8"
             ],
             [
              0.3333333333333333,
              "#9c179e"
             ],
             [
              0.4444444444444444,
              "#bd3786"
             ],
             [
              0.5555555555555556,
              "#d8576b"
             ],
             [
              0.6666666666666666,
              "#ed7953"
             ],
             [
              0.7777777777777778,
              "#fb9f3a"
             ],
             [
              0.8888888888888888,
              "#fdca26"
             ],
             [
              1,
              "#f0f921"
             ]
            ],
            "type": "heatmapgl"
           }
          ],
          "histogram": [
           {
            "marker": {
             "pattern": {
              "fillmode": "overlay",
              "size": 10,
              "solidity": 0.2
             }
            },
            "type": "histogram"
           }
          ],
          "histogram2d": [
           {
            "colorbar": {
             "outlinewidth": 0,
             "ticks": ""
            },
            "colorscale": [
             [
              0,
              "#0d0887"
             ],
             [
              0.1111111111111111,
              "#46039f"
             ],
             [
              0.2222222222222222,
              "#7201a8"
             ],
             [
              0.3333333333333333,
              "#9c179e"
             ],
             [
              0.4444444444444444,
              "#bd3786"
             ],
             [
              0.5555555555555556,
              "#d8576b"
             ],
             [
              0.6666666666666666,
              "#ed7953"
             ],
             [
              0.7777777777777778,
              "#fb9f3a"
             ],
             [
              0.8888888888888888,
              "#fdca26"
             ],
             [
              1,
              "#f0f921"
             ]
            ],
            "type": "histogram2d"
           }
          ],
          "histogram2dcontour": [
           {
            "colorbar": {
             "outlinewidth": 0,
             "ticks": ""
            },
            "colorscale": [
             [
              0,
              "#0d0887"
             ],
             [
              0.1111111111111111,
              "#46039f"
             ],
             [
              0.2222222222222222,
              "#7201a8"
             ],
             [
              0.3333333333333333,
              "#9c179e"
             ],
             [
              0.4444444444444444,
              "#bd3786"
             ],
             [
              0.5555555555555556,
              "#d8576b"
             ],
             [
              0.6666666666666666,
              "#ed7953"
             ],
             [
              0.7777777777777778,
              "#fb9f3a"
             ],
             [
              0.8888888888888888,
              "#fdca26"
             ],
             [
              1,
              "#f0f921"
             ]
            ],
            "type": "histogram2dcontour"
           }
          ],
          "mesh3d": [
           {
            "colorbar": {
             "outlinewidth": 0,
             "ticks": ""
            },
            "type": "mesh3d"
           }
          ],
          "parcoords": [
           {
            "line": {
             "colorbar": {
              "outlinewidth": 0,
              "ticks": ""
             }
            },
            "type": "parcoords"
           }
          ],
          "pie": [
           {
            "automargin": true,
            "type": "pie"
           }
          ],
          "scatter": [
           {
            "fillpattern": {
             "fillmode": "overlay",
             "size": 10,
             "solidity": 0.2
            },
            "type": "scatter"
           }
          ],
          "scatter3d": [
           {
            "line": {
             "colorbar": {
              "outlinewidth": 0,
              "ticks": ""
             }
            },
            "marker": {
             "colorbar": {
              "outlinewidth": 0,
              "ticks": ""
             }
            },
            "type": "scatter3d"
           }
          ],
          "scattercarpet": [
           {
            "marker": {
             "colorbar": {
              "outlinewidth": 0,
              "ticks": ""
             }
            },
            "type": "scattercarpet"
           }
          ],
          "scattergeo": [
           {
            "marker": {
             "colorbar": {
              "outlinewidth": 0,
              "ticks": ""
             }
            },
            "type": "scattergeo"
           }
          ],
          "scattergl": [
           {
            "marker": {
             "colorbar": {
              "outlinewidth": 0,
              "ticks": ""
             }
            },
            "type": "scattergl"
           }
          ],
          "scattermapbox": [
           {
            "marker": {
             "colorbar": {
              "outlinewidth": 0,
              "ticks": ""
             }
            },
            "type": "scattermapbox"
           }
          ],
          "scatterpolar": [
           {
            "marker": {
             "colorbar": {
              "outlinewidth": 0,
              "ticks": ""
             }
            },
            "type": "scatterpolar"
           }
          ],
          "scatterpolargl": [
           {
            "marker": {
             "colorbar": {
              "outlinewidth": 0,
              "ticks": ""
             }
            },
            "type": "scatterpolargl"
           }
          ],
          "scatterternary": [
           {
            "marker": {
             "colorbar": {
              "outlinewidth": 0,
              "ticks": ""
             }
            },
            "type": "scatterternary"
           }
          ],
          "surface": [
           {
            "colorbar": {
             "outlinewidth": 0,
             "ticks": ""
            },
            "colorscale": [
             [
              0,
              "#0d0887"
             ],
             [
              0.1111111111111111,
              "#46039f"
             ],
             [
              0.2222222222222222,
              "#7201a8"
             ],
             [
              0.3333333333333333,
              "#9c179e"
             ],
             [
              0.4444444444444444,
              "#bd3786"
             ],
             [
              0.5555555555555556,
              "#d8576b"
             ],
             [
              0.6666666666666666,
              "#ed7953"
             ],
             [
              0.7777777777777778,
              "#fb9f3a"
             ],
             [
              0.8888888888888888,
              "#fdca26"
             ],
             [
              1,
              "#f0f921"
             ]
            ],
            "type": "surface"
           }
          ],
          "table": [
           {
            "cells": {
             "fill": {
              "color": "#EBF0F8"
             },
             "line": {
              "color": "white"
             }
            },
            "header": {
             "fill": {
              "color": "#C8D4E3"
             },
             "line": {
              "color": "white"
             }
            },
            "type": "table"
           }
          ]
         },
         "layout": {
          "annotationdefaults": {
           "arrowcolor": "#2a3f5f",
           "arrowhead": 0,
           "arrowwidth": 1
          },
          "autotypenumbers": "strict",
          "coloraxis": {
           "colorbar": {
            "outlinewidth": 0,
            "ticks": ""
           }
          },
          "colorscale": {
           "diverging": [
            [
             0,
             "#8e0152"
            ],
            [
             0.1,
             "#c51b7d"
            ],
            [
             0.2,
             "#de77ae"
            ],
            [
             0.3,
             "#f1b6da"
            ],
            [
             0.4,
             "#fde0ef"
            ],
            [
             0.5,
             "#f7f7f7"
            ],
            [
             0.6,
             "#e6f5d0"
            ],
            [
             0.7,
             "#b8e186"
            ],
            [
             0.8,
             "#7fbc41"
            ],
            [
             0.9,
             "#4d9221"
            ],
            [
             1,
             "#276419"
            ]
           ],
           "sequential": [
            [
             0,
             "#0d0887"
            ],
            [
             0.1111111111111111,
             "#46039f"
            ],
            [
             0.2222222222222222,
             "#7201a8"
            ],
            [
             0.3333333333333333,
             "#9c179e"
            ],
            [
             0.4444444444444444,
             "#bd3786"
            ],
            [
             0.5555555555555556,
             "#d8576b"
            ],
            [
             0.6666666666666666,
             "#ed7953"
            ],
            [
             0.7777777777777778,
             "#fb9f3a"
            ],
            [
             0.8888888888888888,
             "#fdca26"
            ],
            [
             1,
             "#f0f921"
            ]
           ],
           "sequentialminus": [
            [
             0,
             "#0d0887"
            ],
            [
             0.1111111111111111,
             "#46039f"
            ],
            [
             0.2222222222222222,
             "#7201a8"
            ],
            [
             0.3333333333333333,
             "#9c179e"
            ],
            [
             0.4444444444444444,
             "#bd3786"
            ],
            [
             0.5555555555555556,
             "#d8576b"
            ],
            [
             0.6666666666666666,
             "#ed7953"
            ],
            [
             0.7777777777777778,
             "#fb9f3a"
            ],
            [
             0.8888888888888888,
             "#fdca26"
            ],
            [
             1,
             "#f0f921"
            ]
           ]
          },
          "colorway": [
           "#636efa",
           "#EF553B",
           "#00cc96",
           "#ab63fa",
           "#FFA15A",
           "#19d3f3",
           "#FF6692",
           "#B6E880",
           "#FF97FF",
           "#FECB52"
          ],
          "font": {
           "color": "#2a3f5f"
          },
          "geo": {
           "bgcolor": "white",
           "lakecolor": "white",
           "landcolor": "#E5ECF6",
           "showlakes": true,
           "showland": true,
           "subunitcolor": "white"
          },
          "hoverlabel": {
           "align": "left"
          },
          "hovermode": "closest",
          "mapbox": {
           "style": "light"
          },
          "paper_bgcolor": "white",
          "plot_bgcolor": "#E5ECF6",
          "polar": {
           "angularaxis": {
            "gridcolor": "white",
            "linecolor": "white",
            "ticks": ""
           },
           "bgcolor": "#E5ECF6",
           "radialaxis": {
            "gridcolor": "white",
            "linecolor": "white",
            "ticks": ""
           }
          },
          "scene": {
           "xaxis": {
            "backgroundcolor": "#E5ECF6",
            "gridcolor": "white",
            "gridwidth": 2,
            "linecolor": "white",
            "showbackground": true,
            "ticks": "",
            "zerolinecolor": "white"
           },
           "yaxis": {
            "backgroundcolor": "#E5ECF6",
            "gridcolor": "white",
            "gridwidth": 2,
            "linecolor": "white",
            "showbackground": true,
            "ticks": "",
            "zerolinecolor": "white"
           },
           "zaxis": {
            "backgroundcolor": "#E5ECF6",
            "gridcolor": "white",
            "gridwidth": 2,
            "linecolor": "white",
            "showbackground": true,
            "ticks": "",
            "zerolinecolor": "white"
           }
          },
          "shapedefaults": {
           "line": {
            "color": "#2a3f5f"
           }
          },
          "ternary": {
           "aaxis": {
            "gridcolor": "white",
            "linecolor": "white",
            "ticks": ""
           },
           "baxis": {
            "gridcolor": "white",
            "linecolor": "white",
            "ticks": ""
           },
           "bgcolor": "#E5ECF6",
           "caxis": {
            "gridcolor": "white",
            "linecolor": "white",
            "ticks": ""
           }
          },
          "title": {
           "x": 0.05
          },
          "xaxis": {
           "automargin": true,
           "gridcolor": "white",
           "linecolor": "white",
           "ticks": "",
           "title": {
            "standoff": 15
           },
           "zerolinecolor": "white",
           "zerolinewidth": 2
          },
          "yaxis": {
           "automargin": true,
           "gridcolor": "white",
           "linecolor": "white",
           "ticks": "",
           "title": {
            "standoff": 15
           },
           "zerolinecolor": "white",
           "zerolinewidth": 2
          }
         }
        },
        "xaxis": {
         "anchor": "y",
         "autorange": true,
         "domain": [
          0,
          1
         ],
         "range": [
          -2.5132566160401044,
          53.27657242569429
         ],
         "title": {
          "text": "Mean examination waiting time"
         },
         "type": "linear"
        },
        "xaxis2": {
         "anchor": "y2",
         "autorange": true,
         "domain": [
          0,
          1
         ],
         "matches": "x",
         "range": [
          -2.5132566160401044,
          53.27657242569429
         ],
         "showgrid": true,
         "showticklabels": false,
         "type": "linear"
        },
        "yaxis": {
         "anchor": "x",
         "autorange": true,
         "domain": [
          0,
          0.7326
         ],
         "range": [
          0,
          13.68421052631579
         ],
         "title": {
          "text": "count"
         }
        },
        "yaxis2": {
         "anchor": "x2",
         "autorange": true,
         "domain": [
          0.7426,
          1
         ],
         "matches": "y2",
         "range": [
          -0.5,
          0.5
         ],
         "showgrid": false,
         "showline": false,
         "showticklabels": false,
         "ticks": "",
         "type": "category"
        }
       }
      },
      "image/png": "[encoded data removed]",
      "text/html": [
       "<div>                            <div id=\"a7c02744-415e-4398-91fb-8c1281aaf433\" class=\"plotly-graph-div\" style=\"height:525px; width:100%;\"></div>            <script type=\"text/javascript\">                require([\"plotly\"], function(Plotly) {                    window.PLOTLYENV=window.PLOTLYENV || {};                                    if (document.getElementById(\"a7c02744-415e-4398-91fb-8c1281aaf433\")) {                    Plotly.newPlot(                        \"a7c02744-415e-4398-91fb-8c1281aaf433\",                        [{\"alignmentgroup\":\"True\",\"bingroup\":\"x\",\"hovertemplate\":\"variable=03a_examination_wait\\u003cbr\\u003eMean examination waiting time=%{x}\\u003cbr\\u003ecount=%{y}\\u003cextra\\u003e\\u003c\\u002fextra\\u003e\",\"legendgroup\":\"03a_examination_wait\",\"marker\":{\"color\":\"#636efa\",\"pattern\":{\"shape\":\"\"}},\"name\":\"03a_examination_wait\",\"offsetgroup\":\"03a_examination_wait\",\"orientation\":\"v\",\"showlegend\":true,\"x\":[28.478641578907936,16.32817873295442,18.4002798601575,35.42443957630112,36.254401156933156,24.14902522437214,30.028974329227594,31.18993493878721,29.642379438205783,25.3749350496724,24.239778912922088,18.428593671181368,10.840605252887434,23.389521903532646,28.614144501815414,14.039685806609363,36.356651545463194,15.988430673512921,26.0583737132257,19.534332408838537,22.740256965679833,10.60834882292233,41.696347226648555,29.159237140200922,20.46435727979445,18.119543366597576,33.3096451998393,25.877961014687568,26.63279241881874,8.183236285507599,32.80604915248188,42.58007952414658,13.4637023707959,35.72191233217777,22.96061614184804,17.523346347457895,33.23465076644108,21.97820281228799,16.824212653168594,34.96015080569626,28.637486658455785,24.202508114597652,27.73581114474837,23.943267943566504,22.314717591552256,23.692053561649228,24.496422557304143,23.658986318162416,30.642092597277475,8.370004739984696],\"xaxis\":\"x\",\"yaxis\":\"y\",\"type\":\"histogram\"},{\"alignmentgroup\":\"True\",\"hovertemplate\":\"variable=03a_examination_wait\\u003cbr\\u003eMean examination waiting time=%{x}\\u003cextra\\u003e\\u003c\\u002fextra\\u003e\",\"legendgroup\":\"03a_examination_wait\",\"marker\":{\"color\":\"#636efa\"},\"name\":\"03a_examination_wait\",\"offsetgroup\":\"03a_examination_wait\",\"scalegroup\":\"x\",\"showlegend\":false,\"x\":[28.478641578907936,16.32817873295442,18.4002798601575,35.42443957630112,36.254401156933156,24.14902522437214,30.028974329227594,31.18993493878721,29.642379438205783,25.3749350496724,24.239778912922088,18.428593671181368,10.840605252887434,23.389521903532646,28.614144501815414,14.039685806609363,36.356651545463194,15.988430673512921,26.0583737132257,19.534332408838537,22.740256965679833,10.60834882292233,41.696347226648555,29.159237140200922,20.46435727979445,18.119543366597576,33.3096451998393,25.877961014687568,26.63279241881874,8.183236285507599,32.80604915248188,42.58007952414658,13.4637023707959,35.72191233217777,22.96061614184804,17.523346347457895,33.23465076644108,21.97820281228799,16.824212653168594,34.96015080569626,28.637486658455785,24.202508114597652,27.73581114474837,23.943267943566504,22.314717591552256,23.692053561649228,24.496422557304143,23.658986318162416,30.642092597277475,8.370004739984696],\"xaxis\":\"x2\",\"yaxis\":\"y2\",\"type\":\"violin\"}],                        {\"template\":{\"data\":{\"histogram2dcontour\":[{\"type\":\"histogram2dcontour\",\"colorbar\":{\"outlinewidth\":0,\"ticks\":\"\"},\"colorscale\":[[0.0,\"#0d0887\"],[0.1111111111111111,\"#46039f\"],[0.2222222222222222,\"#7201a8\"],[0.3333333333333333,\"#9c179e\"],[0.4444444444444444,\"#bd3786\"],[0.5555555555555556,\"#d8576b\"],[0.6666666666666666,\"#ed7953\"],[0.7777777777777778,\"#fb9f3a\"],[0.8888888888888888,\"#fdca26\"],[1.0,\"#f0f921\"]]}],\"choropleth\":[{\"type\":\"choropleth\",\"colorbar\":{\"outlinewidth\":0,\"ticks\":\"\"}}],\"histogram2d\":[{\"type\":\"histogram2d\",\"colorbar\":{\"outlinewidth\":0,\"ticks\":\"\"},\"colorscale\":[[0.0,\"#0d0887\"],[0.1111111111111111,\"#46039f\"],[0.2222222222222222,\"#7201a8\"],[0.3333333333333333,\"#9c179e\"],[0.4444444444444444,\"#bd3786\"],[0.5555555555555556,\"#d8576b\"],[0.6666666666666666,\"#ed7953\"],[0.7777777777777778,\"#fb9f3a\"],[0.8888888888888888,\"#fdca26\"],[1.0,\"#f0f921\"]]}],\"heatmap\":[{\"type\":\"heatmap\",\"colorbar\":{\"outlinewidth\":0,\"ticks\":\"\"},\"colorscale\":[[0.0,\"#0d0887\"],[0.1111111111111111,\"#46039f\"],[0.2222222222222222,\"#7201a8\"],[0.3333333333333333,\"#9c179e\"],[0.4444444444444444,\"#bd3786\"],[0.5555555555555556,\"#d8576b\"],[0.6666666666666666,\"#ed7953\"],[0.7777777777777778,\"#fb9f3a\"],[0.8888888888888888,\"#fdca26\"],[1.0,\"#f0f921\"]]}],\"heatmapgl\":[{\"type\":\"heatmapgl\",\"colorbar\":{\"outlinewidth\":0,\"ticks\":\"\"},\"colorscale\":[[0.0,\"#0d0887\"],[0.1111111111111111,\"#46039f\"],[0.2222222222222222,\"#7201a8\"],[0.3333333333333333,\"#9c179e\"],[0.4444444444444444,\"#bd3786\"],[0.5555555555555556,\"#d8576b\"],[0.6666666666666666,\"#ed7953\"],[0.7777777777777778,\"#fb9f3a\"],[0.8888888888888888,\"#fdca26\"],[1.0,\"#f0f921\"]]}],\"contourcarpet\":[{\"type\":\"contourcarpet\",\"colorbar\":{\"outlinewidth\":0,\"ticks\":\"\"}}],\"contour\":[{\"type\":\"contour\",\"colorbar\":{\"outlinewidth\":0,\"ticks\":\"\"},\"colorscale\":[[0.0,\"#0d0887\"],[0.1111111111111111,\"#46039f\"],[0.2222222222222222,\"#7201a8\"],[0.3333333333333333,\"#9c179e\"],[0.4444444444444444,\"#bd3786\"],[0.5555555555555556,\"#d8576b\"],[0.6666666666666666,\"#ed7953\"],[0.7777777777777778,\"#fb9f3a\"],[0.8888888888888888,\"#fdca26\"],[1.0,\"#f0f921\"]]}],\"surface\":[{\"type\":\"surface\",\"colorbar\":{\"outlinewidth\":0,\"ticks\":\"\"},\"colorscale\":[[0.0,\"#0d0887\"],[0.1111111111111111,\"#46039f\"],[0.2222222222222222,\"#7201a8\"],[0.3333333333333333,\"#9c179e\"],[0.4444444444444444,\"#bd3786\"],[0.5555555555555556,\"#d8576b\"],[0.6666666666666666,\"#ed7953\"],[0.7777777777777778,\"#fb9f3a\"],[0.8888888888888888,\"#fdca26\"],[1.0,\"#f0f921\"]]}],\"mesh3d\":[{\"type\":\"mesh3d\",\"colorbar\":{\"outlinewidth\":0,\"ticks\":\"\"}}],\"scatter\":[{\"fillpattern\":{\"fillmode\":\"overlay\",\"size\":10,\"solidity\":0.2},\"type\":\"scatter\"}],\"parcoords\":[{\"type\":\"parcoords\",\"line\":{\"colorbar\":{\"outlinewidth\":0,\"ticks\":\"\"}}}],\"scatterpolargl\":[{\"type\":\"scatterpolargl\",\"marker\":{\"colorbar\":{\"outlinewidth\":0,\"ticks\":\"\"}}}],\"bar\":[{\"error_x\":{\"color\":\"#2a3f5f\"},\"error_y\":{\"color\":\"#2a3f5f\"},\"marker\":{\"line\":{\"color\":\"#E5ECF6\",\"width\":0.5},\"pattern\":{\"fillmode\":\"overlay\",\"size\":10,\"solidity\":0.2}},\"type\":\"bar\"}],\"scattergeo\":[{\"type\":\"scattergeo\",\"marker\":{\"colorbar\":{\"outlinewidth\":0,\"ticks\":\"\"}}}],\"scatterpolar\":[{\"type\":\"scatterpolar\",\"marker\":{\"colorbar\":{\"outlinewidth\":0,\"ticks\":\"\"}}}],\"histogram\":[{\"marker\":{\"pattern\":{\"fillmode\":\"overlay\",\"size\":10,\"solidity\":0.2}},\"type\":\"histogram\"}],\"scattergl\":[{\"type\":\"scattergl\",\"marker\":{\"colorbar\":{\"outlinewidth\":0,\"ticks\":\"\"}}}],\"scatter3d\":[{\"type\":\"scatter3d\",\"line\":{\"colorbar\":{\"outlinewidth\":0,\"ticks\":\"\"}},\"marker\":{\"colorbar\":{\"outlinewidth\":0,\"ticks\":\"\"}}}],\"scattermapbox\":[{\"type\":\"scattermapbox\",\"marker\":{\"colorbar\":{\"outlinewidth\":0,\"ticks\":\"\"}}}],\"scatterternary\":[{\"type\":\"scatterternary\",\"marker\":{\"colorbar\":{\"outlinewidth\":0,\"ticks\":\"\"}}}],\"scattercarpet\":[{\"type\":\"scattercarpet\",\"marker\":{\"colorbar\":{\"outlinewidth\":0,\"ticks\":\"\"}}}],\"carpet\":[{\"aaxis\":{\"endlinecolor\":\"#2a3f5f\",\"gridcolor\":\"white\",\"linecolor\":\"white\",\"minorgridcolor\":\"white\",\"startlinecolor\":\"#2a3f5f\"},\"baxis\":{\"endlinecolor\":\"#2a3f5f\",\"gridcolor\":\"white\",\"linecolor\":\"white\",\"minorgridcolor\":\"white\",\"startlinecolor\":\"#2a3f5f\"},\"type\":\"carpet\"}],\"table\":[{\"cells\":{\"fill\":{\"color\":\"#EBF0F8\"},\"line\":{\"color\":\"white\"}},\"header\":{\"fill\":{\"color\":\"#C8D4E3\"},\"line\":{\"color\":\"white\"}},\"type\":\"table\"}],\"barpolar\":[{\"marker\":{\"line\":{\"color\":\"#E5ECF6\",\"width\":0.5},\"pattern\":{\"fillmode\":\"overlay\",\"size\":10,\"solidity\":0.2}},\"type\":\"barpolar\"}],\"pie\":[{\"automargin\":true,\"type\":\"pie\"}]},\"layout\":{\"autotypenumbers\":\"strict\",\"colorway\":[\"#636efa\",\"#EF553B\",\"#00cc96\",\"#ab63fa\",\"#FFA15A\",\"#19d3f3\",\"#FF6692\",\"#B6E880\",\"#FF97FF\",\"#FECB52\"],\"font\":{\"color\":\"#2a3f5f\"},\"hovermode\":\"closest\",\"hoverlabel\":{\"align\":\"left\"},\"paper_bgcolor\":\"white\",\"plot_bgcolor\":\"#E5ECF6\",\"polar\":{\"bgcolor\":\"#E5ECF6\",\"angularaxis\":{\"gridcolor\":\"white\",\"linecolor\":\"white\",\"ticks\":\"\"},\"radialaxis\":{\"gridcolor\":\"white\",\"linecolor\":\"white\",\"ticks\":\"\"}},\"ternary\":{\"bgcolor\":\"#E5ECF6\",\"aaxis\":{\"gridcolor\":\"white\",\"linecolor\":\"white\",\"ticks\":\"\"},\"baxis\":{\"gridcolor\":\"white\",\"linecolor\":\"white\",\"ticks\":\"\"},\"caxis\":{\"gridcolor\":\"white\",\"linecolor\":\"white\",\"ticks\":\"\"}},\"coloraxis\":{\"colorbar\":{\"outlinewidth\":0,\"ticks\":\"\"}},\"colorscale\":{\"sequential\":[[0.0,\"#0d0887\"],[0.1111111111111111,\"#46039f\"],[0.2222222222222222,\"#7201a8\"],[0.3333333333333333,\"#9c179e\"],[0.4444444444444444,\"#bd3786\"],[0.5555555555555556,\"#d8576b\"],[0.6666666666666666,\"#ed7953\"],[0.7777777777777778,\"#fb9f3a\"],[0.8888888888888888,\"#fdca26\"],[1.0,\"#f0f921\"]],\"sequentialminus\":[[0.0,\"#0d0887\"],[0.1111111111111111,\"#46039f\"],[0.2222222222222222,\"#7201a8\"],[0.3333333333333333,\"#9c179e\"],[0.4444444444444444,\"#bd3786\"],[0.5555555555555556,\"#d8576b\"],[0.6666666666666666,\"#ed7953\"],[0.7777777777777778,\"#fb9f3a\"],[0.8888888888888888,\"#fdca26\"],[1.0,\"#f0f921\"]],\"diverging\":[[0,\"#8e0152\"],[0.1,\"#c51b7d\"],[0.2,\"#de77ae\"],[0.3,\"#f1b6da\"],[0.4,\"#fde0ef\"],[0.5,\"#f7f7f7\"],[0.6,\"#e6f5d0\"],[0.7,\"#b8e186\"],[0.8,\"#7fbc41\"],[0.9,\"#4d9221\"],[1,\"#276419\"]]},\"xaxis\":{\"gridcolor\":\"white\",\"linecolor\":\"white\",\"ticks\":\"\",\"title\":{\"standoff\":15},\"zerolinecolor\":\"white\",\"automargin\":true,\"zerolinewidth\":2},\"yaxis\":{\"gridcolor\":\"white\",\"linecolor\":\"white\",\"ticks\":\"\",\"title\":{\"standoff\":15},\"zerolinecolor\":\"white\",\"automargin\":true,\"zerolinewidth\":2},\"scene\":{\"xaxis\":{\"backgroundcolor\":\"#E5ECF6\",\"gridcolor\":\"white\",\"linecolor\":\"white\",\"showbackground\":true,\"ticks\":\"\",\"zerolinecolor\":\"white\",\"gridwidth\":2},\"yaxis\":{\"backgroundcolor\":\"#E5ECF6\",\"gridcolor\":\"white\",\"linecolor\":\"white\",\"showbackground\":true,\"ticks\":\"\",\"zerolinecolor\":\"white\",\"gridwidth\":2},\"zaxis\":{\"backgroundcolor\":\"#E5ECF6\",\"gridcolor\":\"white\",\"linecolor\":\"white\",\"showbackground\":true,\"ticks\":\"\",\"zerolinecolor\":\"white\",\"gridwidth\":2}},\"shapedefaults\":{\"line\":{\"color\":\"#2a3f5f\"}},\"annotationdefaults\":{\"arrowcolor\":\"#2a3f5f\",\"arrowhead\":0,\"arrowwidth\":1},\"geo\":{\"bgcolor\":\"white\",\"landcolor\":\"#E5ECF6\",\"subunitcolor\":\"white\",\"showland\":true,\"showlakes\":true,\"lakecolor\":\"white\"},\"title\":{\"x\":0.05},\"mapbox\":{\"style\":\"light\"}}},\"xaxis\":{\"anchor\":\"y\",\"domain\":[0.0,1.0],\"title\":{\"text\":\"Mean examination waiting time\"}},\"yaxis\":{\"anchor\":\"x\",\"domain\":[0.0,0.7326],\"title\":{\"text\":\"count\"}},\"xaxis2\":{\"anchor\":\"y2\",\"domain\":[0.0,1.0],\"matches\":\"x\",\"showticklabels\":false,\"showgrid\":true},\"yaxis2\":{\"anchor\":\"x2\",\"domain\":[0.7426,1.0],\"matches\":\"y2\",\"showticklabels\":false,\"showline\":false,\"ticks\":\"\",\"showgrid\":false},\"legend\":{\"title\":{\"text\":\"variable\"},\"tracegroupgap\":0},\"margin\":{\"t\":60},\"barmode\":\"relative\",\"showlegend\":false},                        {\"responsive\": true}                    ).then(function(){\n",
       "                            \n",
       "var gd = document.getElementById('a7c02744-415e-4398-91fb-8c1281aaf433');\n",
       "var x = new MutationObserver(function (mutations, observer) {{\n",
       "        var display = window.getComputedStyle(gd).display;\n",
       "        if (!display || display === 'none') {{\n",
       "            console.log([gd, 'removed!']);\n",
       "            Plotly.purge(gd);\n",
       "            observer.disconnect();\n",
       "        }}\n",
       "}});\n",
       "\n",
       "// Listen for the removal of the full notebook cells\n",
       "var notebookContainer = gd.closest('#notebook-container');\n",
       "if (notebookContainer) {{\n",
       "    x.observe(notebookContainer, {childList: true});\n",
       "}}\n",
       "\n",
       "// Listen for the clearing of the current output cell\n",
       "var outputEl = gd.closest('.output');\n",
       "if (outputEl) {{\n",
       "    x.observe(outputEl, {childList: true});\n",
       "}}\n",
       "\n",
       "                        })                };                });            </script>        </div>"
      ]
     },
     "metadata": {},
     "output_type": "display_data"
    }
   ],
   "source": [
    "fig = create_hist(results, column='03a_examination_wait', \n",
    "                  value_label='Mean examination waiting time',\n",
    "                  marginal='violin')\n",
    "\n",
    "fig"
   ]
  },
  {
   "cell_type": "markdown",
   "id": "d895dafe-578a-4706-9d76-1e211d378e64",
   "metadata": {},
   "source": [
    "## Exercise 3:\n",
    "\n",
    "Modify `app_with_plot.py` to use `create_hist()` and display histogram of your chosen KPI to a user.\n",
    "\n",
    "**Hints:**\n",
    "\n",
    "* Don't forget to import `plotly.express`\n"
   ]
  },
  {
   "cell_type": "markdown",
   "id": "4f115fef-cdc6-4292-a144-3c3625458d59",
   "metadata": {},
   "source": [
    "An example solution:\n",
    "\n",
    "```python\n",
    "\"\"\"\n",
    "Script to complete a basic run of the model and display a table of\n",
    "results and a plotly histogram in a streamlit app.\n",
    "\n",
    "The model is imported from a pypi package 'treat_sim'\n",
    "\n",
    "Full documentation and source code for `treat_sim` is available as \n",
    "* Jupyter Book: https://tommonks.github.io/treatment-centre-sim/\n",
    "* github: https://github.com/TomMonks/treatment-centre-sim\n",
    "\n",
    "A conda environment has been provided locally,but the model can be pip installed\n",
    "`pip install treat_sim==1.0.0`\n",
    "\"\"\"\n",
    "from treat_sim.model import Scenario, multiple_replications\n",
    "import streamlit as st\n",
    "import plotly.express as px\n",
    "\n",
    "INTRO_FILE = 'resources/overview.md'\n",
    "\n",
    "def read_file_contents(file_name):\n",
    "    ''''\n",
    "    Read the contents of a file.\n",
    "\n",
    "    Params:\n",
    "    ------\n",
    "    file_name: str\n",
    "        Path to file.\n",
    "\n",
    "    Returns:\n",
    "    -------\n",
    "    str\n",
    "    '''\n",
    "    with open(file_name) as f:\n",
    "        return f.read()\n",
    "\n",
    "##################################################################\n",
    "# MODIFICATION: Function to create plotly histogram\n",
    "def create_hist(results, column, value_label, marginal='box'):\n",
    "    '''\n",
    "    Create and return a plotly express histogram of\n",
    "    the results column\n",
    "    \n",
    "    Params:\n",
    "    -------\n",
    "    results: pd.DataFrame\n",
    "        Rows = replications, columns = KPIs\n",
    "        \n",
    "    column: str\n",
    "        Name of column in results to use\n",
    "        \n",
    "    value_label: str\n",
    "        X-axis label\n",
    "        \n",
    "    marginal: str, optional (default='box')\n",
    "        An additional plot to render above the histogram\n",
    "        options to try: box, violin, rug\n",
    "        \n",
    "    Returns:\n",
    "    ------\n",
    "    plotly.figure\n",
    "        \n",
    "    '''\n",
    "    fig = px.histogram(results[column], labels={'value':value_label},\n",
    "                       marginal=marginal)\n",
    "    # hide legend\n",
    "    fig.update(layout_showlegend=False)\n",
    "    \n",
    "    return fig\n",
    "#####################################################################\n",
    "\n",
    "# give the page a title\n",
    "st.title('Treatment Centre Simulation Model')\n",
    "\n",
    "# show the introductory markdown\n",
    "st.markdown(read_file_contents(INTRO_FILE))\n",
    "\n",
    "# create a sidebar for sliders\n",
    "with st.sidebar:\n",
    "    n_triage = st.slider('Triage bays', 1, 5, 1)\n",
    "    n_exam = st.slider('Exam rooms', 1, 5, 3)\n",
    "    n_cubicles_1 = st.slider('Non-Trauma Treatment cubicles', 1, 5, 1, \n",
    "                             help='Set the number of non trauma pathway '\n",
    "                             + 'treatment cubicles')\n",
    "\n",
    "    # examination mean\n",
    "    exam_mean = st.slider('Mean examination time', 10.0, 45.0, \n",
    "                           16.0, 1.0)\n",
    "\n",
    "    # runs\n",
    "    replications = st.slider('No. replications', 1, 50, 10)\n",
    "\n",
    "# Setup scenario using supplied variables\n",
    "args = Scenario(n_triage=n_triage, n_exam=n_exam, n_cubicles_1=n_cubicles_1,\n",
    "                exam_mean=exam_mean)\n",
    "\n",
    "# Only execute model if a streamlit button is pressed.\n",
    "if st.button('Simulate treatment centre'):\n",
    "\n",
    "    # in this example run a single replication of the model.\n",
    "    with st.spinner('Simulating the treatment centre...'):\n",
    "        results = multiple_replications(args, n_reps=replications)\n",
    "\n",
    "    st.success('Done!')\n",
    "\n",
    "    # display results using st.table (or st.dataframe)\n",
    "    st.table(results.mean().round(1))\n",
    "\n",
    "    # ######################################################################\n",
    "    # MODIFICATION: Show results of a KPI as histogram\n",
    "    fig = create_hist(results, column='03a_examination_wait', \n",
    "                  value_label='Mean examination waiting time',\n",
    "                  marginal='violin')\n",
    "\n",
    "    st.plotly_chart(fig, use_container_width=True)\n",
    "    ########################################################################\n",
    "```"
   ]
  },
  {
   "cell_type": "code",
   "execution_count": 33,
   "id": "49d3d6a5-fba4-4f24-8b10-6751c1a18df2",
   "metadata": {},
   "outputs": [],
   "source": [
    "import plotly.graph_objects as go\n",
    "\n",
    "def create_user_controlled_hist(results):\n",
    "    '''\n",
    "    Create a plotly histogram that includes a drop down list that allows a user\n",
    "    to select which KPI is displayed as a histogram\n",
    "    \n",
    "    Params:\n",
    "    -------\n",
    "    results: pd.Dataframe\n",
    "        rows = replications, cols = KPIs\n",
    "        \n",
    "    Returns:\n",
    "    -------\n",
    "    plotly.figure\n",
    "    \n",
    "    Source:\n",
    "    ------\n",
    "    The code in this function was adapted from:\n",
    "    https://stackoverflow.com/questions/59406167/plotly-how-to-filter-a-pandas-dataframe-using-a-dropdown-menu\n",
    "    '''\n",
    "\n",
    "    # create a figure\n",
    "    fig = go.Figure()\n",
    "\n",
    "    # set up ONE trace\n",
    "    fig.add_trace(go.Histogram(x=results[results.columns[0]]))\n",
    "\n",
    "    buttons = []\n",
    "\n",
    "    # create list of drop down items - KPIs\n",
    "    # the params in the code would need to vary depending on the type of chart.\n",
    "    for col in results.columns:\n",
    "        buttons.append(dict(method='restyle',\n",
    "                            label=col,\n",
    "                            visible=True,\n",
    "                            args=[{'x':[results[col]],\n",
    "                                   'type':'histogram'}, [0]],\n",
    "                            )\n",
    "                      )\n",
    "\n",
    "    # create update menu and parameters\n",
    "    updatemenu = []\n",
    "    your_menu = dict()\n",
    "    updatemenu.append(your_menu)\n",
    "\n",
    "    updatemenu[0]['buttons'] = buttons\n",
    "    updatemenu[0]['direction'] = 'down'\n",
    "    updatemenu[0]['showactive'] = True\n",
    "    \n",
    "    # add dropdown menus to the figure\n",
    "    fig.update_layout(showlegend=False, updatemenus=updatemenu)\n",
    "    return fig"
   ]
  },
  {
   "cell_type": "code",
   "execution_count": 34,
   "id": "d0ba778d-d630-4a1f-9ec9-2b31e3ae1824",
   "metadata": {},
   "outputs": [
    {
     "data": {
      "application/vnd.plotly.v1+json": {
       "config": {
        "plotlyServerURL": "https://plot.ly"
       },
       "data": [
        {
         "type": "histogram",
         "x": [
          154,
          139,
          157,
          159,
          148,
          151,
          149,
          154,
          145,
          159,
          148,
          144,
          154,
          152,
          172,
          163,
          156,
          166,
          144,
          149,
          169,
          168,
          147,
          156,
          166,
          161,
          152,
          162,
          156,
          151,
          139,
          148,
          149,
          151,
          151,
          153,
          167,
          154,
          149,
          158,
          155,
          162,
          161,
          148,
          148,
          149,
          176,
          165,
          155,
          144
         ]
        }
       ],
       "layout": {
        "autosize": true,
        "showlegend": false,
        "template": {
         "data": {
          "bar": [
           {
            "error_x": {
             "color": "#2a3f5f"
            },
            "error_y": {
             "color": "#2a3f5f"
            },
            "marker": {
             "line": {
              "color": "#E5ECF6",
              "width": 0.5
             },
             "pattern": {
              "fillmode": "overlay",
              "size": 10,
              "solidity": 0.2
             }
            },
            "type": "bar"
           }
          ],
          "barpolar": [
           {
            "marker": {
             "line": {
              "color": "#E5ECF6",
              "width": 0.5
             },
             "pattern": {
              "fillmode": "overlay",
              "size": 10,
              "solidity": 0.2
             }
            },
            "type": "barpolar"
           }
          ],
          "carpet": [
           {
            "aaxis": {
             "endlinecolor": "#2a3f5f",
             "gridcolor": "white",
             "linecolor": "white",
             "minorgridcolor": "white",
             "startlinecolor": "#2a3f5f"
            },
            "baxis": {
             "endlinecolor": "#2a3f5f",
             "gridcolor": "white",
             "linecolor": "white",
             "minorgridcolor": "white",
             "startlinecolor": "#2a3f5f"
            },
            "type": "carpet"
           }
          ],
          "choropleth": [
           {
            "colorbar": {
             "outlinewidth": 0,
             "ticks": ""
            },
            "type": "choropleth"
           }
          ],
          "contour": [
           {
            "colorbar": {
             "outlinewidth": 0,
             "ticks": ""
            },
            "colorscale": [
             [
              0,
              "#0d0887"
             ],
             [
              0.1111111111111111,
              "#46039f"
             ],
             [
              0.2222222222222222,
              "#7201a8"
             ],
             [
              0.3333333333333333,
              "#9c179e"
             ],
             [
              0.4444444444444444,
              "#bd3786"
             ],
             [
              0.5555555555555556,
              "#d8576b"
             ],
             [
              0.6666666666666666,
              "#ed7953"
             ],
             [
              0.7777777777777778,
              "#fb9f3a"
             ],
             [
              0.8888888888888888,
              "#fdca26"
             ],
             [
              1,
              "#f0f921"
             ]
            ],
            "type": "contour"
           }
          ],
          "contourcarpet": [
           {
            "colorbar": {
             "outlinewidth": 0,
             "ticks": ""
            },
            "type": "contourcarpet"
           }
          ],
          "heatmap": [
           {
            "colorbar": {
             "outlinewidth": 0,
             "ticks": ""
            },
            "colorscale": [
             [
              0,
              "#0d0887"
             ],
             [
              0.1111111111111111,
              "#46039f"
             ],
             [
              0.2222222222222222,
              "#7201a8"
             ],
             [
              0.3333333333333333,
              "#9c179e"
             ],
             [
              0.4444444444444444,
              "#bd3786"
             ],
             [
              0.5555555555555556,
              "#d8576b"
             ],
             [
              0.6666666666666666,
              "#ed7953"
             ],
             [
              0.7777777777777778,
              "#fb9f3a"
             ],
             [
              0.8888888888888888,
              "#fdca26"
             ],
             [
              1,
              "#f0f921"
             ]
            ],
            "type": "heatmap"
           }
          ],
          "heatmapgl": [
           {
            "colorbar": {
             "outlinewidth": 0,
             "ticks": ""
            },
            "colorscale": [
             [
              0,
              "#0d0887"
             ],
             [
              0.1111111111111111,
              "#46039f"
             ],
             [
              0.2222222222222222,
              "#7201a8"
             ],
             [
              0.3333333333333333,
              "#9c179e"
             ],
             [
              0.4444444444444444,
              "#bd3786"
             ],
             [
              0.5555555555555556,
              "#d8576b"
             ],
             [
              0.6666666666666666,
              "#ed7953"
             ],
             [
              0.7777777777777778,
              "#fb9f3a"
             ],
             [
              0.8888888888888888,
              "#fdca26"
             ],
             [
              1,
              "#f0f921"
             ]
            ],
            "type": "heatmapgl"
           }
          ],
          "histogram": [
           {
            "marker": {
             "pattern": {
              "fillmode": "overlay",
              "size": 10,
              "solidity": 0.2
             }
            },
            "type": "histogram"
           }
          ],
          "histogram2d": [
           {
            "colorbar": {
             "outlinewidth": 0,
             "ticks": ""
            },
            "colorscale": [
             [
              0,
              "#0d0887"
             ],
             [
              0.1111111111111111,
              "#46039f"
             ],
             [
              0.2222222222222222,
              "#7201a8"
             ],
             [
              0.3333333333333333,
              "#9c179e"
             ],
             [
              0.4444444444444444,
              "#bd3786"
             ],
             [
              0.5555555555555556,
              "#d8576b"
             ],
             [
              0.6666666666666666,
              "#ed7953"
             ],
             [
              0.7777777777777778,
              "#fb9f3a"
             ],
             [
              0.8888888888888888,
              "#fdca26"
             ],
             [
              1,
              "#f0f921"
             ]
            ],
            "type": "histogram2d"
           }
          ],
          "histogram2dcontour": [
           {
            "colorbar": {
             "outlinewidth": 0,
             "ticks": ""
            },
            "colorscale": [
             [
              0,
              "#0d0887"
             ],
             [
              0.1111111111111111,
              "#46039f"
             ],
             [
              0.2222222222222222,
              "#7201a8"
             ],
             [
              0.3333333333333333,
              "#9c179e"
             ],
             [
              0.4444444444444444,
              "#bd3786"
             ],
             [
              0.5555555555555556,
              "#d8576b"
             ],
             [
              0.6666666666666666,
              "#ed7953"
             ],
             [
              0.7777777777777778,
              "#fb9f3a"
             ],
             [
              0.8888888888888888,
              "#fdca26"
             ],
             [
              1,
              "#f0f921"
             ]
            ],
            "type": "histogram2dcontour"
           }
          ],
          "mesh3d": [
           {
            "colorbar": {
             "outlinewidth": 0,
             "ticks": ""
            },
            "type": "mesh3d"
           }
          ],
          "parcoords": [
           {
            "line": {
             "colorbar": {
              "outlinewidth": 0,
              "ticks": ""
             }
            },
            "type": "parcoords"
           }
          ],
          "pie": [
           {
            "automargin": true,
            "type": "pie"
           }
          ],
          "scatter": [
           {
            "fillpattern": {
             "fillmode": "overlay",
             "size": 10,
             "solidity": 0.2
            },
            "type": "scatter"
           }
          ],
          "scatter3d": [
           {
            "line": {
             "colorbar": {
              "outlinewidth": 0,
              "ticks": ""
             }
            },
            "marker": {
             "colorbar": {
              "outlinewidth": 0,
              "ticks": ""
             }
            },
            "type": "scatter3d"
           }
          ],
          "scattercarpet": [
           {
            "marker": {
             "colorbar": {
              "outlinewidth": 0,
              "ticks": ""
             }
            },
            "type": "scattercarpet"
           }
          ],
          "scattergeo": [
           {
            "marker": {
             "colorbar": {
              "outlinewidth": 0,
              "ticks": ""
             }
            },
            "type": "scattergeo"
           }
          ],
          "scattergl": [
           {
            "marker": {
             "colorbar": {
              "outlinewidth": 0,
              "ticks": ""
             }
            },
            "type": "scattergl"
           }
          ],
          "scattermapbox": [
           {
            "marker": {
             "colorbar": {
              "outlinewidth": 0,
              "ticks": ""
             }
            },
            "type": "scattermapbox"
           }
          ],
          "scatterpolar": [
           {
            "marker": {
             "colorbar": {
              "outlinewidth": 0,
              "ticks": ""
             }
            },
            "type": "scatterpolar"
           }
          ],
          "scatterpolargl": [
           {
            "marker": {
             "colorbar": {
              "outlinewidth": 0,
              "ticks": ""
             }
            },
            "type": "scatterpolargl"
           }
          ],
          "scatterternary": [
           {
            "marker": {
             "colorbar": {
              "outlinewidth": 0,
              "ticks": ""
             }
            },
            "type": "scatterternary"
           }
          ],
          "surface": [
           {
            "colorbar": {
             "outlinewidth": 0,
             "ticks": ""
            },
            "colorscale": [
             [
              0,
              "#0d0887"
             ],
             [
              0.1111111111111111,
              "#46039f"
             ],
             [
              0.2222222222222222,
              "#7201a8"
             ],
             [
              0.3333333333333333,
              "#9c179e"
             ],
             [
              0.4444444444444444,
              "#bd3786"
             ],
             [
              0.5555555555555556,
              "#d8576b"
             ],
             [
              0.6666666666666666,
              "#ed7953"
             ],
             [
              0.7777777777777778,
              "#fb9f3a"
             ],
             [
              0.8888888888888888,
              "#fdca26"
             ],
             [
              1,
              "#f0f921"
             ]
            ],
            "type": "surface"
           }
          ],
          "table": [
           {
            "cells": {
             "fill": {
              "color": "#EBF0F8"
             },
             "line": {
              "color": "white"
             }
            },
            "header": {
             "fill": {
              "color": "#C8D4E3"
             },
             "line": {
              "color": "white"
             }
            },
            "type": "table"
           }
          ]
         },
         "layout": {
          "annotationdefaults": {
           "arrowcolor": "#2a3f5f",
           "arrowhead": 0,
           "arrowwidth": 1
          },
          "autotypenumbers": "strict",
          "coloraxis": {
           "colorbar": {
            "outlinewidth": 0,
            "ticks": ""
           }
          },
          "colorscale": {
           "diverging": [
            [
             0,
             "#8e0152"
            ],
            [
             0.1,
             "#c51b7d"
            ],
            [
             0.2,
             "#de77ae"
            ],
            [
             0.3,
             "#f1b6da"
            ],
            [
             0.4,
             "#fde0ef"
            ],
            [
             0.5,
             "#f7f7f7"
            ],
            [
             0.6,
             "#e6f5d0"
            ],
            [
             0.7,
             "#b8e186"
            ],
            [
             0.8,
             "#7fbc41"
            ],
            [
             0.9,
             "#4d9221"
            ],
            [
             1,
             "#276419"
            ]
           ],
           "sequential": [
            [
             0,
             "#0d0887"
            ],
            [
             0.1111111111111111,
             "#46039f"
            ],
            [
             0.2222222222222222,
             "#7201a8"
            ],
            [
             0.3333333333333333,
             "#9c179e"
            ],
            [
             0.4444444444444444,
             "#bd3786"
            ],
            [
             0.5555555555555556,
             "#d8576b"
            ],
            [
             0.6666666666666666,
             "#ed7953"
            ],
            [
             0.7777777777777778,
             "#fb9f3a"
            ],
            [
             0.8888888888888888,
             "#fdca26"
            ],
            [
             1,
             "#f0f921"
            ]
           ],
           "sequentialminus": [
            [
             0,
             "#0d0887"
            ],
            [
             0.1111111111111111,
             "#46039f"
            ],
            [
             0.2222222222222222,
             "#7201a8"
            ],
            [
             0.3333333333333333,
             "#9c179e"
            ],
            [
             0.4444444444444444,
             "#bd3786"
            ],
            [
             0.5555555555555556,
             "#d8576b"
            ],
            [
             0.6666666666666666,
             "#ed7953"
            ],
            [
             0.7777777777777778,
             "#fb9f3a"
            ],
            [
             0.8888888888888888,
             "#fdca26"
            ],
            [
             1,
             "#f0f921"
            ]
           ]
          },
          "colorway": [
           "#636efa",
           "#EF553B",
           "#00cc96",
           "#ab63fa",
           "#FFA15A",
           "#19d3f3",
           "#FF6692",
           "#B6E880",
           "#FF97FF",
           "#FECB52"
          ],
          "font": {
           "color": "#2a3f5f"
          },
          "geo": {
           "bgcolor": "white",
           "lakecolor": "white",
           "landcolor": "#E5ECF6",
           "showlakes": true,
           "showland": true,
           "subunitcolor": "white"
          },
          "hoverlabel": {
           "align": "left"
          },
          "hovermode": "closest",
          "mapbox": {
           "style": "light"
          },
          "paper_bgcolor": "white",
          "plot_bgcolor": "#E5ECF6",
          "polar": {
           "angularaxis": {
            "gridcolor": "white",
            "linecolor": "white",
            "ticks": ""
           },
           "bgcolor": "#E5ECF6",
           "radialaxis": {
            "gridcolor": "white",
            "linecolor": "white",
            "ticks": ""
           }
          },
          "scene": {
           "xaxis": {
            "backgroundcolor": "#E5ECF6",
            "gridcolor": "white",
            "gridwidth": 2,
            "linecolor": "white",
            "showbackground": true,
            "ticks": "",
            "zerolinecolor": "white"
           },
           "yaxis": {
            "backgroundcolor": "#E5ECF6",
            "gridcolor": "white",
            "gridwidth": 2,
            "linecolor": "white",
            "showbackground": true,
            "ticks": "",
            "zerolinecolor": "white"
           },
           "zaxis": {
            "backgroundcolor": "#E5ECF6",
            "gridcolor": "white",
            "gridwidth": 2,
            "linecolor": "white",
            "showbackground": true,
            "ticks": "",
            "zerolinecolor": "white"
           }
          },
          "shapedefaults": {
           "line": {
            "color": "#2a3f5f"
           }
          },
          "ternary": {
           "aaxis": {
            "gridcolor": "white",
            "linecolor": "white",
            "ticks": ""
           },
           "baxis": {
            "gridcolor": "white",
            "linecolor": "white",
            "ticks": ""
           },
           "bgcolor": "#E5ECF6",
           "caxis": {
            "gridcolor": "white",
            "linecolor": "white",
            "ticks": ""
           }
          },
          "title": {
           "x": 0.05
          },
          "xaxis": {
           "automargin": true,
           "gridcolor": "white",
           "linecolor": "white",
           "ticks": "",
           "title": {
            "standoff": 15
           },
           "zerolinecolor": "white",
           "zerolinewidth": 2
          },
          "yaxis": {
           "automargin": true,
           "gridcolor": "white",
           "linecolor": "white",
           "ticks": "",
           "title": {
            "standoff": 15
           },
           "zerolinecolor": "white",
           "zerolinewidth": 2
          }
         }
        },
        "updatemenus": [
         {
          "active": 15,
          "buttons": [
           {
            "args": [
             {
              "type": "histogram",
              "x": [
               [
                218,
                188,
                233,
                236,
                246,
                215,
                199,
                240,
                238,
                226,
                222,
                198,
                218,
                269,
                228,
                233,
                204,
                265,
                220,
                219,
                234,
                241,
                212,
                227,
                234,
                221,
                245,
                245,
                239,
                233,
                231,
                236,
                227,
                218,
                220,
                245,
                230,
                217,
                213,
                215,
                226,
                246,
                231,
                227,
                216,
                245,
                234,
                218,
                247,
                204
               ]
              ]
             },
             [
              0
             ]
            ],
            "label": "00_arrivals",
            "method": "restyle",
            "visible": true
           },
           {
            "args": [
             {
              "type": "histogram",
              "x": [
               [
                28.009290251709622,
                3.2404688558263497,
                13.04093564181642,
                29.246779979511263,
                65.40765798973386,
                67.5369600063828,
                16.38886568488679,
                36.70296864737044,
                38.20122762084785,
                54.95124723394664,
                17.76296471235844,
                13.030781617526763,
                14.650765978357333,
                99.83487368355877,
                35.09273817409444,
                43.33013178549788,
                30.0772100065147,
                58.92914412265742,
                15.273224091337058,
                17.59595362998475,
                19.048056089154557,
                31.24706993911779,
                15.900437248706547,
                23.793707549375583,
                37.169221658428796,
                30.54450875572224,
                41.9281491330179,
                47.10811391806582,
                9.024444937296863,
                64.80855451894936,
                57.00838314325546,
                51.431544919229026,
                35.248451764868136,
                22.22697291481614,
                58.80918331378785,
                41.02172845285099,
                15.57773180162366,
                15.258467083186865,
                23.136705110019275,
                30.034351792085236,
                75.21953760308695,
                26.427320651628623,
                41.88598302773019,
                25.834618205937502,
                31.508813523634824,
                34.018059683193115,
                33.7023317192258,
                8.852041373274428,
                69.83005402501828,
                15.376247610617407
               ]
              ]
             },
             [
              0
             ]
            ],
            "label": "01a_triage_wait",
            "method": "restyle",
            "visible": true
           },
           {
            "args": [
             {
              "type": "histogram",
              "x": [
               [
                0.5424540292425365,
                0.4753896108037521,
                0.5286808547151916,
                0.623225124987184,
                0.6472350623257924,
                0.6176388915316763,
                0.4797300675268191,
                0.676469567587376,
                0.5957621751008386,
                0.6528631578652224,
                0.5767070894556675,
                0.4742231229197,
                0.5810093537696704,
                0.7153590895298174,
                0.5578851377371967,
                0.6702141832425564,
                0.515984666002451,
                0.6962693360436643,
                0.5067824831373194,
                0.5754316891078147,
                0.6038869922237535,
                0.6000746523613589,
                0.5535018112126199,
                0.6206457753223281,
                0.6254121350583745,
                0.6088663003044283,
                0.6771036565648304,
                0.6431243624741918,
                0.5351795740446583,
                0.6528548114683499,
                0.6324249940620288,
                0.6386350569838176,
                0.6625378452510043,
                0.5234574773350178,
                0.6864094895274838,
                0.6988652739281886,
                0.6144102556870891,
                0.5500751044143645,
                0.5872981379343366,
                0.5382797486118492,
                0.6674362192231659,
                0.6233508306624631,
                0.6036470501928444,
                0.5987895689204676,
                0.5259358572807831,
                0.662071311443487,
                0.5934401809057512,
                0.5115922799568605,
                0.6914599765793982,
                0.5597162287390287
               ]
              ]
             },
             [
              0
             ]
            ],
            "label": "01b_triage_util",
            "method": "restyle",
            "visible": true
           },
           {
            "args": [
             {
              "type": "histogram",
              "x": [
               [
                128.49043831937075,
                63.307539921779274,
                149.63638124164612,
                91.13789889477214,
                130.09160791167537,
                87.10185216929746,
                90.81893097020887,
                126.44439669409351,
                96.50384596275453,
                106.38869228437892,
                83.03152146665563,
                89.23385514943065,
                97.57471419060138,
                117.58444257478047,
                125.930440276934,
                113.75794023045624,
                109.21503201178983,
                106.67137905095606,
                133.09170953639452,
                142.00166012114227,
                125.57996449635635,
                137.64333131373846,
                101.55796836190594,
                92.5196295061599,
                109.78852445666756,
                95.41192725086964,
                80.92080502314346,
                125.68986492137881,
                145.11594243548376,
                73.86132870736174,
                111.46300747301223,
                99.48762335785528,
                80.36056433632511,
                104.09280639732837,
                62.94506825629304,
                115.53764936685874,
                94.87411652565389,
                102.04826699322228,
                115.73385797172186,
                117.30431311987938,
                38.30615839424007,
                123.11988652476917,
                103.03952623422722,
                104.5775555054229,
                109.67639002034547,
                118.59147114453852,
                96.31940935666351,
                122.71604422196064,
                73.2519126938196,
                113.93838960195103
               ]
              ]
             },
             [
              0
             ]
            ],
            "label": "02a_registration_wait",
            "method": "restyle",
            "visible": true
           },
           {
            "args": [
             {
              "type": "histogram",
              "x": [
               [
                0.8546150354036918,
                0.7490266037760624,
                0.8399942490103287,
                0.8767621146532469,
                0.8271937174407211,
                0.8078559529383859,
                0.7646986145596589,
                0.8609780373041704,
                0.8789444549475702,
                0.8456387317175411,
                0.8389657803762329,
                0.7433263005275003,
                0.8436928679236785,
                0.8498490354355531,
                0.8496047820335013,
                0.8794482893552632,
                0.77812653460562,
                0.8838944673548188,
                0.8320993346360189,
                0.8432957392249009,
                0.8915963876672466,
                0.8720035330045883,
                0.8108753442988622,
                0.8660698050978846,
                0.878089309480741,
                0.8101037765957988,
                0.8273819807472593,
                0.8362226679717973,
                0.8829411524790178,
                0.8354688718605647,
                0.8134413836747042,
                0.8549998020137467,
                0.8649677028830074,
                0.820839416675865,
                0.85360853698459,
                0.8521703871913806,
                0.8862548280358371,
                0.8443547324429763,
                0.8274204754061045,
                0.8059251579980915,
                0.8434527071086537,
                0.862636524239661,
                0.8705516060000421,
                0.8352231715894651,
                0.8347418273306678,
                0.8630581774344683,
                0.8903739191088835,
                0.8588204325190589,
                0.8548504051508687,
                0.8750027157142506
               ]
              ]
             },
             [
              0
             ]
            ],
            "label": "02b_registration_util",
            "method": "restyle",
            "visible": true
           },
           {
            "args": [
             {
              "type": "histogram",
              "x": [
               [
                28.478641578907936,
                16.32817873295442,
                18.4002798601575,
                35.42443957630112,
                36.254401156933156,
                24.14902522437214,
                30.028974329227594,
                31.18993493878721,
                29.642379438205783,
                25.3749350496724,
                24.239778912922088,
                18.428593671181368,
                10.840605252887434,
                23.389521903532646,
                28.614144501815414,
                14.039685806609363,
                36.356651545463194,
                15.988430673512921,
                26.0583737132257,
                19.534332408838537,
                22.740256965679833,
                10.60834882292233,
                41.696347226648555,
                29.159237140200922,
                20.46435727979445,
                18.119543366597576,
                33.3096451998393,
                25.877961014687568,
                26.63279241881874,
                8.183236285507599,
                32.80604915248188,
                42.58007952414658,
                13.4637023707959,
                35.72191233217777,
                22.96061614184804,
                17.523346347457895,
                33.23465076644108,
                21.97820281228799,
                16.824212653168594,
                34.96015080569626,
                28.637486658455785,
                24.202508114597652,
                27.73581114474837,
                23.943267943566504,
                22.314717591552256,
                23.692053561649228,
                24.496422557304143,
                23.658986318162416,
                30.642092597277475,
                8.370004739984696
               ]
              ]
             },
             [
              0
             ]
            ],
            "label": "03a_examination_wait",
            "method": "restyle",
            "visible": true
           },
           {
            "args": [
             {
              "type": "histogram",
              "x": [
               [
                0.8474299014515363,
                0.7959205242743274,
                0.847310252738908,
                0.8811397931490925,
                0.8248740539062672,
                0.8106464290805696,
                0.8122418206850751,
                0.866353626136432,
                0.8875588334569334,
                0.8466283166639144,
                0.8695943182565228,
                0.7913011067991713,
                0.8676739855933459,
                0.8579036100236218,
                0.8334410944029501,
                0.8710137866553499,
                0.7921556343801585,
                0.8883142946600185,
                0.840573832238992,
                0.8330163313609643,
                0.8765689387868385,
                0.8647175889429748,
                0.8563486048987452,
                0.8810220030628924,
                0.8757098412781988,
                0.8461324753234198,
                0.8371332086214429,
                0.8496493285842763,
                0.8837141502500167,
                0.8484657325431528,
                0.8180071771100575,
                0.8534708559826897,
                0.851025873984417,
                0.8247667011208527,
                0.8751403651391457,
                0.8553581223275087,
                0.8841131360863382,
                0.8670521350305821,
                0.8146222345706379,
                0.8136897153994705,
                0.868401407500181,
                0.8708065413085849,
                0.8726892441501188,
                0.84915558638189,
                0.8405325227324416,
                0.8650628253980673,
                0.8899635232958838,
                0.8551252933846896,
                0.8583845834349931,
                0.8684520854040928
               ]
              ]
             },
             [
              0
             ]
            ],
            "label": "03b_examination_util",
            "method": "restyle",
            "visible": true
           },
           {
            "args": [
             {
              "type": "histogram",
              "x": [
               [
                145.4143206009249,
                134.20278558257493,
                169.50329543554002,
                125.01625497279007,
                150.89014876334397,
                95.62843976206952,
                119.29553016984771,
                169.36888777733526,
                169.73792871121893,
                136.91186599510002,
                135.49981686490383,
                137.8244282671792,
                122.19242483331564,
                164.85071685109324,
                75.65928109438585,
                125.1739423523739,
                94.7152638543205,
                149.12276829277775,
                155.84773479980848,
                120.16884527898559,
                129.2334632527805,
                76.37773406955344,
                127.49134806562321,
                128.26983534431525,
                142.61355999590927,
                110.95598432337847,
                107.60072027443175,
                100.27744006675563,
                145.73243372068382,
                147.3348982538873,
                159.74570683902638,
                176.08302975101904,
                134.4621393966806,
                119.9433160912374,
                133.36995428710873,
                105.73406777522622,
                140.44153870825343,
                128.0621160665735,
                121.55541076525108,
                109.43207799312705,
                127.57884349589274,
                99.96084810331797,
                158.28111309262923,
                133.93151139787398,
                162.2207562337045,
                173.83321406799433,
                118.74731380711259,
                107.12246884644118,
                105.93722384361737,
                158.44179278455627
               ]
              ]
             },
             [
              0
             ]
            ],
            "label": "04a_treatment_wait(non_trauma)",
            "method": "restyle",
            "visible": true
           },
           {
            "args": [
             {
              "type": "histogram",
              "x": [
               [
                0.8531886062547525,
                0.8467953723607982,
                0.8270875419145723,
                0.8582991651467851,
                0.8409133026294883,
                0.8415739704268722,
                0.785988370876383,
                0.8583404449582905,
                0.8986651721576497,
                0.9002548490402674,
                0.9441827629542578,
                0.8132220841566272,
                0.9022656204894897,
                0.8429377333308177,
                0.8426559063042834,
                0.9041306491586939,
                0.8527235575037331,
                0.9003888784446481,
                0.8498185275223645,
                0.8584941679696741,
                0.9032769922189233,
                0.9096355595471245,
                0.8872630013386081,
                0.8563124306706866,
                0.8999755013452682,
                0.8893204941548175,
                0.8394362632460352,
                0.8538132696017491,
                0.8932704895733866,
                0.9055740799844904,
                0.8598875189171494,
                0.8491063499363798,
                0.8896291569078429,
                0.8327897345320752,
                0.9163517810770223,
                0.9118275976098101,
                0.8625563863013,
                0.8849801176973945,
                0.8379222411733019,
                0.8048099922623326,
                0.872986617116827,
                0.8843212261727531,
                0.8988964777505203,
                0.8643012089186395,
                0.8372372549649846,
                0.8850435112572804,
                0.8854922312492046,
                0.8445548889722878,
                0.8349592477012286,
                0.8762707218665424
               ]
              ]
             },
             [
              0
             ]
            ],
            "label": "04b_treatment_util(non_trauma)",
            "method": "restyle",
            "visible": true
           },
           {
            "args": [
             {
              "type": "histogram",
              "x": [
               [
                247.87222932785437,
                178.79915439172024,
                260.8044565328279,
                206.94592849176973,
                288.79654710004377,
                226.29414844813323,
                211.7112849286587,
                268.6554563697397,
                247.61983114427113,
                264.4518968859313,
                209.53287041414902,
                204.42343586120714,
                199.14338498323087,
                299.0878625446939,
                228.4052091962118,
                237.7556814828793,
                231.3416894003008,
                242.4703821249159,
                244.86707545433748,
                230.76245943565507,
                228.30077729247404,
                210.6894429254903,
                221.210607340494,
                203.0008866902121,
                235.07852102153973,
                214.35720177616716,
                205.1002286753736,
                236.94841360138892,
                249.967392984458,
                234.71432397859405,
                267.91901343725806,
                274.52586011185144,
                196.76422256463806,
                221.0496509098951,
                222.36131899416122,
                218.95747265279454,
                214.9866778375176,
                221.57098275102152,
                217.4794401900761,
                229.539783016938,
                215.16092196996638,
                213.49377774386278,
                244.92753601319575,
                218.3578966659069,
                245.14112316034831,
                249.38813991062273,
                218.98825949867327,
                210.46083139111474,
                222.2173209726099,
                229.11929243129197
               ]
              ]
             },
             [
              0
             ]
            ],
            "label": "05_total_time(non-trauma)",
            "method": "restyle",
            "visible": true
           },
           {
            "args": [
             {
              "type": "histogram",
              "x": [
               [
                8.595360378113972,
                65.14693182041792,
                78.13013664136726,
                225.47174857825996,
                168.0140881750961,
                82.26360069917874,
                70.31860306070948,
                152.75061552078472,
                68.07546090892616,
                85.03058775525912,
                318.0852702423178,
                162.70180308015685,
                228.9670200617644,
                181.277094060207,
                117.6346660243509,
                75.16311679186862,
                68.52653117723546,
                307.63845159591796,
                234.97741364884553,
                26.182505576065136,
                148.77064725025807,
                94.98464580422913,
                79.15764593254012,
                128.5861318160581,
                157.6135236690961,
                168.8357059592276,
                158.6862880574682,
                101.5907252618523,
                235.08774438666592,
                101.68935330348341,
                54.35738709537698,
                120.59404953572879,
                136.51743847894454,
                18.76590590151762,
                209.30127402395476,
                228.22747110279815,
                82.5647563087555,
                186.04160254543444,
                94.98419518925334,
                135.93493343190087,
                263.86686818806436,
                185.26401401082475,
                156.03611647427257,
                131.70119256571672,
                144.29248912741386,
                124.11188180828451,
                189.40199511662445,
                76.08371274567692,
                142.82508225667846,
                7.43387956787987
               ]
              ]
             },
             [
              0
             ]
            ],
            "label": "06a_trauma_wait",
            "method": "restyle",
            "visible": true
           },
           {
            "args": [
             {
              "type": "histogram",
              "x": [
               [
                0.3689084098169131,
                0.8385211298286587,
                0.8165474524553085,
                0.8769835607623823,
                0.9791894750184259,
                0.842665106626021,
                0.8104524362239633,
                0.8016316613183545,
                0.698513175864303,
                0.8347983520494153,
                0.9846895594679249,
                0.9145613120644648,
                0.9723330108239759,
                0.8889723309954537,
                0.911023608014534,
                0.6542844081128576,
                0.6884758893707797,
                0.9304917898988366,
                0.8939425310256488,
                0.6506406237003599,
                1.0888944509449199,
                0.7823475952606737,
                0.7748269538308755,
                0.7845725065005356,
                1.008627351827479,
                0.9555330982304985,
                0.7625684963869068,
                0.8036973466855654,
                0.8639684106026562,
                0.8030093114573083,
                0.8432461436585671,
                0.8055571906770876,
                0.8067655938661622,
                0.6613284953424797,
                0.853760213006032,
                0.9286562551589054,
                0.6010630423684848,
                0.9680917156523322,
                0.8810109511509367,
                0.8279872415345157,
                0.8161386573940613,
                0.796050898362081,
                0.91833929173007,
                0.7499270666700999,
                0.5909892595994171,
                0.8360395837958442,
                0.854950551398654,
                0.7094780650103856,
                0.9197036741575964,
                0.3785888593376346
               ]
              ]
             },
             [
              0
             ]
            ],
            "label": "06b_trauma_util",
            "method": "restyle",
            "visible": true
           },
           {
            "args": [
             {
              "type": "histogram",
              "x": [
               [
                214.19833101596814,
                231.60356711375206,
                251.83573595001653,
                95.6015718025087,
                13.244607729829678,
                207.09010476395096,
                295.8515058412709,
                171.91703567557408,
                307.06708513048056,
                210.96976751233703,
                40.721750060210034,
                181.23297356345418,
                156.37493028487214,
                43.66341972500509,
                185.95805261949837,
                179.4018553800449,
                24.09869998544496,
                132.95933013569294,
                74.25991061952821,
                89.17108161223626,
                221.62624802738407,
                157.47886101300486,
                91.67827828088382,
                231.43949758351832,
                205.79757658451385,
                239.46608728700485,
                293.4507327897041,
                224.95962978372455,
                175.4064740142796,
                127.65167069329125,
                192.27482227917565,
                350.7656288899605,
                180.29315213396248,
                305.28653083295336,
                75.18083165615906,
                457.0555560337692,
                230.4750215637829,
                243.61433585946253,
                111.16208600434659,
                199.7556384755709,
                40.69205760742792,
                117.54470274266835,
                115.17395947284983,
                103.94102840931278,
                81.89096862761822,
                138.41840772894614,
                57.394295943953104,
                293.51636869179293,
                151.38737282213742,
                243.0348452664608
               ]
              ]
             },
             [
              0
             ]
            ],
            "label": "07a_treatment_wait(trauma)",
            "method": "restyle",
            "visible": true
           },
           {
            "args": [
             {
              "type": "histogram",
              "x": [
               [
                0.9768079843773353,
                0.7786342239235766,
                1.1882873254015112,
                1.1931150965191253,
                0.6506710462046249,
                0.7714635550722093,
                0.8809200215904515,
                0.6024000979932126,
                0.9523116224094899,
                0.7975863716353848,
                0.6300584638371377,
                0.8519408236116093,
                0.9559375057284005,
                0.7194342552875143,
                0.8983906645888987,
                0.8977055426202326,
                0.9041469141050584,
                0.779611874797994,
                0.7525979289759444,
                0.7681502083134008,
                1.0559069177613438,
                0.749666405486823,
                0.6513110298048613,
                0.8664633905540992,
                0.8825779963422339,
                0.8905804304759004,
                1.0577029527779302,
                0.8600515785002031,
                1.3554356983157703,
                1.0896086329310335,
                0.7632435107156134,
                0.9283522558267191,
                0.8727031077352372,
                0.8862626642792875,
                0.7984984028198785,
                0.8590901380479558,
                0.8672580586565389,
                0.866064604370277,
                0.8031353028600008,
                0.6187849163331421,
                0.6185754033744028,
                0.7937426184116727,
                0.9046840685092759,
                0.7460943813651182,
                0.6095734595250245,
                0.7562572881058092,
                0.663157395021793,
                1.0099538885908246,
                0.8036488329719528,
                0.6719364391518832
               ]
              ]
             },
             [
              0
             ]
            ],
            "label": "07b_treatment_util(trauma)",
            "method": "restyle",
            "visible": true
           },
           {
            "args": [
             {
              "type": "histogram",
              "x": [
               [
                399.2003106567676,
                392.0649643387095,
                369.2769197903274,
                385.7527942607722,
                339.8177530522316,
                418.7108963411495,
                462.8186084010069,
                433.50222273369116,
                477.14558658522895,
                503.11503546175567,
                347.8871168374045,
                359.0579204818184,
                432.4142252346956,
                422.9960741696051,
                376.2824885566958,
                380.2567771675144,
                152.4669818580401,
                418.6258153568265,
                384.8098843393096,
                284.1139535458527,
                450.492634779077,
                406.4627653830882,
                275.81332394183835,
                388.4127258572193,
                503.8718106950361,
                409.39782230059166,
                454.0788839223841,
                396.3083889613814,
                338.9672370626718,
                356.9694903693746,
                372.6316604885564,
                548.3339575348889,
                369.07677167659824,
                446.9758673230206,
                416.50889962656294,
                695.1650990844265,
                406.2936645180188,
                452.1044052911535,
                339.4119104450414,
                432.1743662056987,
                334.2354618435269,
                356.65336508828284,
                379.5943869004799,
                299.39244112695104,
                369.5929351385708,
                240.1891679912198,
                388.2317937658034,
                543.0790004692468,
                361.83627584733756,
                522.1973032743819
               ]
              ]
             },
             [
              0
             ]
            ],
            "label": "08_total_time(trauma)",
            "method": "restyle",
            "visible": true
           },
           {
            "args": [
             {
              "type": "histogram",
              "x": [
               [
                154,
                139,
                157,
                159,
                148,
                151,
                149,
                154,
                145,
                159,
                148,
                144,
                154,
                152,
                172,
                163,
                156,
                166,
                144,
                149,
                169,
                168,
                147,
                156,
                166,
                161,
                152,
                162,
                156,
                151,
                139,
                148,
                149,
                151,
                151,
                153,
                167,
                154,
                149,
                158,
                155,
                162,
                161,
                148,
                148,
                149,
                176,
                165,
                155,
                144
               ]
              ]
             },
             [
              0
             ]
            ],
            "label": "09_throughput",
            "method": "restyle",
            "visible": true
           }
          ],
          "direction": "down",
          "showactive": true
         }
        ],
        "xaxis": {
         "autorange": true,
         "range": [
          134.5,
          179.5
         ],
         "type": "linear"
        },
        "yaxis": {
         "autorange": true,
         "range": [
          0,
          12.631578947368421
         ]
        }
       }
      },
      "image/png": "[encoded data removed]",
      "text/html": [
       "<div>                            <div id=\"07b4b810-2ade-4083-9fac-acf17656f749\" class=\"plotly-graph-div\" style=\"height:525px; width:100%;\"></div>            <script type=\"text/javascript\">                require([\"plotly\"], function(Plotly) {                    window.PLOTLYENV=window.PLOTLYENV || {};                                    if (document.getElementById(\"07b4b810-2ade-4083-9fac-acf17656f749\")) {                    Plotly.newPlot(                        \"07b4b810-2ade-4083-9fac-acf17656f749\",                        [{\"x\":[218.0,188.0,233.0,236.0,246.0,215.0,199.0,240.0,238.0,226.0,222.0,198.0,218.0,269.0,228.0,233.0,204.0,265.0,220.0,219.0,234.0,241.0,212.0,227.0,234.0,221.0,245.0,245.0,239.0,233.0,231.0,236.0,227.0,218.0,220.0,245.0,230.0,217.0,213.0,215.0,226.0,246.0,231.0,227.0,216.0,245.0,234.0,218.0,247.0,204.0],\"type\":\"histogram\"}],                        {\"template\":{\"data\":{\"histogram2dcontour\":[{\"type\":\"histogram2dcontour\",\"colorbar\":{\"outlinewidth\":0,\"ticks\":\"\"},\"colorscale\":[[0.0,\"#0d0887\"],[0.1111111111111111,\"#46039f\"],[0.2222222222222222,\"#7201a8\"],[0.3333333333333333,\"#9c179e\"],[0.4444444444444444,\"#bd3786\"],[0.5555555555555556,\"#d8576b\"],[0.6666666666666666,\"#ed7953\"],[0.7777777777777778,\"#fb9f3a\"],[0.8888888888888888,\"#fdca26\"],[1.0,\"#f0f921\"]]}],\"choropleth\":[{\"type\":\"choropleth\",\"colorbar\":{\"outlinewidth\":0,\"ticks\":\"\"}}],\"histogram2d\":[{\"type\":\"histogram2d\",\"colorbar\":{\"outlinewidth\":0,\"ticks\":\"\"},\"colorscale\":[[0.0,\"#0d0887\"],[0.1111111111111111,\"#46039f\"],[0.2222222222222222,\"#7201a8\"],[0.3333333333333333,\"#9c179e\"],[0.4444444444444444,\"#bd3786\"],[0.5555555555555556,\"#d8576b\"],[0.6666666666666666,\"#ed7953\"],[0.7777777777777778,\"#fb9f3a\"],[0.8888888888888888,\"#fdca26\"],[1.0,\"#f0f921\"]]}],\"heatmap\":[{\"type\":\"heatmap\",\"colorbar\":{\"outlinewidth\":0,\"ticks\":\"\"},\"colorscale\":[[0.0,\"#0d0887\"],[0.1111111111111111,\"#46039f\"],[0.2222222222222222,\"#7201a8\"],[0.3333333333333333,\"#9c179e\"],[0.4444444444444444,\"#bd3786\"],[0.5555555555555556,\"#d8576b\"],[0.6666666666666666,\"#ed7953\"],[0.7777777777777778,\"#fb9f3a\"],[0.8888888888888888,\"#fdca26\"],[1.0,\"#f0f921\"]]}],\"heatmapgl\":[{\"type\":\"heatmapgl\",\"colorbar\":{\"outlinewidth\":0,\"ticks\":\"\"},\"colorscale\":[[0.0,\"#0d0887\"],[0.1111111111111111,\"#46039f\"],[0.2222222222222222,\"#7201a8\"],[0.3333333333333333,\"#9c179e\"],[0.4444444444444444,\"#bd3786\"],[0.5555555555555556,\"#d8576b\"],[0.6666666666666666,\"#ed7953\"],[0.7777777777777778,\"#fb9f3a\"],[0.8888888888888888,\"#fdca26\"],[1.0,\"#f0f921\"]]}],\"contourcarpet\":[{\"type\":\"contourcarpet\",\"colorbar\":{\"outlinewidth\":0,\"ticks\":\"\"}}],\"contour\":[{\"type\":\"contour\",\"colorbar\":{\"outlinewidth\":0,\"ticks\":\"\"},\"colorscale\":[[0.0,\"#0d0887\"],[0.1111111111111111,\"#46039f\"],[0.2222222222222222,\"#7201a8\"],[0.3333333333333333,\"#9c179e\"],[0.4444444444444444,\"#bd3786\"],[0.5555555555555556,\"#d8576b\"],[0.6666666666666666,\"#ed7953\"],[0.7777777777777778,\"#fb9f3a\"],[0.8888888888888888,\"#fdca26\"],[1.0,\"#f0f921\"]]}],\"surface\":[{\"type\":\"surface\",\"colorbar\":{\"outlinewidth\":0,\"ticks\":\"\"},\"colorscale\":[[0.0,\"#0d0887\"],[0.1111111111111111,\"#46039f\"],[0.2222222222222222,\"#7201a8\"],[0.3333333333333333,\"#9c179e\"],[0.4444444444444444,\"#bd3786\"],[0.5555555555555556,\"#d8576b\"],[0.6666666666666666,\"#ed7953\"],[0.7777777777777778,\"#fb9f3a\"],[0.8888888888888888,\"#fdca26\"],[1.0,\"#f0f921\"]]}],\"mesh3d\":[{\"type\":\"mesh3d\",\"colorbar\":{\"outlinewidth\":0,\"ticks\":\"\"}}],\"scatter\":[{\"fillpattern\":{\"fillmode\":\"overlay\",\"size\":10,\"solidity\":0.2},\"type\":\"scatter\"}],\"parcoords\":[{\"type\":\"parcoords\",\"line\":{\"colorbar\":{\"outlinewidth\":0,\"ticks\":\"\"}}}],\"scatterpolargl\":[{\"type\":\"scatterpolargl\",\"marker\":{\"colorbar\":{\"outlinewidth\":0,\"ticks\":\"\"}}}],\"bar\":[{\"error_x\":{\"color\":\"#2a3f5f\"},\"error_y\":{\"color\":\"#2a3f5f\"},\"marker\":{\"line\":{\"color\":\"#E5ECF6\",\"width\":0.5},\"pattern\":{\"fillmode\":\"overlay\",\"size\":10,\"solidity\":0.2}},\"type\":\"bar\"}],\"scattergeo\":[{\"type\":\"scattergeo\",\"marker\":{\"colorbar\":{\"outlinewidth\":0,\"ticks\":\"\"}}}],\"scatterpolar\":[{\"type\":\"scatterpolar\",\"marker\":{\"colorbar\":{\"outlinewidth\":0,\"ticks\":\"\"}}}],\"histogram\":[{\"marker\":{\"pattern\":{\"fillmode\":\"overlay\",\"size\":10,\"solidity\":0.2}},\"type\":\"histogram\"}],\"scattergl\":[{\"type\":\"scattergl\",\"marker\":{\"colorbar\":{\"outlinewidth\":0,\"ticks\":\"\"}}}],\"scatter3d\":[{\"type\":\"scatter3d\",\"line\":{\"colorbar\":{\"outlinewidth\":0,\"ticks\":\"\"}},\"marker\":{\"colorbar\":{\"outlinewidth\":0,\"ticks\":\"\"}}}],\"scattermapbox\":[{\"type\":\"scattermapbox\",\"marker\":{\"colorbar\":{\"outlinewidth\":0,\"ticks\":\"\"}}}],\"scatterternary\":[{\"type\":\"scatterternary\",\"marker\":{\"colorbar\":{\"outlinewidth\":0,\"ticks\":\"\"}}}],\"scattercarpet\":[{\"type\":\"scattercarpet\",\"marker\":{\"colorbar\":{\"outlinewidth\":0,\"ticks\":\"\"}}}],\"carpet\":[{\"aaxis\":{\"endlinecolor\":\"#2a3f5f\",\"gridcolor\":\"white\",\"linecolor\":\"white\",\"minorgridcolor\":\"white\",\"startlinecolor\":\"#2a3f5f\"},\"baxis\":{\"endlinecolor\":\"#2a3f5f\",\"gridcolor\":\"white\",\"linecolor\":\"white\",\"minorgridcolor\":\"white\",\"startlinecolor\":\"#2a3f5f\"},\"type\":\"carpet\"}],\"table\":[{\"cells\":{\"fill\":{\"color\":\"#EBF0F8\"},\"line\":{\"color\":\"white\"}},\"header\":{\"fill\":{\"color\":\"#C8D4E3\"},\"line\":{\"color\":\"white\"}},\"type\":\"table\"}],\"barpolar\":[{\"marker\":{\"line\":{\"color\":\"#E5ECF6\",\"width\":0.5},\"pattern\":{\"fillmode\":\"overlay\",\"size\":10,\"solidity\":0.2}},\"type\":\"barpolar\"}],\"pie\":[{\"automargin\":true,\"type\":\"pie\"}]},\"layout\":{\"autotypenumbers\":\"strict\",\"colorway\":[\"#636efa\",\"#EF553B\",\"#00cc96\",\"#ab63fa\",\"#FFA15A\",\"#19d3f3\",\"#FF6692\",\"#B6E880\",\"#FF97FF\",\"#FECB52\"],\"font\":{\"color\":\"#2a3f5f\"},\"hovermode\":\"closest\",\"hoverlabel\":{\"align\":\"left\"},\"paper_bgcolor\":\"white\",\"plot_bgcolor\":\"#E5ECF6\",\"polar\":{\"bgcolor\":\"#E5ECF6\",\"angularaxis\":{\"gridcolor\":\"white\",\"linecolor\":\"white\",\"ticks\":\"\"},\"radialaxis\":{\"gridcolor\":\"white\",\"linecolor\":\"white\",\"ticks\":\"\"}},\"ternary\":{\"bgcolor\":\"#E5ECF6\",\"aaxis\":{\"gridcolor\":\"white\",\"linecolor\":\"white\",\"ticks\":\"\"},\"baxis\":{\"gridcolor\":\"white\",\"linecolor\":\"white\",\"ticks\":\"\"},\"caxis\":{\"gridcolor\":\"white\",\"linecolor\":\"white\",\"ticks\":\"\"}},\"coloraxis\":{\"colorbar\":{\"outlinewidth\":0,\"ticks\":\"\"}},\"colorscale\":{\"sequential\":[[0.0,\"#0d0887\"],[0.1111111111111111,\"#46039f\"],[0.2222222222222222,\"#7201a8\"],[0.3333333333333333,\"#9c179e\"],[0.4444444444444444,\"#bd3786\"],[0.5555555555555556,\"#d8576b\"],[0.6666666666666666,\"#ed7953\"],[0.7777777777777778,\"#fb9f3a\"],[0.8888888888888888,\"#fdca26\"],[1.0,\"#f0f921\"]],\"sequentialminus\":[[0.0,\"#0d0887\"],[0.1111111111111111,\"#46039f\"],[0.2222222222222222,\"#7201a8\"],[0.3333333333333333,\"#9c179e\"],[0.4444444444444444,\"#bd3786\"],[0.5555555555555556,\"#d8576b\"],[0.6666666666666666,\"#ed7953\"],[0.7777777777777778,\"#fb9f3a\"],[0.8888888888888888,\"#fdca26\"],[1.0,\"#f0f921\"]],\"diverging\":[[0,\"#8e0152\"],[0.1,\"#c51b7d\"],[0.2,\"#de77ae\"],[0.3,\"#f1b6da\"],[0.4,\"#fde0ef\"],[0.5,\"#f7f7f7\"],[0.6,\"#e6f5d0\"],[0.7,\"#b8e186\"],[0.8,\"#7fbc41\"],[0.9,\"#4d9221\"],[1,\"#276419\"]]},\"xaxis\":{\"gridcolor\":\"white\",\"linecolor\":\"white\",\"ticks\":\"\",\"title\":{\"standoff\":15},\"zerolinecolor\":\"white\",\"automargin\":true,\"zerolinewidth\":2},\"yaxis\":{\"gridcolor\":\"white\",\"linecolor\":\"white\",\"ticks\":\"\",\"title\":{\"standoff\":15},\"zerolinecolor\":\"white\",\"automargin\":true,\"zerolinewidth\":2},\"scene\":{\"xaxis\":{\"backgroundcolor\":\"#E5ECF6\",\"gridcolor\":\"white\",\"linecolor\":\"white\",\"showbackground\":true,\"ticks\":\"\",\"zerolinecolor\":\"white\",\"gridwidth\":2},\"yaxis\":{\"backgroundcolor\":\"#E5ECF6\",\"gridcolor\":\"white\",\"linecolor\":\"white\",\"showbackground\":true,\"ticks\":\"\",\"zerolinecolor\":\"white\",\"gridwidth\":2},\"zaxis\":{\"backgroundcolor\":\"#E5ECF6\",\"gridcolor\":\"white\",\"linecolor\":\"white\",\"showbackground\":true,\"ticks\":\"\",\"zerolinecolor\":\"white\",\"gridwidth\":2}},\"shapedefaults\":{\"line\":{\"color\":\"#2a3f5f\"}},\"annotationdefaults\":{\"arrowcolor\":\"#2a3f5f\",\"arrowhead\":0,\"arrowwidth\":1},\"geo\":{\"bgcolor\":\"white\",\"landcolor\":\"#E5ECF6\",\"subunitcolor\":\"white\",\"showland\":true,\"showlakes\":true,\"lakecolor\":\"white\"},\"title\":{\"x\":0.05},\"mapbox\":{\"style\":\"light\"}}},\"showlegend\":false,\"updatemenus\":[{\"buttons\":[{\"args\":[{\"x\":[[218.0,188.0,233.0,236.0,246.0,215.0,199.0,240.0,238.0,226.0,222.0,198.0,218.0,269.0,228.0,233.0,204.0,265.0,220.0,219.0,234.0,241.0,212.0,227.0,234.0,221.0,245.0,245.0,239.0,233.0,231.0,236.0,227.0,218.0,220.0,245.0,230.0,217.0,213.0,215.0,226.0,246.0,231.0,227.0,216.0,245.0,234.0,218.0,247.0,204.0]],\"type\":\"histogram\"},[0]],\"label\":\"00_arrivals\",\"method\":\"restyle\",\"visible\":true},{\"args\":[{\"x\":[[28.009290251709622,3.2404688558263497,13.04093564181642,29.246779979511263,65.40765798973386,67.5369600063828,16.38886568488679,36.70296864737044,38.20122762084785,54.95124723394664,17.76296471235844,13.030781617526763,14.650765978357333,99.83487368355877,35.09273817409444,43.33013178549788,30.0772100065147,58.92914412265742,15.273224091337058,17.59595362998475,19.048056089154557,31.24706993911779,15.900437248706547,23.793707549375583,37.169221658428796,30.54450875572224,41.9281491330179,47.10811391806582,9.024444937296863,64.80855451894936,57.00838314325546,51.431544919229026,35.248451764868136,22.22697291481614,58.80918331378785,41.02172845285099,15.57773180162366,15.258467083186865,23.136705110019275,30.034351792085236,75.21953760308695,26.427320651628623,41.88598302773019,25.834618205937502,31.508813523634824,34.018059683193115,33.7023317192258,8.852041373274428,69.83005402501828,15.376247610617407]],\"type\":\"histogram\"},[0]],\"label\":\"01a_triage_wait\",\"method\":\"restyle\",\"visible\":true},{\"args\":[{\"x\":[[0.5424540292425365,0.4753896108037521,0.5286808547151916,0.623225124987184,0.6472350623257924,0.6176388915316763,0.4797300675268191,0.676469567587376,0.5957621751008386,0.6528631578652224,0.5767070894556675,0.4742231229197,0.5810093537696704,0.7153590895298174,0.5578851377371967,0.6702141832425564,0.515984666002451,0.6962693360436643,0.5067824831373194,0.5754316891078147,0.6038869922237535,0.6000746523613589,0.5535018112126199,0.6206457753223281,0.6254121350583745,0.6088663003044283,0.6771036565648304,0.6431243624741918,0.5351795740446583,0.6528548114683499,0.6324249940620288,0.6386350569838176,0.6625378452510043,0.5234574773350178,0.6864094895274838,0.6988652739281886,0.6144102556870891,0.5500751044143645,0.5872981379343366,0.5382797486118492,0.6674362192231659,0.6233508306624631,0.6036470501928444,0.5987895689204676,0.5259358572807831,0.662071311443487,0.5934401809057512,0.5115922799568605,0.6914599765793982,0.5597162287390287]],\"type\":\"histogram\"},[0]],\"label\":\"01b_triage_util\",\"method\":\"restyle\",\"visible\":true},{\"args\":[{\"x\":[[128.49043831937075,63.307539921779274,149.63638124164612,91.13789889477214,130.09160791167537,87.10185216929746,90.81893097020887,126.44439669409351,96.50384596275453,106.38869228437892,83.03152146665563,89.23385514943065,97.57471419060138,117.58444257478047,125.930440276934,113.75794023045624,109.21503201178983,106.67137905095606,133.09170953639452,142.00166012114227,125.57996449635635,137.64333131373846,101.55796836190594,92.5196295061599,109.78852445666756,95.41192725086964,80.92080502314346,125.68986492137881,145.11594243548376,73.86132870736174,111.46300747301223,99.48762335785528,80.36056433632511,104.09280639732837,62.94506825629304,115.53764936685874,94.87411652565389,102.04826699322228,115.73385797172186,117.30431311987938,38.30615839424007,123.11988652476917,103.03952623422722,104.5775555054229,109.67639002034547,118.59147114453852,96.31940935666351,122.71604422196064,73.2519126938196,113.93838960195103]],\"type\":\"histogram\"},[0]],\"label\":\"02a_registration_wait\",\"method\":\"restyle\",\"visible\":true},{\"args\":[{\"x\":[[0.8546150354036918,0.7490266037760624,0.8399942490103287,0.8767621146532469,0.8271937174407211,0.8078559529383859,0.7646986145596589,0.8609780373041704,0.8789444549475702,0.8456387317175411,0.8389657803762329,0.7433263005275003,0.8436928679236785,0.8498490354355531,0.8496047820335013,0.8794482893552632,0.77812653460562,0.8838944673548188,0.8320993346360189,0.8432957392249009,0.8915963876672466,0.8720035330045883,0.8108753442988622,0.8660698050978846,0.878089309480741,0.8101037765957988,0.8273819807472593,0.8362226679717973,0.8829411524790178,0.8354688718605647,0.8134413836747042,0.8549998020137467,0.8649677028830074,0.820839416675865,0.85360853698459,0.8521703871913806,0.8862548280358371,0.8443547324429763,0.8274204754061045,0.8059251579980915,0.8434527071086537,0.862636524239661,0.8705516060000421,0.8352231715894651,0.8347418273306678,0.8630581774344683,0.8903739191088835,0.8588204325190589,0.8548504051508687,0.8750027157142506]],\"type\":\"histogram\"},[0]],\"label\":\"02b_registration_util\",\"method\":\"restyle\",\"visible\":true},{\"args\":[{\"x\":[[28.478641578907936,16.32817873295442,18.4002798601575,35.42443957630112,36.254401156933156,24.14902522437214,30.028974329227594,31.18993493878721,29.642379438205783,25.3749350496724,24.239778912922088,18.428593671181368,10.840605252887434,23.389521903532646,28.614144501815414,14.039685806609363,36.356651545463194,15.988430673512921,26.0583737132257,19.534332408838537,22.740256965679833,10.60834882292233,41.696347226648555,29.159237140200922,20.46435727979445,18.119543366597576,33.3096451998393,25.877961014687568,26.63279241881874,8.183236285507599,32.80604915248188,42.58007952414658,13.4637023707959,35.72191233217777,22.96061614184804,17.523346347457895,33.23465076644108,21.97820281228799,16.824212653168594,34.96015080569626,28.637486658455785,24.202508114597652,27.73581114474837,23.943267943566504,22.314717591552256,23.692053561649228,24.496422557304143,23.658986318162416,30.642092597277475,8.370004739984696]],\"type\":\"histogram\"},[0]],\"label\":\"03a_examination_wait\",\"method\":\"restyle\",\"visible\":true},{\"args\":[{\"x\":[[0.8474299014515363,0.7959205242743274,0.847310252738908,0.8811397931490925,0.8248740539062672,0.8106464290805696,0.8122418206850751,0.866353626136432,0.8875588334569334,0.8466283166639144,0.8695943182565228,0.7913011067991713,0.8676739855933459,0.8579036100236218,0.8334410944029501,0.8710137866553499,0.7921556343801585,0.8883142946600185,0.840573832238992,0.8330163313609643,0.8765689387868385,0.8647175889429748,0.8563486048987452,0.8810220030628924,0.8757098412781988,0.8461324753234198,0.8371332086214429,0.8496493285842763,0.8837141502500167,0.8484657325431528,0.8180071771100575,0.8534708559826897,0.851025873984417,0.8247667011208527,0.8751403651391457,0.8553581223275087,0.8841131360863382,0.8670521350305821,0.8146222345706379,0.8136897153994705,0.868401407500181,0.8708065413085849,0.8726892441501188,0.84915558638189,0.8405325227324416,0.8650628253980673,0.8899635232958838,0.8551252933846896,0.8583845834349931,0.8684520854040928]],\"type\":\"histogram\"},[0]],\"label\":\"03b_examination_util\",\"method\":\"restyle\",\"visible\":true},{\"args\":[{\"x\":[[145.4143206009249,134.20278558257493,169.50329543554002,125.01625497279007,150.89014876334397,95.62843976206952,119.29553016984771,169.36888777733526,169.73792871121893,136.91186599510002,135.49981686490383,137.8244282671792,122.19242483331564,164.85071685109324,75.65928109438585,125.1739423523739,94.7152638543205,149.12276829277775,155.84773479980848,120.16884527898559,129.2334632527805,76.37773406955344,127.49134806562321,128.26983534431525,142.61355999590927,110.95598432337847,107.60072027443175,100.27744006675563,145.73243372068382,147.3348982538873,159.74570683902638,176.08302975101904,134.4621393966806,119.9433160912374,133.36995428710873,105.73406777522622,140.44153870825343,128.0621160665735,121.55541076525108,109.43207799312705,127.57884349589274,99.96084810331797,158.28111309262923,133.93151139787398,162.2207562337045,173.83321406799433,118.74731380711259,107.12246884644118,105.93722384361737,158.44179278455627]],\"type\":\"histogram\"},[0]],\"label\":\"04a_treatment_wait(non_trauma)\",\"method\":\"restyle\",\"visible\":true},{\"args\":[{\"x\":[[0.8531886062547525,0.8467953723607982,0.8270875419145723,0.8582991651467851,0.8409133026294883,0.8415739704268722,0.785988370876383,0.8583404449582905,0.8986651721576497,0.9002548490402674,0.9441827629542578,0.8132220841566272,0.9022656204894897,0.8429377333308177,0.8426559063042834,0.9041306491586939,0.8527235575037331,0.9003888784446481,0.8498185275223645,0.8584941679696741,0.9032769922189233,0.9096355595471245,0.8872630013386081,0.8563124306706866,0.8999755013452682,0.8893204941548175,0.8394362632460352,0.8538132696017491,0.8932704895733866,0.9055740799844904,0.8598875189171494,0.8491063499363798,0.8896291569078429,0.8327897345320752,0.9163517810770223,0.9118275976098101,0.8625563863013,0.8849801176973945,0.8379222411733019,0.8048099922623326,0.872986617116827,0.8843212261727531,0.8988964777505203,0.8643012089186395,0.8372372549649846,0.8850435112572804,0.8854922312492046,0.8445548889722878,0.8349592477012286,0.8762707218665424]],\"type\":\"histogram\"},[0]],\"label\":\"04b_treatment_util(non_trauma)\",\"method\":\"restyle\",\"visible\":true},{\"args\":[{\"x\":[[247.87222932785437,178.79915439172024,260.8044565328279,206.94592849176973,288.79654710004377,226.29414844813323,211.7112849286587,268.6554563697397,247.61983114427113,264.4518968859313,209.53287041414902,204.42343586120714,199.14338498323087,299.0878625446939,228.4052091962118,237.7556814828793,231.3416894003008,242.4703821249159,244.86707545433748,230.76245943565507,228.30077729247404,210.6894429254903,221.210607340494,203.0008866902121,235.07852102153973,214.35720177616716,205.1002286753736,236.94841360138892,249.967392984458,234.71432397859405,267.91901343725806,274.52586011185144,196.76422256463806,221.0496509098951,222.36131899416122,218.95747265279454,214.9866778375176,221.57098275102152,217.4794401900761,229.539783016938,215.16092196996638,213.49377774386278,244.92753601319575,218.3578966659069,245.14112316034831,249.38813991062273,218.98825949867327,210.46083139111474,222.2173209726099,229.11929243129197]],\"type\":\"histogram\"},[0]],\"label\":\"05_total_time(non-trauma)\",\"method\":\"restyle\",\"visible\":true},{\"args\":[{\"x\":[[8.595360378113972,65.14693182041792,78.13013664136726,225.47174857825996,168.0140881750961,82.26360069917874,70.31860306070948,152.75061552078472,68.07546090892616,85.03058775525912,318.0852702423178,162.70180308015685,228.9670200617644,181.277094060207,117.6346660243509,75.16311679186862,68.52653117723546,307.63845159591796,234.97741364884553,26.182505576065136,148.77064725025807,94.98464580422913,79.15764593254012,128.5861318160581,157.6135236690961,168.8357059592276,158.6862880574682,101.5907252618523,235.08774438666592,101.68935330348341,54.35738709537698,120.59404953572879,136.51743847894454,18.76590590151762,209.30127402395476,228.22747110279815,82.5647563087555,186.04160254543444,94.98419518925334,135.93493343190087,263.86686818806436,185.26401401082475,156.03611647427257,131.70119256571672,144.29248912741386,124.11188180828451,189.40199511662445,76.08371274567692,142.82508225667846,7.43387956787987]],\"type\":\"histogram\"},[0]],\"label\":\"06a_trauma_wait\",\"method\":\"restyle\",\"visible\":true},{\"args\":[{\"x\":[[0.3689084098169131,0.8385211298286587,0.8165474524553085,0.8769835607623823,0.9791894750184259,0.842665106626021,0.8104524362239633,0.8016316613183545,0.698513175864303,0.8347983520494153,0.9846895594679249,0.9145613120644648,0.9723330108239759,0.8889723309954537,0.911023608014534,0.6542844081128576,0.6884758893707797,0.9304917898988366,0.8939425310256488,0.6506406237003599,1.0888944509449199,0.7823475952606737,0.7748269538308755,0.7845725065005356,1.008627351827479,0.9555330982304985,0.7625684963869068,0.8036973466855654,0.8639684106026562,0.8030093114573083,0.8432461436585671,0.8055571906770876,0.8067655938661622,0.6613284953424797,0.853760213006032,0.9286562551589054,0.6010630423684848,0.9680917156523322,0.8810109511509367,0.8279872415345157,0.8161386573940613,0.796050898362081,0.91833929173007,0.7499270666700999,0.5909892595994171,0.8360395837958442,0.854950551398654,0.7094780650103856,0.9197036741575964,0.3785888593376346]],\"type\":\"histogram\"},[0]],\"label\":\"06b_trauma_util\",\"method\":\"restyle\",\"visible\":true},{\"args\":[{\"x\":[[214.19833101596814,231.60356711375206,251.83573595001653,95.6015718025087,13.244607729829678,207.09010476395096,295.8515058412709,171.91703567557408,307.06708513048056,210.96976751233703,40.721750060210034,181.23297356345418,156.37493028487214,43.66341972500509,185.95805261949837,179.4018553800449,24.09869998544496,132.95933013569294,74.25991061952821,89.17108161223626,221.62624802738407,157.47886101300486,91.67827828088382,231.43949758351832,205.79757658451385,239.46608728700485,293.4507327897041,224.95962978372455,175.4064740142796,127.65167069329125,192.27482227917565,350.7656288899605,180.29315213396248,305.28653083295336,75.18083165615906,457.0555560337692,230.4750215637829,243.61433585946253,111.16208600434659,199.7556384755709,40.69205760742792,117.54470274266835,115.17395947284983,103.94102840931278,81.89096862761822,138.41840772894614,57.394295943953104,293.51636869179293,151.38737282213742,243.0348452664608]],\"type\":\"histogram\"},[0]],\"label\":\"07a_treatment_wait(trauma)\",\"method\":\"restyle\",\"visible\":true},{\"args\":[{\"x\":[[0.9768079843773353,0.7786342239235766,1.1882873254015112,1.1931150965191253,0.6506710462046249,0.7714635550722093,0.8809200215904515,0.6024000979932126,0.9523116224094899,0.7975863716353848,0.6300584638371377,0.8519408236116093,0.9559375057284005,0.7194342552875143,0.8983906645888987,0.8977055426202326,0.9041469141050584,0.779611874797994,0.7525979289759444,0.7681502083134008,1.0559069177613438,0.749666405486823,0.6513110298048613,0.8664633905540992,0.8825779963422339,0.8905804304759004,1.0577029527779302,0.8600515785002031,1.3554356983157703,1.0896086329310335,0.7632435107156134,0.9283522558267191,0.8727031077352372,0.8862626642792875,0.7984984028198785,0.8590901380479558,0.8672580586565389,0.866064604370277,0.8031353028600008,0.6187849163331421,0.6185754033744028,0.7937426184116727,0.9046840685092759,0.7460943813651182,0.6095734595250245,0.7562572881058092,0.663157395021793,1.0099538885908246,0.8036488329719528,0.6719364391518832]],\"type\":\"histogram\"},[0]],\"label\":\"07b_treatment_util(trauma)\",\"method\":\"restyle\",\"visible\":true},{\"args\":[{\"x\":[[399.2003106567676,392.0649643387095,369.2769197903274,385.7527942607722,339.8177530522316,418.7108963411495,462.8186084010069,433.50222273369116,477.14558658522895,503.11503546175567,347.8871168374045,359.0579204818184,432.4142252346956,422.9960741696051,376.2824885566958,380.2567771675144,152.4669818580401,418.6258153568265,384.8098843393096,284.1139535458527,450.492634779077,406.4627653830882,275.81332394183835,388.4127258572193,503.8718106950361,409.39782230059166,454.0788839223841,396.3083889613814,338.9672370626718,356.9694903693746,372.6316604885564,548.3339575348889,369.07677167659824,446.9758673230206,416.50889962656294,695.1650990844265,406.2936645180188,452.1044052911535,339.4119104450414,432.1743662056987,334.2354618435269,356.65336508828284,379.5943869004799,299.39244112695104,369.5929351385708,240.1891679912198,388.2317937658034,543.0790004692468,361.83627584733756,522.1973032743819]],\"type\":\"histogram\"},[0]],\"label\":\"08_total_time(trauma)\",\"method\":\"restyle\",\"visible\":true},{\"args\":[{\"x\":[[154.0,139.0,157.0,159.0,148.0,151.0,149.0,154.0,145.0,159.0,148.0,144.0,154.0,152.0,172.0,163.0,156.0,166.0,144.0,149.0,169.0,168.0,147.0,156.0,166.0,161.0,152.0,162.0,156.0,151.0,139.0,148.0,149.0,151.0,151.0,153.0,167.0,154.0,149.0,158.0,155.0,162.0,161.0,148.0,148.0,149.0,176.0,165.0,155.0,144.0]],\"type\":\"histogram\"},[0]],\"label\":\"09_throughput\",\"method\":\"restyle\",\"visible\":true}],\"direction\":\"down\",\"showactive\":true}]},                        {\"responsive\": true}                    ).then(function(){\n",
       "                            \n",
       "var gd = document.getElementById('07b4b810-2ade-4083-9fac-acf17656f749');\n",
       "var x = new MutationObserver(function (mutations, observer) {{\n",
       "        var display = window.getComputedStyle(gd).display;\n",
       "        if (!display || display === 'none') {{\n",
       "            console.log([gd, 'removed!']);\n",
       "            Plotly.purge(gd);\n",
       "            observer.disconnect();\n",
       "        }}\n",
       "}});\n",
       "\n",
       "// Listen for the removal of the full notebook cells\n",
       "var notebookContainer = gd.closest('#notebook-container');\n",
       "if (notebookContainer) {{\n",
       "    x.observe(notebookContainer, {childList: true});\n",
       "}}\n",
       "\n",
       "// Listen for the clearing of the current output cell\n",
       "var outputEl = gd.closest('.output');\n",
       "if (outputEl) {{\n",
       "    x.observe(outputEl, {childList: true});\n",
       "}}\n",
       "\n",
       "                        })                };                });            </script>        </div>"
      ]
     },
     "metadata": {},
     "output_type": "display_data"
    }
   ],
   "source": [
    "create_user_controlled_hist(results)"
   ]
  },
  {
   "cell_type": "code",
   "execution_count": null,
   "id": "48a0d72d-cd90-4ff7-ba5a-625f5a228268",
   "metadata": {},
   "outputs": [],
   "source": []
  }
 ],
 "metadata": {
  "kernelspec": {
   "display_name": "Python 3 (ipykernel)",
   "language": "python",
   "name": "python3"
  },
  "language_info": {
   "codemirror_mode": {
    "name": "ipython",
    "version": 3
   },
   "file_extension": ".py",
   "mimetype": "text/x-python",
   "name": "python",
   "nbconvert_exporter": "python",
   "pygments_lexer": "ipython3",
   "version": "3.9.16"
  }
 },
 "nbformat": 4,
 "nbformat_minor": 5
}

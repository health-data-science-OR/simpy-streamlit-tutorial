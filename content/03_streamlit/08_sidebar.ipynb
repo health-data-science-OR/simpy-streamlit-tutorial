{
 "cells": [
  {
   "cell_type": "markdown",
   "id": "32b60a35-f975-4e4a-9b42-e5e5c98319ba",
   "metadata": {},
   "source": [
    "# Tidying up controls\n",
    "\n",
    "When you have lots of sliders and other input widgets it is good practice to make use of a **sidebar**. This will organise the interactive app a bit more cleanly.\n",
    "\n",
    "In some cases the simulation model may also take a few minutes to run. In these instances it is helpful to provide some feedback to the user that the model is running in the background. "
   ]
  },
  {
   "cell_type": "markdown",
   "id": "e16b070b-a293-4581-a1b5-88d4423ace11",
   "metadata": {},
   "source": [
    "## 1. Adding a sidebar"
   ]
  },
  {
   "cell_type": "markdown",
   "id": "c7d3a3df-3db0-4a1a-8736-1ab402b02547",
   "metadata": {},
   "source": [
    "We can move the sliders and other inputs to a sidebar using a python `with` block ans the `st.sidebar` command:\n",
    "\n",
    "> Note a `with` block requires code within it to be indented.\n",
    "\n",
    "```python\n",
    "with st.sidebar:\n",
    "\n",
    "    # set number of resources\n",
    "    n_operators = st.slider('Call operators', 1, 20, 13, step=1)\n",
    "    n_nurses = st.slider('Nurses', 1, 15, 9, step=1)\n",
    "\n",
    "    # set chance of nurse\n",
    "    chance_callback = st.slider('Chance of nurse callback', 0.1, 1.0, 0.4,\n",
    "                                step=0.05, help='Set the chance of a call back')\n",
    "\n",
    "    # set number of replications\n",
    "    n_reps = st.slider(\"No. of replications\", 5, 100, step=1)\n",
    "```"
   ]
  },
  {
   "cell_type": "markdown",
   "id": "a827fb82-cf4d-4bec-badc-68a908921a2d",
   "metadata": {},
   "source": [
    "## 2. Adding a spinner and success box\n",
    "\n",
    "We can setup our app so that a \"model running\" message is displayed while the `multiple_replications` function executes.\n",
    "\n",
    "The spinner function uses a `with` statement and the `st.spinner(message)` function.\n",
    "\n",
    "The success box using the `st.success(message)` function.\n",
    "\n",
    "The modified code is:\n",
    "\n",
    "```python\n",
    "if st.button(\"Run simulation\"):\n",
    "\n",
    "    with st.spinner('Simulating the urgent care system...'):\n",
    "        # run multiple replications of experment\n",
    "        results = multiple_replications(exp, n_reps=n_reps)\n",
    "    \n",
    "    st.success('Done!')\n",
    "```\n",
    "\n"
   ]
  },
  {
   "cell_type": "markdown",
   "id": "31fce781-2f52-49dc-ac5c-c679e46c8e8a",
   "metadata": {},
   "source": [
    "## 3. Full listing\n",
    "\n",
    "The full code listing and a screenshot of the example app are below"
   ]
  },
  {
   "cell_type": "markdown",
   "id": "8fede7fe-0e6d-4119-bfa6-d6b783aa7c63",
   "metadata": {},
   "source": [
    "```python\n",
    "\"\"\"\n",
    "The code in this streamlit script adds in functionality to display markdown text.\n",
    "\"\"\"\n",
    "import streamlit as st\n",
    "from model import Experiment, multiple_replications\n",
    "\n",
    "# We add in a title for our web app's page\n",
    "st.title(\"Urgent care call centre\")\n",
    "\n",
    "# ##############################################################################\n",
    "# MODIFICATION: side bar\n",
    "\n",
    "with st.sidebar:\n",
    "\n",
    "    # set number of resources\n",
    "    n_operators = st.slider('Call operators', 1, 20, 13, step=1)\n",
    "    n_nurses = st.slider('Nurses', 1, 15, 9, step=1)\n",
    "\n",
    "    # set chance of nurse\n",
    "    chance_callback = st.slider('Chance of nurse callback', 0.1, 1.0, 0.4,\n",
    "                                step=0.05, help='Set the chance of a call back')\n",
    "\n",
    "    # set number of replications\n",
    "    n_reps = st.slider(\"No. of replications\", 5, 100, step=1)\n",
    "\n",
    "################################################################################\n",
    "\n",
    "# create experiment\n",
    "exp = Experiment(n_operators=n_operators, n_nurses=n_nurses,\n",
    "                 chance_callback=chance_callback)\n",
    "\n",
    "# A user must press a streamlit button to run the model\n",
    "if st.button(\"Run simulation\"):\n",
    "\n",
    "    # ##########################################################################\n",
    "    # MODIFICATION: add a spinner and then display success box\n",
    "    with st.spinner('Simulating the urgent care system...'):\n",
    "        # run multiple replications of experment\n",
    "        results = multiple_replications(exp, n_reps=n_reps)#\n",
    "    \n",
    "    st.success('Done!')\n",
    "    ###########################################################################\n",
    "\n",
    "    # show results\n",
    "    st.dataframe(results.describe())\n",
    "```"
   ]
  },
  {
   "cell_type": "markdown",
   "id": "5248a983-1ddf-4318-b0a6-e5055c15ec38",
   "metadata": {},
   "source": [
    "![image](../../imgs/app_with_sidebar.png)"
   ]
  },
  {
   "cell_type": "code",
   "execution_count": null,
   "id": "ad2f2ec6-2b86-4a9b-aa05-2bd72378fbfa",
   "metadata": {},
   "outputs": [],
   "source": []
  }
 ],
 "metadata": {
  "kernelspec": {
   "display_name": "Python 3 (ipykernel)",
   "language": "python",
   "name": "python3"
  },
  "language_info": {
   "codemirror_mode": {
    "name": "ipython",
    "version": 3
   },
   "file_extension": ".py",
   "mimetype": "text/x-python",
   "name": "python",
   "nbconvert_exporter": "python",
   "pygments_lexer": "ipython3",
   "version": "3.9.16"
  }
 },
 "nbformat": 4,
 "nbformat_minor": 5
}

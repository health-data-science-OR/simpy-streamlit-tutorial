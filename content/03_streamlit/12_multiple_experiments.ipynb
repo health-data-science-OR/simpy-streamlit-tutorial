{
 "cells": [
  {
   "cell_type": "markdown",
   "id": "f8ce24f2-6896-4551-a709-ac8291c7d5a6",
   "metadata": {},
   "source": [
    "# Loading and running multiple experiments\n",
    "\n",
    "The `Experiment` class provides a simple way to run multiple experiments in a batch.  To do so we can create multiple instances of `Experiment`, each with a different set of inputs for the model.  These are then executed in a loop.\n",
    "\n",
    "A method to implement this in `streamlit` is to upload a Comma Separated Value (.CSV) file containing a list of experiments to the web app.  This can be stored internally as a `pandas.Dataframe` and displayed using a `streamlit` widget such as `st.table`.  A user can then edit experiment files locally on their own machine (for example, using a spreadsheet software or using CSV viewer extensions for Jupyter-Lab or Visual Studio Code) and upload, inspect, and run, and view results in the app.\n",
    "\n",
    "## Formatting experiment files\n",
    "\n",
    "In the format used here each row represents an experiment. The first column is a unique numeric identifier, the second column a name given to the experiment, and following n columns represent the optional input variables that can be passed to an `Experiment`.\n",
    "\n",
    "Note that the method described here relies on the names of these columns matching the input parameters to `Experiment`.\n",
    "\n",
    "> But note that columns do not need to be in the same order as `Experiment` arguments and they do not need to be exhaustive.  A selection works fine.\n",
    "\n",
    "For example, in the urgent care call centre we will include 3 columns with the names:\n",
    "\n",
    "* n_operators\n",
    "* n_nurses\n",
    "* chance_callback\n",
    "\n",
    "The function `create_example_csv()` creates such a file containing four experiments that vary these paramters."
   ]
  },
  {
   "cell_type": "code",
   "execution_count": 1,
   "id": "37993d2e",
   "metadata": {},
   "outputs": [],
   "source": [
    "import pandas as pd"
   ]
  },
  {
   "cell_type": "code",
   "execution_count": 4,
   "id": "a7913402",
   "metadata": {},
   "outputs": [],
   "source": [
    "def create_example_csv(filename='example_experiments.csv'):\n",
    "    '''\n",
    "    Create an example CSV file to use in tutorial.\n",
    "    This creates 4 experiments that varys\n",
    "    n_operators, n_nurses, and chance_callback\n",
    "\n",
    "    Params:\n",
    "    ------\n",
    "    filename: str, optional (default='example_experiments.csv')\n",
    "        The name and path to the CSV file.\n",
    "    '''\n",
    "    # each column is defined as a seperate list\n",
    "    names = ['base', 'op+1', 'nurse+1', 'high_acuity']\n",
    "    operators = [13, 14, 13, 13]\n",
    "    nurses = [9, 9, 10, 9]\n",
    "    chance_callback = [0.4, 0.4, 0.4, 0.55]\n",
    "\n",
    "    # empty dataframe\n",
    "    df_experiments = pd.DataFrame()\n",
    "\n",
    "    # create new columns from lists\n",
    "    df_experiments['experiment'] = names\n",
    "    df_experiments['n_operators'] = operators\n",
    "    df_experiments['n_nurses'] = nurses\n",
    "    df_experiments['chance_callback'] = chance_callback\n",
    "\n",
    "    df_experiments.to_csv(filename, index_label='id')"
   ]
  },
  {
   "cell_type": "code",
   "execution_count": 5,
   "id": "fb94c1bd",
   "metadata": {},
   "outputs": [],
   "source": [
    "create_example_csv()"
   ]
  },
  {
   "cell_type": "markdown",
   "id": "0c6aab63",
   "metadata": {},
   "source": [
    "## Uploading a file to a web app\n",
    "\n",
    "`streamlit` provides the `st.file_uploader` function to easily upload the file to the app.  This is displayed as a button in the that prompts the user with a file open dialog window when clicked.  The user then selected the CSV file and it is uploaded and displayed.  The status of the file upload (True or False) can also be assigned to a variable.  The following code can be used to do so.\n",
    "\n",
    "```python\n",
    "uploaded_file = st.file_uploader(\"Choose a file\")\n",
    "if uploaded_file is not None:\n",
    "    # assumes CSV format: read into dataframe.\n",
    "    df_experiments = pd.read_csv(uploaded_file, index_col=0)\n",
    "    st.write('**Loaded Experiments**')\n",
    "    st.table(df_experiments)\n",
    "```"
   ]
  },
  {
   "cell_type": "markdown",
   "id": "08199e2c",
   "metadata": {},
   "source": [
    "## Converting the upload to instances of `Experiment`\n",
    "\n",
    "Once the upload is complete, the code above displays to the user and stores as a `pd.Dataframe` in the `df_experiments` variable.  To convert the rows to `Experiment` objects is a two step process. \n",
    "\n",
    "1. We cast the `Dataframe` to a nested python dictionary. Each key in the dictionary is the name of an experiment. The value is another dictionary where the key/value pairs are columns and their values.  \n",
    "2. We loop through the dictionary entries and pass the parameters to a new instance of the `Experiment`` class.\n",
    "\n",
    "The function `create_experiments` implements both of these steps. The function returns a new dictionary where the key value pairs are the experiment name string, and an instance of `Experiment` "
   ]
  },
  {
   "cell_type": "code",
   "execution_count": 6,
   "id": "acd90217",
   "metadata": {},
   "outputs": [],
   "source": [
    "from model import Experiment"
   ]
  },
  {
   "cell_type": "code",
   "execution_count": 7,
   "id": "bbae5942-c3fe-4baf-9e43-f13ca82b3e05",
   "metadata": {},
   "outputs": [],
   "source": [
    "def create_experiments(df_experiments):\n",
    "    '''\n",
    "    Returns dictionary of Experiment objects based on contents of a dataframe\n",
    "\n",
    "    Params:\n",
    "    ------\n",
    "    df_experiments: pandas.DataFrame\n",
    "        Dataframe of experiments. First two columns are id, name followed by \n",
    "        variable names.  No fixed width\n",
    "\n",
    "    Returns:\n",
    "    --------\n",
    "    dict\n",
    "    '''\n",
    "    experiments = {}\n",
    "    \n",
    "    # experiment input parameter dictionary\n",
    "    exp_dict = df_experiments[df_experiments.columns[1:]].T.to_dict()\n",
    "    # names of experiments\n",
    "    exp_names = df_experiments[df_experiments.columns[0]].T.to_list()\n",
    "    \n",
    "    # loop through params and create Experiment objects.\n",
    "    for name, params in zip(exp_names, exp_dict.values()):\n",
    "        experiments[name] = Experiment(**params)\n",
    "    \n",
    "    return experiments"
   ]
  },
  {
   "cell_type": "code",
   "execution_count": 8,
   "id": "f9fd61d2",
   "metadata": {},
   "outputs": [
    {
     "ename": "TypeError",
     "evalue": "__init__() got an unexpected keyword argument 'experiment'",
     "output_type": "error",
     "traceback": [
      "\u001b[0;31m---------------------------------------------------------------------------\u001b[0m",
      "\u001b[0;31mTypeError\u001b[0m                                 Traceback (most recent call last)",
      "Cell \u001b[0;32mIn[8], line 6\u001b[0m\n\u001b[1;32m      1\u001b[0m \u001b[39m# test of the function\u001b[39;00m\n\u001b[1;32m      2\u001b[0m \n\u001b[1;32m      3\u001b[0m \u001b[39m# assume code is run in same directory as example csv file\u001b[39;00m\n\u001b[1;32m      4\u001b[0m df_experiment \u001b[39m=\u001b[39m pd\u001b[39m.\u001b[39mread_csv(\u001b[39m'\u001b[39m\u001b[39mexample_experiments.csv\u001b[39m\u001b[39m'\u001b[39m)\n\u001b[0;32m----> 6\u001b[0m experiments_to_run \u001b[39m=\u001b[39m create_experiments(df_experiment)\n\u001b[1;32m      8\u001b[0m \u001b[39mprint\u001b[39m(\u001b[39mtype\u001b[39m(experiments_to_run))\n\u001b[1;32m     10\u001b[0m \u001b[39mprint\u001b[39m(experiments_to_run[\u001b[39m'\u001b[39m\u001b[39mbase\u001b[39m\u001b[39m'\u001b[39m]\u001b[39m.\u001b[39mn_nurses)\n",
      "Cell \u001b[0;32mIn[7], line 24\u001b[0m, in \u001b[0;36mcreate_experiments\u001b[0;34m(df_experiments)\u001b[0m\n\u001b[1;32m     22\u001b[0m \u001b[39m# loop through params and create Experiment objects.\u001b[39;00m\n\u001b[1;32m     23\u001b[0m \u001b[39mfor\u001b[39;00m name, params \u001b[39min\u001b[39;00m \u001b[39mzip\u001b[39m(exp_names, exp_dict\u001b[39m.\u001b[39mvalues()):\n\u001b[0;32m---> 24\u001b[0m     experiments[name] \u001b[39m=\u001b[39m Experiment(\u001b[39m*\u001b[39;49m\u001b[39m*\u001b[39;49mparams)\n\u001b[1;32m     26\u001b[0m \u001b[39mreturn\u001b[39;00m experiments\n",
      "\u001b[0;31mTypeError\u001b[0m: __init__() got an unexpected keyword argument 'experiment'"
     ]
    }
   ],
   "source": [
    "# test of the function\n",
    "\n",
    "# assume code is run in same directory as example csv file\n",
    "df_experiment = pd.read_csv('example_experiments.csv')\n",
    "\n",
    "experiments_to_run = create_experiments(df_experiment)\n",
    "\n",
    "print(type(experiments_to_run))\n",
    "\n",
    "print(experiments_to_run['base'].n_nurses)"
   ]
  },
  {
   "cell_type": "code",
   "execution_count": 13,
   "id": "40f5be13-c48c-4275-b93c-b2504c886bdf",
   "metadata": {},
   "outputs": [],
   "source": [
    "\n",
    "params = {'mean_iat':0.8, 'n_operators': 14}\n",
    "\n",
    "args = Experiment(**params)"
   ]
  },
  {
   "cell_type": "code",
   "execution_count": null,
   "id": "5f3e67f7",
   "metadata": {},
   "outputs": [],
   "source": []
  },
  {
   "cell_type": "code",
   "execution_count": 14,
   "id": "9dc264a1-9130-402c-8c20-949866b3a0ab",
   "metadata": {},
   "outputs": [
    {
     "data": {
      "text/plain": [
       "0.8"
      ]
     },
     "execution_count": 14,
     "metadata": {},
     "output_type": "execute_result"
    }
   ],
   "source": [
    "args.arrival_dist.mean"
   ]
  },
  {
   "cell_type": "code",
   "execution_count": 16,
   "id": "8d338bbc-6325-4d69-86fe-5e6533295e98",
   "metadata": {},
   "outputs": [
    {
     "data": {
      "text/plain": [
       "14"
      ]
     },
     "execution_count": 16,
     "metadata": {},
     "output_type": "execute_result"
    }
   ],
   "source": [
    "args.n_operators"
   ]
  },
  {
   "cell_type": "code",
   "execution_count": 18,
   "id": "dd7b94f4-4045-4d93-a324-6880bc6d669a",
   "metadata": {},
   "outputs": [
    {
     "data": {
      "text/html": [
       "<div>\n",
       "<style scoped>\n",
       "    .dataframe tbody tr th:only-of-type {\n",
       "        vertical-align: middle;\n",
       "    }\n",
       "\n",
       "    .dataframe tbody tr th {\n",
       "        vertical-align: top;\n",
       "    }\n",
       "\n",
       "    .dataframe thead th {\n",
       "        text-align: right;\n",
       "    }\n",
       "</style>\n",
       "<table border=\"1\" class=\"dataframe\">\n",
       "  <thead>\n",
       "    <tr style=\"text-align: right;\">\n",
       "      <th></th>\n",
       "      <th>band</th>\n",
       "      <th>n_albums</th>\n",
       "      <th>yr_formed</th>\n",
       "      <th>active</th>\n",
       "    </tr>\n",
       "  </thead>\n",
       "  <tbody>\n",
       "    <tr>\n",
       "      <th>0</th>\n",
       "      <td>pantera</td>\n",
       "      <td>9</td>\n",
       "      <td>1981</td>\n",
       "      <td>0</td>\n",
       "    </tr>\n",
       "    <tr>\n",
       "      <th>1</th>\n",
       "      <td>metallica</td>\n",
       "      <td>10</td>\n",
       "      <td>1981</td>\n",
       "      <td>1</td>\n",
       "    </tr>\n",
       "    <tr>\n",
       "      <th>2</th>\n",
       "      <td>megadeth</td>\n",
       "      <td>15</td>\n",
       "      <td>1983</td>\n",
       "      <td>1</td>\n",
       "    </tr>\n",
       "    <tr>\n",
       "      <th>3</th>\n",
       "      <td>anthrax</td>\n",
       "      <td>11</td>\n",
       "      <td>1981</td>\n",
       "      <td>1</td>\n",
       "    </tr>\n",
       "  </tbody>\n",
       "</table>\n",
       "</div>"
      ],
      "text/plain": [
       "        band  n_albums  yr_formed  active\n",
       "0    pantera         9       1981       0\n",
       "1  metallica        10       1981       1\n",
       "2   megadeth        15       1983       1\n",
       "3    anthrax        11       1981       1"
      ]
     },
     "execution_count": 18,
     "metadata": {},
     "output_type": "execute_result"
    }
   ],
   "source": [
    "import pandas as pd\n",
    "# create a full data frame\n",
    "\n",
    "# each column is defined as a seperate list\n",
    "band_name = ['pantera', 'metallica', 'megadeth', 'anthrax']\n",
    "n_albums = [9, 10, 15, 11]\n",
    "formed = [1981, 1981, 1983, 1981]\n",
    "still_active = [0, 1, 1, 1]\n",
    "\n",
    "# empty dataframe\n",
    "thrash_metal_bands = pd.DataFrame()\n",
    "\n",
    "# create new columns from lists\n",
    "thrash_metal_bands['band'] = band_name\n",
    "thrash_metal_bands['n_albums'] = n_albums\n",
    "thrash_metal_bands['yr_formed'] = formed\n",
    "thrash_metal_bands['active'] = still_active\n",
    "\n",
    "thrash_metal_bands"
   ]
  },
  {
   "cell_type": "code",
   "execution_count": 24,
   "id": "fce7471f-9ec6-4c95-a2df-16b04a00e321",
   "metadata": {},
   "outputs": [
    {
     "data": {
      "text/plain": [
       "{0: {'n_albums': 9, 'yr_formed': 1981, 'active': 0},\n",
       " 1: {'n_albums': 10, 'yr_formed': 1981, 'active': 1},\n",
       " 2: {'n_albums': 15, 'yr_formed': 1983, 'active': 1},\n",
       " 3: {'n_albums': 11, 'yr_formed': 1981, 'active': 1}}"
      ]
     },
     "execution_count": 24,
     "metadata": {},
     "output_type": "execute_result"
    }
   ],
   "source": [
    "thrash_metal_bands[thrash_metal_bands.columns[1:]].T.to_dict()"
   ]
  },
  {
   "cell_type": "code",
   "execution_count": 30,
   "id": "4a32ae45-30b4-447f-8adc-bbe7ae855870",
   "metadata": {},
   "outputs": [
    {
     "data": {
      "text/plain": [
       "['pantera', 'metallica', 'megadeth', 'anthrax']"
      ]
     },
     "execution_count": 30,
     "metadata": {},
     "output_type": "execute_result"
    }
   ],
   "source": [
    "thrash_metal_bands[thrash_metal_bands.columns[0]].T.to_list()"
   ]
  },
  {
   "cell_type": "code",
   "execution_count": 39,
   "id": "310efc20-3f5b-4b48-bdbe-b85d2db3d61b",
   "metadata": {},
   "outputs": [],
   "source": [
    "def create_experiments(df_experiments):\n",
    "    '''\n",
    "    Returns dictionary of Experiment objects based on contents of a dataframe\n",
    "\n",
    "    Params:\n",
    "    ------\n",
    "    df_experiments: pandas.DataFrame\n",
    "        Dataframe of experiments. First two columns are id, name followed by \n",
    "        variable names.  No fixed width\n",
    "\n",
    "    Returns:\n",
    "    --------\n",
    "    dict\n",
    "    '''\n",
    "    experiments = {}\n",
    "    \n",
    "    # experiment input parameter dictionary\n",
    "    exp_dict = df_experiments[df_experiments.columns[1:]].T.to_dict()\n",
    "    # names of experiments\n",
    "    exp_names = df_experiments[df_experiments.columns[0]].T.to_list()\n",
    "    \n",
    "    # loop through params and create Experiment objects.\n",
    "    for name, params in zip(exp_names, exp_dict.values()):\n",
    "        experiments[name] = Experiment(**params)\n",
    "    \n",
    "    return experiments"
   ]
  },
  {
   "cell_type": "code",
   "execution_count": 40,
   "id": "402318f1-5090-4a91-80a0-117152e34161",
   "metadata": {},
   "outputs": [
    {
     "data": {
      "text/html": [
       "<div>\n",
       "<style scoped>\n",
       "    .dataframe tbody tr th:only-of-type {\n",
       "        vertical-align: middle;\n",
       "    }\n",
       "\n",
       "    .dataframe tbody tr th {\n",
       "        vertical-align: top;\n",
       "    }\n",
       "\n",
       "    .dataframe thead th {\n",
       "        text-align: right;\n",
       "    }\n",
       "</style>\n",
       "<table border=\"1\" class=\"dataframe\">\n",
       "  <thead>\n",
       "    <tr style=\"text-align: right;\">\n",
       "      <th></th>\n",
       "      <th>experiment</th>\n",
       "      <th>n_operators</th>\n",
       "      <th>n_nurses</th>\n",
       "    </tr>\n",
       "  </thead>\n",
       "  <tbody>\n",
       "    <tr>\n",
       "      <th>0</th>\n",
       "      <td>base</td>\n",
       "      <td>13</td>\n",
       "      <td>9</td>\n",
       "    </tr>\n",
       "    <tr>\n",
       "      <th>1</th>\n",
       "      <td>op+1</td>\n",
       "      <td>14</td>\n",
       "      <td>9</td>\n",
       "    </tr>\n",
       "    <tr>\n",
       "      <th>2</th>\n",
       "      <td>nurse+1</td>\n",
       "      <td>13</td>\n",
       "      <td>10</td>\n",
       "    </tr>\n",
       "    <tr>\n",
       "      <th>3</th>\n",
       "      <td>op+1_nurse+1</td>\n",
       "      <td>14</td>\n",
       "      <td>10</td>\n",
       "    </tr>\n",
       "  </tbody>\n",
       "</table>\n",
       "</div>"
      ],
      "text/plain": [
       "     experiment  n_operators  n_nurses\n",
       "0          base           13         9\n",
       "1          op+1           14         9\n",
       "2       nurse+1           13        10\n",
       "3  op+1_nurse+1           14        10"
      ]
     },
     "execution_count": 40,
     "metadata": {},
     "output_type": "execute_result"
    }
   ],
   "source": [
    "# each column is defined as a seperate list\n",
    "names = ['base', 'op+1', 'nurse+1', 'op+1_nurse+1']\n",
    "operators = [13, 14, 13, 14]\n",
    "nurses = [9, 9, 10, 10]\n",
    "\n",
    "\n",
    "# empty dataframe\n",
    "df_experiments = pd.DataFrame()\n",
    "\n",
    "# create new columns from lists\n",
    "df_experiments['experiment'] = names\n",
    "df_experiments['n_operators'] = operators\n",
    "df_experiments['n_nurses'] = nurses\n",
    "\n",
    "\n",
    "df_experiments"
   ]
  },
  {
   "cell_type": "code",
   "execution_count": 41,
   "id": "49d2a9cc-362e-4364-ab2b-b3616b0741e2",
   "metadata": {},
   "outputs": [],
   "source": [
    "exp_dict = create_experiments(df_experiments)"
   ]
  },
  {
   "cell_type": "code",
   "execution_count": 44,
   "id": "e1c5da17-3c70-481d-b78d-47594a8f8eb2",
   "metadata": {},
   "outputs": [
    {
     "data": {
      "text/plain": [
       "{'base': <model.Experiment at 0x7f7a84178e80>,\n",
       " 'op+1': <model.Experiment at 0x7f7a841b7280>,\n",
       " 'nurse+1': <model.Experiment at 0x7f7a841b6ca0>,\n",
       " 'op+1_nurse+1': <model.Experiment at 0x7f7a841b6610>}"
      ]
     },
     "execution_count": 44,
     "metadata": {},
     "output_type": "execute_result"
    }
   ],
   "source": [
    "exp_dict"
   ]
  },
  {
   "cell_type": "code",
   "execution_count": 42,
   "id": "12bddafc-a137-4e40-b080-4158dea25fb8",
   "metadata": {},
   "outputs": [
    {
     "data": {
      "text/plain": [
       "14"
      ]
     },
     "execution_count": 42,
     "metadata": {},
     "output_type": "execute_result"
    }
   ],
   "source": [
    "exp_dict['op+1'].n_operators"
   ]
  },
  {
   "cell_type": "code",
   "execution_count": 43,
   "id": "d1983803-5251-40c6-b694-7c649eb2209b",
   "metadata": {},
   "outputs": [
    {
     "data": {
      "text/plain": [
       "13"
      ]
     },
     "execution_count": 43,
     "metadata": {},
     "output_type": "execute_result"
    }
   ],
   "source": [
    "exp_dict['nurse+1'].n_operators"
   ]
  },
  {
   "cell_type": "code",
   "execution_count": 38,
   "id": "34e1267e-745d-4997-88b0-0e7c561c0342",
   "metadata": {},
   "outputs": [
    {
     "data": {
      "text/plain": [
       "10"
      ]
     },
     "execution_count": 38,
     "metadata": {},
     "output_type": "execute_result"
    }
   ],
   "source": [
    "exp_dict['nurse+1'].n_nurses"
   ]
  },
  {
   "cell_type": "code",
   "execution_count": null,
   "id": "1e013ed3-bb3a-4771-bfd9-ecc474972c19",
   "metadata": {},
   "outputs": [],
   "source": []
  }
 ],
 "metadata": {
  "kernelspec": {
   "display_name": "Python 3 (ipykernel)",
   "language": "python",
   "name": "python3"
  },
  "language_info": {
   "codemirror_mode": {
    "name": "ipython",
    "version": 3
   },
   "file_extension": ".py",
   "mimetype": "text/x-python",
   "name": "python",
   "nbconvert_exporter": "python",
   "pygments_lexer": "ipython3",
   "version": "3.9.16"
  }
 },
 "nbformat": 4,
 "nbformat_minor": 5
}

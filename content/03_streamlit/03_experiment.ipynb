{
 "cells": [
  {
   "cell_type": "markdown",
   "id": "de4dd3cf-09d1-45b9-b8fc-784edf3b0819",
   "metadata": {},
   "source": [
    "# The `Experiment` class\n",
    "\n",
    "> For a detailed walk through of building a basic `Experiment` class from scratch see the [introduction to experiments notebook](../02_simpy/05_experiments.ipynb)\n",
    "\n",
    "\n",
    "The overall design of a class representing a experiment will depend on the simulation study, and to some extent user preference.  Here we advocate two design principals:\n",
    "\n",
    "1. Make use of default values for input parameters, either from constant variables, or read in from file.\n",
    "2. Keep the code inside `Experiment` independent of the simulation software used.\n",
    "\n",
    "\n",
    "```{admonition} Challenges with principal 2!\n",
    ":class: warning\n",
    "By independent we mean do not include any functions, classes or variables that are imported from a simulation package inside `Experiment`.  However, what is stored in `Experiment` may vary depending on the simulation package that you are using.\n",
    "```"
   ]
  },
  {
   "cell_type": "markdown",
   "id": "57369b8c-451d-4d27-8ee0-c98d44d4e4e2",
   "metadata": {},
   "source": [
    "## 1. Imports"
   ]
  },
  {
   "cell_type": "code",
   "execution_count": 1,
   "id": "09f761a3-c100-4dc8-a3c9-30a5cd101c0d",
   "metadata": {},
   "outputs": [],
   "source": [
    "import numpy as np"
   ]
  },
  {
   "cell_type": "markdown",
   "id": "ef6d82e4-bbce-491f-a390-4e8ddc3b37c8",
   "metadata": {},
   "source": [
    "## 2. Notebook level variables, constants, and default values\n",
    "\n",
    "Here we will create a set of constant/default values for our `Experiment` class, but you could also consider reading these in from a file."
   ]
  },
  {
   "cell_type": "code",
   "execution_count": 2,
   "id": "a3e7b498-8019-4d38-9192-c3d483361885",
   "metadata": {
    "tags": []
   },
   "outputs": [],
   "source": [
    "# default resources\n",
    "N_OPERATORS = 13\n",
    "\n",
    "# number of nurses available\n",
    "N_NURSES = 9\n",
    "\n",
    "# default mean inter-arrival time (exp)\n",
    "MEAN_IAT = 60 / 100\n",
    "\n",
    "## default service time parameters (triangular)\n",
    "CALL_LOW = 5.0\n",
    "CALL_MODE = 7.0\n",
    "CALL_HIGH = 10.0\n",
    "\n",
    "# nurse distribution parameters\n",
    "NURSE_CALL_LOW = 10.0\n",
    "NURSE_CALL_HIGH = 20.0\n",
    "\n",
    "CHANCE_CALLBACK = 0.4\n",
    "\n",
    "# Seeds for arrival and service time distributions (for repeatable single run)\n",
    "ARRIVAL_SEED = 42\n",
    "CALL_SEED = 101\n",
    "\n",
    "# additional seeds for new activities\n",
    "CALLBACK_SEED = 1966\n",
    "NURSE_SEED = 2020\n"
   ]
  },
  {
   "cell_type": "markdown",
   "id": "295089d7-b50a-4b57-bec6-66449ed42bf1",
   "metadata": {},
   "source": [
    "## 3. Distribution classes\n",
    "\n",
    "The model requires four distribution classes (`Uniform`,`Bernoulli`, `Triangular`, and `Exponential`) to encapsulate the random number generation, parameters and random seeds used in the sampling.  \n",
    "\n",
    "> For an introduction to these concepts see the [random sampling notebook](../02_simpy/01_sampling.ipynb)"
   ]
  },
  {
   "cell_type": "code",
   "execution_count": 3,
   "id": "6d0d6758-092c-4dfc-8d8b-5c60ce09063b",
   "metadata": {},
   "outputs": [],
   "source": [
    "class Bernoulli():\n",
    "    '''\n",
    "    Convenience class for the Bernoulli distribution.\n",
    "    packages up distribution parameters, seed and random generator.\n",
    "    \n",
    "    Use the Bernoulli distribution to sample success or failure.\n",
    "    '''\n",
    "    def __init__(self, p, random_seed=None):\n",
    "        '''\n",
    "        Constructor\n",
    "        \n",
    "        Params:\n",
    "        ------\n",
    "        p: float\n",
    "            probability of drawing a 1\n",
    "        \n",
    "        random_seed: int, optional (default=None)\n",
    "            A random seed to reproduce samples.  If set to none then a unique\n",
    "            sample is created.\n",
    "        '''\n",
    "        self.rand = np.random.default_rng(seed=random_seed)\n",
    "        self.p = p\n",
    "        \n",
    "    def sample(self, size=None):\n",
    "        '''\n",
    "        Generate a sample from the exponential distribution\n",
    "        \n",
    "        Params:\n",
    "        -------\n",
    "        size: int, optional (default=None)\n",
    "            the number of samples to return.  If size=None then a single\n",
    "            sample is returned.\n",
    "        \n",
    "        Returns:\n",
    "        -------\n",
    "        float or np.ndarray (if size >=1)\n",
    "        '''\n",
    "        return self.rand.binomial(n=1, p=self.p, size=size)"
   ]
  },
  {
   "cell_type": "code",
   "execution_count": 4,
   "id": "2fc69cc0-cde2-4423-a786-4b68b37ed433",
   "metadata": {},
   "outputs": [],
   "source": [
    "class Uniform():\n",
    "    '''\n",
    "    Convenience class for the Uniform distribution.\n",
    "    packages up distribution parameters, seed and random generator.\n",
    "    '''\n",
    "    def __init__(self, low, high, random_seed=None):\n",
    "        '''\n",
    "        Constructor\n",
    "        \n",
    "        Params:\n",
    "        ------\n",
    "        low: float\n",
    "            lower range of the uniform\n",
    "            \n",
    "        high: float\n",
    "            upper range of the uniform\n",
    "        \n",
    "        random_seed: int, optional (default=None)\n",
    "            A random seed to reproduce samples.  If set to none then a unique\n",
    "            sample is created.\n",
    "        '''\n",
    "        self.rand = np.random.default_rng(seed=random_seed)\n",
    "        self.low = low\n",
    "        self.high = high\n",
    "        \n",
    "    def sample(self, size=None):\n",
    "        '''\n",
    "        Generate a sample from the exponential distribution\n",
    "        \n",
    "        Params:\n",
    "        -------\n",
    "        size: int, optional (default=None)\n",
    "            the number of samples to return.  If size=None then a single\n",
    "            sample is returned.\n",
    "            \n",
    "        Returns:\n",
    "        -------\n",
    "        float or np.ndarray (if size >=1)\n",
    "        '''\n",
    "        return self.rand.uniform(low=self.low, high=self.high, size=size)"
   ]
  },
  {
   "cell_type": "code",
   "execution_count": 5,
   "id": "14e8f47f-e90d-40cd-b5fd-63e8975eba83",
   "metadata": {},
   "outputs": [],
   "source": [
    "class Triangular():\n",
    "    '''\n",
    "    Convenience class for the triangular distribution.\n",
    "    packages up distribution parameters, seed and random generator.\n",
    "    '''\n",
    "    def __init__(self, low, mode, high, random_seed=None):\n",
    "        '''\n",
    "        Constructor. Accepts and stores parameters of the triangular dist\n",
    "        and a random seed.\n",
    "        \n",
    "        Params:\n",
    "        ------\n",
    "        low: float\n",
    "            The smallest values that can be sampled\n",
    "            \n",
    "        mode: float\n",
    "            The most frequently sample value\n",
    "            \n",
    "        high: float\n",
    "            The highest value that can be sampled\n",
    "        \n",
    "        random_seed: int, optional (default=None)\n",
    "            Used with params to create a series of repeatable samples.\n",
    "        '''\n",
    "        self.rand = np.random.default_rng(seed=random_seed)\n",
    "        self.low = low\n",
    "        self.high = high\n",
    "        self.mode = mode\n",
    "        \n",
    "    def sample(self, size=None):\n",
    "        '''\n",
    "        Generate one or more samples from the triangular distribution\n",
    "        \n",
    "        Params:\n",
    "        --------\n",
    "        size: int\n",
    "            the number of samples to return.  If size=None then a single\n",
    "            sample is returned.\n",
    "            \n",
    "        Returns:\n",
    "        -------\n",
    "        float or np.ndarray (if size >=1)\n",
    "        '''\n",
    "        return self.rand.triangular(self.low, self.mode, self.high, size=size)"
   ]
  },
  {
   "cell_type": "code",
   "execution_count": 6,
   "id": "56dd64c1-adfa-417b-ad23-43a07672c7cd",
   "metadata": {},
   "outputs": [],
   "source": [
    "class Exponential():\n",
    "    '''\n",
    "    Convenience class for the exponential distribution.\n",
    "    packages up distribution parameters, seed and random generator.\n",
    "    '''\n",
    "    def __init__(self, mean, random_seed=None):\n",
    "        '''\n",
    "        Constructor\n",
    "        \n",
    "        Params:\n",
    "        ------\n",
    "        mean: float\n",
    "            The mean of the exponential distribution\n",
    "        \n",
    "        random_seed: int, optional (default=None)\n",
    "            A random seed to reproduce samples.  If set to none then a unique\n",
    "            sample is created.\n",
    "        '''\n",
    "        self.rand = np.random.default_rng(seed=random_seed)\n",
    "        self.mean = mean\n",
    "        \n",
    "    def sample(self, size=None):\n",
    "        '''\n",
    "        Generate a sample from the exponential distribution\n",
    "        \n",
    "        Params:\n",
    "        -------\n",
    "        size: int, optional (default=None)\n",
    "            the number of samples to return.  If size=None then a single\n",
    "            sample is returned.\n",
    "            \n",
    "        Returns:\n",
    "        -------\n",
    "        float or np.ndarray (if size >=1)\n",
    "        '''\n",
    "        return self.rand.exponential(self.mean, size=size)"
   ]
  },
  {
   "cell_type": "markdown",
   "id": "4d2f27ab-bc57-4f36-bd79-27ffa469c3f0",
   "metadata": {},
   "source": [
    "As an example this is how you would create a `Exponential` distribution:"
   ]
  },
  {
   "cell_type": "code",
   "execution_count": 7,
   "id": "53323c0a-cfa1-411c-900f-2bf7c1019988",
   "metadata": {},
   "outputs": [
    {
     "data": {
      "text/plain": [
       "24.042086039659946"
      ]
     },
     "execution_count": 7,
     "metadata": {},
     "output_type": "execute_result"
    }
   ],
   "source": [
    "arrival_dist = Exponential(mean=10.0, random_seed=42)\n",
    "arrival_dist.sample()"
   ]
  },
  {
   "cell_type": "markdown",
   "id": "06006e22-28c3-4ae9-8a26-25fe4222e615",
   "metadata": {},
   "source": [
    "## 3. Experiment class\n",
    "\n",
    "The design below uses python's optional arguments to provide default parameterisation for models.  To modify parameters a user simply needs to pass in the appropriate argument when creating the model.\n",
    "\n",
    "> Note that the class only needs to represent an simulation experiment it does not necessarily need to be called `Experiment`.  For example, in the past I regularly used `Scenario`.\n",
    "\n",
    "\n",
    "```{admonition} Alternative design\n",
    ":class: tip\n",
    "Here we do not give the user the option to vary the type of sampling distribution used for activities in the model.  However, these could be parameters for the model.  This would reduce the number of arguments accepted by the constructor (pro!), but at the cost of requiring streamlit logic that is a little bit more complicated (con).\n",
    "```\n"
   ]
  },
  {
   "cell_type": "code",
   "execution_count": 8,
   "id": "b5110385-e293-47c8-8038-e0ddfa3d6b10",
   "metadata": {},
   "outputs": [],
   "source": [
    "class Experiment:\n",
    "    '''\n",
    "    Parameter class for 111 simulation model\n",
    "    '''\n",
    "    def __init__(self, n_operators=N_OPERATORS, n_nurses=N_NURSES, \n",
    "                 mean_iat=MEAN_IAT, call_low=CALL_LOW, call_mode=CALL_MODE, \n",
    "                 call_high=CALL_HIGH, chance_callback=CHANCE_CALLBACK, \n",
    "                 nurse_call_low=NURSE_CALL_LOW, nurse_call_high=NURSE_CALL_HIGH,\n",
    "                 arrival_seed=None, call_seed=None,\n",
    "                 callback_seed=None, nurse_seed=None):\n",
    "        '''\n",
    "        The init method sets up our defaults, resource counts, distributions\n",
    "        and result collection objects.\n",
    "        '''\n",
    "        # no. resources\n",
    "        self.n_operators = n_operators\n",
    "        self.n_nurses = n_nurses\n",
    "\n",
    "        # create distribution objects\n",
    "        self.arrival_dist = Exponential(mean_iat, random_seed=arrival_seed)\n",
    "        self.call_dist = Triangular(call_low, call_mode, call_high, \n",
    "                                    random_seed=call_seed)\n",
    "        \n",
    "        self.callback_dist = Bernoulli(chance_callback, \n",
    "                                       random_seed=callback_seed)\n",
    "        \n",
    "        self.nurse_dist = Uniform(nurse_call_low, nurse_call_high, \n",
    "                                  random_seed=nurse_seed)\n",
    "\n",
    "        # resources\n",
    "        # these variable are placeholders. \n",
    "        self.operators = None\n",
    "        self.nurses = None\n",
    "        \n",
    "        # initialise results to zero\n",
    "        self.init_results_variables()\n",
    "        \n",
    "    def init_results_variables(self):\n",
    "        '''\n",
    "        Initialise all of the experiment variables used in results \n",
    "        collection.  This method is called at the start of each run\n",
    "        of the model\n",
    "        '''\n",
    "        # variable used to store results of experiment\n",
    "        self.results = {}\n",
    "        self.results['waiting_times'] = []\n",
    "        \n",
    "        # total operator usage time for utilisation calculation.\n",
    "        self.results['total_call_duration'] = 0.0\n",
    "\n",
    "        # nurse sub process results collection\n",
    "        self.results['nurse_waiting_times'] = []\n",
    "        self.results['total_nurse_call_duration'] = 0.0"
   ]
  },
  {
   "cell_type": "markdown",
   "id": "66b917b3-0965-4085-ac93-4510145ed623",
   "metadata": {},
   "source": [
    "## 4. Example usage\n",
    "\n",
    "Usage of `Experiment` is very simple.  For example to create the default experiment we use the following code:"
   ]
  },
  {
   "cell_type": "code",
   "execution_count": 9,
   "id": "9bee7eb3-5e3d-4039-97ab-621a471b57eb",
   "metadata": {},
   "outputs": [],
   "source": [
    "default_experiment = Experiment()"
   ]
  },
  {
   "cell_type": "code",
   "execution_count": 10,
   "id": "620ad7a5-67f4-4289-b1c1-5b1890b0ea54",
   "metadata": {},
   "outputs": [
    {
     "data": {
      "text/plain": [
       "9"
      ]
     },
     "execution_count": 10,
     "metadata": {},
     "output_type": "execute_result"
    }
   ],
   "source": [
    "# check number of nurses\n",
    "default_experiment.n_nurses"
   ]
  },
  {
   "cell_type": "code",
   "execution_count": 11,
   "id": "f6e54c46-deae-4e94-9cb8-c9a0a14fda22",
   "metadata": {},
   "outputs": [
    {
     "data": {
      "text/plain": [
       "1.7147710802840883"
      ]
     },
     "execution_count": 11,
     "metadata": {},
     "output_type": "execute_result"
    }
   ],
   "source": [
    "# sample from the arrival distribution\n",
    "default_experiment.arrival_dist.sample()"
   ]
  },
  {
   "cell_type": "markdown",
   "id": "cf25369b-688f-4016-a033-0e214009f08a",
   "metadata": {},
   "source": [
    "Remember that `default_experiment` is an **instance** of the class `Experiment`.  It is an object.  This means we can easily create multiple experiments each with different parameters."
   ]
  },
  {
   "cell_type": "code",
   "execution_count": 12,
   "id": "ab715cb8-5c0c-42f6-9fdc-ad9cf01e5d76",
   "metadata": {},
   "outputs": [],
   "source": [
    "default_experiment = Experiment()\n",
    "extra_operator = Experiment(n_operators=14)\n",
    "extra_operator_and_nurse = Experiment(n_operators=14, n_nurses=10)"
   ]
  },
  {
   "cell_type": "code",
   "execution_count": 13,
   "id": "c4104f0b-d79c-4ade-9d5c-03a1cfe9195f",
   "metadata": {},
   "outputs": [
    {
     "name": "stdout",
     "output_type": "stream",
     "text": [
      "13\n",
      "9\n"
     ]
    }
   ],
   "source": [
    "print(default_experiment.n_operators)\n",
    "print(default_experiment.n_nurses)"
   ]
  },
  {
   "cell_type": "code",
   "execution_count": 14,
   "id": "61c9a60c-8c88-438b-a9b6-b9c58aa0302d",
   "metadata": {},
   "outputs": [
    {
     "name": "stdout",
     "output_type": "stream",
     "text": [
      "14\n",
      "9\n"
     ]
    }
   ],
   "source": [
    "print(extra_operator.n_operators)\n",
    "print(extra_operator.n_nurses)"
   ]
  },
  {
   "cell_type": "code",
   "execution_count": 15,
   "id": "b9d212a2-05bd-433e-9c35-bf62720fd314",
   "metadata": {},
   "outputs": [
    {
     "name": "stdout",
     "output_type": "stream",
     "text": [
      "14\n",
      "10\n"
     ]
    }
   ],
   "source": [
    "print(extra_operator_and_nurse.n_operators)\n",
    "print(extra_operator_and_nurse.n_nurses)"
   ]
  }
 ],
 "metadata": {
  "kernelspec": {
   "display_name": "Python 3 (ipykernel)",
   "language": "python",
   "name": "python3"
  },
  "language_info": {
   "codemirror_mode": {
    "name": "ipython",
    "version": 3
   },
   "file_extension": ".py",
   "mimetype": "text/x-python",
   "name": "python",
   "nbconvert_exporter": "python",
   "pygments_lexer": "ipython3",
   "version": "3.9.16"
  }
 },
 "nbformat": 4,
 "nbformat_minor": 5
}

{
 "cells": [
  {
   "cell_type": "markdown",
   "id": "d8edb208-2eaa-481c-b5b2-6d93db23b40c",
   "metadata": {},
   "source": [
    "# Adding plots\n",
    "\n",
    "It is also possible to display `matplotlib` and `plotly` figures and plots in `streamlit`. Here we will explore displaying a histogram of replications for a chosen performance \n",
    "measure.\n",
    "\n",
    "We will use `plotly` to create the chart.\n",
    "\n",
    "We will also introduce a more advanced layout to our web app by introducing columns to the results page."
   ]
  },
  {
   "cell_type": "markdown",
   "id": "d7d12909-c9c2-4e28-8b4c-6c16504e7791",
   "metadata": {},
   "source": [
    "## 1. Imports\n",
    "\n",
    "We use `plotly.express` simplify the creation of our charts.  This provides a high level wrapper around `plotly`"
   ]
  },
  {
   "cell_type": "code",
   "execution_count": 1,
   "id": "9bafff44-3a2e-4f4d-8f97-f3da3fe732a5",
   "metadata": {},
   "outputs": [],
   "source": [
    "import numpy as np\n",
    "import pandas as pd\n",
    "import plotly.express as px"
   ]
  },
  {
   "cell_type": "code",
   "execution_count": 2,
   "id": "5b8b7434-f4cb-4ede-8883-78fac0772605",
   "metadata": {},
   "outputs": [],
   "source": [
    "from model import Experiment, multiple_replications"
   ]
  },
  {
   "cell_type": "markdown",
   "id": "e068b6e7-336c-4bc5-9489-6b3c97c00c44",
   "metadata": {},
   "source": [
    "## 2. Code for creating the `plotly` histogram\n",
    "\n",
    "We will run 100 replications of the simulation model and then display the results in a histogram.\n",
    "\n",
    "We can use the `px.histogram` method to quickly produce a histogram.\n",
    "\n",
    "### 2.1 Get the replications"
   ]
  },
  {
   "cell_type": "code",
   "execution_count": 3,
   "id": "5bf7fbcb-e974-46b1-a868-692d166851e3",
   "metadata": {},
   "outputs": [
    {
     "name": "stdout",
     "output_type": "stream",
     "text": [
      "<class 'pandas.core.frame.DataFrame'>\n",
      "Int64Index: 100 entries, 1 to 100\n",
      "Data columns (total 4 columns):\n",
      " #   Column                      Non-Null Count  Dtype  \n",
      "---  ------                      --------------  -----  \n",
      " 0   01_mean_waiting_time        100 non-null    float64\n",
      " 1   02_operator_util            100 non-null    float64\n",
      " 2   03_mean_nurse_waiting_time  100 non-null    float64\n",
      " 3   04_nurse_util               100 non-null    float64\n",
      "dtypes: float64(4)\n",
      "memory usage: 3.9 KB\n"
     ]
    }
   ],
   "source": [
    "default_experiment = Experiment()\n",
    "results = multiple_replications(default_experiment, n_reps=100)\n",
    "results.info()"
   ]
  },
  {
   "cell_type": "markdown",
   "id": "87c38742-ed0e-4317-933f-e4c9b30956ed",
   "metadata": {},
   "source": [
    "### 2.2. Histogram of mean waiting time\n",
    "\n",
    "In addition to the box plot we will also add a boxplot to see the median and the lower and upper quartiles of the distribution.\n",
    "\n",
    "> As an alternative you could try `marginal='violin'` or `marginal='rug'`"
   ]
  },
  {
   "cell_type": "code",
   "execution_count": 6,
   "id": "db0a7824-4c82-412a-ad3b-608a612e55a0",
   "metadata": {},
   "outputs": [
    {
     "data": {
      "application/vnd.plotly.v1+json": {
       "config": {
        "plotlyServerURL": "https://plot.ly"
       },
       "data": [
        {
         "alignmentgroup": "True",
         "bingroup": "x",
         "hovertemplate": "variable=01_mean_waiting_time<br>Mean waiting time for operator=%{x}<br>count=%{y}<extra></extra>",
         "legendgroup": "01_mean_waiting_time",
         "marker": {
          "color": "#636efa",
          "pattern": {
           "shape": ""
          }
         },
         "name": "01_mean_waiting_time",
         "offsetgroup": "01_mean_waiting_time",
         "orientation": "v",
         "showlegend": true,
         "type": "histogram",
         "x": [
          5.932717122085168,
          9.83325034756063,
          1.5604333530152947,
          2.9169322119003853,
          4.401413688162011,
          5.923819069076926,
          3.661114103570559,
          6.110202218144803,
          2.2181728189855394,
          2.030748684566234,
          3.3557996782453072,
          2.4662338404994997,
          6.156032214996244,
          1.8846561813741394,
          2.6005379154155084,
          1.3404831418557206,
          4.376682342852192,
          2.467282942494906,
          3.3514700221577582,
          4.478948171950541,
          3.3182299993686866,
          3.210703877156196,
          2.9022157720509494,
          3.9345656444186394,
          1.767908482622629,
          1.589743685798259,
          1.2778261734170095,
          2.4482318101876954,
          1.5231880551567922,
          6.191547666208392,
          6.352768779058884,
          1.8898817762914952,
          3.2869195634481025,
          1.8202718931227522,
          2.7613222985144876,
          2.3666628404576993,
          2.367289489597181,
          1.9731275382125093,
          2.702429287792187,
          1.4412970308166173,
          3.12253386377096,
          2.1719473687440893,
          3.0218438176970994,
          2.4613534294827573,
          2.5029521027768187,
          1.7919642522266097,
          3.1210167616047113,
          2.027662065594168,
          1.3898800441219425,
          2.672886246453074,
          2.4683253596887393,
          3.8638923017218203,
          4.801821990290381,
          7.410190065957773,
          1.9496385964186835,
          7.274338829214209,
          2.9508851886290017,
          6.818823397304107,
          2.9516415126907285,
          3.2222801641516967,
          6.705466938483547,
          5.395098535301298,
          1.5298033198456424,
          3.1712000597004613,
          3.7492395548194173,
          3.7933633302284893,
          2.4266451083672633,
          2.6121873335897727,
          4.091267508627464,
          3.7888152470987935,
          3.1082418273907546,
          3.10689356990624,
          1.8893972822747014,
          3.9044172908607604,
          3.306737067684012,
          2.4739182095302543,
          2.5301418710101897,
          3.857614397955102,
          1.6486960422647348,
          1.5100684724513855,
          2.569753535010309,
          6.625027598506595,
          4.551465745554274,
          2.807558392451777,
          2.182372604556697,
          2.831920070391097,
          2.5491935667489365,
          1.5878055332836385,
          3.7398061318326374,
          2.4830049018915425,
          6.816090547835106,
          2.8310719298507063,
          2.5102772536891655,
          5.932761426145741,
          2.7215043309561353,
          3.5647536155750377,
          5.297126010439894,
          3.4940858365261596,
          1.9522124586370098,
          2.6209280345448924
         ],
         "xaxis": "x",
         "yaxis": "y"
        },
        {
         "alignmentgroup": "True",
         "hovertemplate": "variable=01_mean_waiting_time<br>Mean waiting time for operator=%{x}<extra></extra>",
         "legendgroup": "01_mean_waiting_time",
         "marker": {
          "color": "#636efa"
         },
         "name": "01_mean_waiting_time",
         "notched": true,
         "offsetgroup": "01_mean_waiting_time",
         "showlegend": false,
         "type": "box",
         "x": [
          5.932717122085168,
          9.83325034756063,
          1.5604333530152947,
          2.9169322119003853,
          4.401413688162011,
          5.923819069076926,
          3.661114103570559,
          6.110202218144803,
          2.2181728189855394,
          2.030748684566234,
          3.3557996782453072,
          2.4662338404994997,
          6.156032214996244,
          1.8846561813741394,
          2.6005379154155084,
          1.3404831418557206,
          4.376682342852192,
          2.467282942494906,
          3.3514700221577582,
          4.478948171950541,
          3.3182299993686866,
          3.210703877156196,
          2.9022157720509494,
          3.9345656444186394,
          1.767908482622629,
          1.589743685798259,
          1.2778261734170095,
          2.4482318101876954,
          1.5231880551567922,
          6.191547666208392,
          6.352768779058884,
          1.8898817762914952,
          3.2869195634481025,
          1.8202718931227522,
          2.7613222985144876,
          2.3666628404576993,
          2.367289489597181,
          1.9731275382125093,
          2.702429287792187,
          1.4412970308166173,
          3.12253386377096,
          2.1719473687440893,
          3.0218438176970994,
          2.4613534294827573,
          2.5029521027768187,
          1.7919642522266097,
          3.1210167616047113,
          2.027662065594168,
          1.3898800441219425,
          2.672886246453074,
          2.4683253596887393,
          3.8638923017218203,
          4.801821990290381,
          7.410190065957773,
          1.9496385964186835,
          7.274338829214209,
          2.9508851886290017,
          6.818823397304107,
          2.9516415126907285,
          3.2222801641516967,
          6.705466938483547,
          5.395098535301298,
          1.5298033198456424,
          3.1712000597004613,
          3.7492395548194173,
          3.7933633302284893,
          2.4266451083672633,
          2.6121873335897727,
          4.091267508627464,
          3.7888152470987935,
          3.1082418273907546,
          3.10689356990624,
          1.8893972822747014,
          3.9044172908607604,
          3.306737067684012,
          2.4739182095302543,
          2.5301418710101897,
          3.857614397955102,
          1.6486960422647348,
          1.5100684724513855,
          2.569753535010309,
          6.625027598506595,
          4.551465745554274,
          2.807558392451777,
          2.182372604556697,
          2.831920070391097,
          2.5491935667489365,
          1.5878055332836385,
          3.7398061318326374,
          2.4830049018915425,
          6.816090547835106,
          2.8310719298507063,
          2.5102772536891655,
          5.932761426145741,
          2.7215043309561353,
          3.5647536155750377,
          5.297126010439894,
          3.4940858365261596,
          1.9522124586370098,
          2.6209280345448924
         ],
         "xaxis": "x2",
         "yaxis": "y2"
        }
       ],
       "layout": {
        "autosize": true,
        "barmode": "relative",
        "legend": {
         "title": {
          "text": "variable"
         },
         "tracegroupgap": 0
        },
        "margin": {
         "t": 60
        },
        "showlegend": false,
        "template": {
         "data": {
          "bar": [
           {
            "error_x": {
             "color": "#2a3f5f"
            },
            "error_y": {
             "color": "#2a3f5f"
            },
            "marker": {
             "line": {
              "color": "#E5ECF6",
              "width": 0.5
             },
             "pattern": {
              "fillmode": "overlay",
              "size": 10,
              "solidity": 0.2
             }
            },
            "type": "bar"
           }
          ],
          "barpolar": [
           {
            "marker": {
             "line": {
              "color": "#E5ECF6",
              "width": 0.5
             },
             "pattern": {
              "fillmode": "overlay",
              "size": 10,
              "solidity": 0.2
             }
            },
            "type": "barpolar"
           }
          ],
          "carpet": [
           {
            "aaxis": {
             "endlinecolor": "#2a3f5f",
             "gridcolor": "white",
             "linecolor": "white",
             "minorgridcolor": "white",
             "startlinecolor": "#2a3f5f"
            },
            "baxis": {
             "endlinecolor": "#2a3f5f",
             "gridcolor": "white",
             "linecolor": "white",
             "minorgridcolor": "white",
             "startlinecolor": "#2a3f5f"
            },
            "type": "carpet"
           }
          ],
          "choropleth": [
           {
            "colorbar": {
             "outlinewidth": 0,
             "ticks": ""
            },
            "type": "choropleth"
           }
          ],
          "contour": [
           {
            "colorbar": {
             "outlinewidth": 0,
             "ticks": ""
            },
            "colorscale": [
             [
              0,
              "#0d0887"
             ],
             [
              0.1111111111111111,
              "#46039f"
             ],
             [
              0.2222222222222222,
              "#7201a8"
             ],
             [
              0.3333333333333333,
              "#9c179e"
             ],
             [
              0.4444444444444444,
              "#bd3786"
             ],
             [
              0.5555555555555556,
              "#d8576b"
             ],
             [
              0.6666666666666666,
              "#ed7953"
             ],
             [
              0.7777777777777778,
              "#fb9f3a"
             ],
             [
              0.8888888888888888,
              "#fdca26"
             ],
             [
              1,
              "#f0f921"
             ]
            ],
            "type": "contour"
           }
          ],
          "contourcarpet": [
           {
            "colorbar": {
             "outlinewidth": 0,
             "ticks": ""
            },
            "type": "contourcarpet"
           }
          ],
          "heatmap": [
           {
            "colorbar": {
             "outlinewidth": 0,
             "ticks": ""
            },
            "colorscale": [
             [
              0,
              "#0d0887"
             ],
             [
              0.1111111111111111,
              "#46039f"
             ],
             [
              0.2222222222222222,
              "#7201a8"
             ],
             [
              0.3333333333333333,
              "#9c179e"
             ],
             [
              0.4444444444444444,
              "#bd3786"
             ],
             [
              0.5555555555555556,
              "#d8576b"
             ],
             [
              0.6666666666666666,
              "#ed7953"
             ],
             [
              0.7777777777777778,
              "#fb9f3a"
             ],
             [
              0.8888888888888888,
              "#fdca26"
             ],
             [
              1,
              "#f0f921"
             ]
            ],
            "type": "heatmap"
           }
          ],
          "heatmapgl": [
           {
            "colorbar": {
             "outlinewidth": 0,
             "ticks": ""
            },
            "colorscale": [
             [
              0,
              "#0d0887"
             ],
             [
              0.1111111111111111,
              "#46039f"
             ],
             [
              0.2222222222222222,
              "#7201a8"
             ],
             [
              0.3333333333333333,
              "#9c179e"
             ],
             [
              0.4444444444444444,
              "#bd3786"
             ],
             [
              0.5555555555555556,
              "#d8576b"
             ],
             [
              0.6666666666666666,
              "#ed7953"
             ],
             [
              0.7777777777777778,
              "#fb9f3a"
             ],
             [
              0.8888888888888888,
              "#fdca26"
             ],
             [
              1,
              "#f0f921"
             ]
            ],
            "type": "heatmapgl"
           }
          ],
          "histogram": [
           {
            "marker": {
             "pattern": {
              "fillmode": "overlay",
              "size": 10,
              "solidity": 0.2
             }
            },
            "type": "histogram"
           }
          ],
          "histogram2d": [
           {
            "colorbar": {
             "outlinewidth": 0,
             "ticks": ""
            },
            "colorscale": [
             [
              0,
              "#0d0887"
             ],
             [
              0.1111111111111111,
              "#46039f"
             ],
             [
              0.2222222222222222,
              "#7201a8"
             ],
             [
              0.3333333333333333,
              "#9c179e"
             ],
             [
              0.4444444444444444,
              "#bd3786"
             ],
             [
              0.5555555555555556,
              "#d8576b"
             ],
             [
              0.6666666666666666,
              "#ed7953"
             ],
             [
              0.7777777777777778,
              "#fb9f3a"
             ],
             [
              0.8888888888888888,
              "#fdca26"
             ],
             [
              1,
              "#f0f921"
             ]
            ],
            "type": "histogram2d"
           }
          ],
          "histogram2dcontour": [
           {
            "colorbar": {
             "outlinewidth": 0,
             "ticks": ""
            },
            "colorscale": [
             [
              0,
              "#0d0887"
             ],
             [
              0.1111111111111111,
              "#46039f"
             ],
             [
              0.2222222222222222,
              "#7201a8"
             ],
             [
              0.3333333333333333,
              "#9c179e"
             ],
             [
              0.4444444444444444,
              "#bd3786"
             ],
             [
              0.5555555555555556,
              "#d8576b"
             ],
             [
              0.6666666666666666,
              "#ed7953"
             ],
             [
              0.7777777777777778,
              "#fb9f3a"
             ],
             [
              0.8888888888888888,
              "#fdca26"
             ],
             [
              1,
              "#f0f921"
             ]
            ],
            "type": "histogram2dcontour"
           }
          ],
          "mesh3d": [
           {
            "colorbar": {
             "outlinewidth": 0,
             "ticks": ""
            },
            "type": "mesh3d"
           }
          ],
          "parcoords": [
           {
            "line": {
             "colorbar": {
              "outlinewidth": 0,
              "ticks": ""
             }
            },
            "type": "parcoords"
           }
          ],
          "pie": [
           {
            "automargin": true,
            "type": "pie"
           }
          ],
          "scatter": [
           {
            "fillpattern": {
             "fillmode": "overlay",
             "size": 10,
             "solidity": 0.2
            },
            "type": "scatter"
           }
          ],
          "scatter3d": [
           {
            "line": {
             "colorbar": {
              "outlinewidth": 0,
              "ticks": ""
             }
            },
            "marker": {
             "colorbar": {
              "outlinewidth": 0,
              "ticks": ""
             }
            },
            "type": "scatter3d"
           }
          ],
          "scattercarpet": [
           {
            "marker": {
             "colorbar": {
              "outlinewidth": 0,
              "ticks": ""
             }
            },
            "type": "scattercarpet"
           }
          ],
          "scattergeo": [
           {
            "marker": {
             "colorbar": {
              "outlinewidth": 0,
              "ticks": ""
             }
            },
            "type": "scattergeo"
           }
          ],
          "scattergl": [
           {
            "marker": {
             "colorbar": {
              "outlinewidth": 0,
              "ticks": ""
             }
            },
            "type": "scattergl"
           }
          ],
          "scattermapbox": [
           {
            "marker": {
             "colorbar": {
              "outlinewidth": 0,
              "ticks": ""
             }
            },
            "type": "scattermapbox"
           }
          ],
          "scatterpolar": [
           {
            "marker": {
             "colorbar": {
              "outlinewidth": 0,
              "ticks": ""
             }
            },
            "type": "scatterpolar"
           }
          ],
          "scatterpolargl": [
           {
            "marker": {
             "colorbar": {
              "outlinewidth": 0,
              "ticks": ""
             }
            },
            "type": "scatterpolargl"
           }
          ],
          "scatterternary": [
           {
            "marker": {
             "colorbar": {
              "outlinewidth": 0,
              "ticks": ""
             }
            },
            "type": "scatterternary"
           }
          ],
          "surface": [
           {
            "colorbar": {
             "outlinewidth": 0,
             "ticks": ""
            },
            "colorscale": [
             [
              0,
              "#0d0887"
             ],
             [
              0.1111111111111111,
              "#46039f"
             ],
             [
              0.2222222222222222,
              "#7201a8"
             ],
             [
              0.3333333333333333,
              "#9c179e"
             ],
             [
              0.4444444444444444,
              "#bd3786"
             ],
             [
              0.5555555555555556,
              "#d8576b"
             ],
             [
              0.6666666666666666,
              "#ed7953"
             ],
             [
              0.7777777777777778,
              "#fb9f3a"
             ],
             [
              0.8888888888888888,
              "#fdca26"
             ],
             [
              1,
              "#f0f921"
             ]
            ],
            "type": "surface"
           }
          ],
          "table": [
           {
            "cells": {
             "fill": {
              "color": "#EBF0F8"
             },
             "line": {
              "color": "white"
             }
            },
            "header": {
             "fill": {
              "color": "#C8D4E3"
             },
             "line": {
              "color": "white"
             }
            },
            "type": "table"
           }
          ]
         },
         "layout": {
          "annotationdefaults": {
           "arrowcolor": "#2a3f5f",
           "arrowhead": 0,
           "arrowwidth": 1
          },
          "autotypenumbers": "strict",
          "coloraxis": {
           "colorbar": {
            "outlinewidth": 0,
            "ticks": ""
           }
          },
          "colorscale": {
           "diverging": [
            [
             0,
             "#8e0152"
            ],
            [
             0.1,
             "#c51b7d"
            ],
            [
             0.2,
             "#de77ae"
            ],
            [
             0.3,
             "#f1b6da"
            ],
            [
             0.4,
             "#fde0ef"
            ],
            [
             0.5,
             "#f7f7f7"
            ],
            [
             0.6,
             "#e6f5d0"
            ],
            [
             0.7,
             "#b8e186"
            ],
            [
             0.8,
             "#7fbc41"
            ],
            [
             0.9,
             "#4d9221"
            ],
            [
             1,
             "#276419"
            ]
           ],
           "sequential": [
            [
             0,
             "#0d0887"
            ],
            [
             0.1111111111111111,
             "#46039f"
            ],
            [
             0.2222222222222222,
             "#7201a8"
            ],
            [
             0.3333333333333333,
             "#9c179e"
            ],
            [
             0.4444444444444444,
             "#bd3786"
            ],
            [
             0.5555555555555556,
             "#d8576b"
            ],
            [
             0.6666666666666666,
             "#ed7953"
            ],
            [
             0.7777777777777778,
             "#fb9f3a"
            ],
            [
             0.8888888888888888,
             "#fdca26"
            ],
            [
             1,
             "#f0f921"
            ]
           ],
           "sequentialminus": [
            [
             0,
             "#0d0887"
            ],
            [
             0.1111111111111111,
             "#46039f"
            ],
            [
             0.2222222222222222,
             "#7201a8"
            ],
            [
             0.3333333333333333,
             "#9c179e"
            ],
            [
             0.4444444444444444,
             "#bd3786"
            ],
            [
             0.5555555555555556,
             "#d8576b"
            ],
            [
             0.6666666666666666,
             "#ed7953"
            ],
            [
             0.7777777777777778,
             "#fb9f3a"
            ],
            [
             0.8888888888888888,
             "#fdca26"
            ],
            [
             1,
             "#f0f921"
            ]
           ]
          },
          "colorway": [
           "#636efa",
           "#EF553B",
           "#00cc96",
           "#ab63fa",
           "#FFA15A",
           "#19d3f3",
           "#FF6692",
           "#B6E880",
           "#FF97FF",
           "#FECB52"
          ],
          "font": {
           "color": "#2a3f5f"
          },
          "geo": {
           "bgcolor": "white",
           "lakecolor": "white",
           "landcolor": "#E5ECF6",
           "showlakes": true,
           "showland": true,
           "subunitcolor": "white"
          },
          "hoverlabel": {
           "align": "left"
          },
          "hovermode": "closest",
          "mapbox": {
           "style": "light"
          },
          "paper_bgcolor": "white",
          "plot_bgcolor": "#E5ECF6",
          "polar": {
           "angularaxis": {
            "gridcolor": "white",
            "linecolor": "white",
            "ticks": ""
           },
           "bgcolor": "#E5ECF6",
           "radialaxis": {
            "gridcolor": "white",
            "linecolor": "white",
            "ticks": ""
           }
          },
          "scene": {
           "xaxis": {
            "backgroundcolor": "#E5ECF6",
            "gridcolor": "white",
            "gridwidth": 2,
            "linecolor": "white",
            "showbackground": true,
            "ticks": "",
            "zerolinecolor": "white"
           },
           "yaxis": {
            "backgroundcolor": "#E5ECF6",
            "gridcolor": "white",
            "gridwidth": 2,
            "linecolor": "white",
            "showbackground": true,
            "ticks": "",
            "zerolinecolor": "white"
           },
           "zaxis": {
            "backgroundcolor": "#E5ECF6",
            "gridcolor": "white",
            "gridwidth": 2,
            "linecolor": "white",
            "showbackground": true,
            "ticks": "",
            "zerolinecolor": "white"
           }
          },
          "shapedefaults": {
           "line": {
            "color": "#2a3f5f"
           }
          },
          "ternary": {
           "aaxis": {
            "gridcolor": "white",
            "linecolor": "white",
            "ticks": ""
           },
           "baxis": {
            "gridcolor": "white",
            "linecolor": "white",
            "ticks": ""
           },
           "bgcolor": "#E5ECF6",
           "caxis": {
            "gridcolor": "white",
            "linecolor": "white",
            "ticks": ""
           }
          },
          "title": {
           "x": 0.05
          },
          "xaxis": {
           "automargin": true,
           "gridcolor": "white",
           "linecolor": "white",
           "ticks": "",
           "title": {
            "standoff": 15
           },
           "zerolinecolor": "white",
           "zerolinewidth": 2
          },
          "yaxis": {
           "automargin": true,
           "gridcolor": "white",
           "linecolor": "white",
           "ticks": "",
           "title": {
            "standoff": 15
           },
           "zerolinecolor": "white",
           "zerolinewidth": 2
          }
         }
        },
        "xaxis": {
         "anchor": "y",
         "autorange": true,
         "domain": [
          0,
          1
         ],
         "range": [
          0.8025248304090307,
          10.30855169056861
         ],
         "title": {
          "text": "Mean waiting time for operator"
         },
         "type": "linear"
        },
        "xaxis2": {
         "anchor": "y2",
         "autorange": true,
         "domain": [
          0,
          1
         ],
         "matches": "x",
         "range": [
          0.8025248304090307,
          10.30855169056861
         ],
         "showgrid": true,
         "showticklabels": false,
         "type": "linear"
        },
        "yaxis": {
         "anchor": "x",
         "autorange": true,
         "domain": [
          0,
          0.7326
         ],
         "range": [
          0,
          35.78947368421053
         ],
         "title": {
          "text": "count"
         }
        },
        "yaxis2": {
         "anchor": "x2",
         "autorange": true,
         "domain": [
          0.7426,
          1
         ],
         "matches": "y2",
         "range": [
          -0.5,
          0.5
         ],
         "showgrid": false,
         "showline": false,
         "showticklabels": false,
         "ticks": "",
         "type": "category"
        }
       }
      },
      "image/png": "[encoded data removed]",
      "text/html": [
       "<div>                            <div id=\"4f58814f-f6f0-46a6-9519-60168aadadbf\" class=\"plotly-graph-div\" style=\"height:525px; width:100%;\"></div>            <script type=\"text/javascript\">                require([\"plotly\"], function(Plotly) {                    window.PLOTLYENV=window.PLOTLYENV || {};                                    if (document.getElementById(\"4f58814f-f6f0-46a6-9519-60168aadadbf\")) {                    Plotly.newPlot(                        \"4f58814f-f6f0-46a6-9519-60168aadadbf\",                        [{\"alignmentgroup\":\"True\",\"bingroup\":\"x\",\"hovertemplate\":\"variable=01_mean_waiting_time\\u003cbr\\u003eMean waiting time for operator=%{x}\\u003cbr\\u003ecount=%{y}\\u003cextra\\u003e\\u003c\\u002fextra\\u003e\",\"legendgroup\":\"01_mean_waiting_time\",\"marker\":{\"color\":\"#636efa\",\"pattern\":{\"shape\":\"\"}},\"name\":\"01_mean_waiting_time\",\"offsetgroup\":\"01_mean_waiting_time\",\"orientation\":\"v\",\"showlegend\":true,\"x\":[5.932717122085168,9.83325034756063,1.5604333530152947,2.9169322119003853,4.401413688162011,5.923819069076926,3.661114103570559,6.110202218144803,2.2181728189855394,2.030748684566234,3.3557996782453072,2.4662338404994997,6.156032214996244,1.8846561813741394,2.6005379154155084,1.3404831418557206,4.376682342852192,2.467282942494906,3.3514700221577582,4.478948171950541,3.3182299993686866,3.210703877156196,2.9022157720509494,3.9345656444186394,1.767908482622629,1.589743685798259,1.2778261734170095,2.4482318101876954,1.5231880551567922,6.191547666208392,6.352768779058884,1.8898817762914952,3.2869195634481025,1.8202718931227522,2.7613222985144876,2.3666628404576993,2.367289489597181,1.9731275382125093,2.702429287792187,1.4412970308166173,3.12253386377096,2.1719473687440893,3.0218438176970994,2.4613534294827573,2.5029521027768187,1.7919642522266097,3.1210167616047113,2.027662065594168,1.3898800441219425,2.672886246453074,2.4683253596887393,3.8638923017218203,4.801821990290381,7.410190065957773,1.9496385964186835,7.274338829214209,2.9508851886290017,6.818823397304107,2.9516415126907285,3.2222801641516967,6.705466938483547,5.395098535301298,1.5298033198456424,3.1712000597004613,3.7492395548194173,3.7933633302284893,2.4266451083672633,2.6121873335897727,4.091267508627464,3.7888152470987935,3.1082418273907546,3.10689356990624,1.8893972822747014,3.9044172908607604,3.306737067684012,2.4739182095302543,2.5301418710101897,3.857614397955102,1.6486960422647348,1.5100684724513855,2.569753535010309,6.625027598506595,4.551465745554274,2.807558392451777,2.182372604556697,2.831920070391097,2.5491935667489365,1.5878055332836385,3.7398061318326374,2.4830049018915425,6.816090547835106,2.8310719298507063,2.5102772536891655,5.932761426145741,2.7215043309561353,3.5647536155750377,5.297126010439894,3.4940858365261596,1.9522124586370098,2.6209280345448924],\"xaxis\":\"x\",\"yaxis\":\"y\",\"type\":\"histogram\"},{\"alignmentgroup\":\"True\",\"hovertemplate\":\"variable=01_mean_waiting_time\\u003cbr\\u003eMean waiting time for operator=%{x}\\u003cextra\\u003e\\u003c\\u002fextra\\u003e\",\"legendgroup\":\"01_mean_waiting_time\",\"marker\":{\"color\":\"#636efa\"},\"name\":\"01_mean_waiting_time\",\"notched\":true,\"offsetgroup\":\"01_mean_waiting_time\",\"showlegend\":false,\"x\":[5.932717122085168,9.83325034756063,1.5604333530152947,2.9169322119003853,4.401413688162011,5.923819069076926,3.661114103570559,6.110202218144803,2.2181728189855394,2.030748684566234,3.3557996782453072,2.4662338404994997,6.156032214996244,1.8846561813741394,2.6005379154155084,1.3404831418557206,4.376682342852192,2.467282942494906,3.3514700221577582,4.478948171950541,3.3182299993686866,3.210703877156196,2.9022157720509494,3.9345656444186394,1.767908482622629,1.589743685798259,1.2778261734170095,2.4482318101876954,1.5231880551567922,6.191547666208392,6.352768779058884,1.8898817762914952,3.2869195634481025,1.8202718931227522,2.7613222985144876,2.3666628404576993,2.367289489597181,1.9731275382125093,2.702429287792187,1.4412970308166173,3.12253386377096,2.1719473687440893,3.0218438176970994,2.4613534294827573,2.5029521027768187,1.7919642522266097,3.1210167616047113,2.027662065594168,1.3898800441219425,2.672886246453074,2.4683253596887393,3.8638923017218203,4.801821990290381,7.410190065957773,1.9496385964186835,7.274338829214209,2.9508851886290017,6.818823397304107,2.9516415126907285,3.2222801641516967,6.705466938483547,5.395098535301298,1.5298033198456424,3.1712000597004613,3.7492395548194173,3.7933633302284893,2.4266451083672633,2.6121873335897727,4.091267508627464,3.7888152470987935,3.1082418273907546,3.10689356990624,1.8893972822747014,3.9044172908607604,3.306737067684012,2.4739182095302543,2.5301418710101897,3.857614397955102,1.6486960422647348,1.5100684724513855,2.569753535010309,6.625027598506595,4.551465745554274,2.807558392451777,2.182372604556697,2.831920070391097,2.5491935667489365,1.5878055332836385,3.7398061318326374,2.4830049018915425,6.816090547835106,2.8310719298507063,2.5102772536891655,5.932761426145741,2.7215043309561353,3.5647536155750377,5.297126010439894,3.4940858365261596,1.9522124586370098,2.6209280345448924],\"xaxis\":\"x2\",\"yaxis\":\"y2\",\"type\":\"box\"}],                        {\"template\":{\"data\":{\"histogram2dcontour\":[{\"type\":\"histogram2dcontour\",\"colorbar\":{\"outlinewidth\":0,\"ticks\":\"\"},\"colorscale\":[[0.0,\"#0d0887\"],[0.1111111111111111,\"#46039f\"],[0.2222222222222222,\"#7201a8\"],[0.3333333333333333,\"#9c179e\"],[0.4444444444444444,\"#bd3786\"],[0.5555555555555556,\"#d8576b\"],[0.6666666666666666,\"#ed7953\"],[0.7777777777777778,\"#fb9f3a\"],[0.8888888888888888,\"#fdca26\"],[1.0,\"#f0f921\"]]}],\"choropleth\":[{\"type\":\"choropleth\",\"colorbar\":{\"outlinewidth\":0,\"ticks\":\"\"}}],\"histogram2d\":[{\"type\":\"histogram2d\",\"colorbar\":{\"outlinewidth\":0,\"ticks\":\"\"},\"colorscale\":[[0.0,\"#0d0887\"],[0.1111111111111111,\"#46039f\"],[0.2222222222222222,\"#7201a8\"],[0.3333333333333333,\"#9c179e\"],[0.4444444444444444,\"#bd3786\"],[0.5555555555555556,\"#d8576b\"],[0.6666666666666666,\"#ed7953\"],[0.7777777777777778,\"#fb9f3a\"],[0.8888888888888888,\"#fdca26\"],[1.0,\"#f0f921\"]]}],\"heatmap\":[{\"type\":\"heatmap\",\"colorbar\":{\"outlinewidth\":0,\"ticks\":\"\"},\"colorscale\":[[0.0,\"#0d0887\"],[0.1111111111111111,\"#46039f\"],[0.2222222222222222,\"#7201a8\"],[0.3333333333333333,\"#9c179e\"],[0.4444444444444444,\"#bd3786\"],[0.5555555555555556,\"#d8576b\"],[0.6666666666666666,\"#ed7953\"],[0.7777777777777778,\"#fb9f3a\"],[0.8888888888888888,\"#fdca26\"],[1.0,\"#f0f921\"]]}],\"heatmapgl\":[{\"type\":\"heatmapgl\",\"colorbar\":{\"outlinewidth\":0,\"ticks\":\"\"},\"colorscale\":[[0.0,\"#0d0887\"],[0.1111111111111111,\"#46039f\"],[0.2222222222222222,\"#7201a8\"],[0.3333333333333333,\"#9c179e\"],[0.4444444444444444,\"#bd3786\"],[0.5555555555555556,\"#d8576b\"],[0.6666666666666666,\"#ed7953\"],[0.7777777777777778,\"#fb9f3a\"],[0.8888888888888888,\"#fdca26\"],[1.0,\"#f0f921\"]]}],\"contourcarpet\":[{\"type\":\"contourcarpet\",\"colorbar\":{\"outlinewidth\":0,\"ticks\":\"\"}}],\"contour\":[{\"type\":\"contour\",\"colorbar\":{\"outlinewidth\":0,\"ticks\":\"\"},\"colorscale\":[[0.0,\"#0d0887\"],[0.1111111111111111,\"#46039f\"],[0.2222222222222222,\"#7201a8\"],[0.3333333333333333,\"#9c179e\"],[0.4444444444444444,\"#bd3786\"],[0.5555555555555556,\"#d8576b\"],[0.6666666666666666,\"#ed7953\"],[0.7777777777777778,\"#fb9f3a\"],[0.8888888888888888,\"#fdca26\"],[1.0,\"#f0f921\"]]}],\"surface\":[{\"type\":\"surface\",\"colorbar\":{\"outlinewidth\":0,\"ticks\":\"\"},\"colorscale\":[[0.0,\"#0d0887\"],[0.1111111111111111,\"#46039f\"],[0.2222222222222222,\"#7201a8\"],[0.3333333333333333,\"#9c179e\"],[0.4444444444444444,\"#bd3786\"],[0.5555555555555556,\"#d8576b\"],[0.6666666666666666,\"#ed7953\"],[0.7777777777777778,\"#fb9f3a\"],[0.8888888888888888,\"#fdca26\"],[1.0,\"#f0f921\"]]}],\"mesh3d\":[{\"type\":\"mesh3d\",\"colorbar\":{\"outlinewidth\":0,\"ticks\":\"\"}}],\"scatter\":[{\"fillpattern\":{\"fillmode\":\"overlay\",\"size\":10,\"solidity\":0.2},\"type\":\"scatter\"}],\"parcoords\":[{\"type\":\"parcoords\",\"line\":{\"colorbar\":{\"outlinewidth\":0,\"ticks\":\"\"}}}],\"scatterpolargl\":[{\"type\":\"scatterpolargl\",\"marker\":{\"colorbar\":{\"outlinewidth\":0,\"ticks\":\"\"}}}],\"bar\":[{\"error_x\":{\"color\":\"#2a3f5f\"},\"error_y\":{\"color\":\"#2a3f5f\"},\"marker\":{\"line\":{\"color\":\"#E5ECF6\",\"width\":0.5},\"pattern\":{\"fillmode\":\"overlay\",\"size\":10,\"solidity\":0.2}},\"type\":\"bar\"}],\"scattergeo\":[{\"type\":\"scattergeo\",\"marker\":{\"colorbar\":{\"outlinewidth\":0,\"ticks\":\"\"}}}],\"scatterpolar\":[{\"type\":\"scatterpolar\",\"marker\":{\"colorbar\":{\"outlinewidth\":0,\"ticks\":\"\"}}}],\"histogram\":[{\"marker\":{\"pattern\":{\"fillmode\":\"overlay\",\"size\":10,\"solidity\":0.2}},\"type\":\"histogram\"}],\"scattergl\":[{\"type\":\"scattergl\",\"marker\":{\"colorbar\":{\"outlinewidth\":0,\"ticks\":\"\"}}}],\"scatter3d\":[{\"type\":\"scatter3d\",\"line\":{\"colorbar\":{\"outlinewidth\":0,\"ticks\":\"\"}},\"marker\":{\"colorbar\":{\"outlinewidth\":0,\"ticks\":\"\"}}}],\"scattermapbox\":[{\"type\":\"scattermapbox\",\"marker\":{\"colorbar\":{\"outlinewidth\":0,\"ticks\":\"\"}}}],\"scatterternary\":[{\"type\":\"scatterternary\",\"marker\":{\"colorbar\":{\"outlinewidth\":0,\"ticks\":\"\"}}}],\"scattercarpet\":[{\"type\":\"scattercarpet\",\"marker\":{\"colorbar\":{\"outlinewidth\":0,\"ticks\":\"\"}}}],\"carpet\":[{\"aaxis\":{\"endlinecolor\":\"#2a3f5f\",\"gridcolor\":\"white\",\"linecolor\":\"white\",\"minorgridcolor\":\"white\",\"startlinecolor\":\"#2a3f5f\"},\"baxis\":{\"endlinecolor\":\"#2a3f5f\",\"gridcolor\":\"white\",\"linecolor\":\"white\",\"minorgridcolor\":\"white\",\"startlinecolor\":\"#2a3f5f\"},\"type\":\"carpet\"}],\"table\":[{\"cells\":{\"fill\":{\"color\":\"#EBF0F8\"},\"line\":{\"color\":\"white\"}},\"header\":{\"fill\":{\"color\":\"#C8D4E3\"},\"line\":{\"color\":\"white\"}},\"type\":\"table\"}],\"barpolar\":[{\"marker\":{\"line\":{\"color\":\"#E5ECF6\",\"width\":0.5},\"pattern\":{\"fillmode\":\"overlay\",\"size\":10,\"solidity\":0.2}},\"type\":\"barpolar\"}],\"pie\":[{\"automargin\":true,\"type\":\"pie\"}]},\"layout\":{\"autotypenumbers\":\"strict\",\"colorway\":[\"#636efa\",\"#EF553B\",\"#00cc96\",\"#ab63fa\",\"#FFA15A\",\"#19d3f3\",\"#FF6692\",\"#B6E880\",\"#FF97FF\",\"#FECB52\"],\"font\":{\"color\":\"#2a3f5f\"},\"hovermode\":\"closest\",\"hoverlabel\":{\"align\":\"left\"},\"paper_bgcolor\":\"white\",\"plot_bgcolor\":\"#E5ECF6\",\"polar\":{\"bgcolor\":\"#E5ECF6\",\"angularaxis\":{\"gridcolor\":\"white\",\"linecolor\":\"white\",\"ticks\":\"\"},\"radialaxis\":{\"gridcolor\":\"white\",\"linecolor\":\"white\",\"ticks\":\"\"}},\"ternary\":{\"bgcolor\":\"#E5ECF6\",\"aaxis\":{\"gridcolor\":\"white\",\"linecolor\":\"white\",\"ticks\":\"\"},\"baxis\":{\"gridcolor\":\"white\",\"linecolor\":\"white\",\"ticks\":\"\"},\"caxis\":{\"gridcolor\":\"white\",\"linecolor\":\"white\",\"ticks\":\"\"}},\"coloraxis\":{\"colorbar\":{\"outlinewidth\":0,\"ticks\":\"\"}},\"colorscale\":{\"sequential\":[[0.0,\"#0d0887\"],[0.1111111111111111,\"#46039f\"],[0.2222222222222222,\"#7201a8\"],[0.3333333333333333,\"#9c179e\"],[0.4444444444444444,\"#bd3786\"],[0.5555555555555556,\"#d8576b\"],[0.6666666666666666,\"#ed7953\"],[0.7777777777777778,\"#fb9f3a\"],[0.8888888888888888,\"#fdca26\"],[1.0,\"#f0f921\"]],\"sequentialminus\":[[0.0,\"#0d0887\"],[0.1111111111111111,\"#46039f\"],[0.2222222222222222,\"#7201a8\"],[0.3333333333333333,\"#9c179e\"],[0.4444444444444444,\"#bd3786\"],[0.5555555555555556,\"#d8576b\"],[0.6666666666666666,\"#ed7953\"],[0.7777777777777778,\"#fb9f3a\"],[0.8888888888888888,\"#fdca26\"],[1.0,\"#f0f921\"]],\"diverging\":[[0,\"#8e0152\"],[0.1,\"#c51b7d\"],[0.2,\"#de77ae\"],[0.3,\"#f1b6da\"],[0.4,\"#fde0ef\"],[0.5,\"#f7f7f7\"],[0.6,\"#e6f5d0\"],[0.7,\"#b8e186\"],[0.8,\"#7fbc41\"],[0.9,\"#4d9221\"],[1,\"#276419\"]]},\"xaxis\":{\"gridcolor\":\"white\",\"linecolor\":\"white\",\"ticks\":\"\",\"title\":{\"standoff\":15},\"zerolinecolor\":\"white\",\"automargin\":true,\"zerolinewidth\":2},\"yaxis\":{\"gridcolor\":\"white\",\"linecolor\":\"white\",\"ticks\":\"\",\"title\":{\"standoff\":15},\"zerolinecolor\":\"white\",\"automargin\":true,\"zerolinewidth\":2},\"scene\":{\"xaxis\":{\"backgroundcolor\":\"#E5ECF6\",\"gridcolor\":\"white\",\"linecolor\":\"white\",\"showbackground\":true,\"ticks\":\"\",\"zerolinecolor\":\"white\",\"gridwidth\":2},\"yaxis\":{\"backgroundcolor\":\"#E5ECF6\",\"gridcolor\":\"white\",\"linecolor\":\"white\",\"showbackground\":true,\"ticks\":\"\",\"zerolinecolor\":\"white\",\"gridwidth\":2},\"zaxis\":{\"backgroundcolor\":\"#E5ECF6\",\"gridcolor\":\"white\",\"linecolor\":\"white\",\"showbackground\":true,\"ticks\":\"\",\"zerolinecolor\":\"white\",\"gridwidth\":2}},\"shapedefaults\":{\"line\":{\"color\":\"#2a3f5f\"}},\"annotationdefaults\":{\"arrowcolor\":\"#2a3f5f\",\"arrowhead\":0,\"arrowwidth\":1},\"geo\":{\"bgcolor\":\"white\",\"landcolor\":\"#E5ECF6\",\"subunitcolor\":\"white\",\"showland\":true,\"showlakes\":true,\"lakecolor\":\"white\"},\"title\":{\"x\":0.05},\"mapbox\":{\"style\":\"light\"}}},\"xaxis\":{\"anchor\":\"y\",\"domain\":[0.0,1.0],\"title\":{\"text\":\"Mean waiting time for operator\"}},\"yaxis\":{\"anchor\":\"x\",\"domain\":[0.0,0.7326],\"title\":{\"text\":\"count\"}},\"xaxis2\":{\"anchor\":\"y2\",\"domain\":[0.0,1.0],\"matches\":\"x\",\"showticklabels\":false,\"showgrid\":true},\"yaxis2\":{\"anchor\":\"x2\",\"domain\":[0.7426,1.0],\"matches\":\"y2\",\"showticklabels\":false,\"showline\":false,\"ticks\":\"\",\"showgrid\":false},\"legend\":{\"title\":{\"text\":\"variable\"},\"tracegroupgap\":0},\"margin\":{\"t\":60},\"barmode\":\"relative\",\"showlegend\":false},                        {\"responsive\": true}                    ).then(function(){\n",
       "                            \n",
       "var gd = document.getElementById('4f58814f-f6f0-46a6-9519-60168aadadbf');\n",
       "var x = new MutationObserver(function (mutations, observer) {{\n",
       "        var display = window.getComputedStyle(gd).display;\n",
       "        if (!display || display === 'none') {{\n",
       "            console.log([gd, 'removed!']);\n",
       "            Plotly.purge(gd);\n",
       "            observer.disconnect();\n",
       "        }}\n",
       "}});\n",
       "\n",
       "// Listen for the removal of the full notebook cells\n",
       "var notebookContainer = gd.closest('#notebook-container');\n",
       "if (notebookContainer) {{\n",
       "    x.observe(notebookContainer, {childList: true});\n",
       "}}\n",
       "\n",
       "// Listen for the clearing of the current output cell\n",
       "var outputEl = gd.closest('.output');\n",
       "if (outputEl) {{\n",
       "    x.observe(outputEl, {childList: true});\n",
       "}}\n",
       "\n",
       "                        })                };                });            </script>        </div>"
      ]
     },
     "metadata": {},
     "output_type": "display_data"
    }
   ],
   "source": [
    "\n",
    "fig = px.histogram(results['01_mean_waiting_time'], \n",
    "                   labels={'value':'Mean waiting time for operator'}, \n",
    "                   marginal=\"box\")\n",
    "\n",
    "# hide legend\n",
    "fig.update(layout_showlegend=False)\n",
    "fig"
   ]
  },
  {
   "cell_type": "markdown",
   "id": "9c1f06b4-e7a6-429b-8aef-bc8900d3ef23",
   "metadata": {
    "tags": []
   },
   "source": [
    "## 3. Adding a chart to the web app\n",
    "\n",
    "We will make the following changes to the web app script:\n",
    "\n",
    "1. Add in a function called `create_hist`. This will implement the `plotly` histogram code we included above.\n",
    "2. Alter the page width using `st.set_page_config()`. We are going to show the table of results and chart side by side so we need a slightly wider page layout\n",
    "3. Create two columns for the results using `st.columns(2)`\n",
    "3. Use `st.plotly_chart` function to display the histogram\n",
    "\n",
    "The full script is below.  Copy and paste this into a file called `app_with_chart` and run.  The figure at the end of this page illustrates the result after running the simulation model.\n",
    "\n",
    "```python\n",
    "\"\"\"\n",
    "The code in this streamlit script adds in a basic plotly \n",
    "chart to display a histogram of replications\n",
    "\"\"\"\n",
    "import streamlit as st\n",
    "import plotly.express as px\n",
    "from model import Experiment, multiple_replications\n",
    "\n",
    "INTRO_FILE = './resources/model_info.md'\n",
    "\n",
    "def read_file_contents(file_name):\n",
    "    ''''\n",
    "    Read the contents of a file.\n",
    "\n",
    "    Params:\n",
    "    ------\n",
    "    file_name: str\n",
    "        Path to file.\n",
    "\n",
    "    Returns:\n",
    "    -------\n",
    "    str\n",
    "    '''\n",
    "    with open(file_name) as f:\n",
    "        return f.read()\n",
    "    \n",
    "\n",
    "################################################################################\n",
    "# MODIFICATION: code to create plotly histogram\n",
    "def create_hist(results, column, value_label, marginal='box'):\n",
    "    '''\n",
    "    Create and return a plotly express histogram of\n",
    "    the results column\n",
    "    '''\n",
    "    fig = px.histogram(results[column], labels={'value':value_label},\n",
    "                       marginal=marginal)\n",
    "    # hide legend\n",
    "    fig.update(layout_showlegend=False)\n",
    "    \n",
    "    return fig\n",
    "################################################################################\n",
    "\n",
    "\n",
    "################################################################################\n",
    "# MODIFICATION: update to wide page settings to display results side by side\n",
    "st.set_page_config(\n",
    "     page_title=\"Urgent Care Sim App\",\n",
    "     layout=\"wide\",\n",
    "     initial_sidebar_state=\"expanded\",\n",
    " )\n",
    "################################################################################\n",
    "\n",
    "# We add in a title for our web app's page\n",
    "st.title(\"Urgent care call centre\")\n",
    "\n",
    "# show the introductory markdown\n",
    "st.markdown(read_file_contents(INTRO_FILE))\n",
    "\n",
    "# side bar\n",
    "with st.sidebar:\n",
    "\n",
    "    # set number of resources\n",
    "    n_operators = st.slider('Call operators', 1, 20, 13, step=1)\n",
    "    n_nurses = st.slider('Nurses', 1, 15, 9, step=1)\n",
    "\n",
    "    # set chance of nurse\n",
    "    chance_callback = st.slider('Chance of nurse callback', 0.1, 1.0, 0.4,\n",
    "                                step=0.05, help='Set the chance of a call back')\n",
    "\n",
    "    # set number of replications\n",
    "    n_reps = st.number_input(\"No. of replications\", 100, 1_000, step=1)\n",
    "\n",
    "# create experiment\n",
    "exp = Experiment(n_operators=n_operators, n_nurses=n_nurses,\n",
    "                 chance_callback=chance_callback)\n",
    "\n",
    "# A user must press a streamlit button to run the model\n",
    "if st.button(\"Run simulation\"):\n",
    "\n",
    "    #  add a spinner and then display success box\n",
    "    with st.spinner('Simulating the urgent care system...'):\n",
    "        # run multiple replications of experment\n",
    "        results = multiple_replications(exp, n_reps=n_reps)#\n",
    "    \n",
    "    st.success('Done!')\n",
    "\n",
    "    ############################################################################\n",
    "    # MODIFICATION: create columns for histogram of the results\n",
    "    col1, col2 = st.columns(2)\n",
    "    with col1.expander('Tabular results', expanded=True):\n",
    "        # show tabular results\n",
    "        st.dataframe(results.describe())\n",
    "\n",
    "    with col2.expander('Histogram', expanded=True):\n",
    "    \n",
    "\n",
    "        fig = create_hist(results, '01_mean_waiting_time', \n",
    "                          'Mean waiting time for operator')\n",
    "     \n",
    "        st.plotly_chart(fig, use_container_width=True)\n",
    "        \n",
    "     ###########################################################################\n",
    "```"
   ]
  },
  {
   "cell_type": "markdown",
   "id": "a1618542-13ad-4b51-b097-9419ae0134df",
   "metadata": {},
   "source": [
    "![image](../../imgs/app_with_chart.png)"
   ]
  }
 ],
 "metadata": {
  "kernelspec": {
   "display_name": "Python 3 (ipykernel)",
   "language": "python",
   "name": "python3"
  },
  "language_info": {
   "codemirror_mode": {
    "name": "ipython",
    "version": 3
   },
   "file_extension": ".py",
   "mimetype": "text/x-python",
   "name": "python",
   "nbconvert_exporter": "python",
   "pygments_lexer": "ipython3",
   "version": "3.9.16"
  }
 },
 "nbformat": 4,
 "nbformat_minor": 5
}
